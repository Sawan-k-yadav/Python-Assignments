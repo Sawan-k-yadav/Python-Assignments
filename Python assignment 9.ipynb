{
 "cells": [
  {
   "cell_type": "markdown",
   "id": "8eb605ed",
   "metadata": {},
   "source": [
    "1. To what does a relative path refer?\n",
    "\n",
    "Ans: A relative path is a path to a file or directory relative to the current working directory. This means that a relative path does not start with the root directory of the operating system.\n",
    "\n",
    "For example, the relative path ./my_file.txt refers to the file my_file.txt in the current working directory. The relative path ../my_directory/ refers to the directory my_directory/ in the parent directory of the current working directory.\n",
    "\n",
    "\n",
    "2. What does an absolute path start with your operating system?\n",
    "\n",
    "ANS: An absolute path is a path to a file or directory that starts with the root directory of the operating system.\n",
    "\n",
    "For example, the absolute path C:\\bacon\\eggs\\spam.txt refers to the file spam.txt in the directory C:\\bacon\\eggs. The absolute path /home/user/my_file.txt refers to the file my_file.txt in the directory /home/user on a Linux or macOS system.\n",
    "\n",
    "\n",
    "3. What do the functions os.getcwd() and os.chdir() do?\n",
    "\n",
    "Ans: The os.getcwd() function returns the current working directory. The os.chdir() function changes the current working directory.\n",
    "\n",
    "\n",
    "4. What are the . and .. folders?\n",
    "\n",
    "Ans: The . folder refers to the current directory. The .. folder refers to the parent directory of the current directory.\n",
    "\n",
    "For example, if the current working directory is C:\\bacon\\eggs, then the . folder refers to the directory C:\\bacon\\eggs and the .. folder refers to the directory C:\\bacon.\n",
    "\n",
    "\n",
    "5. In C:\\bacon\\eggs\\spam.txt, which part is the dir name, and which part is the base name?\n",
    "\n",
    "Ans: The dir name of C:\\bacon\\eggs\\spam.txt is C:\\bacon\\eggs. The base name of C:\\bacon\\eggs\\spam.txt is spam.txt.\n",
    "\n",
    "The dir name is the part of the path that refers to the directory containing the file. The base name is the part of the path that refers to the file itself, without the directory path.\n",
    "\n",
    "\n",
    "6. What are the three “mode” arguments that can be passed to the open() function?\n",
    "\n",
    "Ans: The three mode arguments that can be passed to the open() function are r, w, and a.\n",
    "\n",
    "r -  mode opens the file for reading.\n",
    "w -  mode opens the file for writing. If the file does not exist, it will be created. If the file already exists, it will be overwritten.\n",
    "a -  mode opens the file for appending. If the file does not exist, it will be created. If the file already exists, new data will be appended to the end of the file.\n",
    "\n",
    "\n",
    "7. What happens if an existing file is opened in write mode?\n",
    "\n",
    "Ans: If an existing file is opened in write mode, the file will be overwritten. This means that all of the existing data in the file will be lost\n",
    "\n",
    "\n",
    "8. How do you tell the difference between read() and readlines()?\n",
    "\n",
    "ANs: The read() method returns the entire contents of the file as a single string value. The readlines() method returns a list of strings, where each string is a line from the file's contents\n",
    "\n",
    "\n",
    "9. What data structure does a shelf value resemble?\n",
    "\n",
    "Ans: A shelf value resembles dictionary values, it has keys and values along with keys() and values() mehods which works similarly to the distionary method of same name.\n",
    "\n"
   ]
  }
 ],
 "metadata": {
  "kernelspec": {
   "display_name": "Python 3 (ipykernel)",
   "language": "python",
   "name": "python3"
  },
  "language_info": {
   "codemirror_mode": {
    "name": "ipython",
    "version": 3
   },
   "file_extension": ".py",
   "mimetype": "text/x-python",
   "name": "python",
   "nbconvert_exporter": "python",
   "pygments_lexer": "ipython3",
   "version": "3.10.9"
  }
 },
 "nbformat": 4,
 "nbformat_minor": 5
}
