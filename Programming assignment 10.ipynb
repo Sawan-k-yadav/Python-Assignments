{
 "cells": [
  {
   "cell_type": "code",
   "execution_count": 2,
   "id": "ed55c35f",
   "metadata": {},
   "outputs": [
    {
     "name": "stdout",
     "output_type": "stream",
     "text": [
      "Sum of list A  = 35\n"
     ]
    }
   ],
   "source": [
    "# 1. Write a Python program to find sum of elements in list?\n",
    "\n",
    "\n",
    "A = [2,4,5,1,6,8,9]\n",
    "\n",
    "s = 0\n",
    "\n",
    "for i in A:\n",
    "    s+=i\n",
    "    \n",
    "print(f\"Sum of list A  = {s}\")"
   ]
  },
  {
   "cell_type": "code",
   "execution_count": 3,
   "id": "2fa2c52e",
   "metadata": {},
   "outputs": [
    {
     "name": "stdout",
     "output_type": "stream",
     "text": [
      "Multiple of all numbers of list = 17280\n"
     ]
    }
   ],
   "source": [
    "# 2. Write a Python program to Multiply all numbers in the list?\n",
    "m = 1\n",
    "for i in A:\n",
    "    m *=i\n",
    "    \n",
    "print(f\"Multiple of all numbers of list = {m}\")"
   ]
  },
  {
   "cell_type": "code",
   "execution_count": 4,
   "id": "be4bd979",
   "metadata": {},
   "outputs": [
    {
     "name": "stdout",
     "output_type": "stream",
     "text": [
      "Smallest no. in the list = 1\n"
     ]
    }
   ],
   "source": [
    "# 3. Write a Python program to find smallest number in a list?\n",
    "\n",
    "print(f\"Smallest no. in the list = {min(A)}\")"
   ]
  },
  {
   "cell_type": "code",
   "execution_count": 5,
   "id": "b93eae1c",
   "metadata": {},
   "outputs": [
    {
     "name": "stdout",
     "output_type": "stream",
     "text": [
      "Smallest no. in the list = 9\n"
     ]
    }
   ],
   "source": [
    "# 4. Write a Python program to find largest number in a list?\n",
    "\n",
    "print(f\"Smallest no. in the list = {max(A)}\")"
   ]
  },
  {
   "cell_type": "code",
   "execution_count": 6,
   "id": "73a7a342",
   "metadata": {},
   "outputs": [
    {
     "name": "stdout",
     "output_type": "stream",
     "text": [
      "Second lasrgest no. of th list is = 8\n"
     ]
    }
   ],
   "source": [
    "# 5. Write a Python program to find second largest number in a list?\n",
    "\n",
    "sorted_A = sorted(A, reverse=True)\n",
    "\n",
    "print(f\"Second lasrgest no. of th list is = {sorted_A[1]}\")"
   ]
  },
  {
   "cell_type": "code",
   "execution_count": 11,
   "id": "3dd8db6c",
   "metadata": {},
   "outputs": [
    {
     "name": "stdout",
     "output_type": "stream",
     "text": [
      "Enter term of largest no: 4\n",
      "9\n",
      "8\n",
      "6\n",
      "5\n"
     ]
    }
   ],
   "source": [
    "# 6. Write a Python program to find N largest elements from a list?\n",
    "\n",
    "sorted_A = sorted(A, reverse=True)\n",
    "\n",
    "N  = int(input(\"Enter term of largest no: \"))\n",
    "\n",
    "for i in range(N):\n",
    "    print(sorted_A[i])"
   ]
  },
  {
   "cell_type": "code",
   "execution_count": 12,
   "id": "b0f5f37c",
   "metadata": {},
   "outputs": [
    {
     "name": "stdout",
     "output_type": "stream",
     "text": [
      "2 is even no\n",
      "4 is even no\n",
      "6 is even no\n",
      "8 is even no\n"
     ]
    }
   ],
   "source": [
    "# 7. Write a Python program to print even numbers in a list?\n",
    "\n",
    "for i in A:\n",
    "    if i%2==0:\n",
    "        print(f\"{i} is even no\")"
   ]
  },
  {
   "cell_type": "code",
   "execution_count": 13,
   "id": "312f3269",
   "metadata": {},
   "outputs": [
    {
     "name": "stdout",
     "output_type": "stream",
     "text": [
      "5 is odd no\n",
      "1 is odd no\n",
      "9 is odd no\n"
     ]
    }
   ],
   "source": [
    "# 8. Write a Python program to print odd numbers in a List?\n",
    "\n",
    "for i in A:\n",
    "    if i%2!=0:\n",
    "        print(f\"{i} is odd no\")"
   ]
  },
  {
   "cell_type": "code",
   "execution_count": 16,
   "id": "bf338b75",
   "metadata": {},
   "outputs": [
    {
     "name": "stdout",
     "output_type": "stream",
     "text": [
      "[2, 4, 5, 1, 6, 8, 9, '', '', '']\n"
     ]
    }
   ],
   "source": [
    "# 9. Write a Python program to Remove empty List from List?\n",
    "\n",
    "A.append(\"\")\n",
    "\n",
    "print(A)\n"
   ]
  },
  {
   "cell_type": "code",
   "execution_count": 19,
   "id": "1979d976",
   "metadata": {},
   "outputs": [
    {
     "name": "stdout",
     "output_type": "stream",
     "text": [
      "List without emapty list is  [2, 4, 5, 1, 6, 8, 9]\n"
     ]
    }
   ],
   "source": [
    "i = 0\n",
    "for i in range(len(A)):\n",
    "    if A[i]== \"\":\n",
    "        A.pop(i)\n",
    "        \n",
    "print(f\"List without  list is  {A}\")"
   ]
  },
  {
   "cell_type": "code",
   "execution_count": 20,
   "id": "b47427e9",
   "metadata": {},
   "outputs": [
    {
     "name": "stdout",
     "output_type": "stream",
     "text": [
      "Copy of list A = [2, 4, 5, 1, 6, 8, 9] is B=  [2, 4, 5, 1, 6, 8, 9]\n"
     ]
    }
   ],
   "source": [
    "# 10. Write a Python program to Cloning or Copying a list?\n",
    "\n",
    "B = A.copy()\n",
    "\n",
    "print(f\"Copy of list A = {A} is B=  {B}\")"
   ]
  },
  {
   "cell_type": "code",
   "execution_count": 25,
   "id": "cda33fca",
   "metadata": {},
   "outputs": [
    {
     "name": "stdout",
     "output_type": "stream",
     "text": [
      "Occuraance of 2 = 3\n",
      "Occuraance of 4 = 1\n",
      "Occuraance of 5 = 1\n",
      "Occuraance of 1 = 1\n",
      "Occuraance of 6 = 1\n",
      "Occuraance of 8 = 1\n",
      "Occuraance of 9 = 1\n",
      "Occuraance of 2 = 3\n",
      "Occuraance of 2 = 3\n"
     ]
    }
   ],
   "source": [
    "# 11. Write a Python program to Count occurrences of an element in a list?\n",
    "A.append(2)\n",
    "i = 0\n",
    "s = 0\n",
    "for i in range(len(A)):\n",
    "    n = A[i]\n",
    "    for j in range(len(A)):\n",
    "        if n == A[j]:\n",
    "            s+=1\n",
    "    print(f\"Occuraance of {A[i]} = {s}\")\n",
    "    s = 0\n",
    "\n",
    "# 2 is coming twice as it is at the end of the list\n",
    "            "
   ]
  },
  {
   "cell_type": "code",
   "execution_count": null,
   "id": "bc872c14",
   "metadata": {},
   "outputs": [],
   "source": []
  }
 ],
 "metadata": {
  "kernelspec": {
   "display_name": "Python 3 (ipykernel)",
   "language": "python",
   "name": "python3"
  },
  "language_info": {
   "codemirror_mode": {
    "name": "ipython",
    "version": 3
   },
   "file_extension": ".py",
   "mimetype": "text/x-python",
   "name": "python",
   "nbconvert_exporter": "python",
   "pygments_lexer": "ipython3",
   "version": "3.10.9"
  }
 },
 "nbformat": 4,
 "nbformat_minor": 5
}
