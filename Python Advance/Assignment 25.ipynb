{
 "cells": [
  {
   "cell_type": "markdown",
   "id": "4bbbe3bc",
   "metadata": {},
   "source": [
    " Q1. What is the distinction between a numpy array and a pandas data frame? Is there a way to\n",
    "convert between the two if there is?"
   ]
  },
  {
   "cell_type": "code",
   "execution_count": 2,
   "id": "e64b5088",
   "metadata": {},
   "outputs": [
    {
     "name": "stdout",
     "output_type": "stream",
     "text": [
      "   0  1  2\n",
      "0  1  2  3\n",
      "1  4  5  6\n",
      "[[1 2 3]\n",
      " [4 5 6]]\n"
     ]
    }
   ],
   "source": [
    "'''A NumPy array is a multidimensional array of homogeneous data. \n",
    "It is a powerful tool for scientific computing and data analysis.\n",
    "A Pandas DataFrame is a two-dimensional data structure with labeled rows and columns. \n",
    "It is well-suited for working with tabular data.'''\n",
    "\n",
    "\n",
    "# To convert a NumPy array to a Pandas DataFrame, you can use the pandas.DataFrame() function.\n",
    "\n",
    "import numpy as np\n",
    "import pandas as pd\n",
    "\n",
    "np_array = np.array([[1, 2, 3], [4, 5, 6]])\n",
    "df = pd.DataFrame(np_array)\n",
    "\n",
    "print(df)\n",
    "\n",
    "#To convert a Pandas DataFrame to a NumPy array, you can use the pandas.DataFrame.values attribute. \n",
    "\n",
    "df = pd.DataFrame([[1, 2, 3], [4, 5, 6]])\n",
    "np_array = df.values\n",
    "\n",
    "print(np_array)"
   ]
  },
  {
   "cell_type": "markdown",
   "id": "d412c6b2",
   "metadata": {},
   "source": [
    "Q2. What can go wrong when an user enters in a stock-ticker symbol, and how do you handle it?"
   ]
  },
  {
   "cell_type": "markdown",
   "id": "5bedcc2f",
   "metadata": {},
   "source": [
    "Ans: When a user enters a stock-ticker symbol, the following can go wrong:\n",
    "\n",
    "The user may enter an invalid symbol.\n",
    "The user may enter a symbol for a stock that is no longer traded.\n",
    "The user may enter a symbol for a stock that is not supported by the data provider.\n",
    "To handle these errors, you can use the following strategies:\n",
    "\n",
    "Validate the symbol before using it to fetch data. You can use a regular expression to check if the symbol is in a valid format. You can also use a web service to check if the symbol is valid and supported by the data provider.\n",
    "If the user enters an invalid symbol, you can display an error message and prompt the user to enter a valid symbol.\n",
    "If the user enters a symbol for a stock that is no longer traded, you can display a message indicating that the stock is no longer traded.\n",
    "If the user enters a symbol for a stock that is not supported by the data provider, you can display a message indicating that the stock is not supported."
   ]
  },
  {
   "cell_type": "markdown",
   "id": "96626006",
   "metadata": {},
   "source": [
    "Q3. Identify some of the plotting techniques that are used to produce a stock-market chart.\n",
    "\n",
    "Ans:\n",
    "\n",
    "The following plotting techniques are commonly used to produce a stock-market chart:\n",
    "\n",
    "Line plot: A line plot shows the closing price of a stock over time.\n",
    "Candle chart: A candle chart shows the opening price, closing price, high price, and low price of a stock over a period of time.\n",
    "Bar chart: A bar chart shows the volume of shares traded in a stock over a period of time."
   ]
  },
  {
   "cell_type": "markdown",
   "id": "4099a0b3",
   "metadata": {},
   "source": [
    "Q4. Why is it essential to print a legend on a stock market chart?\n",
    "\n",
    "Ans: A legend is a box that identifies the different lines or bars on a chart. It is important to print a legend on a stock market chart so that viewers can easily understand what the different lines or bars represent."
   ]
  },
  {
   "cell_type": "markdown",
   "id": "604b553c",
   "metadata": {},
   "source": [
    "Q5. What is the best way to limit the length of a pandas data frame to less than a year?\n",
    "\n",
    "Ans: There are two ways to limit the length of a Pandas DataFrame to less than a year:\n",
    "\n",
    "Use the pandas.DataFrame.head() and pandas.DataFrame.tail() methods. The head() method returns the first n rows of a DataFrame, and the tail() method returns the last n rows of a DataFrame.\n",
    "Use the pandas.DataFrame.loc[] method. The loc[] method allows you to select rows of a DataFrame based on their index."
   ]
  },
  {
   "cell_type": "markdown",
   "id": "cdf88077",
   "metadata": {},
   "source": [
    "Q6. What is the definition of a 180-day moving average?\n",
    "\n",
    "Ans:\n",
    "A 180-day moving average (MA) is a technical indicator that is used to identify trends in the price of a stock or other asset. It is calculated by averaging the closing prices of the asset for the past 180 days. The 180-day MA is often used to identify long-term trends, as it is less sensitive to short-term fluctuations in price."
   ]
  },
  {
   "cell_type": "markdown",
   "id": "a210f465",
   "metadata": {},
   "source": [
    "Q7. Did the chapter&#39;s final example use &quot;indirect&quot; importing? If so, how exactly do you do it?\n",
    "\n",
    "Indirect importing is a way to import a module without knowing its exact location. This can be useful if you want to import a module that is located in a different directory than your current working directory, or if you want to import a module that is part of a package.\n"
   ]
  },
  {
   "cell_type": "code",
   "execution_count": null,
   "id": "5075d9fd",
   "metadata": {},
   "outputs": [],
   "source": [
    "\n",
    "import __import__\n",
    "\n",
    "# Import the my_package.my_module module.\n",
    "my_module = __import__('my_package.my_module')\n",
    "\n",
    "# Access the my_package.my_module.my_function() function.\n",
    "my_module.my_function()"
   ]
  }
 ],
 "metadata": {
  "kernelspec": {
   "display_name": "Python 3 (ipykernel)",
   "language": "python",
   "name": "python3"
  },
  "language_info": {
   "codemirror_mode": {
    "name": "ipython",
    "version": 3
   },
   "file_extension": ".py",
   "mimetype": "text/x-python",
   "name": "python",
   "nbconvert_exporter": "python",
   "pygments_lexer": "ipython3",
   "version": "3.11.5"
  }
 },
 "nbformat": 4,
 "nbformat_minor": 5
}
