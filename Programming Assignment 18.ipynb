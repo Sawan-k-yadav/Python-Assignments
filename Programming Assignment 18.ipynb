{
 "cells": [
  {
   "cell_type": "markdown",
   "id": "0f9d250c",
   "metadata": {},
   "source": [
    "# Question 1\n",
    "## Create a function that takes a list of non-negative integers and strings and return a new list without the strings.\n",
    "\n",
    "Examples\n",
    "\n",
    "filter_list([1, 2, &quot;a&quot;, &quot;b&quot;]) ➞ [1, 2]\n",
    "\n",
    "filter_list([1, &quot;a&quot;, &quot;b&quot;, 0, 15]) ➞ [1, 0, 15]\n",
    "\n",
    "filter_list([1, 2, &quot;aasf&quot;, &quot;1&quot;, &quot;123&quot;, 123]) ➞ [1, 2, 123]"
   ]
  },
  {
   "cell_type": "code",
   "execution_count": 8,
   "id": "92d76368",
   "metadata": {},
   "outputs": [
    {
     "name": "stdout",
     "output_type": "stream",
     "text": [
      "[1, 2]\n",
      "[1, 0, 15]\n",
      "[1, 2, 123]\n"
     ]
    }
   ],
   "source": [
    "def filter_list(lst):\n",
    "    lst1 = list()\n",
    "    for i in lst:\n",
    "        if isinstance(i, str) == False:  # isinstance was checking if elements is string\n",
    "            lst1.append(i)\n",
    "            \n",
    "    return lst1\n",
    "\n",
    "print(filter_list([1, 2, \"a\", \"b\"]))\n",
    "print(filter_list([1, \"a\", \"b\", 0, 15]))\n",
    "print(filter_list([1, 2, \"aasf\", \"1\", \"123\", 123]))"
   ]
  },
  {
   "cell_type": "markdown",
   "id": "1838d660",
   "metadata": {},
   "source": [
    "# Question 2\n",
    "### The &quot;Reverser&quot; takes a string as input and returns that string in reverse order, with the opposite case.\n",
    "\n",
    "Examples\n",
    "\n",
    "reverse(&quot;Hello World&quot;) ➞ &quot;DLROw OLLEh&quot;\n",
    "\n",
    "reverse(&quot;ReVeRsE&quot;) ➞ &quot;eSrEvEr&quot;\n",
    "\n",
    "reverse(&quot;Radar&quot;) ➞ &quot;RADAr&quot;"
   ]
  },
  {
   "cell_type": "code",
   "execution_count": 29,
   "id": "76baa6e9",
   "metadata": {},
   "outputs": [
    {
     "name": "stdout",
     "output_type": "stream",
     "text": [
      "D L R O w O L L E h\n",
      "e S r E v E r\n",
      "R A D A r\n"
     ]
    }
   ],
   "source": [
    "def reverse(str1):\n",
    "    output = list()\n",
    "    for i in range(len(str1)):\n",
    "        if str1[len(str1)-(i+1)].islower():\n",
    "            output.append(str1[len(str1)-(i+1)].upper())\n",
    "        elif str1[len(str1)-(i+1)].isupper():\n",
    "            output.append(str1[len(str1)-(i+1)].lower())\n",
    "        else:\n",
    "            pass\n",
    "            \n",
    "            \n",
    "    reverse= ' '.join(output)\n",
    "    \n",
    "    \n",
    "    return reverse\n",
    "\n",
    "print(reverse(\"Hello World\"))\n",
    "print(reverse(\"ReVeRsE\"))\n",
    "print(reverse(\"Radar\"))"
   ]
  },
  {
   "cell_type": "markdown",
   "id": "02dfd96f",
   "metadata": {},
   "source": [
    "# Question 3\n",
    "### You can assign variables from lists like this:\n",
    "\n",
    "lst = [1, 2, 3, 4, 5, 6]\n",
    "\n",
    "first = lst[0]\n",
    "\n",
    "middle = lst[1:-1]\n",
    "\n",
    "last = lst[-1]\n",
    "\n",
    "print(first) ➞ outputs 1\n",
    "\n",
    "print(middle) ➞ outputs [2, 3, 4, 5]\n",
    "\n",
    "print(last) ➞ outputs 6\n",
    "\n",
    "With Python 3, you can assign variables from lists in a much more succinct way. Create\n",
    "variables first, middle and last from the given list using destructuring assignment\n",
    "(check the Resources tab for some examples), where:\n",
    "\n",
    "first ➞ 1\n",
    "\n",
    "middle ➞ [2, 3, 4, 5]\n",
    "\n",
    "last ➞ 6\n",
    "\n",
    "Your task is to unpack the list writeyourcodehere into three variables, being first,\n",
    "middle, and last, with middle being everything in between the first and last element. Then\n",
    "print all three variables."
   ]
  },
  {
   "cell_type": "code",
   "execution_count": 30,
   "id": "ba59de59",
   "metadata": {},
   "outputs": [
    {
     "name": "stdout",
     "output_type": "stream",
     "text": [
      "First: 1\n",
      "Middle: [2, 3, 4, 5]\n",
      "Last: 6\n"
     ]
    }
   ],
   "source": [
    "# Using python destructing assignment\n",
    "\n",
    "writeyourcodehere = [1, 2, 3, 4, 5, 6]\n",
    "first, *middle, last = writeyourcodehere\n",
    "\n",
    "print(f\"First: {first}\")\n",
    "print(f\"Middle: {middle}\")\n",
    "print(f\"Last: {last}\")\n",
    "\n",
    "\"\"\"\n",
    "first gets the first element (1).\n",
    "\n",
    "\n",
    "*middle captures all elements between the first and last element and assigns them to the middle variable \n",
    "as a list ([2, 3, 4, 5]).\n",
    "\n",
    "---code uses the * operator to capture all elements between the first and last element and assign them \n",
    "to the middle variable as a list.\n",
    "\n",
    "\n",
    "last gets the last element (6).\n",
    "\"\"\""
   ]
  },
  {
   "cell_type": "markdown",
   "id": "7a751db3",
   "metadata": {},
   "source": [
    "# Question 4\n",
    "### Write a function that calculates the factorial of a number recursively.\n",
    "\n",
    "Examples\n",
    "\n",
    "factorial(5) ➞ 120\n",
    "factorial(3) ➞ 6\n",
    "factorial(1) ➞ 1\n",
    "factorial(0) ➞ 1"
   ]
  },
  {
   "cell_type": "code",
   "execution_count": 36,
   "id": "d7ba24db",
   "metadata": {},
   "outputs": [
    {
     "name": "stdout",
     "output_type": "stream",
     "text": [
      "120\n",
      "6\n",
      "1\n",
      "1\n"
     ]
    }
   ],
   "source": [
    "def factorial(n):\n",
    "    if n == 0:\n",
    "        return 1\n",
    "    else:\n",
    "        return n*factorial(n-1)\n",
    "\n",
    "\n",
    "print(factorial(5))\n",
    "print(factorial(3))\n",
    "print(factorial(1))\n",
    "print(factorial(0))"
   ]
  },
  {
   "cell_type": "markdown",
   "id": "9c84b2b3",
   "metadata": {},
   "source": [
    "# Question 5\n",
    "### Write a function that moves all elements of one type to the end of the list.\n",
    "\n",
    "Examples\n",
    "\n",
    "move_to_end([1, 3, 2, 4, 4, 1], 1) ➞ [3, 2, 4, 4, 1, 1]\n",
    "#### Move all the 1s to the end of the array.\n",
    "\n",
    "move_to_end([7, 8, 9, 1, 2, 3, 4], 9) ➞ [7, 8, 1, 2, 3, 4, 9]\n",
    "\n",
    "move_to_end([&quot;a&quot;, &quot;a&quot;, &quot;a&quot;, &quot;b&quot;], &quot;a&quot;) ➞ [&quot;b&quot;, &quot;a&quot;, &quot;a&quot;, &quot;a&quot;]"
   ]
  },
  {
   "cell_type": "code",
   "execution_count": 50,
   "id": "a9221e13",
   "metadata": {},
   "outputs": [
    {
     "name": "stdout",
     "output_type": "stream",
     "text": [
      "[7, 8, 1, 2, 3, 4, 9, 9]\n",
      "['b', 'a', 'a', 'a']\n"
     ]
    }
   ],
   "source": [
    "# def move_to_end(lst1, num):\n",
    "#     for i in range(len(lst1)):\n",
    "#         if lst1[i] == num:\n",
    "#             lst1.pop(i)\n",
    "#             lst1.append(num)\n",
    "            \n",
    "#     return lst1\n",
    "\n",
    "# print(move_to_end([7, 8, 9, 1, 2, 9, 3, 4], 9))\n",
    "# print(move_to_end([\"a\", \"a\", \"a\", \"b\"], \"a\"))  # This string was not working correctly as output is ['a', 'b', 'a', 'a'] not\n",
    "# [\"b\", \"a\", \"a\", \"a\"]\n",
    "\n",
    "\n",
    "def move_to_end(data, element):\n",
    "  # Create two empty lists\n",
    "    left = []\n",
    "    right = []\n",
    "\n",
    "  # Iterate through the data list\n",
    "    for item in data:\n",
    "    # Add elements to the left list if they are not the specified element\n",
    "        if item != element:\n",
    "            left.append(item)\n",
    "    # Otherwise, add them to the right list\n",
    "        else:\n",
    "            right.append(item)\n",
    "\n",
    "  # Combine the left and right lists and return the result\n",
    "    return left + right\n",
    "\n",
    "print(move_to_end([7, 8, 9, 1, 2, 9, 3, 4], 9))\n",
    "print(move_to_end([\"a\", \"a\", \"a\", \"b\"], \"a\"))\n"
   ]
  },
  {
   "cell_type": "code",
   "execution_count": null,
   "id": "41f51472",
   "metadata": {},
   "outputs": [],
   "source": []
  }
 ],
 "metadata": {
  "kernelspec": {
   "display_name": "Python 3 (ipykernel)",
   "language": "python",
   "name": "python3"
  },
  "language_info": {
   "codemirror_mode": {
    "name": "ipython",
    "version": 3
   },
   "file_extension": ".py",
   "mimetype": "text/x-python",
   "name": "python",
   "nbconvert_exporter": "python",
   "pygments_lexer": "ipython3",
   "version": "3.11.5"
  }
 },
 "nbformat": 4,
 "nbformat_minor": 5
}
