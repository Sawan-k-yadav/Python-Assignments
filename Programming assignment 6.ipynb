{
 "cells": [
  {
   "cell_type": "markdown",
   "id": "d96e5cec",
   "metadata": {},
   "source": [
    "1. Write a Python Program to Display Fibonacci Sequence Using Recursion?"
   ]
  },
  {
   "cell_type": "code",
   "execution_count": 7,
   "id": "9732ebbd",
   "metadata": {},
   "outputs": [
    {
     "name": "stdout",
     "output_type": "stream",
     "text": [
      "No. of terms of fabonicci series:  5\n",
      "0\n",
      "1\n",
      "1\n",
      "2\n",
      "3\n"
     ]
    }
   ],
   "source": [
    "def fabo(n):\n",
    "    if n == 0 or n == 1:\n",
    "        return n\n",
    "    else:\n",
    "        return fabo(n-1)+fabo(n-2)\n",
    "\n",
    "\n",
    "N = int(input(\"No. of terms of fabonicci series:  \"))    \n",
    "    \n",
    "for i in range(N):\n",
    "    print(fabo(i))\n",
    " \n",
    "#     def fabonicci(a, b):\n",
    "#         for i in range(10):\n",
    "#             c = a + b\n",
    "#             print(a)\n",
    "#             print(b)\n",
    "#             print(c)\n",
    "#             c=b\n",
    "#             b=a\n",
    "#             i +=1\n",
    "#         return fabonicci(b, c)\n",
    "        \n",
    "    \n",
    "\n",
    "# n = 0\n",
    "# m = 1\n",
    "# fabonicci(n, m)"
   ]
  },
  {
   "cell_type": "markdown",
   "id": "0c927152",
   "metadata": {},
   "source": [
    "2. Write a Python Program to Find Factorial of Number Using Recursion?"
   ]
  },
  {
   "cell_type": "code",
   "execution_count": 10,
   "id": "bb7bc6ac",
   "metadata": {},
   "outputs": [
    {
     "name": "stdout",
     "output_type": "stream",
     "text": [
      "Enter no. whose factorial you want to find: 4\n",
      "Factorial of 4  = 24\n"
     ]
    }
   ],
   "source": [
    "def fact(n):\n",
    "    if n == 0:\n",
    "        return 1\n",
    "    else:\n",
    "        return n * fact(n-1)\n",
    "\n",
    "f = int(input(\"Enter no. whose factorial you want to find: \"))\n",
    "\n",
    "print(f\"Factorial of {f}  = {fact(f)}\")"
   ]
  },
  {
   "cell_type": "markdown",
   "id": "b574df4e",
   "metadata": {},
   "source": [
    "3. Write a Python Program to calculate your Body Mass Index?"
   ]
  },
  {
   "cell_type": "code",
   "execution_count": 6,
   "id": "277be044",
   "metadata": {},
   "outputs": [
    {
     "name": "stdout",
     "output_type": "stream",
     "text": [
      "Enter your weight in kilogram:  60\n",
      "Enter your height in meter:  1.64\n",
      "BMI of person whose weight is 60.0 and height is 1.64  = 22.308149910767405\n"
     ]
    }
   ],
   "source": [
    "# BMI formula = weight/height**2\n",
    "\n",
    "weight  = float(input(\"Enter your weight in kilogram:  \"))\n",
    "\n",
    "height  = float(input(\"Enter your height in meter:  \"))\n",
    "\n",
    "print(f\"BMI of person whose weight is {weight} and height is {height}  = {weight/height**2}\")"
   ]
  },
  {
   "cell_type": "markdown",
   "id": "ce12841b",
   "metadata": {},
   "source": [
    "4. Write a Python Program to calculate the natural logarithm of any number?"
   ]
  },
  {
   "cell_type": "code",
   "execution_count": 4,
   "id": "c21ff51c",
   "metadata": {},
   "outputs": [
    {
     "name": "stdout",
     "output_type": "stream",
     "text": [
      "Enter any number : 4\n",
      "Logarithmic value of 4  = 1.3862943611198906\n"
     ]
    }
   ],
   "source": [
    "import math\n",
    "\n",
    "N  = int(input(\"Enter any number : \"))\n",
    "print(f\"Logarithmic value of {N}  = {math.log(N)}\")"
   ]
  },
  {
   "cell_type": "markdown",
   "id": "58bc6abc",
   "metadata": {},
   "source": [
    "5. Write a Python Program for cube sum of first n natural numbers?"
   ]
  },
  {
   "cell_type": "code",
   "execution_count": 1,
   "id": "381674fb",
   "metadata": {},
   "outputs": [
    {
     "name": "stdout",
     "output_type": "stream",
     "text": [
      "Enter terms of natural number:  3\n",
      "Sum of first 3 natural no. = 36\n"
     ]
    }
   ],
   "source": [
    "N = int(input(\"Enter terms of natural number:  \"))\n",
    "\n",
    "Sum = 0\n",
    "\n",
    "for i in range(N+1):\n",
    "    Sum += i**3\n",
    "    \n",
    "print(f\"Sum of first {N} natural no. = {Sum}\")"
   ]
  },
  {
   "cell_type": "code",
   "execution_count": null,
   "id": "bc4f5aea",
   "metadata": {},
   "outputs": [],
   "source": []
  }
 ],
 "metadata": {
  "kernelspec": {
   "display_name": "Python 3 (ipykernel)",
   "language": "python",
   "name": "python3"
  },
  "language_info": {
   "codemirror_mode": {
    "name": "ipython",
    "version": 3
   },
   "file_extension": ".py",
   "mimetype": "text/x-python",
   "name": "python",
   "nbconvert_exporter": "python",
   "pygments_lexer": "ipython3",
   "version": "3.10.9"
  }
 },
 "nbformat": 4,
 "nbformat_minor": 5
}
