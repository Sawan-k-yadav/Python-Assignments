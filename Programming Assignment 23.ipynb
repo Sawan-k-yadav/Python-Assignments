{
 "cells": [
  {
   "cell_type": "markdown",
   "id": "100bec8c",
   "metadata": {},
   "source": [
    "# Question 1\n",
    "## Create a function that takes a number as an argument and returns True or False depending on whether the number is symmetrical or not. A number is symmetrical when it is the same as its reverse.\n",
    "\n",
    "## Examples\n",
    "\n",
    "is_symmetrical(7227) ➞ True\n",
    "\n",
    "is_symmetrical(12567) ➞ False\n",
    "\n",
    "is_symmetrical(44444444) ➞ True\n",
    "\n",
    "is_symmetrical(9939) ➞ False\n",
    "\n",
    "is_symmetrical(1112111) ➞ True"
   ]
  },
  {
   "cell_type": "code",
   "execution_count": 25,
   "id": "8198d930",
   "metadata": {},
   "outputs": [
    {
     "name": "stdout",
     "output_type": "stream",
     "text": [
      "True\n",
      "False\n"
     ]
    }
   ],
   "source": [
    "def is_symmetrical(n):\n",
    "    m = list()\n",
    "    for i  in str(n):\n",
    "        m.append(int(i))\n",
    "        \n",
    "    m.reverse()\n",
    "    \n",
    "    rev = \"\"\n",
    "    for i in m:\n",
    "        rev +=str(i)\n",
    "        \n",
    "    rev = int(rev)\n",
    "            \n",
    "    if rev == n:\n",
    "        return True\n",
    "    else:\n",
    "        return False\n",
    "        \n",
    "\n",
    "    \n",
    "    \n",
    "print(is_symmetrical(7887))\n",
    "print(is_symmetrical(9939))\n"
   ]
  },
  {
   "cell_type": "markdown",
   "id": "423acb14",
   "metadata": {},
   "source": [
    "# Question 2\n",
    "## Given a string of numbers separated by a comma and space, return the product of the numbers.\n",
    "\n",
    "Examples\n",
    "\n",
    "multiply_nums(&quot;2, 3&quot;) ➞ 6\n",
    "\n",
    "multiply_nums(&quot;1, 2, 3, 4&quot;) ➞ 24\n",
    "\n",
    "multiply_nums(&quot;54, 75, 453, 0&quot;) ➞ 0\n",
    "\n",
    "multiply_nums(&quot;10, -2&quot;) ➞ -20"
   ]
  },
  {
   "cell_type": "code",
   "execution_count": 32,
   "id": "ced9e30f",
   "metadata": {},
   "outputs": [
    {
     "name": "stdout",
     "output_type": "stream",
     "text": [
      "6\n",
      "-20\n"
     ]
    }
   ],
   "source": [
    "def multiply_nums(string):\n",
    "    string = string.split(',')\n",
    "    mul = 1\n",
    "    for i in string:\n",
    "        mul *= int(i)\n",
    "    return mul\n",
    "    \n",
    "print(multiply_nums(\"2, 3\"))  \n",
    "\n",
    "print(multiply_nums(\"10, -2\"))"
   ]
  },
  {
   "cell_type": "markdown",
   "id": "a1f2963a",
   "metadata": {},
   "source": [
    "# Question 3\n",
    "## Create a function that squares every digit of a number.\n",
    "\n",
    "Examples\n",
    "\n",
    "square_digits(9119) ➞ 811181\n",
    "\n",
    "square_digits(2483) ➞ 416649\n",
    "\n",
    "square_digits(3212) ➞ 9414\n",
    "\n",
    "### Notes\n",
    "The function receives an integer and must return an integer."
   ]
  },
  {
   "cell_type": "code",
   "execution_count": 38,
   "id": "fc8370a0",
   "metadata": {},
   "outputs": [
    {
     "name": "stdout",
     "output_type": "stream",
     "text": [
      "9414\n",
      "416649\n"
     ]
    }
   ],
   "source": [
    "def square_digits(num):\n",
    "    square = list()\n",
    "    for i in str(num):\n",
    "        square.append(int(i)**2)\n",
    "        \n",
    "    m = \"\"\n",
    "    for i in square:\n",
    "        m +=str(i)\n",
    "        \n",
    "    m = int(m)\n",
    "        \n",
    "    return m\n",
    "\n",
    "print(square_digits(3212))\n",
    "\n",
    "print(square_digits(2483))"
   ]
  },
  {
   "cell_type": "markdown",
   "id": "cf4925f3",
   "metadata": {},
   "source": [
    "# Question 4\n",
    "## Create a function that sorts a list and removes all duplicate items from it.\n",
    "Examples\n",
    "\n",
    "setify([1, 3, 3, 5, 5]) ➞ [1, 3, 5]\n",
    "\n",
    "setify([4, 4, 4, 4]) ➞ [4]\n",
    "\n",
    "setify([5, 7, 8, 9, 10, 15]) ➞ [5, 7, 8, 9, 10, 15]\n",
    "\n",
    "setify([3, 3, 3, 2, 1]) ➞ [1, 2, 3]"
   ]
  },
  {
   "cell_type": "code",
   "execution_count": 42,
   "id": "fda75f17",
   "metadata": {},
   "outputs": [
    {
     "name": "stdout",
     "output_type": "stream",
     "text": [
      "[1, 3, 5]\n",
      "[5, 7, 8, 9, 10, 15]\n",
      "[1, 2, 3]\n",
      "[4]\n"
     ]
    }
   ],
   "source": [
    "def setify(List1):\n",
    "    A = set(List1)\n",
    "    \n",
    "    List1 = list(A)\n",
    "    \n",
    "    return List1\n",
    "\n",
    "print(setify([1, 3, 3, 5, 5]))\n",
    "\n",
    "print(setify([5, 7, 8, 9, 10, 15]))\n",
    "\n",
    "print(setify([3, 3, 3, 2, 1]))\n",
    "\n",
    "print(setify([4, 4, 4, 4]))"
   ]
  },
  {
   "cell_type": "markdown",
   "id": "17113c60",
   "metadata": {},
   "source": [
    "# Question 5\n",
    "## Create a function that returns the mean of all digits.\n",
    "Examples\n",
    "\n",
    "mean(42) ➞ 3\n",
    "\n",
    "mean(12345) ➞ 3\n",
    "\n",
    "mean(666) ➞ 6\n",
    "\n",
    "Notes\n",
    "\n",
    " The mean of all digits is the sum of digits / how many digits there are (e.g. mean of digits in\n",
    "512 is (5+1+2)/3(number of digits) = 8/3=2).\n",
    "\n",
    " The mean will always be an integer."
   ]
  },
  {
   "cell_type": "code",
   "execution_count": 47,
   "id": "c340b3bb",
   "metadata": {},
   "outputs": [
    {
     "name": "stdout",
     "output_type": "stream",
     "text": [
      "6\n",
      "3\n"
     ]
    }
   ],
   "source": [
    "# import numpy as np\n",
    "\n",
    "# def mean(num):\n",
    "#     n = list()\n",
    "#     for i in str(num):\n",
    "#         n.append(int(i))\n",
    "        \n",
    "#     mean = np.mean(n)\n",
    "    \n",
    "#     return mean\n",
    "\n",
    "# print(mean(666))\n",
    "\n",
    "\n",
    "#  or 2nd\n",
    "\n",
    "def mean(num):\n",
    "    n = str(num)\n",
    "    sum_of_digits = 0\n",
    "    for i in n:\n",
    "        sum_of_digits += int(i)\n",
    "        \n",
    "    return int(sum_of_digits/len(n))\n",
    "\n",
    "print(mean(666))\n",
    "print(mean(12345))"
   ]
  },
  {
   "cell_type": "code",
   "execution_count": null,
   "id": "7eef5cb7",
   "metadata": {},
   "outputs": [],
   "source": []
  }
 ],
 "metadata": {
  "kernelspec": {
   "display_name": "Python 3 (ipykernel)",
   "language": "python",
   "name": "python3"
  },
  "language_info": {
   "codemirror_mode": {
    "name": "ipython",
    "version": 3
   },
   "file_extension": ".py",
   "mimetype": "text/x-python",
   "name": "python",
   "nbconvert_exporter": "python",
   "pygments_lexer": "ipython3",
   "version": "3.10.9"
  }
 },
 "nbformat": 4,
 "nbformat_minor": 5
}
