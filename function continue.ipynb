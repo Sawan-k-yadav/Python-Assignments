{
 "cells": [
  {
   "cell_type": "code",
   "execution_count": 1,
   "id": "eb553fbf",
   "metadata": {},
   "outputs": [],
   "source": [
    "def test1():\n",
    "    a = 5+6\n",
    "    return a "
   ]
  },
  {
   "cell_type": "code",
   "execution_count": 3,
   "id": "7655fdd0",
   "metadata": {},
   "outputs": [
    {
     "data": {
      "text/plain": [
       "11"
      ]
     },
     "execution_count": 3,
     "metadata": {},
     "output_type": "execute_result"
    }
   ],
   "source": [
    "test1()"
   ]
  },
  {
   "cell_type": "code",
   "execution_count": 4,
   "id": "811896a4",
   "metadata": {},
   "outputs": [],
   "source": [
    "def test2(a,b):\n",
    "    return a+b"
   ]
  },
  {
   "cell_type": "code",
   "execution_count": 5,
   "id": "1015d8d9",
   "metadata": {},
   "outputs": [
    {
     "data": {
      "text/plain": [
       "3"
      ]
     },
     "execution_count": 5,
     "metadata": {},
     "output_type": "execute_result"
    }
   ],
   "source": [
    "test2(1,2)"
   ]
  },
  {
   "cell_type": "code",
   "execution_count": 6,
   "id": "80e6b3bb",
   "metadata": {},
   "outputs": [
    {
     "data": {
      "text/plain": [
       "'sawankumar'"
      ]
     },
     "execution_count": 6,
     "metadata": {},
     "output_type": "execute_result"
    }
   ],
   "source": [
    "test2(\"sawan\",\"kumar\")"
   ]
  },
  {
   "cell_type": "code",
   "execution_count": 7,
   "id": "bd207787",
   "metadata": {},
   "outputs": [
    {
     "data": {
      "text/plain": [
       "'raviteja'"
      ]
     },
     "execution_count": 7,
     "metadata": {},
     "output_type": "execute_result"
    }
   ],
   "source": [
    "test2(b=\"teja\", a=\"ravi\")  # if we dont want to follow orders"
   ]
  },
  {
   "cell_type": "markdown",
   "id": "8b8be6a4",
   "metadata": {},
   "source": [
    "# if we dont know how many inputs we have to give in function"
   ]
  },
  {
   "cell_type": "code",
   "execution_count": 9,
   "id": "c05687aa",
   "metadata": {},
   "outputs": [],
   "source": [
    "# Let say if we got questions to create function which will take any no. of input and it will return all the no. as list\n",
    "\n",
    "def test3(*args):    # (*) means all. args means arguments. So we can pass any no, of arguments and then returning all\n",
    "    return args"
   ]
  },
  {
   "cell_type": "code",
   "execution_count": 10,
   "id": "19edd063",
   "metadata": {},
   "outputs": [
    {
     "data": {
      "text/plain": [
       "(1, 2, 3, 4, 'yadav')"
      ]
     },
     "execution_count": 10,
     "metadata": {},
     "output_type": "execute_result"
    }
   ],
   "source": [
    "test3(1,2,3,4,\"yadav\")   # it give results in tuples"
   ]
  },
  {
   "cell_type": "code",
   "execution_count": 11,
   "id": "ca49ccb5",
   "metadata": {},
   "outputs": [
    {
     "data": {
      "text/plain": [
       "tuple"
      ]
     },
     "execution_count": 11,
     "metadata": {},
     "output_type": "execute_result"
    }
   ],
   "source": [
    "type(test3(1,2,3,4,\"yadav\"))   # it means type of args is tuple"
   ]
  },
  {
   "cell_type": "code",
   "execution_count": 12,
   "id": "b076ba44",
   "metadata": {},
   "outputs": [
    {
     "data": {
      "text/plain": [
       "([1, 2, 3, 4, 5], 'sudh', 'ineuron', (5+7j), (4, 5, 6))"
      ]
     },
     "execution_count": 12,
     "metadata": {},
     "output_type": "execute_result"
    }
   ],
   "source": [
    "test3([1,2,3,4,5] , \"sudh\" , \"ineuron\" , 5+7j, (4,5,6))"
   ]
  },
  {
   "cell_type": "code",
   "execution_count": 13,
   "id": "b91ebd69",
   "metadata": {},
   "outputs": [],
   "source": [
    "def test4(*args):\n",
    "    return list(args)"
   ]
  },
  {
   "cell_type": "code",
   "execution_count": 15,
   "id": "724a572f",
   "metadata": {},
   "outputs": [
    {
     "data": {
      "text/plain": [
       "['sudh', True, (8+7j), 34, 34.56]"
      ]
     },
     "execution_count": 15,
     "metadata": {},
     "output_type": "execute_result"
    }
   ],
   "source": [
    "test4(\"sudh\" , True , 8+7j , 34, 34.56)"
   ]
  },
  {
   "cell_type": "code",
   "execution_count": 16,
   "id": "ff465148",
   "metadata": {},
   "outputs": [],
   "source": [
    "def test5(*args) :\n",
    "        l = []\n",
    "        for i in args : \n",
    "            l.append(i)\n",
    "        return l"
   ]
  },
  {
   "cell_type": "code",
   "execution_count": 17,
   "id": "8545b0c3",
   "metadata": {},
   "outputs": [
    {
     "data": {
      "text/plain": [
       "[45, 75, 96]"
      ]
     },
     "execution_count": 17,
     "metadata": {},
     "output_type": "execute_result"
    }
   ],
   "source": [
    "test5(45,75,96)"
   ]
  },
  {
   "cell_type": "markdown",
   "id": "b0a5c0b0",
   "metadata": {},
   "source": [
    "# args is not a reserved word instead we can use anything as variable name"
   ]
  },
  {
   "cell_type": "code",
   "execution_count": 18,
   "id": "38031149",
   "metadata": {},
   "outputs": [],
   "source": [
    "def test6(*sawan):\n",
    "    return list(sawan)"
   ]
  },
  {
   "cell_type": "code",
   "execution_count": 19,
   "id": "c10e7218",
   "metadata": {},
   "outputs": [
    {
     "data": {
      "text/plain": [
       "[75, 5796, 6974]"
      ]
     },
     "execution_count": 19,
     "metadata": {},
     "output_type": "execute_result"
    }
   ],
   "source": [
    "test6(75,5796,6974)"
   ]
  },
  {
   "cell_type": "code",
   "execution_count": null,
   "id": "be442d6e",
   "metadata": {},
   "outputs": [],
   "source": []
  },
  {
   "cell_type": "code",
   "execution_count": 20,
   "id": "46c0ca1c",
   "metadata": {},
   "outputs": [],
   "source": [
    "l = [1,2,3,4,5,6]\n",
    "t = (4,5,6, 8+7j)\n",
    "s = {3,4,5,6 , 6 , 5,6,6,6,6,6}"
   ]
  },
  {
   "cell_type": "code",
   "execution_count": 21,
   "id": "01034225",
   "metadata": {},
   "outputs": [
    {
     "data": {
      "text/plain": [
       "[1, 2, 3, 4, 5, 6]"
      ]
     },
     "execution_count": 21,
     "metadata": {},
     "output_type": "execute_result"
    }
   ],
   "source": [
    "l"
   ]
  },
  {
   "cell_type": "code",
   "execution_count": 22,
   "id": "041a7b88",
   "metadata": {},
   "outputs": [
    {
     "data": {
      "text/plain": [
       "{3, 4, 5, 6}"
      ]
     },
     "execution_count": 22,
     "metadata": {},
     "output_type": "execute_result"
    }
   ],
   "source": [
    "s"
   ]
  },
  {
   "cell_type": "code",
   "execution_count": 23,
   "id": "fe363469",
   "metadata": {},
   "outputs": [
    {
     "data": {
      "text/plain": [
       "{3, 4, 5, 6}"
      ]
     },
     "execution_count": 23,
     "metadata": {},
     "output_type": "execute_result"
    }
   ],
   "source": [
    "s  # it is set which remove all the duplicate elements"
   ]
  },
  {
   "cell_type": "markdown",
   "id": "f7959f5e",
   "metadata": {},
   "source": [
    "# Dictionary"
   ]
  },
  {
   "cell_type": "code",
   "execution_count": 28,
   "id": "7056ea9b",
   "metadata": {},
   "outputs": [],
   "source": [
    "d1 = {}  # when curly brackets are empty then python will treat this as dictionary datatype"
   ]
  },
  {
   "cell_type": "code",
   "execution_count": 29,
   "id": "c0469151",
   "metadata": {},
   "outputs": [
    {
     "data": {
      "text/plain": [
       "dict"
      ]
     },
     "execution_count": 29,
     "metadata": {},
     "output_type": "execute_result"
    }
   ],
   "source": [
    "type(d1)"
   ]
  },
  {
   "cell_type": "code",
   "execution_count": 30,
   "id": "83dfaac1",
   "metadata": {},
   "outputs": [],
   "source": [
    "d1= {1,5,3,6,7}  # when we have flat data without key value then python treat this as set datatype"
   ]
  },
  {
   "cell_type": "code",
   "execution_count": 31,
   "id": "08c0bea0",
   "metadata": {},
   "outputs": [
    {
     "data": {
      "text/plain": [
       "set"
      ]
     },
     "execution_count": 31,
     "metadata": {},
     "output_type": "execute_result"
    }
   ],
   "source": [
    "type(d1)"
   ]
  },
  {
   "cell_type": "code",
   "execution_count": 32,
   "id": "521d0aed",
   "metadata": {},
   "outputs": [],
   "source": [
    "d2 = {\"key1\": \"sawan\", \"key2\": [1,3,5,3]}"
   ]
  },
  {
   "cell_type": "code",
   "execution_count": 33,
   "id": "8ff1eb70",
   "metadata": {},
   "outputs": [
    {
     "data": {
      "text/plain": [
       "{'key1': 'sawan', 'key2': [1, 3, 5, 3]}"
      ]
     },
     "execution_count": 33,
     "metadata": {},
     "output_type": "execute_result"
    }
   ],
   "source": [
    "d2"
   ]
  },
  {
   "cell_type": "code",
   "execution_count": 34,
   "id": "bd4e14c9",
   "metadata": {},
   "outputs": [],
   "source": [
    "d3= {1413423: \"sawan\"}"
   ]
  },
  {
   "cell_type": "code",
   "execution_count": 35,
   "id": "252f8813",
   "metadata": {},
   "outputs": [
    {
     "data": {
      "text/plain": [
       "{1413423: 'sawan'}"
      ]
     },
     "execution_count": 35,
     "metadata": {},
     "output_type": "execute_result"
    }
   ],
   "source": [
    "d3"
   ]
  },
  {
   "cell_type": "code",
   "execution_count": 36,
   "id": "1972a7e3",
   "metadata": {},
   "outputs": [
    {
     "ename": "SyntaxError",
     "evalue": "invalid syntax (3617227354.py, line 1)",
     "output_type": "error",
     "traceback": [
      "\u001b[1;36m  Cell \u001b[1;32mIn[36], line 1\u001b[1;36m\u001b[0m\n\u001b[1;33m    d4= {&: 12133}\u001b[0m\n\u001b[1;37m         ^\u001b[0m\n\u001b[1;31mSyntaxError\u001b[0m\u001b[1;31m:\u001b[0m invalid syntax\n"
     ]
    }
   ],
   "source": [
    "d4= {&: 12133}  # symbols cannot be key"
   ]
  },
  {
   "cell_type": "code",
   "execution_count": 37,
   "id": "87d24839",
   "metadata": {},
   "outputs": [
    {
     "ename": "TypeError",
     "evalue": "unhashable type: 'list'",
     "output_type": "error",
     "traceback": [
      "\u001b[1;31m---------------------------------------------------------------------------\u001b[0m",
      "\u001b[1;31mTypeError\u001b[0m                                 Traceback (most recent call last)",
      "Cell \u001b[1;32mIn[37], line 1\u001b[0m\n\u001b[1;32m----> 1\u001b[0m d5 \u001b[38;5;241m=\u001b[39m {[\u001b[38;5;241m1\u001b[39m,\u001b[38;5;241m2\u001b[39m,\u001b[38;5;241m3\u001b[39m,\u001b[38;5;241m4\u001b[39m] : \u001b[38;5;124m\"\u001b[39m\u001b[38;5;124msudh\u001b[39m\u001b[38;5;124m\"\u001b[39m}\n",
      "\u001b[1;31mTypeError\u001b[0m: unhashable type: 'list'"
     ]
    }
   ],
   "source": [
    "d5 = {[1,2,3,4] : \"sudh\"}  # List cannot be a key"
   ]
  },
  {
   "cell_type": "code",
   "execution_count": 39,
   "id": "3e9909ae",
   "metadata": {},
   "outputs": [],
   "source": [
    "d6 = {(1,2,3,4,5) : \"sudh\"}  # But tuple can be a key"
   ]
  },
  {
   "cell_type": "code",
   "execution_count": 15,
   "id": "a406e279",
   "metadata": {},
   "outputs": [],
   "source": [
    "# If we will give key with same name then whatever the latest value (after compiling till last) the key has it will print\n",
    "\n",
    "d7 = { \"name \" : \"sawan\" , \"org\" : \"ineuron\" , \"mail id \" : \"sudhanshu@ineuron.ai\" , \"name\" : \"sk\"}"
   ]
  },
  {
   "cell_type": "code",
   "execution_count": 16,
   "id": "00b11ec6",
   "metadata": {},
   "outputs": [
    {
     "data": {
      "text/plain": [
       "{'name ': 'sawan',\n",
       " 'org': 'ineuron',\n",
       " 'mail id ': 'sudhanshu@ineuron.ai',\n",
       " 'name': 'sk'}"
      ]
     },
     "execution_count": 16,
     "metadata": {},
     "output_type": "execute_result"
    }
   ],
   "source": [
    "d7  # But here we are getting both name in the result, the twist is first name is have space after 'name ' but other does \n",
    "    # not have space so python treating both as different key"
   ]
  },
  {
   "cell_type": "code",
   "execution_count": 8,
   "id": "87033dc8",
   "metadata": {},
   "outputs": [],
   "source": [
    "d8 = { \"name\" : \"sawan\" , \"org\" : \"ineuron\" , \"mail id \" : \"sudhanshu@ineuron.ai\" , \"name\" : \"sk\"}"
   ]
  },
  {
   "cell_type": "code",
   "execution_count": 47,
   "id": "d09d11c0",
   "metadata": {},
   "outputs": [
    {
     "data": {
      "text/plain": [
       "{'name': 'sk', 'org': 'ineuron', 'mail id ': 'sudhanshu@ineuron.ai'}"
      ]
     },
     "execution_count": 47,
     "metadata": {},
     "output_type": "execute_result"
    }
   ],
   "source": [
    "d8"
   ]
  },
  {
   "cell_type": "code",
   "execution_count": 48,
   "id": "0bb3efa6",
   "metadata": {},
   "outputs": [],
   "source": [
    "d9 = {\"name\": \"sudh\" , \"mentor\" : {\"fsds\": \"imran\" , \"fsda\":\"anand\" , \"bigdata\" : \"shashank\" }}  # dictionary inside dictionary"
   ]
  },
  {
   "cell_type": "code",
   "execution_count": 49,
   "id": "9d37984c",
   "metadata": {},
   "outputs": [
    {
     "data": {
      "text/plain": [
       "{'name': 'sudh',\n",
       " 'mentor': {'fsds': 'imran', 'fsda': 'anand', 'bigdata': 'shashank'}}"
      ]
     },
     "execution_count": 49,
     "metadata": {},
     "output_type": "execute_result"
    }
   ],
   "source": [
    "d9"
   ]
  },
  {
   "cell_type": "code",
   "execution_count": 50,
   "id": "0814c220",
   "metadata": {},
   "outputs": [
    {
     "data": {
      "text/plain": [
       "{'name ': 'sawan',\n",
       " 'org': 'ineuron',\n",
       " 'mail id ': 'sudhanshu@ineuron.ai',\n",
       " 'name': 'sk'}"
      ]
     },
     "execution_count": 50,
     "metadata": {},
     "output_type": "execute_result"
    }
   ],
   "source": [
    "d7"
   ]
  },
  {
   "cell_type": "code",
   "execution_count": 53,
   "id": "472ac09e",
   "metadata": {},
   "outputs": [
    {
     "data": {
      "text/plain": [
       "'sudhanshu@ineuron.ai'"
      ]
     },
     "execution_count": 53,
     "metadata": {},
     "output_type": "execute_result"
    }
   ],
   "source": [
    "d7[\"mail id \"]  # hear mistakenly I had taken key as \"mail id \"  with space so result comign after space in key"
   ]
  },
  {
   "cell_type": "code",
   "execution_count": 54,
   "id": "289a96d1",
   "metadata": {},
   "outputs": [
    {
     "ename": "KeyError",
     "evalue": "2",
     "output_type": "error",
     "traceback": [
      "\u001b[1;31m---------------------------------------------------------------------------\u001b[0m",
      "\u001b[1;31mKeyError\u001b[0m                                  Traceback (most recent call last)",
      "Cell \u001b[1;32mIn[54], line 1\u001b[0m\n\u001b[1;32m----> 1\u001b[0m d7[\u001b[38;5;241m2\u001b[39m]\n",
      "\u001b[1;31mKeyError\u001b[0m: 2"
     ]
    }
   ],
   "source": [
    "d7[2]  # 2 is not key of diction here"
   ]
  },
  {
   "cell_type": "code",
   "execution_count": 56,
   "id": "56522c3a",
   "metadata": {},
   "outputs": [
    {
     "data": {
      "text/plain": [
       "{'name': 'sudh',\n",
       " 'mentor': {'fsds': 'imran', 'fsda': 'anand', 'bigdata': 'shashank'}}"
      ]
     },
     "execution_count": 56,
     "metadata": {},
     "output_type": "execute_result"
    }
   ],
   "source": [
    "d9"
   ]
  },
  {
   "cell_type": "code",
   "execution_count": 57,
   "id": "2ca0c06b",
   "metadata": {},
   "outputs": [
    {
     "data": {
      "text/plain": [
       "{'fsds': 'imran', 'fsda': 'anand', 'bigdata': 'shashank'}"
      ]
     },
     "execution_count": 57,
     "metadata": {},
     "output_type": "execute_result"
    }
   ],
   "source": [
    "d9[\"mentor\"]"
   ]
  },
  {
   "cell_type": "code",
   "execution_count": 58,
   "id": "89c9495d",
   "metadata": {},
   "outputs": [
    {
     "data": {
      "text/plain": [
       "'shashank'"
      ]
     },
     "execution_count": 58,
     "metadata": {},
     "output_type": "execute_result"
    }
   ],
   "source": [
    "d9[\"mentor\"][\"bigdata\"]"
   ]
  },
  {
   "cell_type": "code",
   "execution_count": 59,
   "id": "3d4dbb11",
   "metadata": {},
   "outputs": [
    {
     "data": {
      "text/plain": [
       "{'name ': 'sawan',\n",
       " 'org': 'ineuron',\n",
       " 'mail id ': 'sudhanshu@ineuron.ai',\n",
       " 'name': 'sk'}"
      ]
     },
     "execution_count": 59,
     "metadata": {},
     "output_type": "execute_result"
    }
   ],
   "source": [
    "d7"
   ]
  },
  {
   "cell_type": "code",
   "execution_count": 61,
   "id": "ef3451ef",
   "metadata": {},
   "outputs": [
    {
     "data": {
      "text/plain": [
       "['name ', 'org', 'mail id ', 'name']"
      ]
     },
     "execution_count": 61,
     "metadata": {},
     "output_type": "execute_result"
    }
   ],
   "source": [
    "list(d7.keys())"
   ]
  },
  {
   "cell_type": "code",
   "execution_count": 62,
   "id": "59978675",
   "metadata": {},
   "outputs": [
    {
     "data": {
      "text/plain": [
       "dict_values(['sawan', 'ineuron', 'sudhanshu@ineuron.ai', 'sk'])"
      ]
     },
     "execution_count": 62,
     "metadata": {},
     "output_type": "execute_result"
    }
   ],
   "source": [
    "d7.values()"
   ]
  },
  {
   "cell_type": "code",
   "execution_count": 63,
   "id": "8297dcec",
   "metadata": {},
   "outputs": [
    {
     "data": {
      "text/plain": [
       "dict_items([('name ', 'sawan'), ('org', 'ineuron'), ('mail id ', 'sudhanshu@ineuron.ai'), ('name', 'sk')])"
      ]
     },
     "execution_count": 63,
     "metadata": {},
     "output_type": "execute_result"
    }
   ],
   "source": [
    "d7.items()  # it will give all the items of key value pair"
   ]
  },
  {
   "cell_type": "code",
   "execution_count": 64,
   "id": "b6933085",
   "metadata": {},
   "outputs": [
    {
     "data": {
      "text/plain": [
       "{'name': 'sudh',\n",
       " 'mentor': {'fsds': 'imran', 'fsda': 'anand', 'bigdata': 'shashank'}}"
      ]
     },
     "execution_count": 64,
     "metadata": {},
     "output_type": "execute_result"
    }
   ],
   "source": [
    "d9"
   ]
  },
  {
   "cell_type": "code",
   "execution_count": 66,
   "id": "b07e3bd5",
   "metadata": {},
   "outputs": [
    {
     "data": {
      "text/plain": [
       "['imran', 'anand', 'shashank']"
      ]
     },
     "execution_count": 66,
     "metadata": {},
     "output_type": "execute_result"
    }
   ],
   "source": [
    "list(d9[\"mentor\"].values())"
   ]
  },
  {
   "cell_type": "code",
   "execution_count": 74,
   "id": "f88d7955",
   "metadata": {},
   "outputs": [],
   "source": [
    "# if we have many value of many key which are dictionary then we need to use loop\n",
    "\n",
    "\n",
    "l = []\n",
    "for i in d9.keys():\n",
    "    if type(d9[i]) == dict:\n",
    "        l.append(list(d9[i].values()))"
   ]
  },
  {
   "cell_type": "code",
   "execution_count": 75,
   "id": "dd2db035",
   "metadata": {},
   "outputs": [
    {
     "data": {
      "text/plain": [
       "[['imran', 'anand', 'shashank']]"
      ]
     },
     "execution_count": 75,
     "metadata": {},
     "output_type": "execute_result"
    }
   ],
   "source": [
    "l"
   ]
  },
  {
   "cell_type": "code",
   "execution_count": 1,
   "id": "0cbf65bf",
   "metadata": {},
   "outputs": [],
   "source": [
    "d10 = {'name': 'sudh','mentor': {'fsds': 'imran', 'fsda': 'anand', 'bigdata': 'shashank'} , \"mail_id\" : {\"imran\" : \"imran@ineiuron.ai\" , \"anand\" : \"anand@ineuron.ai\" , \"shashank\" : \"shashank@ineuron.ai\"}}"
   ]
  },
  {
   "cell_type": "code",
   "execution_count": 84,
   "id": "83c86611",
   "metadata": {},
   "outputs": [],
   "source": [
    "l2 = []\n",
    "for i in d10.keys():\n",
    "    if type(d10[i]) == dict:\n",
    "        l2.append(list(d10[i].values()))"
   ]
  },
  {
   "cell_type": "code",
   "execution_count": 85,
   "id": "6ec55db9",
   "metadata": {},
   "outputs": [
    {
     "data": {
      "text/plain": [
       "[['imran', 'anand', 'shashank'],\n",
       " ['imran@ineiuron.ai', 'anand@ineuron.ai', 'shashank@ineuron.ai']]"
      ]
     },
     "execution_count": 85,
     "metadata": {},
     "output_type": "execute_result"
    }
   ],
   "source": [
    "l2"
   ]
  },
  {
   "cell_type": "code",
   "execution_count": 5,
   "id": "56853583",
   "metadata": {},
   "outputs": [],
   "source": [
    "def test9(d): \n",
    "        l = []\n",
    "        for i in d.keys():\n",
    "            if type(d[i]) == dict : \n",
    "                l.append(list(d[i].values()))\n",
    "        return l \n",
    "    "
   ]
  },
  {
   "cell_type": "code",
   "execution_count": 6,
   "id": "8782e616",
   "metadata": {},
   "outputs": [
    {
     "data": {
      "text/plain": [
       "[['imran', 'anand', 'shashank'],\n",
       " ['imran@ineiuron.ai', 'anand@ineuron.ai', 'shashank@ineuron.ai']]"
      ]
     },
     "execution_count": 6,
     "metadata": {},
     "output_type": "execute_result"
    }
   ],
   "source": [
    "test9(d10)"
   ]
  },
  {
   "cell_type": "code",
   "execution_count": 9,
   "id": "62d25746",
   "metadata": {},
   "outputs": [
    {
     "data": {
      "text/plain": [
       "{'name': 'sk', 'org': 'ineuron', 'mail id ': 'sudhanshu@ineuron.ai'}"
      ]
     },
     "execution_count": 9,
     "metadata": {},
     "output_type": "execute_result"
    }
   ],
   "source": [
    "d8"
   ]
  },
  {
   "cell_type": "code",
   "execution_count": 10,
   "id": "936d058e",
   "metadata": {},
   "outputs": [],
   "source": [
    "d8[\"mobilenumber\"] = (446545,55775,58843)  # add new key value pair"
   ]
  },
  {
   "cell_type": "code",
   "execution_count": 11,
   "id": "014938dc",
   "metadata": {},
   "outputs": [
    {
     "data": {
      "text/plain": [
       "{'name': 'sk',\n",
       " 'org': 'ineuron',\n",
       " 'mail id ': 'sudhanshu@ineuron.ai',\n",
       " 'mobilenumber': (446545, 55775, 58843)}"
      ]
     },
     "execution_count": 11,
     "metadata": {},
     "output_type": "execute_result"
    }
   ],
   "source": [
    "d8"
   ]
  },
  {
   "cell_type": "code",
   "execution_count": 12,
   "id": "98d87d7c",
   "metadata": {},
   "outputs": [],
   "source": [
    "d8[\"name\"] = \"sk yadav\"  # for updating any colunm or value of any dictionary "
   ]
  },
  {
   "cell_type": "code",
   "execution_count": 13,
   "id": "72829e71",
   "metadata": {},
   "outputs": [
    {
     "data": {
      "text/plain": [
       "{'name': 'sk yadav',\n",
       " 'org': 'ineuron',\n",
       " 'mail id ': 'sudhanshu@ineuron.ai',\n",
       " 'mobilenumber': (446545, 55775, 58843)}"
      ]
     },
     "execution_count": 13,
     "metadata": {},
     "output_type": "execute_result"
    }
   ],
   "source": [
    "d8"
   ]
  },
  {
   "cell_type": "code",
   "execution_count": 17,
   "id": "baec4114",
   "metadata": {},
   "outputs": [
    {
     "data": {
      "text/plain": [
       "{'name ': 'sawan',\n",
       " 'org': 'ineuron',\n",
       " 'mail id ': 'sudhanshu@ineuron.ai',\n",
       " 'name': 'sk'}"
      ]
     },
     "execution_count": 17,
     "metadata": {},
     "output_type": "execute_result"
    }
   ],
   "source": [
    "d7"
   ]
  },
  {
   "cell_type": "code",
   "execution_count": 18,
   "id": "4eb1b3ba",
   "metadata": {},
   "outputs": [],
   "source": [
    "del d7"
   ]
  },
  {
   "cell_type": "code",
   "execution_count": 19,
   "id": "882bd03d",
   "metadata": {},
   "outputs": [
    {
     "ename": "NameError",
     "evalue": "name 'd7' is not defined",
     "output_type": "error",
     "traceback": [
      "\u001b[1;31m---------------------------------------------------------------------------\u001b[0m",
      "\u001b[1;31mNameError\u001b[0m                                 Traceback (most recent call last)",
      "Cell \u001b[1;32mIn[19], line 1\u001b[0m\n\u001b[1;32m----> 1\u001b[0m d7\n",
      "\u001b[1;31mNameError\u001b[0m: name 'd7' is not defined"
     ]
    }
   ],
   "source": [
    "d7  # getting error as d7 is deleted"
   ]
  },
  {
   "cell_type": "code",
   "execution_count": 20,
   "id": "a323053f",
   "metadata": {},
   "outputs": [
    {
     "data": {
      "text/plain": [
       "{'name': 'sk yadav',\n",
       " 'org': 'ineuron',\n",
       " 'mail id ': 'sudhanshu@ineuron.ai',\n",
       " 'mobilenumber': (446545, 55775, 58843)}"
      ]
     },
     "execution_count": 20,
     "metadata": {},
     "output_type": "execute_result"
    }
   ],
   "source": [
    "# deleting specific one\n",
    "\n",
    "d8"
   ]
  },
  {
   "cell_type": "code",
   "execution_count": 21,
   "id": "e329478d",
   "metadata": {},
   "outputs": [],
   "source": [
    "del d8[\"name\"]"
   ]
  },
  {
   "cell_type": "code",
   "execution_count": 22,
   "id": "0fd033ae",
   "metadata": {},
   "outputs": [
    {
     "data": {
      "text/plain": [
       "{'org': 'ineuron',\n",
       " 'mail id ': 'sudhanshu@ineuron.ai',\n",
       " 'mobilenumber': (446545, 55775, 58843)}"
      ]
     },
     "execution_count": 22,
     "metadata": {},
     "output_type": "execute_result"
    }
   ],
   "source": [
    "d8"
   ]
  },
  {
   "cell_type": "code",
   "execution_count": 23,
   "id": "f4289d87",
   "metadata": {},
   "outputs": [
    {
     "data": {
      "text/plain": [
       "'ineuron'"
      ]
     },
     "execution_count": 23,
     "metadata": {},
     "output_type": "execute_result"
    }
   ],
   "source": [
    "d8.pop(\"org\")  # pop the items with the keys"
   ]
  },
  {
   "cell_type": "code",
   "execution_count": 24,
   "id": "319a353b",
   "metadata": {},
   "outputs": [
    {
     "data": {
      "text/plain": [
       "{'mail id ': 'sudhanshu@ineuron.ai', 'mobilenumber': (446545, 55775, 58843)}"
      ]
     },
     "execution_count": 24,
     "metadata": {},
     "output_type": "execute_result"
    }
   ],
   "source": [
    "d8"
   ]
  },
  {
   "cell_type": "markdown",
   "id": "e21ab3e6",
   "metadata": {},
   "source": [
    "# we cannot delete value along as key values be in pair"
   ]
  },
  {
   "cell_type": "code",
   "execution_count": 25,
   "id": "93d9a45f",
   "metadata": {},
   "outputs": [],
   "source": [
    "def test10(**kwargs):   # it is a key value pair arguments which take any no. of input in dictionary form\n",
    "    return kwargs"
   ]
  },
  {
   "cell_type": "code",
   "execution_count": 27,
   "id": "cce82b26",
   "metadata": {},
   "outputs": [
    {
     "ename": "TypeError",
     "evalue": "test10() takes 0 positional arguments but 4 were given",
     "output_type": "error",
     "traceback": [
      "\u001b[1;31m---------------------------------------------------------------------------\u001b[0m",
      "\u001b[1;31mTypeError\u001b[0m                                 Traceback (most recent call last)",
      "Cell \u001b[1;32mIn[27], line 1\u001b[0m\n\u001b[1;32m----> 1\u001b[0m test10(\u001b[38;5;241m1\u001b[39m,\u001b[38;5;241m2\u001b[39m,\u001b[38;5;241m3\u001b[39m,\u001b[38;5;241m4\u001b[39m)\n",
      "\u001b[1;31mTypeError\u001b[0m: test10() takes 0 positional arguments but 4 were given"
     ]
    }
   ],
   "source": [
    "test10(1,2,3,4)  # it will not work as **kwargs need key value pair"
   ]
  },
  {
   "cell_type": "code",
   "execution_count": 26,
   "id": "3fff158b",
   "metadata": {},
   "outputs": [
    {
     "data": {
      "text/plain": [
       "{'a': 4, 'b': 5, 'c': 6, 'sudh': [12, 3, 3, 4, 5]}"
      ]
     },
     "execution_count": 26,
     "metadata": {},
     "output_type": "execute_result"
    }
   ],
   "source": [
    "test10(a = 4,b = 5,c = 6,sudh = [12,3,3,4,5])"
   ]
  },
  {
   "cell_type": "code",
   "execution_count": 28,
   "id": "f3a2d2b6",
   "metadata": {},
   "outputs": [],
   "source": [
    "def test11(**sawan):\n",
    "    return sawan\n",
    "\n"
   ]
  },
  {
   "cell_type": "code",
   "execution_count": 29,
   "id": "9d06ce3c",
   "metadata": {},
   "outputs": [
    {
     "data": {
      "text/plain": [
       "{'b': 'sudh', 'm': 23423}"
      ]
     },
     "execution_count": 29,
     "metadata": {},
     "output_type": "execute_result"
    }
   ],
   "source": [
    "test11(b  = \"sudh\" , m = 23423 )"
   ]
  },
  {
   "cell_type": "code",
   "execution_count": null,
   "id": "1312e8b0",
   "metadata": {},
   "outputs": [],
   "source": []
  },
  {
   "cell_type": "code",
   "execution_count": 1,
   "id": "501924b6",
   "metadata": {},
   "outputs": [],
   "source": [
    "def test12(a) : \n",
    "    return a \n",
    "\n",
    "def test13(b):\n",
    "    return b \n",
    "\n",
    "def test14(func):   # --> it is taking fanction as parameter and then returing the function with value in it\n",
    "    return func(\"sudh\") \n"
   ]
  },
  {
   "cell_type": "code",
   "execution_count": 3,
   "id": "795a64a6",
   "metadata": {},
   "outputs": [
    {
     "data": {
      "text/plain": [
       "'sudh'"
      ]
     },
     "execution_count": 3,
     "metadata": {},
     "output_type": "execute_result"
    }
   ],
   "source": [
    "test14(test12)"
   ]
  },
  {
   "cell_type": "code",
   "execution_count": 4,
   "id": "dfad2567",
   "metadata": {},
   "outputs": [
    {
     "data": {
      "text/plain": [
       "'sudh'"
      ]
     },
     "execution_count": 4,
     "metadata": {},
     "output_type": "execute_result"
    }
   ],
   "source": [
    "test14(test13)"
   ]
  },
  {
   "cell_type": "code",
   "execution_count": 5,
   "id": "6ec6ad64",
   "metadata": {},
   "outputs": [],
   "source": [
    "def test12(a) : \n",
    "    return a \n",
    "\n",
    "def test13():\n",
    "    return \"sudh\" \n",
    "\n",
    "def test14(func):\n",
    "    return func(\"sudh\")"
   ]
  },
  {
   "cell_type": "code",
   "execution_count": 6,
   "id": "c3016c1c",
   "metadata": {},
   "outputs": [
    {
     "data": {
      "text/plain": [
       "'sudh'"
      ]
     },
     "execution_count": 6,
     "metadata": {},
     "output_type": "execute_result"
    }
   ],
   "source": [
    "test14(test12)"
   ]
  },
  {
   "cell_type": "code",
   "execution_count": 7,
   "id": "c574d244",
   "metadata": {},
   "outputs": [
    {
     "ename": "TypeError",
     "evalue": "test13() takes 0 positional arguments but 1 was given",
     "output_type": "error",
     "traceback": [
      "\u001b[1;31m---------------------------------------------------------------------------\u001b[0m",
      "\u001b[1;31mTypeError\u001b[0m                                 Traceback (most recent call last)",
      "Cell \u001b[1;32mIn[7], line 1\u001b[0m\n\u001b[1;32m----> 1\u001b[0m test14(test13)\n",
      "Cell \u001b[1;32mIn[5], line 8\u001b[0m, in \u001b[0;36mtest14\u001b[1;34m(func)\u001b[0m\n\u001b[0;32m      7\u001b[0m \u001b[38;5;28;01mdef\u001b[39;00m \u001b[38;5;21mtest14\u001b[39m(func):\n\u001b[1;32m----> 8\u001b[0m     \u001b[38;5;28;01mreturn\u001b[39;00m func(\u001b[38;5;124m\"\u001b[39m\u001b[38;5;124msudh\u001b[39m\u001b[38;5;124m\"\u001b[39m)\n",
      "\u001b[1;31mTypeError\u001b[0m: test13() takes 0 positional arguments but 1 was given"
     ]
    }
   ],
   "source": [
    "test14(test13) #-->test13 does not have any parameter in call function but still we are giving so getting error"
   ]
  },
  {
   "cell_type": "code",
   "execution_count": 19,
   "id": "599b0bb4",
   "metadata": {},
   "outputs": [],
   "source": [
    "def test12(a) : \n",
    "    return a \n",
    "\n",
    "def test13(*args):\n",
    "    print(\"this is test 13 return\") \n",
    "\n",
    "def test14(func):\n",
    "    return func(\"sudh\")"
   ]
  },
  {
   "cell_type": "code",
   "execution_count": 9,
   "id": "3757327c",
   "metadata": {},
   "outputs": [
    {
     "data": {
      "text/plain": [
       "'sudh'"
      ]
     },
     "execution_count": 9,
     "metadata": {},
     "output_type": "execute_result"
    }
   ],
   "source": [
    "test14(test12)"
   ]
  },
  {
   "cell_type": "code",
   "execution_count": 10,
   "id": "e0daa148",
   "metadata": {},
   "outputs": [
    {
     "data": {
      "text/plain": [
       "'sudh'"
      ]
     },
     "execution_count": 10,
     "metadata": {},
     "output_type": "execute_result"
    }
   ],
   "source": [
    "test14(test13)"
   ]
  },
  {
   "cell_type": "code",
   "execution_count": 11,
   "id": "1ecfa8ec",
   "metadata": {},
   "outputs": [],
   "source": [
    "def test15() :    # Using function inside function\n",
    "    print(\"this is my test15\") \n",
    "    \n",
    "    def test16() :\n",
    "        print(\"thius is my test16\") \n",
    "    \n",
    "    def test17():\n",
    "        print(\"this is my test17\")"
   ]
  },
  {
   "cell_type": "code",
   "execution_count": 12,
   "id": "159c091e",
   "metadata": {},
   "outputs": [
    {
     "name": "stdout",
     "output_type": "stream",
     "text": [
      "this is my test15\n"
     ]
    }
   ],
   "source": [
    "test15()"
   ]
  },
  {
   "cell_type": "code",
   "execution_count": 13,
   "id": "92ae75f4",
   "metadata": {},
   "outputs": [
    {
     "name": "stdout",
     "output_type": "stream",
     "text": [
      "this is my test15\n"
     ]
    },
    {
     "ename": "AttributeError",
     "evalue": "'NoneType' object has no attribute 'test16'",
     "output_type": "error",
     "traceback": [
      "\u001b[1;31m---------------------------------------------------------------------------\u001b[0m",
      "\u001b[1;31mAttributeError\u001b[0m                            Traceback (most recent call last)",
      "Cell \u001b[1;32mIn[13], line 1\u001b[0m\n\u001b[1;32m----> 1\u001b[0m test15()\u001b[38;5;241m.\u001b[39mtest16()\n",
      "\u001b[1;31mAttributeError\u001b[0m: 'NoneType' object has no attribute 'test16'"
     ]
    }
   ],
   "source": [
    "test15().test16()  # We can not call test() like this"
   ]
  },
  {
   "cell_type": "code",
   "execution_count": 14,
   "id": "e6a669f2",
   "metadata": {},
   "outputs": [],
   "source": [
    "def test15(a) : \n",
    "    print(\"this is my test15\") \n",
    "    \n",
    "    def test16() :\n",
    "        print(\"thius is my test16\") \n",
    "    \n",
    "    def test17():\n",
    "        print(\"this is my test17\")\n",
    "        \n",
    "    if a == \"sudh\":\n",
    "        return test16()\n",
    "    elif a == \"kumar\" :\n",
    "        return test17()"
   ]
  },
  {
   "cell_type": "code",
   "execution_count": 15,
   "id": "3b19f57c",
   "metadata": {},
   "outputs": [
    {
     "name": "stdout",
     "output_type": "stream",
     "text": [
      "this is my test15\n",
      "thius is my test16\n"
     ]
    }
   ],
   "source": [
    "test15(\"sudh\")"
   ]
  },
  {
   "cell_type": "code",
   "execution_count": 16,
   "id": "6427dd39",
   "metadata": {},
   "outputs": [
    {
     "name": "stdout",
     "output_type": "stream",
     "text": [
      "this is my test15\n",
      "this is my test17\n"
     ]
    }
   ],
   "source": [
    "test15(\"kumar\")"
   ]
  },
  {
   "cell_type": "code",
   "execution_count": 20,
   "id": "857fca48",
   "metadata": {},
   "outputs": [],
   "source": [
    "def test18(func) : \n",
    "    def test19():   # we can not call test19 directly\n",
    "        print(\"i am inside test19\") \n",
    "        func()\n",
    "    return test19()"
   ]
  },
  {
   "cell_type": "code",
   "execution_count": 21,
   "id": "871523be",
   "metadata": {},
   "outputs": [
    {
     "name": "stdout",
     "output_type": "stream",
     "text": [
      "i am inside test19\n",
      "this is test 13 return\n"
     ]
    }
   ],
   "source": [
    "test18(test13)"
   ]
  },
  {
   "cell_type": "code",
   "execution_count": 22,
   "id": "13d4e2b8",
   "metadata": {},
   "outputs": [],
   "source": [
    "def test18(func) : \n",
    "    def test19():   # we can not call test19 directly\n",
    "        print(\"i am inside test19\") \n",
    "#         func()\n",
    "    return test19()"
   ]
  },
  {
   "cell_type": "code",
   "execution_count": 23,
   "id": "235b536d",
   "metadata": {},
   "outputs": [
    {
     "name": "stdout",
     "output_type": "stream",
     "text": [
      "i am inside test19\n"
     ]
    }
   ],
   "source": [
    "test18(test13)"
   ]
  },
  {
   "cell_type": "code",
   "execution_count": 24,
   "id": "3012b3f1",
   "metadata": {},
   "outputs": [],
   "source": [
    "def test18() : \n",
    "    def test19():   # we can not call test19 directly\n",
    "        print(\"i am inside test19\") \n",
    "    return test19()"
   ]
  },
  {
   "cell_type": "code",
   "execution_count": 26,
   "id": "72d2b52d",
   "metadata": {},
   "outputs": [
    {
     "name": "stdout",
     "output_type": "stream",
     "text": [
      "i am inside test19\n"
     ]
    }
   ],
   "source": [
    "test18()"
   ]
  },
  {
   "cell_type": "code",
   "execution_count": 25,
   "id": "484ed8ac",
   "metadata": {},
   "outputs": [
    {
     "ename": "TypeError",
     "evalue": "test18() takes 0 positional arguments but 1 was given",
     "output_type": "error",
     "traceback": [
      "\u001b[1;31m---------------------------------------------------------------------------\u001b[0m",
      "\u001b[1;31mTypeError\u001b[0m                                 Traceback (most recent call last)",
      "Cell \u001b[1;32mIn[25], line 1\u001b[0m\n\u001b[1;32m----> 1\u001b[0m test18(test13)\n",
      "\u001b[1;31mTypeError\u001b[0m: test18() takes 0 positional arguments but 1 was given"
     ]
    }
   ],
   "source": [
    "test18(test13)"
   ]
  },
  {
   "cell_type": "markdown",
   "id": "db1bedb2",
   "metadata": {},
   "source": [
    "## Decorater \n",
    "\n",
    "```\n",
    "By using the above 2, 3 concepts\n",
    "```"
   ]
  },
  {
   "cell_type": "code",
   "execution_count": 37,
   "id": "abb9f5d9",
   "metadata": {},
   "outputs": [],
   "source": [
    "def test18(func) : \n",
    "    def test19():   # we can not call test19 directly\n",
    "        print(\"i am inside test19 and this will behave a decorator to any function that i am going to call\") # So now my problem statement is \n",
    "        func()                                                                                               # if we will create any function then this comment of test19() should always print.\n",
    "    return test19  # Here I chaged test19() to test19 then test21 worked"
   ]
  },
  {
   "cell_type": "code",
   "execution_count": 28,
   "id": "94995f20",
   "metadata": {},
   "outputs": [],
   "source": [
    "def test20():\n",
    "    print(\"this is test20\")\n",
    "    "
   ]
  },
  {
   "cell_type": "code",
   "execution_count": 29,
   "id": "b5367ac2",
   "metadata": {},
   "outputs": [
    {
     "name": "stdout",
     "output_type": "stream",
     "text": [
      "this is test20\n"
     ]
    }
   ],
   "source": [
    "test20()"
   ]
  },
  {
   "cell_type": "code",
   "execution_count": 30,
   "id": "5107cf76",
   "metadata": {},
   "outputs": [
    {
     "name": "stdout",
     "output_type": "stream",
     "text": [
      "i am inside test19 and this will behave a decorator to any function that i am going to call\n",
      "this is test20\n"
     ]
    }
   ],
   "source": [
    "test18(test20)  # I want like this but is not the correct way of decorator"
   ]
  },
  {
   "cell_type": "code",
   "execution_count": 38,
   "id": "b352d47e",
   "metadata": {},
   "outputs": [],
   "source": [
    "# This is the correct of using decorator\n",
    "\n",
    "@test18     # @ --> it is called pie and it is our decorator for function\n",
    "def test21():\n",
    "    print(\"this is test21\")"
   ]
  },
  {
   "cell_type": "code",
   "execution_count": 39,
   "id": "8bb57a03",
   "metadata": {},
   "outputs": [
    {
     "name": "stdout",
     "output_type": "stream",
     "text": [
      "i am inside test19 and this will behave a decorator to any function that i am going to call\n",
      "this is test21\n"
     ]
    }
   ],
   "source": [
    "test21()"
   ]
  },
  {
   "cell_type": "code",
   "execution_count": 40,
   "id": "ca02b5c2",
   "metadata": {},
   "outputs": [
    {
     "data": {
      "text/plain": [
       "'E:\\\\Sawan folder e drive\\\\FSDS\\\\Python'"
      ]
     },
     "execution_count": 40,
     "metadata": {},
     "output_type": "execute_result"
    }
   ],
   "source": [
    "pwd()"
   ]
  },
  {
   "cell_type": "code",
   "execution_count": 47,
   "id": "d368a9d2",
   "metadata": {},
   "outputs": [],
   "source": [
    "# to get the directory\n",
    "\n",
    "import os \n",
    "def test181(func) : \n",
    "    def test191():\n",
    "        print(\"i am inside test19 and this will behave a decorator to any function that i am going to call \")\n",
    "        print(os.getcwd())\n",
    "        func()\n",
    "    return test191"
   ]
  },
  {
   "cell_type": "code",
   "execution_count": 48,
   "id": "46be21c7",
   "metadata": {},
   "outputs": [],
   "source": [
    "@test18     # @ --> it is called pie and it is our decorator for function\n",
    "def test22():\n",
    "    print(\"this is test21\")"
   ]
  },
  {
   "cell_type": "code",
   "execution_count": 49,
   "id": "4f349c6b",
   "metadata": {},
   "outputs": [
    {
     "name": "stdout",
     "output_type": "stream",
     "text": [
      "i am inside test19 and this will behave a decorator to any function that i am going to call \n",
      "E:\\Sawan folder e drive\\FSDS\\Python\n",
      "this is test21\n"
     ]
    }
   ],
   "source": [
    "test22()"
   ]
  },
  {
   "cell_type": "code",
   "execution_count": null,
   "id": "22b4cf5e",
   "metadata": {},
   "outputs": [],
   "source": []
  },
  {
   "cell_type": "code",
   "execution_count": null,
   "id": "adedd971",
   "metadata": {},
   "outputs": [],
   "source": []
  },
  {
   "cell_type": "code",
   "execution_count": 50,
   "id": "8a9ff22d",
   "metadata": {},
   "outputs": [],
   "source": [
    "def test20(func):\n",
    "    def test21():\n",
    "        func()\n",
    "        print(os.getcwd())\n",
    "    return test21"
   ]
  },
  {
   "cell_type": "code",
   "execution_count": 55,
   "id": "618e1edc",
   "metadata": {},
   "outputs": [],
   "source": [
    "@test181  # using multiple decorator\n",
    "@test20\n",
    "def test22():\n",
    "    print(\"This is test22\")"
   ]
  },
  {
   "cell_type": "code",
   "execution_count": 56,
   "id": "2d089e56",
   "metadata": {},
   "outputs": [
    {
     "name": "stdout",
     "output_type": "stream",
     "text": [
      "i am inside test19 and this will behave a decorator to any function that i am going to call \n",
      "E:\\Sawan folder e drive\\FSDS\\Python\n",
      "This is test22\n",
      "E:\\Sawan folder e drive\\FSDS\\Python\n"
     ]
    }
   ],
   "source": [
    "test22()"
   ]
  },
  {
   "cell_type": "code",
   "execution_count": 58,
   "id": "40a9750a",
   "metadata": {},
   "outputs": [
    {
     "name": "stdout",
     "output_type": "stream",
     "text": [
      "hello\n",
      "i am inside test19 and this will behave a decorator to any function that i am going to call \n",
      "E:\\Sawan folder e drive\\FSDS\\Python\n",
      "This is test22\n",
      "E:\\Sawan folder e drive\\FSDS\\Python\n",
      "0.0\n"
     ]
    }
   ],
   "source": [
    "# to check exxecution time of program\n",
    "\n",
    "import time\n",
    "\n",
    "start = time.time()\n",
    "print(\"hello\")\n",
    "end = time.time()\n",
    "test22()\n",
    "print(end - start)"
   ]
  },
  {
   "cell_type": "code",
   "execution_count": 59,
   "id": "c75b13ee",
   "metadata": {},
   "outputs": [
    {
     "data": {
      "text/plain": [
       "1704847428.147728"
      ]
     },
     "execution_count": 59,
     "metadata": {},
     "output_type": "execute_result"
    }
   ],
   "source": [
    "time.time()"
   ]
  },
  {
   "cell_type": "code",
   "execution_count": null,
   "id": "34545f00",
   "metadata": {},
   "outputs": [],
   "source": []
  },
  {
   "cell_type": "code",
   "execution_count": 60,
   "id": "4905483c",
   "metadata": {},
   "outputs": [],
   "source": [
    "def test25(func):\n",
    "    def test26():\n",
    "        print(\"this will give you execution time of function\")\n",
    "        start = time.time()\n",
    "        func()\n",
    "        end = time.time()\n",
    "        print(start-end)\n",
    "    return test26"
   ]
  },
  {
   "cell_type": "code",
   "execution_count": 65,
   "id": "57ff4b56",
   "metadata": {},
   "outputs": [],
   "source": [
    "def test27():\n",
    "    l = [4,5,6,7,8,8]\n",
    "    l1 = []\n",
    "    for i in l :\n",
    "        if type(i) == int :\n",
    "            l1.append(i)\n",
    "    return l1"
   ]
  },
  {
   "cell_type": "code",
   "execution_count": 66,
   "id": "292a903a",
   "metadata": {},
   "outputs": [
    {
     "data": {
      "text/plain": [
       "[4, 5, 6, 7, 8, 8]"
      ]
     },
     "execution_count": 66,
     "metadata": {},
     "output_type": "execute_result"
    }
   ],
   "source": [
    "test27()"
   ]
  },
  {
   "cell_type": "code",
   "execution_count": 67,
   "id": "04d5692d",
   "metadata": {},
   "outputs": [],
   "source": [
    "\"\"\"\n",
    "    this is a functin whichi will take a decorator for calculating a executation timeing of a functioin \n",
    "    \"\"\"\n",
    "@test25\n",
    "def test27():\n",
    "    \"\"\"\n",
    "    this is a functin whichi will take a decorator for calculating a executation timeing of a functioin\n",
    "    \"\"\"\n",
    "    l = [4,5,6,7,8,8]\n",
    "    l1 = []\n",
    "    for i in l :\n",
    "        if type(i) == int :\n",
    "            l1.append(i)\n",
    "    return l1"
   ]
  },
  {
   "cell_type": "code",
   "execution_count": 68,
   "id": "393e87e2",
   "metadata": {},
   "outputs": [
    {
     "name": "stdout",
     "output_type": "stream",
     "text": [
      "this will give you execution time of function\n",
      "0.0\n"
     ]
    }
   ],
   "source": [
    "test27()"
   ]
  },
  {
   "cell_type": "code",
   "execution_count": null,
   "id": "16c8f84a",
   "metadata": {},
   "outputs": [],
   "source": []
  }
 ],
 "metadata": {
  "kernelspec": {
   "display_name": "Python 3 (ipykernel)",
   "language": "python",
   "name": "python3"
  },
  "language_info": {
   "codemirror_mode": {
    "name": "ipython",
    "version": 3
   },
   "file_extension": ".py",
   "mimetype": "text/x-python",
   "name": "python",
   "nbconvert_exporter": "python",
   "pygments_lexer": "ipython3",
   "version": "3.11.5"
  }
 },
 "nbformat": 4,
 "nbformat_minor": 5
}
