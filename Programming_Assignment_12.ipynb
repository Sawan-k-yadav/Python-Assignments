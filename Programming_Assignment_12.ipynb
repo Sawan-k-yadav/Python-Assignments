{
  "nbformat": 4,
  "nbformat_minor": 0,
  "metadata": {
    "colab": {
      "provenance": []
    },
    "kernelspec": {
      "name": "python3",
      "display_name": "Python 3"
    },
    "language_info": {
      "name": "python"
    }
  },
  "cells": [
    {
      "cell_type": "markdown",
      "source": [
        "1. Write a Python program to Extract Unique values dictionary values?"
      ],
      "metadata": {
        "id": "a4M9QH9Co81r"
      }
    },
    {
      "cell_type": "code",
      "execution_count": 2,
      "metadata": {
        "colab": {
          "base_uri": "https://localhost:8080/"
        },
        "id": "hhZvxVZbo2VQ",
        "outputId": "418fb9fb-08f9-42d6-9541-dfecc700563c"
      },
      "outputs": [
        {
          "output_type": "stream",
          "name": "stdout",
          "text": [
            "dict_values([1, 2, 3, 1])\n",
            "{1, 2, 3}\n"
          ]
        }
      ],
      "source": [
        "dict1 = {\"a\": 1, \"b\": 2, \"c\": 3, \"d\": 1}\n",
        "\n",
        "print(dict1.values())\n",
        "# Extract unique values from the dictionary\n",
        "unique_values = set(dict1.values())\n",
        "\n",
        "# Print the unique values\n",
        "print(unique_values)"
      ]
    },
    {
      "cell_type": "markdown",
      "source": [
        "2. Write a Python program to find the sum of all items in a dictionary?"
      ],
      "metadata": {
        "id": "6lEAdryepeyW"
      }
    },
    {
      "cell_type": "code",
      "source": [
        "#for the same above dictionary\n",
        "\n",
        "sum = 0\n",
        "\n",
        "for key, values in dict1.items():\n",
        "  sum += values\n",
        "\n",
        "print(f\"Sum of all items of the dictionary = {sum}\")"
      ],
      "metadata": {
        "colab": {
          "base_uri": "https://localhost:8080/"
        },
        "id": "n-Vfh9MnpM6F",
        "outputId": "66efc847-3c6b-4fbc-bb35-b88bced2e6a0"
      },
      "execution_count": 4,
      "outputs": [
        {
          "output_type": "stream",
          "name": "stdout",
          "text": [
            "Sum of all items of the dictionary = 7\n"
          ]
        }
      ]
    },
    {
      "cell_type": "markdown",
      "source": [
        "3. Write a Python program to Merging two Dictionaries?"
      ],
      "metadata": {
        "id": "FcJoI1YKqv9i"
      }
    },
    {
      "cell_type": "code",
      "source": [
        "dict1 = {\"a\": 1, \"b\": 2, \"c\": 3}\n",
        "dict2 = {\"d\": 4, \"e\": 5, \"f\": 6}\n",
        "\n",
        "print(f\"first dictionary  {dict1}\")\n",
        "\n",
        "\n",
        "print(f\"Seconds dictionary  {dict2}\")\n",
        "\n",
        "dict2.update(dict1)\n",
        "\n",
        "print(f\"dict2 after merge dictionary : {dict2}\")\n",
        "\n",
        "# dict1 = {\"a\": 1, \"b\": 2, \"c\": 3}\n",
        "# dict2 = {\"d\": 4, \"e\": 5, \"f\": 6}\n",
        "\n",
        "# # Merge the two dictionaries\n",
        "# dict1.update(dict2)\n",
        "\n",
        "# # Print the merged dictionary\n",
        "# print(dict1)"
      ],
      "metadata": {
        "colab": {
          "base_uri": "https://localhost:8080/"
        },
        "id": "mWa6O49Tqoyh",
        "outputId": "fc704465-cdac-424e-f40c-75201426d2b2"
      },
      "execution_count": 8,
      "outputs": [
        {
          "output_type": "stream",
          "name": "stdout",
          "text": [
            "first dictionary  {'a': 1, 'b': 2, 'c': 3}\n",
            "first dictionary  {'d': 4, 'e': 5, 'f': 6}\n",
            "dict2 after merge dictionary  {'d': 4, 'e': 5, 'f': 6, 'a': 1, 'b': 2, 'c': 3}\n"
          ]
        }
      ]
    },
    {
      "cell_type": "markdown",
      "source": [
        "4. Write a Python program to convert key-values list to flat dictionary?"
      ],
      "metadata": {
        "id": "P1FpjiE_t6v9"
      }
    },
    {
      "cell_type": "code",
      "source": [
        "from sys import float_info\n",
        "key_value_list = [(1,'name'),(2,'designation'),(3,'profit')]\n",
        "\n",
        "flat_dict1 = {}\n",
        "for key, value in key_value_list:\n",
        "  flat_dict1[key] = value\n",
        "\n",
        "\n",
        "print(f\"Dictionary of Key_value_list  {flat_dict1}\")"
      ],
      "metadata": {
        "colab": {
          "base_uri": "https://localhost:8080/"
        },
        "id": "zvfVj8Vrre1F",
        "outputId": "16a54af2-8d9e-4b6f-8f46-9a5705b5ec36"
      },
      "execution_count": 11,
      "outputs": [
        {
          "output_type": "stream",
          "name": "stdout",
          "text": [
            "Dictionary of Key_value_list  {1: 'name', 2: 'designation', 3: 'profit'}\n"
          ]
        }
      ]
    },
    {
      "cell_type": "markdown",
      "source": [
        "5. Write a Python program to insertion at the beginning in OrderedDict?"
      ],
      "metadata": {
        "id": "lV505wGMveaS"
      }
    },
    {
      "cell_type": "code",
      "source": [
        "from collections import OrderedDict\n",
        "\n",
        "ordered_dict = OrderedDict()\n",
        "ordered_dict[\"a\"] = 1\n",
        "ordered_dict[\"b\"] = 2\n",
        "ordered_dict[\"c\"] = 3\n",
        "\n",
        "# Insert a new key-value pair at the beginning of the OrderedDict\n",
        "ordered_dict.move_to_end(\"a\", last=False)\n",
        "\n",
        "# Print the OrderedDict\n",
        "print(ordered_dict)"
      ],
      "metadata": {
        "colab": {
          "base_uri": "https://localhost:8080/"
        },
        "id": "pku3X_9ou4N1",
        "outputId": "840cdc33-6f3e-482c-a707-75bd3fbe3a05"
      },
      "execution_count": 12,
      "outputs": [
        {
          "output_type": "stream",
          "name": "stdout",
          "text": [
            "OrderedDict([('a', 1), ('b', 2), ('c', 3)])\n"
          ]
        }
      ]
    },
    {
      "cell_type": "markdown",
      "source": [
        "6. Write a Python program to check order of character in string using OrderedDict()?"
      ],
      "metadata": {
        "id": "VvlksebDxQDz"
      }
    },
    {
      "cell_type": "code",
      "source": [
        "from collections import OrderedDict\n",
        "\n",
        "ordered_dict = OrderedDict()\n",
        "for char in \"abcde\":\n",
        "  ordered_dict[char] = char\n",
        "\n",
        "# Check if the characters in the string are in the same order as in the OrderedDict\n",
        "is_ordered = True\n",
        "for i in range(len(ordered_dict)):\n",
        "  if list(ordered_dict.keys())[i] != \"abcde\"[i]:\n",
        "    is_ordered = False\n",
        "    break\n",
        "\n",
        "# Print the result\n",
        "print(is_ordered)"
      ],
      "metadata": {
        "colab": {
          "base_uri": "https://localhost:8080/"
        },
        "id": "44QmD-UzxLEU",
        "outputId": "ee210f8f-30fb-419e-c4c0-b5cde9893bd7"
      },
      "execution_count": 16,
      "outputs": [
        {
          "output_type": "stream",
          "name": "stdout",
          "text": [
            "True\n"
          ]
        }
      ]
    },
    {
      "cell_type": "markdown",
      "source": [
        "7. Write a Python program to sort Python Dictionaries by Key or Value?"
      ],
      "metadata": {
        "id": "7nR7a9CYyt1r"
      }
    },
    {
      "cell_type": "code",
      "source": [
        "def dict_sort(dictionary):\n",
        "  my_keys = list(dictionary.keys())\n",
        "  my_keys.sort()\n",
        "\n",
        "  return my_keys\n",
        "\n",
        "\n",
        "dict1 = {'def':[5,8,7,9,4],\n",
        "             'abc':[8,7,2,5,4],\n",
        "             'ghi':[3,4,9,8,7]}\n",
        "\n",
        "print(dict_sort(dict1))"
      ],
      "metadata": {
        "colab": {
          "base_uri": "https://localhost:8080/"
        },
        "id": "PeG-BTYUx0Ur",
        "outputId": "885ae609-2436-4e47-f21d-8afa9c3d4a1d"
      },
      "execution_count": 30,
      "outputs": [
        {
          "output_type": "stream",
          "name": "stdout",
          "text": [
            "['abc', 'def', 'ghi']\n"
          ]
        }
      ]
    },
    {
      "cell_type": "code",
      "source": [],
      "metadata": {
        "id": "iJSBazawzPmT"
      },
      "execution_count": null,
      "outputs": []
    }
  ]
}