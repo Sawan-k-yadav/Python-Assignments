{
 "cells": [
  {
   "cell_type": "markdown",
   "id": "d95253aa",
   "metadata": {},
   "source": [
    "# 1. Why are functions advantageous to have in your programs?\n",
    "\n",
    "## Ans: Functions are small blocks of code which is created perform any task and it can be used many times in the code just by calling the functions. This is time saving and it cost less effort while coding.\n",
    "\n",
    "# 2. When does the code in a function run: when it's specified or when it's called?\n",
    "\n",
    "## Ans: Code in a function runs when it is called.\n",
    "\n",
    "# 3. What statement creates a function?\n"
   ]
  },
  {
   "cell_type": "code",
   "execution_count": 1,
   "id": "fb492fe9",
   "metadata": {},
   "outputs": [],
   "source": [
    "def fun():\n",
    "    #function body\n",
    "    return value"
   ]
  },
  {
   "cell_type": "markdown",
   "id": "981fe2c6",
   "metadata": {},
   "source": [
    "# 4. What is the difference between a function and a function call?"
   ]
  },
  {
   "cell_type": "code",
   "execution_count": null,
   "id": "c77a2fb9",
   "metadata": {},
   "outputs": [],
   "source": [
    "#function declaration\n",
    "def fun(parameter):\n",
    "    #function body\n",
    "    return value\n",
    "\n",
    "#function call\n",
    "print(fun(parameter))"
   ]
  },
  {
   "cell_type": "markdown",
   "id": "2f7b4980",
   "metadata": {},
   "source": [
    "# 5. How many global scopes are there in a Python program? How many local scopes?\n",
    "\n",
    "## Scope of Global variables is 1 and it can be used anywhere in the program. Scope of local variable can as many as possible as it can be used inside the function where it is created.\n",
    "\n",
    "# 6. What happens to variables in a local scope when the function call returns?\n",
    "\n",
    "## When function call returns then scope of local variable which is inside that function is destryed and it is no longer available. Returned value passes or copied to the acuall variable which is declared for function call.\n",
    "\n",
    "# 7. What is the concept of a return value? Is it possible to have a return value in an expression?\n",
    "\n",
    "## Returned value of the function passes or copied the parameter to the acuall variable which is declared for function call.\n"
   ]
  },
  {
   "cell_type": "code",
   "execution_count": 4,
   "id": "070a2e8e",
   "metadata": {},
   "outputs": [
    {
     "name": "stdout",
     "output_type": "stream",
     "text": [
      "8\n"
     ]
    }
   ],
   "source": [
    "#Yes return value can be in expression\n",
    "\n",
    "def sum(x, y):\n",
    "    return x+y\n",
    "\n",
    "print(sum(2, 6))"
   ]
  },
  {
   "cell_type": "markdown",
   "id": "b6ed9cd4",
   "metadata": {},
   "source": [
    "# 8. If a function does not have a return statement, what is the return value of a call to that function?\n",
    "\n",
    "## The return value of that function call will be None or Null.\n",
    "\n",
    "\n",
    "# 9. How do you make a function variable refer to the global variable?\n",
    "\n",
    "## Keyword 'global' need specify to make function variable as global variable.\n",
    "\n",
    "# 10. What is the data type of None?\n",
    "## Data type of None is NoneType"
   ]
  },
  {
   "cell_type": "code",
   "execution_count": 1,
   "id": "8450bb85",
   "metadata": {},
   "outputs": [
    {
     "name": "stdout",
     "output_type": "stream",
     "text": [
      "<class 'NoneType'>\n"
     ]
    }
   ],
   "source": [
    "#For example\n",
    "value = None\n",
    "\n",
    "print(type(value))"
   ]
  },
  {
   "cell_type": "markdown",
   "id": "0239ab29",
   "metadata": {},
   "source": [
    "# 11. What does the sentence import areallyourpetsnamederic do?\n",
    "\n",
    "## The sentence import areallyourpetsnamederic imports a module which has name areallyourpetsnamederic so that we can use all the functions and variable which is inside areallyourpetsnamederic."
   ]
  },
  {
   "cell_type": "markdown",
   "id": "84063f7e",
   "metadata": {},
   "source": [
    "# 12. If you had a bacon() feature in a spam module, what would you call it after importing spam?"
   ]
  },
  {
   "cell_type": "code",
   "execution_count": 2,
   "id": "2659b51b",
   "metadata": {},
   "outputs": [
    {
     "data": {
      "text/plain": [
       "'import spam\\nspam.bacon()'"
      ]
     },
     "execution_count": 2,
     "metadata": {},
     "output_type": "execute_result"
    }
   ],
   "source": [
    "# we can bacon() feature which is inside spam module like this:\n",
    "\n",
    "\"\"\"import spam\n",
    "spam.bacon()\"\"\""
   ]
  },
  {
   "cell_type": "markdown",
   "id": "86067c50",
   "metadata": {},
   "source": [
    "# 14. What is the purpose of the try clause? What is the purpose of the except clause?\n",
    "\n",
    "## Try clause allow us to specify a block of code that we want to try from the code.  Then an except clause will be executed if an error occurs in the try block and we can print any error message which."
   ]
  },
  {
   "cell_type": "markdown",
   "id": "b9ab90a2",
   "metadata": {},
   "source": [
    "# 13. What can you do to save a programme from crashing if it encounters an error?\n",
    "\n",
    "## We can use Try-except blocks for this type of condition if programme crashing and encounters an errorare. Try-except blocks is a specific way of using exception handling in Python. They allow you to specify a block of code that you want to try, and then an except block that will be executed if an error occurs in the try block."
   ]
  },
  {
   "cell_type": "code",
   "execution_count": null,
   "id": "8c83fea6",
   "metadata": {},
   "outputs": [],
   "source": []
  }
 ],
 "metadata": {
  "kernelspec": {
   "display_name": "Python 3 (ipykernel)",
   "language": "python",
   "name": "python3"
  },
  "language_info": {
   "codemirror_mode": {
    "name": "ipython",
    "version": 3
   },
   "file_extension": ".py",
   "mimetype": "text/x-python",
   "name": "python",
   "nbconvert_exporter": "python",
   "pygments_lexer": "ipython3",
   "version": "3.10.9"
  }
 },
 "nbformat": 4,
 "nbformat_minor": 5
}
