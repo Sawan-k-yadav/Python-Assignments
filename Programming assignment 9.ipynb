{
 "cells": [
  {
   "cell_type": "code",
   "execution_count": 10,
   "id": "79c01579",
   "metadata": {},
   "outputs": [
    {
     "name": "stdout",
     "output_type": "stream",
     "text": [
      "Enter any no.: 518\n",
      "518 is disarium no. ? True\n"
     ]
    }
   ],
   "source": [
    "'''1. Write a Python program to check if the given number is a Disarium Number?'''\n",
    "\n",
    "def disarium(num):\n",
    "    temp = 0\n",
    "    for i in range(len(str(num))):\n",
    "        temp += int(str(num)[i])**(i+1)\n",
    "        \n",
    "    if num == temp:\n",
    "        return True\n",
    "    else:\n",
    "        return False\n",
    "        \n",
    "n = int(input(\"Enter any no.: \"))\n",
    "\n",
    "print(f\"{n} is disarium no. ? {disarium(n)}\")"
   ]
  },
  {
   "cell_type": "code",
   "execution_count": 27,
   "id": "905c7cd8",
   "metadata": {},
   "outputs": [
    {
     "name": "stdout",
     "output_type": "stream",
     "text": [
      "1\n",
      "2\n",
      "3\n",
      "4\n",
      "5\n",
      "6\n",
      "7\n",
      "8\n",
      "9\n",
      "89\n"
     ]
    }
   ],
   "source": [
    "'''2. Write a Python program to print all disarium numbers between 1 to 100?'''\n",
    "\n",
    "\n",
    "def disarium(num):\n",
    "    temp = 0\n",
    "    for i in range(len(str(num))):\n",
    "        temp += int(str(num)[i])**(i+1)\n",
    "        \n",
    "    if num == temp:\n",
    "        return True\n",
    "    else:\n",
    "        return False\n",
    "\n",
    "for p in range(101):\n",
    "    if disarium(p+1)==True:\n",
    "        print(p+1)\n",
    "    \n"
   ]
  },
  {
   "cell_type": "code",
   "execution_count": 2,
   "id": "9df6def8",
   "metadata": {},
   "outputs": [
    {
     "name": "stdout",
     "output_type": "stream",
     "text": [
      "Enter any no ::89\n",
      "89 is happy no. ? False\n"
     ]
    }
   ],
   "source": [
    "'''3. Write a Python program to check if the given number is Happy Number?'''\n",
    "\n",
    "# def happy(num1):\n",
    "#     temp = 0\n",
    "#     i = 0\n",
    "#     if len(str(num1)) >= 2:\n",
    "#         while len(str(num1)) >= 2:\n",
    "#             temp += int(str(num1)[i])**2\n",
    "#             i = i+1\n",
    "#     else:\n",
    "#         if num1 == 1:\n",
    "#             print(f\"{num1} is happy number\")\n",
    "#         else:\n",
    "#             print(f\"{num1} is not happy number\")\n",
    "            \n",
    "# n = int(input(\"ENter any number:::\"))\n",
    "\n",
    "# happy(n)\n",
    "\n",
    "# def happy(num1):\n",
    "#     temp = 0\n",
    "#     i = 0\n",
    "\n",
    "#     if len(str(num1)) >= 2 and str(num1) != \"\":\n",
    "#         while len(str(num1)) >= 2:\n",
    "#             temp += int(str(num1)[i])**2\n",
    "#             i +=1\n",
    "#     else:\n",
    "#         if num1 == 1:\n",
    "#             print(f\"{num1} is happy number\")\n",
    "#         else:\n",
    "#             print(f\"{num1} is not happy number\")\n",
    "\n",
    "# n = int(input(\"ENter any number:::\"))\n",
    "\n",
    "# happy(n)\n",
    "def happy(num):\n",
    "    \"\"\"Returns True if num is a happy number, False otherwise.\"\"\"\n",
    "\n",
    "    prev_num = num\n",
    "    seen = False\n",
    "\n",
    "    while num != 1 and not seen:\n",
    "        new_num = 0\n",
    "        for i in str(num):\n",
    "            new_num += int(i)**2\n",
    "        num = new_num\n",
    "        seen = num == prev_num\n",
    "\n",
    "    return not seen\n",
    "\n",
    "\n",
    "n = int(input(\"Enter any no ::\"))\n",
    "print(f\"{n} is happy no. ? {happy(n)}\")"
   ]
  },
  {
   "cell_type": "code",
   "execution_count": 4,
   "id": "9b7629a1",
   "metadata": {},
   "outputs": [
    {
     "name": "stdout",
     "output_type": "stream",
     "text": [
      "1 is a Happy number\n",
      "7 is a Happy number\n",
      "10 is a Happy number\n",
      "13 is a Happy number\n",
      "19 is a Happy number\n",
      "23 is a Happy number\n",
      "28 is a Happy number\n",
      "31 is a Happy number\n",
      "32 is a Happy number\n",
      "44 is a Happy number\n",
      "49 is a Happy number\n",
      "68 is a Happy number\n",
      "70 is a Happy number\n",
      "79 is a Happy number\n",
      "82 is a Happy number\n",
      "86 is a Happy number\n",
      "91 is a Happy number\n",
      "94 is a Happy number\n",
      "97 is a Happy number\n"
     ]
    }
   ],
   "source": [
    "'''4. Write a Python program to print all happy numbers between 1 and 100?'''\n",
    "\n",
    "def numSquareSum(n):\n",
    "    squareSum = 0;\n",
    "    while(n):\n",
    "        squareSum += (n % 10) * (n % 10);\n",
    "        n = int(n / 10);\n",
    "    return squareSum;\n",
    " \n",
    "# method return true if\n",
    "# n is Happy number\n",
    "def isHappynumber(n):\n",
    " \n",
    "    # initialize slow\n",
    "    # and fast by n\n",
    "    slow = n;\n",
    "    fast = n;\n",
    "    while(True):\n",
    "         \n",
    "        # move slow number\n",
    "        # by one iteration\n",
    "        slow = numSquareSum(slow);\n",
    " \n",
    "        # move fast number\n",
    "        # by two iteration\n",
    "        fast = numSquareSum(numSquareSum(fast));\n",
    "        if(slow != fast):\n",
    "            continue;\n",
    "        else:\n",
    "            break;\n",
    " \n",
    "    # if both number meet at 1,\n",
    "    # then return true\n",
    "    return (slow == 1);\n",
    " \n",
    "\n",
    "for p in range(100):\n",
    "    if (isHappynumber(p)):\n",
    "        print(p , \"is a Happy number\");\n",
    "        "
   ]
  },
  {
   "cell_type": "code",
   "execution_count": 44,
   "id": "b352881d",
   "metadata": {},
   "outputs": [
    {
     "name": "stdout",
     "output_type": "stream",
     "text": [
      "ENter any number21\n",
      "21  is harshad number ? True\n"
     ]
    }
   ],
   "source": [
    "'''5. Write a Python program to determine whether the given number is a Harshad Number?'''\n",
    "\n",
    "def harshad(num):\n",
    "    temp = 0\n",
    "    for i in range(len(str(num))):\n",
    "        temp += int(str(num)[i])\n",
    "        \n",
    "    if num%temp == 0:\n",
    "        return True\n",
    "    else:\n",
    "        return False\n",
    "        \n",
    "n = int(input(\"ENter any number\"))\n",
    "\n",
    "print(f\"{n}  is harshad number ? {harshad(n)}\")"
   ]
  },
  {
   "cell_type": "code",
   "execution_count": 58,
   "id": "77dd2770",
   "metadata": {},
   "outputs": [
    {
     "name": "stdout",
     "output_type": "stream",
     "text": [
      "0  is pronic \n",
      "2  is pronic \n",
      "6  is pronic \n",
      "12  is pronic \n",
      "20  is pronic \n",
      "30  is pronic \n",
      "42  is pronic \n",
      "56  is pronic \n",
      "72  is pronic \n",
      "90  is pronic \n"
     ]
    }
   ],
   "source": [
    "'''6. Write a Python program to print all pronic numbers between 1 and 100?'''\n",
    "\n",
    "import math\n",
    "\n",
    "def pronic(num):\n",
    "    i = 0\n",
    "    while i <= int(math.sqrt(num)):\n",
    "        if num == i*(i+1):\n",
    "            return True\n",
    "        i = i+1\n",
    "        \n",
    "        \n",
    "for n in range(101):\n",
    "    if pronic(n) == True:\n",
    "        print(f\"{n}  is pronic \")"
   ]
  },
  {
   "cell_type": "code",
   "execution_count": null,
   "id": "c9334245",
   "metadata": {},
   "outputs": [],
   "source": []
  }
 ],
 "metadata": {
  "kernelspec": {
   "display_name": "Python 3 (ipykernel)",
   "language": "python",
   "name": "python3"
  },
  "language_info": {
   "codemirror_mode": {
    "name": "ipython",
    "version": 3
   },
   "file_extension": ".py",
   "mimetype": "text/x-python",
   "name": "python",
   "nbconvert_exporter": "python",
   "pygments_lexer": "ipython3",
   "version": "3.10.9"
  }
 },
 "nbformat": 4,
 "nbformat_minor": 5
}
