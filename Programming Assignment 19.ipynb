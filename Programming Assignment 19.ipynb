{
 "cells": [
  {
   "cell_type": "markdown",
   "id": "9d11cfc8",
   "metadata": {},
   "source": [
    "# Question1\n",
    "## Create a function that takes a string and returns a string in which each character is repeated once.\n",
    "\n",
    "Examples\n",
    "\n",
    "double_char(&quot;String&quot;) ➞ &quot;SSttrriinngg&quot;\n",
    "double_char(&quot;Hello World!&quot;) ➞ &quot;HHeelllloo WWoorrlldd!!&quot;\n",
    "double_char(&quot;1234!_ &quot;) ➞ &quot;11223344!!__ &quot;"
   ]
  },
  {
   "cell_type": "code",
   "execution_count": 3,
   "id": "7b529efe",
   "metadata": {},
   "outputs": [
    {
     "name": "stdout",
     "output_type": "stream",
     "text": [
      "SSttrriinngg\n",
      "HHeelllloo  WWoorrlldd!!\n",
      "11223344!!__  \n"
     ]
    }
   ],
   "source": [
    "def double_char(str1):\n",
    "    output = \"\"\n",
    "    for i in str1:\n",
    "        output+=i*2\n",
    "        \n",
    "    return output\n",
    "\n",
    "print(double_char(\"String\"))\n",
    "print(double_char(\"Hello World!\"))\n",
    "print(double_char(\"1234!_ \"))"
   ]
  },
  {
   "cell_type": "markdown",
   "id": "17b95dac",
   "metadata": {},
   "source": [
    "# Question2\n",
    "## Create a function that reverses a boolean value and returns the string &quot;boolean expected&quot; if another variable type is given.\n",
    "\n",
    "Examples\n",
    "\n",
    "reverse(True) ➞ False\n",
    "reverse(False) ➞ True\n",
    "reverse(0) ➞ &quot;boolean expected&quot;\n",
    "reverse(None) ➞ &quot;boolean expected&quot;"
   ]
  },
  {
   "cell_type": "code",
   "execution_count": 13,
   "id": "2c39bb46",
   "metadata": {},
   "outputs": [
    {
     "name": "stdout",
     "output_type": "stream",
     "text": [
      "False\n",
      "boolean expected\n",
      "True\n",
      "boolean expected\n"
     ]
    }
   ],
   "source": [
    "def reverse(L):\n",
    "    if type(L) == bool:\n",
    "        if L == True:\n",
    "            return False\n",
    "        else:\n",
    "            return True\n",
    "    elif type(L)!= bool:\n",
    "        return \"boolean expected\"\n",
    "    \n",
    "    \n",
    "print(reverse(True))\n",
    "print(reverse(0))\n",
    "print(reverse(False))\n",
    "print(reverse(None))"
   ]
  },
  {
   "cell_type": "markdown",
   "id": "9492f995",
   "metadata": {},
   "source": [
    "# Question3\n",
    "## Create a function that returns the thickness (in meters) of a piece of paper after folding it n number of times. The paper starts off with a thickness of 0.5mm.\n",
    "\n",
    "Examples\n",
    "num_layers(1) ➞ &quot;0.001m&quot;\n",
    "### Paper folded once is 1mm (equal to 0.001m)\n",
    "num_layers(4) ➞ &quot;0.008m&quot;\n",
    "### Paper folded 4 times is 8mm (equal to 0.008m)\n",
    "num_layers(21) ➞ &quot;1048.576m&quot;\n",
    "### Paper folded 21 times is 1048576mm (equal to 1048.576m)"
   ]
  },
  {
   "cell_type": "code",
   "execution_count": 18,
   "id": "d96137c4",
   "metadata": {},
   "outputs": [
    {
     "name": "stdout",
     "output_type": "stream",
     "text": [
      "0.001m\n",
      "0.008m\n",
      "1048.576m\n",
      "0.0005m\n"
     ]
    }
   ],
   "source": [
    "def num_layers(n):\n",
    "    # each time folding means 2 times the layers\n",
    "    thickness = 0.5\n",
    "    for i in range(n):\n",
    "        thickness *=2\n",
    "        \n",
    "    new_thickness = thickness/1000\n",
    "        \n",
    "    return str(new_thickness)+'m'\n",
    "\n",
    "print(num_layers(1))\n",
    "print(num_layers(4))\n",
    "print(num_layers(21))\n",
    "print(num_layers(0))\n",
    "        "
   ]
  },
  {
   "cell_type": "markdown",
   "id": "668ad731",
   "metadata": {},
   "source": [
    "# Question4\n",
    "\n",
    "## Create a function that takes a single string as argument and returns an ordered list containing the indices of all capital letters in the string.\n",
    "\n",
    "Examples\n",
    "\n",
    "index_of_caps(&quot;eDaBiT&quot;) ➞ [1, 3, 5]\n",
    "index_of_caps(&quot;eQuINoX&quot;) ➞ [1, 3, 4, 6]\n",
    "index_of_caps(&quot;determine&quot;) ➞ []\n",
    "index_of_caps(&quot;STRIKE&quot;) ➞ [0, 1, 2, 3, 4, 5]\n",
    "index_of_caps(&quot;sUn&quot;) ➞ [1]"
   ]
  },
  {
   "cell_type": "code",
   "execution_count": 18,
   "id": "6f6e9bfc",
   "metadata": {},
   "outputs": [
    {
     "name": "stdout",
     "output_type": "stream",
     "text": [
      "[1, 3, 5]\n",
      "[1, 3, 4, 6]\n",
      "[]\n",
      "[1]\n",
      "[0, 1, 2, 3, 4, 5]\n"
     ]
    }
   ],
   "source": [
    "def index_of_caps(str2):\n",
    "    lst2 = list()\n",
    "    #str2 = list(str2)\n",
    "    for i in str2:\n",
    "        if i.isupper():\n",
    "            lst2.append(str2.index(i))\n",
    "            \n",
    "    return lst2\n",
    "    \n",
    "print(index_of_caps(\"eDaBiT\"))\n",
    "print(index_of_caps(\"eQuINoX\"))\n",
    "print(index_of_caps(\"determine\"))\n",
    "print(index_of_caps(\"sUn\"))\n",
    "print(index_of_caps(\"STRIKE\"))"
   ]
  },
  {
   "cell_type": "markdown",
   "id": "b3c5526f",
   "metadata": {},
   "source": [
    "# Question5\n",
    "## Using list comprehensions, create a function that finds all even numbers from 1 to the given number.\n",
    "\n",
    "Examples\n",
    "\n",
    "find_even_nums(8) ➞ [2, 4, 6, 8]\n",
    "find_even_nums(4) ➞ [2, 4]\n",
    "find_even_nums(2) ➞ [2]"
   ]
  },
  {
   "cell_type": "code",
   "execution_count": 26,
   "id": "35def6e8",
   "metadata": {},
   "outputs": [
    {
     "name": "stdout",
     "output_type": "stream",
     "text": [
      "[2, 4, 6, 8]\n",
      "[2, 4]\n",
      "[2]\n"
     ]
    }
   ],
   "source": [
    "def find_even_nums(n):\n",
    "    result = [i for i in range(1, n+1) if i%2==0]\n",
    "    \n",
    "    return result\n",
    "\n",
    "\n",
    "print(find_even_nums(8))\n",
    "print(find_even_nums(4))\n",
    "print(find_even_nums(2))"
   ]
  },
  {
   "cell_type": "code",
   "execution_count": null,
   "id": "3e9c7b2a",
   "metadata": {},
   "outputs": [],
   "source": []
  }
 ],
 "metadata": {
  "kernelspec": {
   "display_name": "Python 3 (ipykernel)",
   "language": "python",
   "name": "python3"
  },
  "language_info": {
   "codemirror_mode": {
    "name": "ipython",
    "version": 3
   },
   "file_extension": ".py",
   "mimetype": "text/x-python",
   "name": "python",
   "nbconvert_exporter": "python",
   "pygments_lexer": "ipython3",
   "version": "3.11.5"
  }
 },
 "nbformat": 4,
 "nbformat_minor": 5
}
