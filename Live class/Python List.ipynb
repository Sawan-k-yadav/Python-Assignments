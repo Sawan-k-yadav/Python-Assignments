{
 "cells": [
  {
   "cell_type": "code",
   "execution_count": 1,
   "id": "59e8ae30",
   "metadata": {},
   "outputs": [
    {
     "data": {
      "text/plain": [
       "[1, 2, 3]"
      ]
     },
     "execution_count": 1,
     "metadata": {},
     "output_type": "execute_result"
    }
   ],
   "source": [
    "my_list = [1,2,3]\n",
    "\n",
    "my_list"
   ]
  },
  {
   "cell_type": "code",
   "execution_count": 4,
   "id": "3c4caeed",
   "metadata": {},
   "outputs": [
    {
     "data": {
      "text/plain": [
       "['first', 2.89, 89, True]"
      ]
     },
     "execution_count": 4,
     "metadata": {},
     "output_type": "execute_result"
    }
   ],
   "source": [
    "my_list1 = ['first', 2.89, 89,True ]\n",
    "\n",
    "my_list1"
   ]
  },
  {
   "cell_type": "code",
   "execution_count": 6,
   "id": "ff8f0115",
   "metadata": {},
   "outputs": [
    {
     "data": {
      "text/plain": [
       "4"
      ]
     },
     "execution_count": 6,
     "metadata": {},
     "output_type": "execute_result"
    }
   ],
   "source": [
    "len(my_list1)"
   ]
  },
  {
   "cell_type": "code",
   "execution_count": 12,
   "id": "8b977069",
   "metadata": {},
   "outputs": [
    {
     "name": "stdout",
     "output_type": "stream",
     "text": [
      "first\n",
      "True\n"
     ]
    }
   ],
   "source": [
    "print(my_list1[0])\n",
    "print(my_list1[3])"
   ]
  },
  {
   "cell_type": "code",
   "execution_count": 13,
   "id": "ecb0c8cb",
   "metadata": {},
   "outputs": [
    {
     "data": {
      "text/plain": [
       "list"
      ]
     },
     "execution_count": 13,
     "metadata": {},
     "output_type": "execute_result"
    }
   ],
   "source": [
    "type(my_list1)"
   ]
  },
  {
   "cell_type": "code",
   "execution_count": 14,
   "id": "079edb3e",
   "metadata": {},
   "outputs": [
    {
     "name": "stdout",
     "output_type": "stream",
     "text": [
      "first\n",
      "2.89\n",
      "89\n",
      "True\n"
     ]
    }
   ],
   "source": [
    "for i in my_list1:\n",
    "    print(i)"
   ]
  },
  {
   "cell_type": "code",
   "execution_count": 17,
   "id": "3e99554a",
   "metadata": {},
   "outputs": [
    {
     "name": "stdout",
     "output_type": "stream",
     "text": [
      "['first', 2.89, 89, True]\n",
      "[2.89, 89, True]\n"
     ]
    }
   ],
   "source": [
    "#indexing an slicing\n",
    "\n",
    "print(my_list1)\n",
    "print(my_list1[1:])"
   ]
  },
  {
   "cell_type": "code",
   "execution_count": 18,
   "id": "6b051266",
   "metadata": {},
   "outputs": [
    {
     "name": "stdout",
     "output_type": "stream",
     "text": [
      "['first', 2.89, 89]\n"
     ]
    }
   ],
   "source": [
    "print(my_list1[:3]) #it exclude the last element so it will print till 2nd index"
   ]
  },
  {
   "cell_type": "code",
   "execution_count": 20,
   "id": "fbd05dea",
   "metadata": {},
   "outputs": [
    {
     "name": "stdout",
     "output_type": "stream",
     "text": [
      "89\n",
      "['first', 2.89]\n"
     ]
    }
   ],
   "source": [
    "#negative indexing\n",
    "\n",
    "print(my_list1[-2])\n",
    "print(my_list1[:-2])"
   ]
  },
  {
   "cell_type": "code",
   "execution_count": 21,
   "id": "7100bf4d",
   "metadata": {},
   "outputs": [
    {
     "name": "stdout",
     "output_type": "stream",
     "text": [
      "[89]\n"
     ]
    }
   ],
   "source": [
    "print(my_list1[2::3])"
   ]
  },
  {
   "cell_type": "code",
   "execution_count": 22,
   "id": "1ef9f2ce",
   "metadata": {},
   "outputs": [
    {
     "name": "stdout",
     "output_type": "stream",
     "text": [
      "i=0, value=first, datatype=<class 'str'>\n",
      "i=1, value=2.89, datatype=<class 'float'>\n",
      "i=2, value=89, datatype=<class 'int'>\n",
      "i=3, value=True, datatype=<class 'bool'>\n"
     ]
    }
   ],
   "source": [
    "for i in range(len(my_list1)):\n",
    "  print(f\"i={i}, value={my_list1[i]}, datatype={type(my_list1[i])}\")"
   ]
  },
  {
   "cell_type": "code",
   "execution_count": 23,
   "id": "b164dd5a",
   "metadata": {},
   "outputs": [],
   "source": [
    "del(my_list)"
   ]
  },
  {
   "cell_type": "code",
   "execution_count": 24,
   "id": "263f5d2f",
   "metadata": {},
   "outputs": [
    {
     "ename": "NameError",
     "evalue": "name 'my_list' is not defined",
     "output_type": "error",
     "traceback": [
      "\u001b[1;31m---------------------------------------------------------------------------\u001b[0m",
      "\u001b[1;31mNameError\u001b[0m                                 Traceback (most recent call last)",
      "Cell \u001b[1;32mIn[24], line 1\u001b[0m\n\u001b[1;32m----> 1\u001b[0m \u001b[43mmy_list\u001b[49m\n",
      "\u001b[1;31mNameError\u001b[0m: name 'my_list' is not defined"
     ]
    }
   ],
   "source": [
    "my_list"
   ]
  },
  {
   "cell_type": "code",
   "execution_count": 25,
   "id": "d25a051b",
   "metadata": {},
   "outputs": [
    {
     "data": {
      "text/plain": [
       "['first', 2.89, 89, True]"
      ]
     },
     "execution_count": 25,
     "metadata": {},
     "output_type": "execute_result"
    }
   ],
   "source": [
    "my_list1"
   ]
  },
  {
   "cell_type": "code",
   "execution_count": 29,
   "id": "1144fba3",
   "metadata": {},
   "outputs": [
    {
     "data": {
      "text/plain": [
       "['first', 89]"
      ]
     },
     "execution_count": 29,
     "metadata": {},
     "output_type": "execute_result"
    }
   ],
   "source": [
    "my_list1[0::2]  \n",
    "#first is start index, middle is end index (as nothing mentioned means go till end) last is step we \n",
    "#will take"
   ]
  },
  {
   "cell_type": "code",
   "execution_count": 34,
   "id": "99472ac9",
   "metadata": {},
   "outputs": [
    {
     "name": "stdout",
     "output_type": "stream",
     "text": [
      "0 first\n",
      "2 89\n"
     ]
    }
   ],
   "source": [
    "for i in range(0,3,2):\n",
    "    print(i, my_list1[i])"
   ]
  },
  {
   "cell_type": "code",
   "execution_count": 35,
   "id": "51c897dd",
   "metadata": {},
   "outputs": [
    {
     "data": {
      "text/plain": [
       "[True, 89, 2.89, 'first']"
      ]
     },
     "execution_count": 35,
     "metadata": {},
     "output_type": "execute_result"
    }
   ],
   "source": [
    "my_list1[::-1]"
   ]
  },
  {
   "cell_type": "code",
   "execution_count": 36,
   "id": "f7bb9a58",
   "metadata": {},
   "outputs": [
    {
     "data": {
      "text/plain": [
       "[True, 2.89]"
      ]
     },
     "execution_count": 36,
     "metadata": {},
     "output_type": "execute_result"
    }
   ],
   "source": [
    "my_list1[::-2]"
   ]
  },
  {
   "cell_type": "code",
   "execution_count": 37,
   "id": "ae27feae",
   "metadata": {},
   "outputs": [
    {
     "name": "stdout",
     "output_type": "stream",
     "text": [
      "0 first\n",
      "2 89\n"
     ]
    }
   ],
   "source": [
    "for i in range(0, len(my_list1), 2):\n",
    "    print(i, my_list1[i])"
   ]
  },
  {
   "cell_type": "code",
   "execution_count": 38,
   "id": "3eb4cea6",
   "metadata": {},
   "outputs": [
    {
     "data": {
      "text/plain": [
       "['first', 2.89, 89, True]"
      ]
     },
     "execution_count": 38,
     "metadata": {},
     "output_type": "execute_result"
    }
   ],
   "source": [
    "my_list1"
   ]
  },
  {
   "cell_type": "code",
   "execution_count": 40,
   "id": "2fbaf2d7",
   "metadata": {},
   "outputs": [
    {
     "data": {
      "text/plain": [
       "['first']"
      ]
     },
     "execution_count": 40,
     "metadata": {},
     "output_type": "execute_result"
    }
   ],
   "source": [
    "my_list1[-4:-3]"
   ]
  },
  {
   "cell_type": "code",
   "execution_count": 44,
   "id": "e4afb7e9",
   "metadata": {},
   "outputs": [
    {
     "name": "stdout",
     "output_type": "stream",
     "text": [
      "-1 True\n",
      "-2 89\n",
      "-3 2.89\n",
      "-4 first\n"
     ]
    }
   ],
   "source": [
    "for i in range(-1, -len(my_list1)-1, -1): # here extra -1 adding in lenth of list for printing whole list\n",
    "    print(i, my_list1[i])"
   ]
  },
  {
   "cell_type": "code",
   "execution_count": 47,
   "id": "6f80fa9d",
   "metadata": {},
   "outputs": [
    {
     "name": "stdout",
     "output_type": "stream",
     "text": [
      "2 89\n",
      "3 True\n"
     ]
    }
   ],
   "source": [
    "for i in [2,3]:  #here is it just taking i = 2 and finding my_list1[2] value and same for 3\n",
    "  print(i, my_list1[i])"
   ]
  },
  {
   "cell_type": "markdown",
   "id": "f8b01090",
   "metadata": {},
   "source": [
    "Updating list element at specific index"
   ]
  },
  {
   "cell_type": "code",
   "execution_count": 50,
   "id": "ea7be767",
   "metadata": {},
   "outputs": [
    {
     "name": "stdout",
     "output_type": "stream",
     "text": [
      "New value at index 5: 6 \n"
     ]
    }
   ],
   "source": [
    "my_list1[2] = 6\n",
    "print(f\"New value at index 5: {my_list1[2]} \")"
   ]
  },
  {
   "cell_type": "code",
   "execution_count": 51,
   "id": "ba7230f5",
   "metadata": {},
   "outputs": [
    {
     "data": {
      "text/plain": [
       "['first', 2.89, 6, True]"
      ]
     },
     "execution_count": 51,
     "metadata": {},
     "output_type": "execute_result"
    }
   ],
   "source": [
    "my_list1"
   ]
  },
  {
   "cell_type": "code",
   "execution_count": 58,
   "id": "90aaafca",
   "metadata": {},
   "outputs": [
    {
     "data": {
      "text/plain": [
       "['first', 2.89, 6, True, 'name', 2.77, 100, 2.77]"
      ]
     },
     "execution_count": 58,
     "metadata": {},
     "output_type": "execute_result"
    }
   ],
   "source": [
    "my_list1 + [100, 2.77] #we can concatenate two list by + sign same like string"
   ]
  },
  {
   "cell_type": "code",
   "execution_count": 60,
   "id": "1a9e1979",
   "metadata": {},
   "outputs": [
    {
     "data": {
      "text/plain": [
       "['first', 2.89, 6, True, 'name', 2.77]"
      ]
     },
     "execution_count": 60,
     "metadata": {},
     "output_type": "execute_result"
    }
   ],
   "source": [
    "my_list1  # result defines that there is no change in list it is concatenating"
   ]
  },
  {
   "cell_type": "code",
   "execution_count": 61,
   "id": "73ccf184",
   "metadata": {},
   "outputs": [],
   "source": [
    "my_list1 = my_list1 + [100, 2.77]  # for change need to assign in that list again"
   ]
  },
  {
   "cell_type": "code",
   "execution_count": 62,
   "id": "0e390690",
   "metadata": {},
   "outputs": [
    {
     "data": {
      "text/plain": [
       "['first', 2.89, 6, True, 'name', 2.77, 100, 2.77]"
      ]
     },
     "execution_count": 62,
     "metadata": {},
     "output_type": "execute_result"
    }
   ],
   "source": [
    "my_list1"
   ]
  },
  {
   "cell_type": "code",
   "execution_count": 63,
   "id": "4adc34f6",
   "metadata": {},
   "outputs": [],
   "source": [
    "my_list1[3] = 3.99"
   ]
  },
  {
   "cell_type": "code",
   "execution_count": 64,
   "id": "2ee4e2c7",
   "metadata": {},
   "outputs": [
    {
     "data": {
      "text/plain": [
       "['first', 2.89, 6, 3.99, 'name', 2.77, 100, 2.77]"
      ]
     },
     "execution_count": 64,
     "metadata": {},
     "output_type": "execute_result"
    }
   ],
   "source": [
    "my_list1  # Means mutable or change of value is allowed"
   ]
  },
  {
   "cell_type": "code",
   "execution_count": 66,
   "id": "f9840761",
   "metadata": {},
   "outputs": [],
   "source": [
    "my_list1[-4] = 'change'"
   ]
  },
  {
   "cell_type": "code",
   "execution_count": 67,
   "id": "09c5c960",
   "metadata": {},
   "outputs": [
    {
     "data": {
      "text/plain": [
       "['first', 2.89, 6, 3.99, 'change', 2.77, 100, 2.77]"
      ]
     },
     "execution_count": 67,
     "metadata": {},
     "output_type": "execute_result"
    }
   ],
   "source": [
    "my_list1"
   ]
  },
  {
   "cell_type": "code",
   "execution_count": 68,
   "id": "0ddeb9b2",
   "metadata": {},
   "outputs": [],
   "source": [
    "#we can add two list like concatenate but can not subtract \n",
    "\n",
    "my_list2 = [2,4,56,554]"
   ]
  },
  {
   "cell_type": "code",
   "execution_count": 70,
   "id": "67e6eccf",
   "metadata": {},
   "outputs": [
    {
     "ename": "TypeError",
     "evalue": "unsupported operand type(s) for -: 'list' and 'list'",
     "output_type": "error",
     "traceback": [
      "\u001b[1;31m---------------------------------------------------------------------------\u001b[0m",
      "\u001b[1;31mTypeError\u001b[0m                                 Traceback (most recent call last)",
      "Cell \u001b[1;32mIn[70], line 1\u001b[0m\n\u001b[1;32m----> 1\u001b[0m \u001b[43mmy_list1\u001b[49m\u001b[43m \u001b[49m\u001b[38;5;241;43m-\u001b[39;49m\u001b[43m \u001b[49m\u001b[43mmy_list2\u001b[49m\n",
      "\u001b[1;31mTypeError\u001b[0m: unsupported operand type(s) for -: 'list' and 'list'"
     ]
    }
   ],
   "source": [
    "my_list1 - my_list2  # not supported to subtract"
   ]
  },
  {
   "cell_type": "code",
   "execution_count": 71,
   "id": "4b04d4a5",
   "metadata": {},
   "outputs": [
    {
     "data": {
      "text/plain": [
       "[2, 4, 56, 554, 2, 4, 56, 554]"
      ]
     },
     "execution_count": 71,
     "metadata": {},
     "output_type": "execute_result"
    }
   ],
   "source": [
    "## Repetion of list\n",
    "\n",
    "my_list2 * 2 # if we try to mutiply list with ny number then that list will print all the value of list n times\n",
    "#but can't divide with n\n",
    "# can't divide any list with other list like my_list1/my_list2 not supported"
   ]
  },
  {
   "cell_type": "code",
   "execution_count": 72,
   "id": "d088f651",
   "metadata": {},
   "outputs": [
    {
     "data": {
      "text/plain": [
       "[2, 4, 56, 554]"
      ]
     },
     "execution_count": 72,
     "metadata": {},
     "output_type": "execute_result"
    }
   ],
   "source": [
    "my_list2"
   ]
  },
  {
   "cell_type": "code",
   "execution_count": 73,
   "id": "4174c76e",
   "metadata": {},
   "outputs": [
    {
     "data": {
      "text/plain": [
       "[]"
      ]
     },
     "execution_count": 73,
     "metadata": {},
     "output_type": "execute_result"
    }
   ],
   "source": [
    "my_list2 * (-1)  # it is just removing all the value even if it is any negative no. value will be null"
   ]
  },
  {
   "cell_type": "code",
   "execution_count": 74,
   "id": "9e4845e3",
   "metadata": {},
   "outputs": [
    {
     "data": {
      "text/plain": [
       "[2, 4, 56, 554]"
      ]
     },
     "execution_count": 74,
     "metadata": {},
     "output_type": "execute_result"
    }
   ],
   "source": [
    "my_list2"
   ]
  },
  {
   "cell_type": "markdown",
   "id": "acf9914e",
   "metadata": {},
   "source": [
    "Basic List Methods\n",
    "If you are familiar with another programming language, start to draw parallels between lists in Python and arrays in other language. There are two reasons which tells why the lists in Python are more flexible than arrays in other programming language:\n",
    "\n",
    "a. They have no fixed size (which means we need not to specify how big the list will be)\n",
    "\n",
    "b. They have no fixed type constraint\n",
    "\n",
    "Let's go ahead and explore some more special methods for lists:"
   ]
  },
  {
   "cell_type": "code",
   "execution_count": 75,
   "id": "c402fd5b",
   "metadata": {},
   "outputs": [
    {
     "data": {
      "text/plain": [
       "8"
      ]
     },
     "execution_count": 75,
     "metadata": {},
     "output_type": "execute_result"
    }
   ],
   "source": [
    "len(my_list1)  #already know it finds length of list"
   ]
  },
  {
   "cell_type": "code",
   "execution_count": 76,
   "id": "9a75b95f",
   "metadata": {},
   "outputs": [
    {
     "data": {
      "text/plain": [
       "0"
      ]
     },
     "execution_count": 76,
     "metadata": {},
     "output_type": "execute_result"
    }
   ],
   "source": [
    "#Empty list\n",
    "\n",
    "my_list = [] # NOT RECOMMEDED\n",
    "\n",
    "len(my_list)"
   ]
  },
  {
   "cell_type": "code",
   "execution_count": 77,
   "id": "0c84cc0c",
   "metadata": {},
   "outputs": [
    {
     "data": {
      "text/plain": [
       "0"
      ]
     },
     "execution_count": 77,
     "metadata": {},
     "output_type": "execute_result"
    }
   ],
   "source": [
    "my_list = list() # RECOMMEDED\n",
    "\n",
    "len(my_list)"
   ]
  },
  {
   "cell_type": "code",
   "execution_count": null,
   "id": "4484af58",
   "metadata": {},
   "outputs": [],
   "source": [
    "#how to create empty list \n",
    "\n",
    "A = list()"
   ]
  },
  {
   "cell_type": "code",
   "execution_count": 78,
   "id": "70ee25bf",
   "metadata": {},
   "outputs": [
    {
     "name": "stdout",
     "output_type": "stream",
     "text": [
      "enter items you want to addPen\n",
      "enter items you want to addPencil\n",
      "enter items you want to addbag\n",
      "enter items you want to addlunch box\n",
      "['Pen', 'Pencil', 'bag', 'lunch box']\n"
     ]
    }
   ],
   "source": [
    "list_of_items = list()\n",
    "\n",
    "for N in range(4):\n",
    "    items = input(\"enter items you want to add\")\n",
    "    list_of_items = list_of_items + [items]\n",
    "    \n",
    "print(list_of_items)"
   ]
  },
  {
   "cell_type": "code",
   "execution_count": 79,
   "id": "f1590034",
   "metadata": {},
   "outputs": [
    {
     "name": "stdout",
     "output_type": "stream",
     "text": [
      "No of item you want to purchase: 3\n",
      "Enter the item that you want to purchase: fruit\n",
      "Enter the item that you want to purchase: blub\n",
      "Enter the item that you want to purchase: dog\n",
      "['fruit', 'blub', 'dog']\n"
     ]
    }
   ],
   "source": [
    "list_of_item_to_purchase = list() # empty list\n",
    "\n",
    "N = int(input(\"No of item you want to purchase: \"))\n",
    "i = 0\n",
    "while i < N:\n",
    "  user_input = input(\"Enter the item that you want to purchase: \")\n",
    "  list_of_item_to_purchase = list_of_item_to_purchase + [user_input]\n",
    "  i = i + 1\n",
    "  \n",
    "print(list_of_item_to_purchase)"
   ]
  },
  {
   "cell_type": "code",
   "execution_count": 80,
   "id": "c0b75059",
   "metadata": {},
   "outputs": [
    {
     "data": {
      "text/plain": [
       "[1, 2, 34]"
      ]
     },
     "execution_count": 80,
     "metadata": {},
     "output_type": "execute_result"
    }
   ],
   "source": [
    "[1,2] + [34] # if first is list then for adding in list [] is used with no."
   ]
  },
  {
   "cell_type": "code",
   "execution_count": 81,
   "id": "7cc8de63",
   "metadata": {},
   "outputs": [
    {
     "name": "stdout",
     "output_type": "stream",
     "text": [
      "No of item you want to purchase: 2\n",
      "Enter the item that you want to purchase: blub\n",
      "current i: 1=> Current list: ['blub']\n",
      "Enter the item that you want to purchase: 4\n",
      "current i: 2=> Current list: ['blub', '4']\n",
      "['blub', '4']\n"
     ]
    }
   ],
   "source": [
    "list_of_item_to_purchase = list() # empty list\n",
    "\n",
    "N = int(input(\"No of item you want to purchase: \"))\n",
    "i = 0\n",
    "while i < N:\n",
    "  user_input = input(\"Enter the item that you want to purchase: \")\n",
    "  list_of_item_to_purchase = list_of_item_to_purchase + [user_input]\n",
    "  i = i + 1\n",
    "  print(f\"current i: {i}=> Current list: {list_of_item_to_purchase}\")\n",
    "\n",
    "  \n",
    "print(list_of_item_to_purchase)"
   ]
  },
  {
   "cell_type": "markdown",
   "id": "e9f0dacc",
   "metadata": {},
   "source": [
    "Check membership in a list"
   ]
  },
  {
   "cell_type": "code",
   "execution_count": 82,
   "id": "dccebb8a",
   "metadata": {},
   "outputs": [
    {
     "ename": "NameError",
     "evalue": "name 'l' is not defined",
     "output_type": "error",
     "traceback": [
      "\u001b[1;31m---------------------------------------------------------------------------\u001b[0m",
      "\u001b[1;31mNameError\u001b[0m                                 Traceback (most recent call last)",
      "Cell \u001b[1;32mIn[82], line 2\u001b[0m\n\u001b[0;32m      1\u001b[0m \u001b[38;5;66;03m# check if 5 exists in list l\u001b[39;00m\n\u001b[1;32m----> 2\u001b[0m \u001b[38;5;241m5\u001b[39m \u001b[38;5;129;01min\u001b[39;00m \u001b[43ml\u001b[49m\n",
      "\u001b[1;31mNameError\u001b[0m: name 'l' is not defined"
     ]
    }
   ],
   "source": [
    "# check if 5 exists in list l\n",
    "5 in l  "
   ]
  },
  {
   "cell_type": "code",
   "execution_count": 83,
   "id": "2d9eda53",
   "metadata": {},
   "outputs": [
    {
     "data": {
      "text/plain": [
       "['first', 2.89, 6, 3.99, 'change', 2.77, 100, 2.77]"
      ]
     },
     "execution_count": 83,
     "metadata": {},
     "output_type": "execute_result"
    }
   ],
   "source": [
    "my_list1"
   ]
  },
  {
   "cell_type": "code",
   "execution_count": 84,
   "id": "e7bedb54",
   "metadata": {},
   "outputs": [
    {
     "data": {
      "text/plain": [
       "True"
      ]
     },
     "execution_count": 84,
     "metadata": {},
     "output_type": "execute_result"
    }
   ],
   "source": [
    "'first' in my_list1"
   ]
  },
  {
   "cell_type": "code",
   "execution_count": 85,
   "id": "8a6177af",
   "metadata": {},
   "outputs": [
    {
     "data": {
      "text/plain": [
       "False"
      ]
     },
     "execution_count": 85,
     "metadata": {},
     "output_type": "execute_result"
    }
   ],
   "source": [
    "'fIRST' in my_list1  # it false because list is check case sensitive data"
   ]
  },
  {
   "cell_type": "code",
   "execution_count": 86,
   "id": "0a723974",
   "metadata": {},
   "outputs": [
    {
     "name": "stdout",
     "output_type": "stream",
     "text": [
      "NO, adding into the list\n"
     ]
    }
   ],
   "source": [
    "if \"Phone cover\" in my_list1:\n",
    "  print(\"YES\")\n",
    "else:\n",
    "  print(\"NO, adding into the list\")\n",
    "  my_list1 = my_list1 + [\"Phone cover\"]"
   ]
  },
  {
   "cell_type": "code",
   "execution_count": 87,
   "id": "c72e4378",
   "metadata": {},
   "outputs": [
    {
     "data": {
      "text/plain": [
       "['first', 2.89, 6, 3.99, 'change', 2.77, 100, 2.77, 'Phone cover']"
      ]
     },
     "execution_count": 87,
     "metadata": {},
     "output_type": "execute_result"
    }
   ],
   "source": [
    "my_list1"
   ]
  },
  {
   "cell_type": "code",
   "execution_count": 88,
   "id": "535e3acb",
   "metadata": {},
   "outputs": [
    {
     "name": "stdout",
     "output_type": "stream",
     "text": [
      "YES\n"
     ]
    }
   ],
   "source": [
    "if \"Phone cover\" in my_list1:\n",
    "  print(\"YES\")\n",
    "else:\n",
    "  print(\"NO, adding into the list\")\n",
    "  my_list1 = my_list1 + [\"Phone cover\"]"
   ]
  },
  {
   "cell_type": "code",
   "execution_count": 89,
   "id": "c9e6e7d7",
   "metadata": {},
   "outputs": [
    {
     "name": "stdout",
     "output_type": "stream",
     "text": [
      "NO, adding into the list\n"
     ]
    },
    {
     "data": {
      "text/plain": [
       "['first', 2.89, 6, 3.99, 'change', 2.77, 100, 2.77, 'Phone cover', 'Milk']"
      ]
     },
     "execution_count": 89,
     "metadata": {},
     "output_type": "execute_result"
    }
   ],
   "source": [
    "if \"Milk\" not in my_list1:\n",
    "  print(\"NO, adding into the list\")\n",
    "  my_list1 = my_list1 + [\"Milk\"]\n",
    "my_list1"
   ]
  },
  {
   "cell_type": "code",
   "execution_count": 90,
   "id": "acf41520",
   "metadata": {},
   "outputs": [
    {
     "name": "stdout",
     "output_type": "stream",
     "text": [
      "enter new itemroket\n",
      "roket is not in list, hence adding\n"
     ]
    },
    {
     "data": {
      "text/plain": [
       "['first',\n",
       " 2.89,\n",
       " 6,\n",
       " 3.99,\n",
       " 'change',\n",
       " 2.77,\n",
       " 100,\n",
       " 2.77,\n",
       " 'Phone cover',\n",
       " 'Milk',\n",
       " 'roket']"
      ]
     },
     "execution_count": 90,
     "metadata": {},
     "output_type": "execute_result"
    }
   ],
   "source": [
    "n = input(\"enter new item\")\n",
    "\n",
    "if n not in my_list1:\n",
    "    print(f\"{n} is not in list, hence adding\")\n",
    "    my_list1 = my_list1 + [n]\n",
    "my_list1"
   ]
  },
  {
   "cell_type": "markdown",
   "id": "a55d6104",
   "metadata": {},
   "source": [
    "max()\n",
    "We can find max value from a given list"
   ]
  },
  {
   "cell_type": "code",
   "execution_count": 91,
   "id": "93db4feb",
   "metadata": {},
   "outputs": [
    {
     "name": "stdout",
     "output_type": "stream",
     "text": [
      "swtich\n",
      "76\n"
     ]
    }
   ],
   "source": [
    "list1 = [\"ink\",\"blub\",\"swtich\"]\n",
    "list2 = [1,2,5,76]\n",
    "\n",
    "print(max(list1))  #here in string value it check ASCII code value of first letter word of string. Whoever will\n",
    "#have high ASCII code will be maximum\n",
    "print(max(list2))"
   ]
  },
  {
   "cell_type": "markdown",
   "id": "c8fa02df",
   "metadata": {},
   "source": [
    "ASCII code value link: http://sticksandstones.kstrom.com/appen.html"
   ]
  },
  {
   "cell_type": "code",
   "execution_count": 92,
   "id": "3991008f",
   "metadata": {},
   "outputs": [
    {
     "data": {
      "text/plain": [
       "'b'"
      ]
     },
     "execution_count": 92,
     "metadata": {},
     "output_type": "execute_result"
    }
   ],
   "source": [
    "list3 = [\"a\",\"b\",\"A\",\"B\"] \n",
    "max(list3)"
   ]
  },
  {
   "cell_type": "code",
   "execution_count": 94,
   "id": "fa91cd37",
   "metadata": {},
   "outputs": [
    {
     "data": {
      "text/plain": [
       "'Doctor'"
      ]
     },
     "execution_count": 94,
     "metadata": {},
     "output_type": "execute_result"
    }
   ],
   "source": [
    "# min() function\n",
    "\n",
    "string_example = [\"bhaveen\", \"abhishek\", \"dew\", \"dj\", \"chalie\", \"Doctor\"]\n",
    "\n",
    "min(string_example)"
   ]
  },
  {
   "cell_type": "code",
   "execution_count": null,
   "id": "0cd0a913",
   "metadata": {},
   "outputs": [],
   "source": [
    "# print the name with highest no of character -\n",
    "\n",
    "max_len = 0\n",
    "result = \"\"\n",
    "for example in string_example:\n",
    "  print(example, len(example))\n",
    "  if len(example) > max_len:\n",
    "    max_len = len(example)\n",
    "    result = example\n",
    "\n",
    "print(f\"RESULT: max_len: {max_len} name: {result}\")"
   ]
  },
  {
   "cell_type": "code",
   "execution_count": 95,
   "id": "b7730a67",
   "metadata": {},
   "outputs": [
    {
     "name": "stdout",
     "output_type": "stream",
     "text": [
      "ABhi 4\n",
      "abhi 4\n",
      "rajat 5\n",
      "raju 4\n",
      "max lenth is 9 for rajat \n"
     ]
    }
   ],
   "source": [
    "A = [\"ABhi\", \"abhi\", \"rajat\", \"raju\"]\n",
    "\n",
    "max_len = 0\n",
    "result = \"\"\n",
    "\n",
    "for n in A:\n",
    "    print(n, len(n))\n",
    "    if len(n) > max_len:\n",
    "        max_len += len(n)\n",
    "        result = n\n",
    "    \n",
    "print(f\"max lenth is {max_len} for {result} \")"
   ]
  },
  {
   "cell_type": "code",
   "execution_count": 96,
   "id": "5f9c1d98",
   "metadata": {},
   "outputs": [
    {
     "ename": "TypeError",
     "evalue": "'>' not supported between instances of 'int' and 'str'",
     "output_type": "error",
     "traceback": [
      "\u001b[1;31m---------------------------------------------------------------------------\u001b[0m",
      "\u001b[1;31mTypeError\u001b[0m                                 Traceback (most recent call last)",
      "Cell \u001b[1;32mIn[96], line 3\u001b[0m\n\u001b[0;32m      1\u001b[0m string_example \u001b[38;5;241m=\u001b[39m [\u001b[38;5;124m\"\u001b[39m\u001b[38;5;124mb\u001b[39m\u001b[38;5;124m\"\u001b[39m, \u001b[38;5;124m\"\u001b[39m\u001b[38;5;124ma\u001b[39m\u001b[38;5;124m\"\u001b[39m, \u001b[38;5;124m\"\u001b[39m\u001b[38;5;124md\u001b[39m\u001b[38;5;124m\"\u001b[39m, \u001b[38;5;124m\"\u001b[39m\u001b[38;5;124mc\u001b[39m\u001b[38;5;124m\"\u001b[39m, \u001b[38;5;124m\"\u001b[39m\u001b[38;5;124mD\u001b[39m\u001b[38;5;124m\"\u001b[39m, \u001b[38;5;241m1\u001b[39m, \u001b[38;5;241m2\u001b[39m]\n\u001b[1;32m----> 3\u001b[0m \u001b[38;5;28;43mmax\u001b[39;49m\u001b[43m(\u001b[49m\u001b[43mstring_example\u001b[49m\u001b[43m)\u001b[49m\n",
      "\u001b[1;31mTypeError\u001b[0m: '>' not supported between instances of 'int' and 'str'"
     ]
    }
   ],
   "source": [
    "string_example = [\"b\", \"a\", \"d\", \"c\", \"D\", 1, 2]\n",
    "\n",
    "max(string_example)  #can't include integer and string for max or min function but lenth can do\n",
    "                    # but integer and float can be campare as max"
   ]
  },
  {
   "cell_type": "code",
   "execution_count": 97,
   "id": "63722f1c",
   "metadata": {},
   "outputs": [
    {
     "data": {
      "text/plain": [
       "99.0"
      ]
     },
     "execution_count": 97,
     "metadata": {},
     "output_type": "execute_result"
    }
   ],
   "source": [
    "example = [1, 2, 99.0]\n",
    "\n",
    "max(example)"
   ]
  },
  {
   "cell_type": "code",
   "execution_count": 98,
   "id": "9070eb7a",
   "metadata": {},
   "outputs": [
    {
     "data": {
      "text/plain": [
       "-500"
      ]
     },
     "execution_count": 98,
     "metadata": {},
     "output_type": "execute_result"
    }
   ],
   "source": [
    "example = [1, 2, 99.0, 1000, -500]\n",
    "\n",
    "min(example)"
   ]
  },
  {
   "cell_type": "code",
   "execution_count": 99,
   "id": "bde11768",
   "metadata": {},
   "outputs": [
    {
     "data": {
      "text/plain": [
       "2"
      ]
     },
     "execution_count": 99,
     "metadata": {},
     "output_type": "execute_result"
    }
   ],
   "source": [
    "example = [1, 2, 1.0, 2.0, -1, -2]\n",
    "\n",
    "max(example)"
   ]
  },
  {
   "cell_type": "code",
   "execution_count": 101,
   "id": "a5828a2e",
   "metadata": {},
   "outputs": [
    {
     "ename": "TypeError",
     "evalue": "'>' not supported between instances of 'complex' and 'float'",
     "output_type": "error",
     "traceback": [
      "\u001b[1;31m---------------------------------------------------------------------------\u001b[0m",
      "\u001b[1;31mTypeError\u001b[0m                                 Traceback (most recent call last)",
      "Cell \u001b[1;32mIn[101], line 3\u001b[0m\n\u001b[0;32m      1\u001b[0m example \u001b[38;5;241m=\u001b[39m [\u001b[38;5;241m1\u001b[39m, \u001b[38;5;241m2\u001b[39m, \u001b[38;5;241m99.0\u001b[39m, \u001b[38;5;241m1\u001b[39m\u001b[38;5;241m+\u001b[39m\u001b[38;5;241m5\u001b[39mj]\n\u001b[1;32m----> 3\u001b[0m \u001b[38;5;28;43mmax\u001b[39;49m\u001b[43m(\u001b[49m\u001b[43mexample\u001b[49m\u001b[43m)\u001b[49m\n",
      "\u001b[1;31mTypeError\u001b[0m: '>' not supported between instances of 'complex' and 'float'"
     ]
    }
   ],
   "source": [
    "example = [1, 2, 99.0, 1+5j]\n",
    "\n",
    "max(example)\n",
    "# complex and float also can nto be added"
   ]
  },
  {
   "cell_type": "code",
   "execution_count": 102,
   "id": "3af9493e",
   "metadata": {},
   "outputs": [
    {
     "data": {
      "text/plain": [
       "4000"
      ]
     },
     "execution_count": 102,
     "metadata": {},
     "output_type": "execute_result"
    }
   ],
   "source": [
    "example = [1, 2, 99.0, 1000, -500, 200*20]\n",
    "\n",
    "max(example)"
   ]
  },
  {
   "cell_type": "code",
   "execution_count": 103,
   "id": "452a83ea",
   "metadata": {},
   "outputs": [
    {
     "ename": "TypeError",
     "evalue": "'>' not supported between instances of 'str' and 'int'",
     "output_type": "error",
     "traceback": [
      "\u001b[1;31m---------------------------------------------------------------------------\u001b[0m",
      "\u001b[1;31mTypeError\u001b[0m                                 Traceback (most recent call last)",
      "Cell \u001b[1;32mIn[103], line 2\u001b[0m\n\u001b[0;32m      1\u001b[0m \u001b[38;5;66;03m# In python 3, you can't find max with different data-types in a list\u001b[39;00m\n\u001b[1;32m----> 2\u001b[0m \u001b[38;5;28mprint\u001b[39m(\u001b[38;5;28;43mmax\u001b[39;49m\u001b[43m(\u001b[49m\u001b[43m[\u001b[49m\u001b[38;5;241;43m1\u001b[39;49m\u001b[43m,\u001b[49m\u001b[38;5;241;43m2\u001b[39;49m\u001b[43m,\u001b[49m\u001b[38;5;124;43m\"\u001b[39;49m\u001b[38;5;124;43mineuron\u001b[39;49m\u001b[38;5;124;43m\"\u001b[39;49m\u001b[43m]\u001b[49m\u001b[43m)\u001b[49m)\n",
      "\u001b[1;31mTypeError\u001b[0m: '>' not supported between instances of 'str' and 'int'"
     ]
    }
   ],
   "source": [
    "# In python 3, you can't find max with different data-types in a list\n",
    "print(max([1,2,\"ineuron\"]))"
   ]
  },
  {
   "cell_type": "markdown",
   "id": "d79bb158",
   "metadata": {},
   "source": [
    "There is another list() method which will helpful to convert tuple into list, which we will look when we will talk about tuple section. Just giving a brief idea, tuple is similar to list but tuple are unmutable means we can't change value of elements and they can define using () bracket. We will look into this in future topics"
   ]
  },
  {
   "cell_type": "markdown",
   "id": "2ee71b5d",
   "metadata": {},
   "source": [
    "# Append"
   ]
  },
  {
   "cell_type": "code",
   "execution_count": null,
   "id": "b55f3580",
   "metadata": {},
   "outputs": [],
   "source": []
  }
 ],
 "metadata": {
  "kernelspec": {
   "display_name": "Python 3 (ipykernel)",
   "language": "python",
   "name": "python3"
  },
  "language_info": {
   "codemirror_mode": {
    "name": "ipython",
    "version": 3
   },
   "file_extension": ".py",
   "mimetype": "text/x-python",
   "name": "python",
   "nbconvert_exporter": "python",
   "pygments_lexer": "ipython3",
   "version": "3.10.9"
  }
 },
 "nbformat": 4,
 "nbformat_minor": 5
}
