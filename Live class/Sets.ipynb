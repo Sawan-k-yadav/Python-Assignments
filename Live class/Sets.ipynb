{
 "cells": [
  {
   "cell_type": "markdown",
   "id": "6c5dd1fa",
   "metadata": {},
   "source": [
    "# sets\n",
    "## >>unordered collection of unique elements\n",
    "## >> mutable in nature"
   ]
  },
  {
   "cell_type": "code",
   "execution_count": 1,
   "id": "328e5cce",
   "metadata": {},
   "outputs": [
    {
     "data": {
      "text/plain": [
       "set"
      ]
     },
     "execution_count": 1,
     "metadata": {},
     "output_type": "execute_result"
    }
   ],
   "source": [
    "x = {1,2,4,5,6}\n",
    "\n",
    "type(x)"
   ]
  },
  {
   "cell_type": "code",
   "execution_count": 3,
   "id": "0adf02c1",
   "metadata": {},
   "outputs": [
    {
     "data": {
      "text/plain": [
       "{1, 2, 4, 5, 6}"
      ]
     },
     "execution_count": 3,
     "metadata": {},
     "output_type": "execute_result"
    }
   ],
   "source": [
    "x = {1,2,4,5,6,6,6}\n",
    "\n",
    "x  # as sets only take unique elements"
   ]
  },
  {
   "cell_type": "code",
   "execution_count": 4,
   "id": "f20b0ab3",
   "metadata": {},
   "outputs": [],
   "source": [
    "x = set()  #for empty sets initialization"
   ]
  },
  {
   "cell_type": "code",
   "execution_count": 5,
   "id": "3ad0f870",
   "metadata": {},
   "outputs": [
    {
     "data": {
      "text/plain": [
       "set"
      ]
     },
     "execution_count": 5,
     "metadata": {},
     "output_type": "execute_result"
    }
   ],
   "source": [
    "type(x)"
   ]
  },
  {
   "cell_type": "code",
   "execution_count": 8,
   "id": "10ae8592",
   "metadata": {},
   "outputs": [
    {
     "data": {
      "text/plain": [
       "dict"
      ]
     },
     "execution_count": 8,
     "metadata": {},
     "output_type": "execute_result"
    }
   ],
   "source": [
    "# but why not this way\n",
    "\n",
    "x = {}  # not recommended\n",
    "\n",
    "type(x)  # as it empty curly brackets make the variable dictionary"
   ]
  },
  {
   "cell_type": "code",
   "execution_count": 10,
   "id": "ac3b097d",
   "metadata": {},
   "outputs": [
    {
     "data": {
      "text/plain": [
       "tuple"
      ]
     },
     "execution_count": 10,
     "metadata": {},
     "output_type": "execute_result"
    }
   ],
   "source": [
    "t = tuple()\n",
    "\n",
    "type(t)"
   ]
  },
  {
   "cell_type": "markdown",
   "id": "9d26b226",
   "metadata": {},
   "source": [
    "# Operations of sets"
   ]
  },
  {
   "cell_type": "code",
   "execution_count": 15,
   "id": "2040171e",
   "metadata": {},
   "outputs": [
    {
     "ename": "TypeError",
     "evalue": "'set' object is not subscriptable",
     "output_type": "error",
     "traceback": [
      "\u001b[1;31m---------------------------------------------------------------------------\u001b[0m",
      "\u001b[1;31mTypeError\u001b[0m                                 Traceback (most recent call last)",
      "Cell \u001b[1;32mIn[15], line 3\u001b[0m\n\u001b[0;32m      1\u001b[0m x \u001b[38;5;241m=\u001b[39m {\u001b[38;5;241m4\u001b[39m,\u001b[38;5;241m5\u001b[39m,\u001b[38;5;241m6\u001b[39m,\u001b[38;5;241m1\u001b[39m,\u001b[38;5;241m2\u001b[39m}\n\u001b[1;32m----> 3\u001b[0m \u001b[43mx\u001b[49m\u001b[43m[\u001b[49m\u001b[38;5;241;43m0\u001b[39;49m\u001b[43m]\u001b[49m\n",
      "\u001b[1;31mTypeError\u001b[0m: 'set' object is not subscriptable"
     ]
    }
   ],
   "source": [
    "x = {4,5,6,1,2}\n",
    "\n",
    "x[0]   #sets elements are unordered thats why not allowed"
   ]
  },
  {
   "cell_type": "code",
   "execution_count": 16,
   "id": "560e3a17",
   "metadata": {},
   "outputs": [
    {
     "data": {
      "text/plain": [
       "{1, 2, 4, 5, 6}"
      ]
     },
     "execution_count": 16,
     "metadata": {},
     "output_type": "execute_result"
    }
   ],
   "source": [
    "x  # it sorts the set automatically"
   ]
  },
  {
   "cell_type": "code",
   "execution_count": 17,
   "id": "c6ea88fc",
   "metadata": {},
   "outputs": [
    {
     "data": {
      "text/plain": [
       "{1, 2, 4, 5, 6, 'Sawan'}"
      ]
     },
     "execution_count": 17,
     "metadata": {},
     "output_type": "execute_result"
    }
   ],
   "source": [
    "x = {4,5,6,1,2, \"Sawan\"}\n",
    "\n",
    "x"
   ]
  },
  {
   "cell_type": "code",
   "execution_count": 18,
   "id": "404c62bd",
   "metadata": {},
   "outputs": [
    {
     "ename": "AttributeError",
     "evalue": "'set' object has no attribute 'append'",
     "output_type": "error",
     "traceback": [
      "\u001b[1;31m---------------------------------------------------------------------------\u001b[0m",
      "\u001b[1;31mAttributeError\u001b[0m                            Traceback (most recent call last)",
      "Cell \u001b[1;32mIn[18], line 1\u001b[0m\n\u001b[1;32m----> 1\u001b[0m \u001b[43mx\u001b[49m\u001b[38;5;241;43m.\u001b[39;49m\u001b[43mappend\u001b[49m(\u001b[38;5;241m99\u001b[39m)\n",
      "\u001b[1;31mAttributeError\u001b[0m: 'set' object has no attribute 'append'"
     ]
    }
   ],
   "source": [
    "x.append(99)  # not allowed"
   ]
  },
  {
   "cell_type": "code",
   "execution_count": 19,
   "id": "a56282f9",
   "metadata": {},
   "outputs": [],
   "source": [
    "x.add(99)"
   ]
  },
  {
   "cell_type": "code",
   "execution_count": 20,
   "id": "8ccdb21e",
   "metadata": {},
   "outputs": [
    {
     "data": {
      "text/plain": [
       "{1, 2, 4, 5, 6, 99, 'Sawan'}"
      ]
     },
     "execution_count": 20,
     "metadata": {},
     "output_type": "execute_result"
    }
   ],
   "source": [
    "x  # here it is keeping all interger one side"
   ]
  },
  {
   "cell_type": "code",
   "execution_count": 25,
   "id": "2754f2d3",
   "metadata": {},
   "outputs": [
    {
     "data": {
      "text/plain": [
       "{(2+4j), 1, 2, 4, 5, 6, 99, 'Sawan'}"
      ]
     },
     "execution_count": 25,
     "metadata": {},
     "output_type": "execute_result"
    }
   ],
   "source": [
    "x.add(2+4j)\n",
    "\n",
    "x  # it adding complex no. first place"
   ]
  },
  {
   "cell_type": "code",
   "execution_count": 27,
   "id": "9dead793",
   "metadata": {},
   "outputs": [
    {
     "data": {
      "text/plain": [
       "{(2+4j), -1, 1, 2, 4, 5, 6, 99, 'Sawan'}"
      ]
     },
     "execution_count": 27,
     "metadata": {},
     "output_type": "execute_result"
    }
   ],
   "source": [
    "x.add(-1)\n",
    "\n",
    "x  # adding -ve n, before +ve no."
   ]
  },
  {
   "cell_type": "code",
   "execution_count": 29,
   "id": "e2ba2198",
   "metadata": {},
   "outputs": [
    {
     "data": {
      "text/plain": [
       "{(2+4j), -1, 1, 2, 4, 5, 6, 6.87, 99, 'Sawan'}"
      ]
     },
     "execution_count": 29,
     "metadata": {},
     "output_type": "execute_result"
    }
   ],
   "source": [
    "x.add(6.87)\n",
    "\n",
    "x  # it is keeping no. as in order"
   ]
  },
  {
   "cell_type": "code",
   "execution_count": 32,
   "id": "cde3aff5",
   "metadata": {},
   "outputs": [
    {
     "data": {
      "text/plain": [
       "{(2+4j), 1, 2, 4, 5, 6, 6.87, 'Sawan'}"
      ]
     },
     "execution_count": 32,
     "metadata": {},
     "output_type": "execute_result"
    }
   ],
   "source": [
    "x.remove(99)\n",
    "\n",
    "x"
   ]
  },
  {
   "cell_type": "code",
   "execution_count": 35,
   "id": "948bcd26",
   "metadata": {},
   "outputs": [
    {
     "data": {
      "text/plain": [
       "{(2+4j), -1, 1, 2, 4, 5, 6, 6.87, 'Sawan'}"
      ]
     },
     "execution_count": 35,
     "metadata": {},
     "output_type": "execute_result"
    }
   ],
   "source": [
    "x.add(-1)\n",
    "\n",
    "x"
   ]
  },
  {
   "cell_type": "code",
   "execution_count": 38,
   "id": "7421f76f",
   "metadata": {},
   "outputs": [
    {
     "data": {
      "text/plain": [
       "{(2+4j), 1, 2, 4, 5, 6, 6.87, 'Sawan'}"
      ]
     },
     "execution_count": 38,
     "metadata": {},
     "output_type": "execute_result"
    }
   ],
   "source": [
    "# x.remove(-1)\n",
    "\n",
    "x  # first x.remove(-1) without comment then it gave error but after making it comment it appears that -1 is removed \n",
    "\n",
    "# one exception"
   ]
  },
  {
   "cell_type": "code",
   "execution_count": 21,
   "id": "dc56d5ec",
   "metadata": {},
   "outputs": [
    {
     "ename": "TypeError",
     "evalue": "unsupported operand type(s) for +: 'set' and 'set'",
     "output_type": "error",
     "traceback": [
      "\u001b[1;31m---------------------------------------------------------------------------\u001b[0m",
      "\u001b[1;31mTypeError\u001b[0m                                 Traceback (most recent call last)",
      "Cell \u001b[1;32mIn[21], line 3\u001b[0m\n\u001b[0;32m      1\u001b[0m A \u001b[38;5;241m=\u001b[39m {\u001b[38;5;241m22\u001b[39m,\u001b[38;5;241m11\u001b[39m,\u001b[38;5;241m43\u001b[39m}\n\u001b[1;32m----> 3\u001b[0m \u001b[43mx\u001b[49m\u001b[43m \u001b[49m\u001b[38;5;241;43m+\u001b[39;49m\u001b[43m \u001b[49m\u001b[43mA\u001b[49m\n",
      "\u001b[1;31mTypeError\u001b[0m: unsupported operand type(s) for +: 'set' and 'set'"
     ]
    }
   ],
   "source": [
    "A = {22,11,43}\n",
    "\n",
    "x + A  # not allowed +"
   ]
  },
  {
   "cell_type": "code",
   "execution_count": 22,
   "id": "b80e083d",
   "metadata": {},
   "outputs": [
    {
     "data": {
      "text/plain": [
       "{1, 3, 5, 6}"
      ]
     },
     "execution_count": 22,
     "metadata": {},
     "output_type": "execute_result"
    }
   ],
   "source": [
    "#  return all the unique value from the list\n",
    "\n",
    "A = [1,3,3,3,5,5,6,6,6]\n",
    "\n",
    "A = set(A)\n",
    "\n",
    "A\n",
    "\n",
    "# A = list(set(A)) # convert list into sets for unique and then again into list for return value"
   ]
  },
  {
   "cell_type": "code",
   "execution_count": 23,
   "id": "cdacf06f",
   "metadata": {},
   "outputs": [],
   "source": [
    "A = list(A)"
   ]
  },
  {
   "cell_type": "code",
   "execution_count": 24,
   "id": "11713c71",
   "metadata": {},
   "outputs": [
    {
     "data": {
      "text/plain": [
       "[1, 3, 5, 6]"
      ]
     },
     "execution_count": 24,
     "metadata": {},
     "output_type": "execute_result"
    }
   ],
   "source": [
    "A"
   ]
  },
  {
   "cell_type": "code",
   "execution_count": null,
   "id": "10687063",
   "metadata": {},
   "outputs": [],
   "source": []
  }
 ],
 "metadata": {
  "kernelspec": {
   "display_name": "Python 3 (ipykernel)",
   "language": "python",
   "name": "python3"
  },
  "language_info": {
   "codemirror_mode": {
    "name": "ipython",
    "version": 3
   },
   "file_extension": ".py",
   "mimetype": "text/x-python",
   "name": "python",
   "nbconvert_exporter": "python",
   "pygments_lexer": "ipython3",
   "version": "3.10.9"
  }
 },
 "nbformat": 4,
 "nbformat_minor": 5
}
