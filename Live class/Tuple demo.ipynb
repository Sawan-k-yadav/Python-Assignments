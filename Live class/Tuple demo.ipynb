{
 "cells": [
  {
   "cell_type": "markdown",
   "id": "454d229b",
   "metadata": {},
   "source": [
    "#  tuples\n",
    "\n",
    "## expressed in small brackets -> ()\n",
    "## tuples are immutable (no changable)"
   ]
  },
  {
   "cell_type": "code",
   "execution_count": 1,
   "id": "bcfa66d2",
   "metadata": {},
   "outputs": [
    {
     "data": {
      "text/plain": [
       "tuple"
      ]
     },
     "execution_count": 1,
     "metadata": {},
     "output_type": "execute_result"
    }
   ],
   "source": [
    "A = (1,2,3)\n",
    "\n",
    "type(A)"
   ]
  },
  {
   "cell_type": "code",
   "execution_count": 2,
   "id": "dec0affd",
   "metadata": {},
   "outputs": [
    {
     "data": {
      "text/plain": [
       "1"
      ]
     },
     "execution_count": 2,
     "metadata": {},
     "output_type": "execute_result"
    }
   ],
   "source": [
    "A[0]"
   ]
  },
  {
   "cell_type": "code",
   "execution_count": 3,
   "id": "0df67ebc",
   "metadata": {},
   "outputs": [
    {
     "data": {
      "text/plain": [
       "3"
      ]
     },
     "execution_count": 3,
     "metadata": {},
     "output_type": "execute_result"
    }
   ],
   "source": [
    "A[-1]"
   ]
  },
  {
   "cell_type": "code",
   "execution_count": 4,
   "id": "ca3283dd",
   "metadata": {},
   "outputs": [
    {
     "ename": "TypeError",
     "evalue": "'tuple' object does not support item assignment",
     "output_type": "error",
     "traceback": [
      "\u001b[1;31m---------------------------------------------------------------------------\u001b[0m",
      "\u001b[1;31mTypeError\u001b[0m                                 Traceback (most recent call last)",
      "Cell \u001b[1;32mIn[4], line 1\u001b[0m\n\u001b[1;32m----> 1\u001b[0m A[\u001b[38;5;241m-\u001b[39m\u001b[38;5;241m1\u001b[39m] \u001b[38;5;241m=\u001b[39m \u001b[38;5;241m22\u001b[39m\n",
      "\u001b[1;31mTypeError\u001b[0m: 'tuple' object does not support item assignment"
     ]
    }
   ],
   "source": [
    "A[-1] = 22  # as tuples are immutable"
   ]
  },
  {
   "cell_type": "code",
   "execution_count": 9,
   "id": "94ead04f",
   "metadata": {},
   "outputs": [
    {
     "ename": "AttributeError",
     "evalue": "'tuple' object has no attribute 'sort'",
     "output_type": "error",
     "traceback": [
      "\u001b[1;31m---------------------------------------------------------------------------\u001b[0m",
      "\u001b[1;31mAttributeError\u001b[0m                            Traceback (most recent call last)",
      "Cell \u001b[1;32mIn[9], line 3\u001b[0m\n\u001b[0;32m      1\u001b[0m A \u001b[38;5;241m=\u001b[39m (\u001b[38;5;241m22\u001b[39m, \u001b[38;5;241m65\u001b[39m, \u001b[38;5;241m33\u001b[39m)\n\u001b[1;32m----> 3\u001b[0m \u001b[43mA\u001b[49m\u001b[38;5;241;43m.\u001b[39;49m\u001b[43msort\u001b[49m()\n",
      "\u001b[1;31mAttributeError\u001b[0m: 'tuple' object has no attribute 'sort'"
     ]
    }
   ],
   "source": [
    "A = (22, 65, 33)\n",
    "\n",
    "A.sort()  # as index cannot be changed"
   ]
  },
  {
   "cell_type": "code",
   "execution_count": 10,
   "id": "9bcd1260",
   "metadata": {},
   "outputs": [
    {
     "data": {
      "text/plain": [
       "[22, 33, 65]"
      ]
     },
     "execution_count": 10,
     "metadata": {},
     "output_type": "execute_result"
    }
   ],
   "source": [
    "sorted(A)  # it first converts in list then sort the list and sorted is not permanent change"
   ]
  },
  {
   "cell_type": "code",
   "execution_count": 12,
   "id": "1ad131a0",
   "metadata": {},
   "outputs": [],
   "source": [
    "A = sorted(A)   # it is changing tuple to list after sorting"
   ]
  },
  {
   "cell_type": "code",
   "execution_count": 13,
   "id": "627a2908",
   "metadata": {},
   "outputs": [
    {
     "data": {
      "text/plain": [
       "[22, 33, 65]"
      ]
     },
     "execution_count": 13,
     "metadata": {},
     "output_type": "execute_result"
    }
   ],
   "source": [
    "A"
   ]
  },
  {
   "cell_type": "code",
   "execution_count": 14,
   "id": "3d13f4c1",
   "metadata": {},
   "outputs": [
    {
     "data": {
      "text/plain": [
       "3"
      ]
     },
     "execution_count": 14,
     "metadata": {},
     "output_type": "execute_result"
    }
   ],
   "source": [
    "A = (22, 65, 33)\n",
    "\n",
    "len(A)"
   ]
  },
  {
   "cell_type": "code",
   "execution_count": 15,
   "id": "9c933119",
   "metadata": {},
   "outputs": [
    {
     "data": {
      "text/plain": [
       "(22, 65, 33, 22, 65, 33)"
      ]
     },
     "execution_count": 15,
     "metadata": {},
     "output_type": "execute_result"
    }
   ],
   "source": [
    "A*2"
   ]
  },
  {
   "cell_type": "code",
   "execution_count": 16,
   "id": "bb7c4706",
   "metadata": {},
   "outputs": [
    {
     "data": {
      "text/plain": [
       "(22, 65, 33)"
      ]
     },
     "execution_count": 16,
     "metadata": {},
     "output_type": "execute_result"
    }
   ],
   "source": [
    "A"
   ]
  },
  {
   "cell_type": "code",
   "execution_count": 17,
   "id": "36cb2d46",
   "metadata": {},
   "outputs": [
    {
     "ename": "TypeError",
     "evalue": "unsupported operand type(s) for ** or pow(): 'tuple' and 'int'",
     "output_type": "error",
     "traceback": [
      "\u001b[1;31m---------------------------------------------------------------------------\u001b[0m",
      "\u001b[1;31mTypeError\u001b[0m                                 Traceback (most recent call last)",
      "Cell \u001b[1;32mIn[17], line 1\u001b[0m\n\u001b[1;32m----> 1\u001b[0m \u001b[43mA\u001b[49m\u001b[38;5;241;43m*\u001b[39;49m\u001b[38;5;241;43m*\u001b[39;49m\u001b[38;5;241;43m2\u001b[39;49m\n",
      "\u001b[1;31mTypeError\u001b[0m: unsupported operand type(s) for ** or pow(): 'tuple' and 'int'"
     ]
    }
   ],
   "source": [
    "A**2 # not allowed"
   ]
  },
  {
   "cell_type": "code",
   "execution_count": 18,
   "id": "9a42399b",
   "metadata": {},
   "outputs": [
    {
     "data": {
      "text/plain": [
       "65"
      ]
     },
     "execution_count": 18,
     "metadata": {},
     "output_type": "execute_result"
    }
   ],
   "source": [
    "max(A)"
   ]
  },
  {
   "cell_type": "code",
   "execution_count": 19,
   "id": "2103d237",
   "metadata": {},
   "outputs": [
    {
     "data": {
      "text/plain": [
       "1"
      ]
     },
     "execution_count": 19,
     "metadata": {},
     "output_type": "execute_result"
    }
   ],
   "source": [
    "A.index(65)"
   ]
  },
  {
   "cell_type": "code",
   "execution_count": 20,
   "id": "7ef73f0e",
   "metadata": {},
   "outputs": [
    {
     "data": {
      "text/plain": [
       "1"
      ]
     },
     "execution_count": 20,
     "metadata": {},
     "output_type": "execute_result"
    }
   ],
   "source": [
    "A.count(33)"
   ]
  },
  {
   "cell_type": "code",
   "execution_count": 21,
   "id": "5a8c5c92",
   "metadata": {},
   "outputs": [
    {
     "data": {
      "text/plain": [
       "120"
      ]
     },
     "execution_count": 21,
     "metadata": {},
     "output_type": "execute_result"
    }
   ],
   "source": [
    "sum(A)"
   ]
  },
  {
   "cell_type": "code",
   "execution_count": 22,
   "id": "0f06fe00",
   "metadata": {},
   "outputs": [
    {
     "ename": "AttributeError",
     "evalue": "'tuple' object has no attribute 'reverse'",
     "output_type": "error",
     "traceback": [
      "\u001b[1;31m---------------------------------------------------------------------------\u001b[0m",
      "\u001b[1;31mAttributeError\u001b[0m                            Traceback (most recent call last)",
      "Cell \u001b[1;32mIn[22], line 1\u001b[0m\n\u001b[1;32m----> 1\u001b[0m \u001b[43mA\u001b[49m\u001b[38;5;241;43m.\u001b[39;49m\u001b[43mreverse\u001b[49m()\n",
      "\u001b[1;31mAttributeError\u001b[0m: 'tuple' object has no attribute 'reverse'"
     ]
    }
   ],
   "source": [
    "A.reverse()   # not allowed again because it is changing the indexing of value"
   ]
  },
  {
   "cell_type": "code",
   "execution_count": 24,
   "id": "38b1943e",
   "metadata": {},
   "outputs": [
    {
     "data": {
      "text/plain": [
       "[('watch', 5000), ('phone', 1000), ('laptop', 100000)]"
      ]
     },
     "execution_count": 24,
     "metadata": {},
     "output_type": "execute_result"
    }
   ],
   "source": [
    "amazon_cart = [(\"watch\", 5000),(\"phone\", 1000),(\"laptop\", 100000)]\n",
    "                \n",
    "amazon_cart\n",
    "                \n",
    "# whereever data integrety required or dont want to change data then we can use tuples                "
   ]
  },
  {
   "cell_type": "code",
   "execution_count": 25,
   "id": "bea03617",
   "metadata": {},
   "outputs": [
    {
     "data": {
      "text/plain": [
       "[('watch', 5000), ('phone', 1000)]"
      ]
     },
     "execution_count": 25,
     "metadata": {},
     "output_type": "execute_result"
    }
   ],
   "source": [
    "#slicing\n",
    "\n",
    "amazon_cart[:-1]"
   ]
  },
  {
   "cell_type": "code",
   "execution_count": 26,
   "id": "3d69da93",
   "metadata": {},
   "outputs": [
    {
     "data": {
      "text/plain": [
       "[('watch', 5000), ('laptop', 100000)]"
      ]
     },
     "execution_count": 26,
     "metadata": {},
     "output_type": "execute_result"
    }
   ],
   "source": [
    "amazon_cart[::2]"
   ]
  },
  {
   "cell_type": "code",
   "execution_count": 27,
   "id": "dde5672e",
   "metadata": {},
   "outputs": [
    {
     "data": {
      "text/plain": [
       "[('laptop', 100000)]"
      ]
     },
     "execution_count": 27,
     "metadata": {},
     "output_type": "execute_result"
    }
   ],
   "source": [
    "amazon_cart[2::2]"
   ]
  },
  {
   "cell_type": "code",
   "execution_count": 28,
   "id": "8719421b",
   "metadata": {},
   "outputs": [
    {
     "name": "stdout",
     "output_type": "stream",
     "text": [
      "what do you want to purchase?  :phone\n"
     ]
    }
   ],
   "source": [
    "# user input what you want to purchase\n",
    "\n",
    "amazon_website = [(\"watch\", 5000),(\"phone\", 1000),(\"laptop\", 100000)]\n",
    "\n",
    "my_choice = input(\"what do you want to purchase?  :\")"
   ]
  },
  {
   "cell_type": "code",
   "execution_count": 31,
   "id": "18aedc7d",
   "metadata": {},
   "outputs": [
    {
     "name": "stdout",
     "output_type": "stream",
     "text": [
      "('phone', 1000)\n"
     ]
    }
   ],
   "source": [
    "for item in amazon_website:\n",
    "    if item[0] == my_choice:\n",
    "        print(item)"
   ]
  },
  {
   "cell_type": "code",
   "execution_count": 1,
   "id": "1c6202af",
   "metadata": {},
   "outputs": [
    {
     "name": "stdout",
     "output_type": "stream",
     "text": [
      "ENter of attempts4\n",
      "what do you want to purchase?  :watch\n",
      "Total_cost after puchasing watch  = 5000\n",
      "watch is out of stock\n",
      "watch is out of stock\n",
      "what do you want to purchase?  :phone\n",
      "phone is out of stock\n",
      "Total_cost after puchasing phone  = 6000\n",
      "phone is out of stock\n",
      "what do you want to purchase?  :laptop\n",
      "laptop is out of stock\n",
      "laptop is out of stock\n",
      "Total_cost after puchasing laptop  = 106000\n",
      "what do you want to purchase?  :shirt\n",
      "shirt is out of stock\n",
      "shirt is out of stock\n",
      "shirt is out of stock\n",
      "Total cost = 106000\n"
     ]
    }
   ],
   "source": [
    "# on amazon website we have amazon_website = [(\"watch\", 5000),(\"phone\", 1000),(\"laptop\", 100000)]\n",
    "\n",
    "# take use input n no. of time and find out the total cost to be paid\n",
    "\n",
    "# if item not present in amazon website then print out ot stock and do not add to total\n",
    "# ask user the quantity of item\n",
    "\n",
    "amazon_website = [(\"watch\", 5000),(\"phone\", 1000),(\"laptop\", 100000)]\n",
    "\n",
    "total_cost = 0\n",
    "\n",
    "n = int(input(\"ENter of attempts\"))\n",
    "\n",
    "for i in range(n):\n",
    "    user_choice = input(\"what do you want to purchase?  :\")\n",
    "    for item in amazon_website:\n",
    "        if item[0] == user_choice:\n",
    "            total_cost += item[1]\n",
    "            print(f\"Total_cost after puchasing {item[0]}  = {total_cost}\")\n",
    "            \n",
    "        else:\n",
    "            print(f\"{user_choice} is out of stock\")\n",
    "            \n",
    "            \n",
    "print(f\"Total cost = {total_cost}\")\n"
   ]
  },
  {
   "cell_type": "code",
   "execution_count": null,
   "id": "e7f4ef5c",
   "metadata": {},
   "outputs": [],
   "source": []
  }
 ],
 "metadata": {
  "kernelspec": {
   "display_name": "Python 3 (ipykernel)",
   "language": "python",
   "name": "python3"
  },
  "language_info": {
   "codemirror_mode": {
    "name": "ipython",
    "version": 3
   },
   "file_extension": ".py",
   "mimetype": "text/x-python",
   "name": "python",
   "nbconvert_exporter": "python",
   "pygments_lexer": "ipython3",
   "version": "3.10.9"
  }
 },
 "nbformat": 4,
 "nbformat_minor": 5
}
