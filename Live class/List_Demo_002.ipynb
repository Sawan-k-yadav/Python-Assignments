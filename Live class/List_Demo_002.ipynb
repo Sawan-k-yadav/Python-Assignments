{
 "cells": [
  {
   "cell_type": "markdown",
   "id": "3c76f939",
   "metadata": {},
   "source": [
    "# Nested List"
   ]
  },
  {
   "cell_type": "code",
   "execution_count": 1,
   "id": "590e6bcc",
   "metadata": {},
   "outputs": [
    {
     "data": {
      "text/plain": [
       "[[1, 2, 3], [44, 65, 32], [55, 23, 65]]"
      ]
     },
     "execution_count": 1,
     "metadata": {},
     "output_type": "execute_result"
    }
   ],
   "source": [
    "A = [[1,2,3],[44,65,32],[55,23,65]]\n",
    "\n",
    "A"
   ]
  },
  {
   "cell_type": "code",
   "execution_count": 2,
   "id": "607de1ab",
   "metadata": {},
   "outputs": [
    {
     "data": {
      "text/plain": [
       "[1, 2, 3]"
      ]
     },
     "execution_count": 2,
     "metadata": {},
     "output_type": "execute_result"
    }
   ],
   "source": [
    "A[0]"
   ]
  },
  {
   "cell_type": "code",
   "execution_count": 3,
   "id": "acf44a2e",
   "metadata": {},
   "outputs": [
    {
     "data": {
      "text/plain": [
       "[44, 65, 32]"
      ]
     },
     "execution_count": 3,
     "metadata": {},
     "output_type": "execute_result"
    }
   ],
   "source": [
    "A[1]"
   ]
  },
  {
   "cell_type": "code",
   "execution_count": 4,
   "id": "94c42915",
   "metadata": {},
   "outputs": [
    {
     "data": {
      "text/plain": [
       "65"
      ]
     },
     "execution_count": 4,
     "metadata": {},
     "output_type": "execute_result"
    }
   ],
   "source": [
    "A[1][1]"
   ]
  },
  {
   "cell_type": "code",
   "execution_count": 5,
   "id": "5c4d5ab3",
   "metadata": {},
   "outputs": [
    {
     "data": {
      "text/plain": [
       "[32, 800]"
      ]
     },
     "execution_count": 5,
     "metadata": {},
     "output_type": "execute_result"
    }
   ],
   "source": [
    "B = [[1,2,3],[44,65,[32,800]],[55,23,65]]\n",
    "\n",
    "B[1][2]"
   ]
  },
  {
   "cell_type": "code",
   "execution_count": 6,
   "id": "7850f415",
   "metadata": {},
   "outputs": [
    {
     "data": {
      "text/plain": [
       "800"
      ]
     },
     "execution_count": 6,
     "metadata": {},
     "output_type": "execute_result"
    }
   ],
   "source": [
    "B[1][2][1]"
   ]
  },
  {
   "cell_type": "code",
   "execution_count": 7,
   "id": "00ed1166",
   "metadata": {},
   "outputs": [
    {
     "data": {
      "text/plain": [
       "'Hii'"
      ]
     },
     "execution_count": 7,
     "metadata": {},
     "output_type": "execute_result"
    }
   ],
   "source": [
    "C = [[1,2,3],[44,65,[32,800]],[55,[23,\"Hii\"],65]]\n",
    "\n",
    "C[2][1][1]"
   ]
  },
  {
   "cell_type": "code",
   "execution_count": 8,
   "id": "6950ba8d",
   "metadata": {},
   "outputs": [
    {
     "data": {
      "text/plain": [
       "'Hii'"
      ]
     },
     "execution_count": 8,
     "metadata": {},
     "output_type": "execute_result"
    }
   ],
   "source": [
    "C[-1][1][-1]"
   ]
  },
  {
   "cell_type": "code",
   "execution_count": 11,
   "id": "5a84017d",
   "metadata": {},
   "outputs": [
    {
     "name": "stdout",
     "output_type": "stream",
     "text": [
      "106000\n"
     ]
    }
   ],
   "source": [
    "amazon_cart = [[\"watch\",5000],[\"phone\",1000],[\"laptop\",100000]]\n",
    "\n",
    "total_cost = amazon_cart[0][1]+amazon_cart[1][1]+amazon_cart[2][1]\n",
    "\n",
    "print(total_cost)"
   ]
  },
  {
   "cell_type": "code",
   "execution_count": 12,
   "id": "dfc3ac72",
   "metadata": {},
   "outputs": [
    {
     "name": "stdout",
     "output_type": "stream",
     "text": [
      "106000\n"
     ]
    }
   ],
   "source": [
    "total_cost1 = 0\n",
    "\n",
    "for i in range(len(amazon_cart)):\n",
    "    total_cost1 +=amazon_cart[i][1]\n",
    "    \n",
    "print(total_cost1)"
   ]
  },
  {
   "cell_type": "code",
   "execution_count": 16,
   "id": "98730596",
   "metadata": {},
   "outputs": [
    {
     "name": "stdout",
     "output_type": "stream",
     "text": [
      "5000\n",
      "1000\n",
      "100000\n",
      "\n",
      " 106000\n"
     ]
    }
   ],
   "source": [
    "total_cost1 = 0\n",
    "\n",
    "for item in amazon_cart:\n",
    "    print(item[1])\n",
    "    total_cost1 +=item[1]\n",
    "    \n",
    "print(\"\\n\",total_cost1)"
   ]
  },
  {
   "cell_type": "code",
   "execution_count": 18,
   "id": "8f605604",
   "metadata": {},
   "outputs": [
    {
     "name": "stdout",
     "output_type": "stream",
     "text": [
      "cart is empty  = 0\n",
      "5000\n",
      "Cart after adding watch  : 106000\n",
      "1000\n",
      "Cart after adding phone  : 106000\n",
      "100000\n",
      "Cart after adding laptop  : 106000\n",
      "total cost : 106000\n"
     ]
    }
   ],
   "source": [
    "total_cost1 = 0\n",
    "\n",
    "print(f\"cart is empty  = {total_cost1}\")\n",
    "\n",
    "for item in amazon_cart:\n",
    "    print(item[1])\n",
    "    total_cost1 +=item[1]\n",
    "    print(f\"Cart after adding {item[0]}  : {total_cost}\")\n",
    "    \n",
    "print(f\"total cost : {total_cost}\")"
   ]
  },
  {
   "cell_type": "markdown",
   "id": "0e72c3d1",
   "metadata": {},
   "source": [
    "# List comprehension "
   ]
  },
  {
   "cell_type": "code",
   "execution_count": 19,
   "id": "c544d313",
   "metadata": {},
   "outputs": [],
   "source": [
    "# list which contain list of square no. between 1 to 10\n",
    "\n",
    "A = [1,2,3,4,5,6]\n",
    "\n",
    "ans = [1,4,9,16,25,36,...]\n"
   ]
  },
  {
   "cell_type": "code",
   "execution_count": 22,
   "id": "552be7a9",
   "metadata": {},
   "outputs": [
    {
     "name": "stdout",
     "output_type": "stream",
     "text": [
      "1\n",
      "4\n",
      "9\n",
      "16\n",
      "25\n",
      "36\n",
      "49\n",
      "64\n",
      "81\n",
      "100\n"
     ]
    },
    {
     "data": {
      "text/plain": [
       "[1, 4, 9, 16, 25, 36, 49, 64, 81, 100]"
      ]
     },
     "execution_count": 22,
     "metadata": {},
     "output_type": "execute_result"
    }
   ],
   "source": [
    "A = [1,2,3,4,5,6,7,8,9,10]\n",
    "\n",
    "ans = list()\n",
    "\n",
    "for i in A:\n",
    "    print(i**2)\n",
    "    ans.append(i**2)\n",
    "    \n",
    "ans"
   ]
  },
  {
   "cell_type": "code",
   "execution_count": 23,
   "id": "07e679cd",
   "metadata": {},
   "outputs": [
    {
     "name": "stdout",
     "output_type": "stream",
     "text": [
      "[1, 4, 9, 16, 25, 36, 49, 64, 81, 100]\n"
     ]
    }
   ],
   "source": [
    "ans1 = [i**2 for i in A]\n",
    "\n",
    "print(ans1)"
   ]
  },
  {
   "cell_type": "code",
   "execution_count": 26,
   "id": "cb4049cd",
   "metadata": {},
   "outputs": [
    {
     "data": {
      "text/plain": [
       "[1, 9, 25, 49, 81]"
      ]
     },
     "execution_count": 26,
     "metadata": {},
     "output_type": "execute_result"
    }
   ],
   "source": [
    "# only take the square of odd no. in list A\n",
    "\n",
    "A = [1,2,3,4,5,6,7,8,9,10]\n",
    "\n",
    "ans1 = [i**2 for i in A if i%2!=0]\n",
    "\n",
    "ans1"
   ]
  },
  {
   "cell_type": "code",
   "execution_count": 2,
   "id": "4810ddfd",
   "metadata": {},
   "outputs": [
    {
     "name": "stdout",
     "output_type": "stream",
     "text": [
      "1\n",
      "9\n",
      "25\n",
      "49\n",
      "81\n",
      "[1, 3, 5, 7, 9]\n"
     ]
    }
   ],
   "source": [
    "# or\n",
    "A = [1,2,3,4,5,6,7,8,9,10]\n",
    "\n",
    "ans1 = list()\n",
    "\n",
    "for i in A:\n",
    "    if i%2 !=0:\n",
    "        print(i**2)\n",
    "        ans1.append(i**1)\n",
    "        \n",
    "print(ans1)"
   ]
  },
  {
   "cell_type": "markdown",
   "id": "fab2b961",
   "metadata": {},
   "source": [
    "# Count"
   ]
  },
  {
   "cell_type": "code",
   "execution_count": 4,
   "id": "f010ef4c",
   "metadata": {},
   "outputs": [
    {
     "data": {
      "text/plain": [
       "2"
      ]
     },
     "execution_count": 4,
     "metadata": {},
     "output_type": "execute_result"
    }
   ],
   "source": [
    "A  = [1,3,1,3,4,2,3,4,2,3,4]\n",
    "\n",
    "A.count(1)"
   ]
  },
  {
   "cell_type": "code",
   "execution_count": 5,
   "id": "6cecff8a",
   "metadata": {},
   "outputs": [
    {
     "data": {
      "text/plain": [
       "4"
      ]
     },
     "execution_count": 5,
     "metadata": {},
     "output_type": "execute_result"
    }
   ],
   "source": [
    "A.count(3)"
   ]
  },
  {
   "cell_type": "code",
   "execution_count": 7,
   "id": "e535ae8c",
   "metadata": {},
   "outputs": [
    {
     "data": {
      "text/plain": [
       "0"
      ]
     },
     "execution_count": 7,
     "metadata": {},
     "output_type": "execute_result"
    }
   ],
   "source": [
    "A.count(500)"
   ]
  },
  {
   "cell_type": "code",
   "execution_count": 10,
   "id": "f3cf5128",
   "metadata": {},
   "outputs": [
    {
     "data": {
      "text/plain": [
       "1"
      ]
     },
     "execution_count": 10,
     "metadata": {},
     "output_type": "execute_result"
    }
   ],
   "source": [
    "A  = [1,3,1,3,4,2,3,4,2,3,4,[1,1],[4,4]]\n",
    "\n",
    "A.count([4,4])"
   ]
  },
  {
   "cell_type": "code",
   "execution_count": 11,
   "id": "92254d73",
   "metadata": {},
   "outputs": [
    {
     "data": {
      "text/plain": [
       "0"
      ]
     },
     "execution_count": 11,
     "metadata": {},
     "output_type": "execute_result"
    }
   ],
   "source": [
    "A.count(7)"
   ]
  },
  {
   "cell_type": "code",
   "execution_count": 12,
   "id": "60c176bd",
   "metadata": {},
   "outputs": [
    {
     "data": {
      "text/plain": [
       "2"
      ]
     },
     "execution_count": 12,
     "metadata": {},
     "output_type": "execute_result"
    }
   ],
   "source": [
    "A[-1].count(4) # it is counting 4 in the last element of the list"
   ]
  },
  {
   "cell_type": "code",
   "execution_count": 14,
   "id": "2c64e02b",
   "metadata": {},
   "outputs": [
    {
     "name": "stdout",
     "output_type": "stream",
     "text": [
      "1 2\n",
      "3 4\n",
      "1 2\n",
      "3 4\n",
      "4 3\n",
      "2 2\n",
      "3 4\n",
      "4 3\n",
      "2 2\n",
      "3 4\n",
      "4 3\n",
      "[1, 1] 1\n",
      "[4, 4] 1\n"
     ]
    }
   ],
   "source": [
    "for i in A:\n",
    "    print(i, A.count(i))\n",
    "    "
   ]
  },
  {
   "cell_type": "code",
   "execution_count": 18,
   "id": "8b01e32f",
   "metadata": {},
   "outputs": [
    {
     "name": "stdout",
     "output_type": "stream",
     "text": [
      "Sawan 1\n",
      "sawan 1\n",
      "kumar 1\n",
      "Yadav 1\n"
     ]
    }
   ],
   "source": [
    "A = [\"Sawan\",\"sawan\", \"kumar\", \"Yadav\"]\n",
    "\n",
    "for i in A:\n",
    "    print(i, A.count(i))   # Python is case sensitive"
   ]
  },
  {
   "cell_type": "markdown",
   "id": "cd26f8a2",
   "metadata": {},
   "source": [
    "# Extend"
   ]
  },
  {
   "cell_type": "code",
   "execution_count": 19,
   "id": "4e8905ca",
   "metadata": {},
   "outputs": [
    {
     "data": {
      "text/plain": [
       "[1, 2, 3, 23, 54, 65]"
      ]
     },
     "execution_count": 19,
     "metadata": {},
     "output_type": "execute_result"
    }
   ],
   "source": [
    "A = [1,2,3]\n",
    "\n",
    "B = [23,54,65]\n",
    "\n",
    "A+B  # no permanent change"
   ]
  },
  {
   "cell_type": "code",
   "execution_count": 20,
   "id": "9559fe10",
   "metadata": {},
   "outputs": [
    {
     "data": {
      "text/plain": [
       "[1, 2, 3]"
      ]
     },
     "execution_count": 20,
     "metadata": {},
     "output_type": "execute_result"
    }
   ],
   "source": [
    "A"
   ]
  },
  {
   "cell_type": "code",
   "execution_count": 22,
   "id": "1fd2932e",
   "metadata": {},
   "outputs": [
    {
     "data": {
      "text/plain": [
       "[1, 2, 3, 23, 54, 65, 23, 54, 65]"
      ]
     },
     "execution_count": 22,
     "metadata": {},
     "output_type": "execute_result"
    }
   ],
   "source": [
    "A.extend(B)  # it gives permanent changes\n",
    "\n",
    "A"
   ]
  },
  {
   "cell_type": "code",
   "execution_count": 23,
   "id": "4407de02",
   "metadata": {},
   "outputs": [
    {
     "data": {
      "text/plain": [
       "[1, 2, 3, 23, 54, 65, 23, 54, 65]"
      ]
     },
     "execution_count": 23,
     "metadata": {},
     "output_type": "execute_result"
    }
   ],
   "source": [
    "A"
   ]
  },
  {
   "cell_type": "code",
   "execution_count": 24,
   "id": "7d66cb56",
   "metadata": {},
   "outputs": [],
   "source": [
    "A.append(B) # Append add the element at last but extend extends \n",
    "#list"
   ]
  },
  {
   "cell_type": "code",
   "execution_count": 25,
   "id": "7410b013",
   "metadata": {},
   "outputs": [
    {
     "data": {
      "text/plain": [
       "[1, 2, 3, 23, 54, 65, 23, 54, 65, [23, 54, 65]]"
      ]
     },
     "execution_count": 25,
     "metadata": {},
     "output_type": "execute_result"
    }
   ],
   "source": [
    "A"
   ]
  },
  {
   "cell_type": "code",
   "execution_count": 26,
   "id": "637c2cf0",
   "metadata": {},
   "outputs": [
    {
     "data": {
      "text/plain": [
       "[23, 54, 65]"
      ]
     },
     "execution_count": 26,
     "metadata": {},
     "output_type": "execute_result"
    }
   ],
   "source": [
    "A.pop(-1)  # last element removed permanently"
   ]
  },
  {
   "cell_type": "code",
   "execution_count": 27,
   "id": "4612d9a9",
   "metadata": {},
   "outputs": [
    {
     "data": {
      "text/plain": [
       "[1, 2, 3, 23, 54, 65, 23, 54, 65]"
      ]
     },
     "execution_count": 27,
     "metadata": {},
     "output_type": "execute_result"
    }
   ],
   "source": [
    "A"
   ]
  },
  {
   "cell_type": "markdown",
   "id": "587bded7",
   "metadata": {},
   "source": [
    "# Index method"
   ]
  },
  {
   "cell_type": "code",
   "execution_count": 28,
   "id": "21ed1850",
   "metadata": {},
   "outputs": [
    {
     "data": {
      "text/plain": [
       "0"
      ]
     },
     "execution_count": 28,
     "metadata": {},
     "output_type": "execute_result"
    }
   ],
   "source": [
    "A = [11,3,45,\"sawan\",1+2j]\n",
    "\n",
    "A.index(11)"
   ]
  },
  {
   "cell_type": "code",
   "execution_count": 29,
   "id": "2632923e",
   "metadata": {},
   "outputs": [
    {
     "data": {
      "text/plain": [
       "3"
      ]
     },
     "execution_count": 29,
     "metadata": {},
     "output_type": "execute_result"
    }
   ],
   "source": [
    "A.index(\"sawan\")"
   ]
  },
  {
   "cell_type": "code",
   "execution_count": 36,
   "id": "8b44b4ad",
   "metadata": {},
   "outputs": [
    {
     "name": "stdout",
     "output_type": "stream",
     "text": [
      "4\n",
      "element 11 type is <class 'int'>\n",
      "element 3 type is <class 'int'>\n",
      "element 45 type is <class 'int'>\n",
      "element sawan type is <class 'str'>\n",
      "element (1+2j) type is <class 'complex'>\n"
     ]
    }
   ],
   "source": [
    "# print the list of all the complex no.\n",
    "\n",
    "for i in A:\n",
    "    if type(i) == complex:  #int for integer, str for string\n",
    "        print(A.index(i))\n",
    "        \n",
    "for i in A:\n",
    "    print(f\"element {i} type is {type(i)}\")"
   ]
  },
  {
   "cell_type": "code",
   "execution_count": 39,
   "id": "e7d23745",
   "metadata": {},
   "outputs": [
    {
     "name": "stdout",
     "output_type": "stream",
     "text": [
      "4\n"
     ]
    }
   ],
   "source": [
    "# one more way to check type of elemet in the list\n",
    "\n",
    "for i in A:\n",
    "    if isinstance(i, complex):  #standard approach\n",
    "        print(A.index(i))"
   ]
  },
  {
   "cell_type": "markdown",
   "id": "4b45792f",
   "metadata": {},
   "source": [
    "## isintance() method"
   ]
  },
  {
   "cell_type": "code",
   "execution_count": 40,
   "id": "07a768f8",
   "metadata": {},
   "outputs": [
    {
     "name": "stdout",
     "output_type": "stream",
     "text": [
      "4\n"
     ]
    }
   ],
   "source": [
    "for i in A:\n",
    "    if isinstance(i, complex):  #standard approach\n",
    "        print(A.index(i))"
   ]
  },
  {
   "cell_type": "code",
   "execution_count": 44,
   "id": "e888a652",
   "metadata": {},
   "outputs": [
    {
     "name": "stdout",
     "output_type": "stream",
     "text": [
      "11 has index value 0\n",
      "3 has index value 1\n",
      "45 has index value 2\n",
      "sawan has index value 3\n",
      "(1+2j) has index value 4\n"
     ]
    }
   ],
   "source": [
    "# print the index of all the complex and integer\n",
    "\n",
    "for i in A:\n",
    "    if isinstance(i, complex) or (i, int):  # here and condition is not applied here\n",
    "        print(f\"{i} has index value {A.index(i)}\")"
   ]
  },
  {
   "cell_type": "code",
   "execution_count": 46,
   "id": "571d7759",
   "metadata": {},
   "outputs": [
    {
     "name": "stdout",
     "output_type": "stream",
     "text": [
      "11 has index value 0\n",
      "3 has index value 1\n",
      "45 has index value 2\n",
      "(1+2j) has index value 4\n"
     ]
    }
   ],
   "source": [
    "# or\n",
    "\n",
    "for i in A:\n",
    "    if isinstance(i, (complex, int)): # standard or pythonic way\n",
    "        print(f\"{i} has index value {A.index(i)}\")"
   ]
  },
  {
   "cell_type": "code",
   "execution_count": 50,
   "id": "1c8f184d",
   "metadata": {},
   "outputs": [
    {
     "data": {
      "text/plain": [
       "[11, 3, 45, (1+2j)]"
      ]
     },
     "execution_count": 50,
     "metadata": {},
     "output_type": "execute_result"
    }
   ],
   "source": [
    "ans1 = [i for i in A if isinstance(i, (complex, int))]\n",
    "\n",
    "ans1"
   ]
  },
  {
   "cell_type": "code",
   "execution_count": 52,
   "id": "0e6bb1c9",
   "metadata": {},
   "outputs": [
    {
     "data": {
      "text/plain": [
       "[0, 1, 2, 4]"
      ]
     },
     "execution_count": 52,
     "metadata": {},
     "output_type": "execute_result"
    }
   ],
   "source": [
    "ans1 = [A.index(i) for i in A if isinstance(i, (complex, int))]\n",
    "\n",
    "ans1"
   ]
  },
  {
   "cell_type": "code",
   "execution_count": 53,
   "id": "949880bd",
   "metadata": {},
   "outputs": [
    {
     "data": {
      "text/plain": [
       "1"
      ]
     },
     "execution_count": 53,
     "metadata": {},
     "output_type": "execute_result"
    }
   ],
   "source": [
    "A = [11,3,3,45,\"sawan\",1+2j,4,3,3]  #incase of duplicate element index only gives first element index value\n",
    "\n",
    "A.index(3)"
   ]
  },
  {
   "cell_type": "code",
   "execution_count": 54,
   "id": "c586581f",
   "metadata": {},
   "outputs": [
    {
     "data": {
      "text/plain": [
       "2"
      ]
     },
     "execution_count": 54,
     "metadata": {},
     "output_type": "execute_result"
    }
   ],
   "source": [
    "A = [11,\"Abhishek\",3,3,45,\"sawan\",1+2j,4,3,3]   #duplicate element issue\n",
    "\n",
    "A.index(3)"
   ]
  },
  {
   "cell_type": "markdown",
   "id": "34ce20ea",
   "metadata": {},
   "source": [
    "# insert "
   ]
  },
  {
   "cell_type": "code",
   "execution_count": 64,
   "id": "1eba0866",
   "metadata": {},
   "outputs": [
    {
     "data": {
      "text/plain": [
       "[1, 2, 4, 5, 99]"
      ]
     },
     "execution_count": 64,
     "metadata": {},
     "output_type": "execute_result"
    }
   ],
   "source": [
    "A = [1,2,4,5]\n",
    "\n",
    "A.append(99)\n",
    "\n",
    "A"
   ]
  },
  {
   "cell_type": "code",
   "execution_count": 65,
   "id": "3fad433f",
   "metadata": {},
   "outputs": [
    {
     "data": {
      "text/plain": [
       "[1, 2, 'Sawan', 4, 5, 99]"
      ]
     },
     "execution_count": 65,
     "metadata": {},
     "output_type": "execute_result"
    }
   ],
   "source": [
    "A.insert(2, \"Sawan\")\n",
    "\n",
    "A"
   ]
  },
  {
   "cell_type": "code",
   "execution_count": 66,
   "id": "e164b165",
   "metadata": {},
   "outputs": [
    {
     "data": {
      "text/plain": [
       "[1, 2, 'Sawan', 4, 5, 99, 'kumar']"
      ]
     },
     "execution_count": 66,
     "metadata": {},
     "output_type": "execute_result"
    }
   ],
   "source": [
    "A.insert(2000, \"kumar\")\n",
    "\n",
    "A"
   ]
  },
  {
   "cell_type": "code",
   "execution_count": 67,
   "id": "d5f1dd9d",
   "metadata": {},
   "outputs": [
    {
     "data": {
      "text/plain": [
       "7"
      ]
     },
     "execution_count": 67,
     "metadata": {},
     "output_type": "execute_result"
    }
   ],
   "source": [
    "len(A)   # element adding at 2000th inex but lenght of list is not more than 2000 because python just adding 2000 element insert\n",
    "# at last position"
   ]
  },
  {
   "cell_type": "code",
   "execution_count": 72,
   "id": "482289b3",
   "metadata": {},
   "outputs": [
    {
     "ename": "IndexError",
     "evalue": "list index out of range",
     "output_type": "error",
     "traceback": [
      "\u001b[1;31m---------------------------------------------------------------------------\u001b[0m",
      "\u001b[1;31mIndexError\u001b[0m                                Traceback (most recent call last)",
      "Cell \u001b[1;32mIn[72], line 1\u001b[0m\n\u001b[1;32m----> 1\u001b[0m \u001b[43mA\u001b[49m\u001b[43m[\u001b[49m\u001b[38;5;241;43m2000\u001b[39;49m\u001b[43m]\u001b[49m\n",
      "\u001b[1;31mIndexError\u001b[0m: list index out of range"
     ]
    }
   ],
   "source": [
    "A[2000]"
   ]
  },
  {
   "cell_type": "code",
   "execution_count": 71,
   "id": "5c56b79f",
   "metadata": {},
   "outputs": [
    {
     "data": {
      "text/plain": [
       "7"
      ]
     },
     "execution_count": 71,
     "metadata": {},
     "output_type": "execute_result"
    }
   ],
   "source": [
    "A.index(\"kumar\")"
   ]
  },
  {
   "cell_type": "code",
   "execution_count": 68,
   "id": "5477ae58",
   "metadata": {},
   "outputs": [],
   "source": [
    "A.insert(-2000, \"Sawan\")"
   ]
  },
  {
   "cell_type": "code",
   "execution_count": 70,
   "id": "376ba41c",
   "metadata": {},
   "outputs": [
    {
     "data": {
      "text/plain": [
       "['Sawan', 1, 2, 'Sawan', 4, 5, 99, 'kumar']"
      ]
     },
     "execution_count": 70,
     "metadata": {},
     "output_type": "execute_result"
    }
   ],
   "source": [
    "A  # same reason as above"
   ]
  },
  {
   "cell_type": "code",
   "execution_count": 73,
   "id": "11e4ce75",
   "metadata": {},
   "outputs": [],
   "source": [
    "A.insert(2, [2,4,67])\n"
   ]
  },
  {
   "cell_type": "code",
   "execution_count": 74,
   "id": "3794d2df",
   "metadata": {},
   "outputs": [
    {
     "data": {
      "text/plain": [
       "['Sawan', 1, [2, 4, 67], 2, 'Sawan', 4, 5, 99, 'kumar']"
      ]
     },
     "execution_count": 74,
     "metadata": {},
     "output_type": "execute_result"
    }
   ],
   "source": [
    "A"
   ]
  },
  {
   "cell_type": "markdown",
   "id": "a5e5e874",
   "metadata": {},
   "source": [
    "# remove"
   ]
  },
  {
   "cell_type": "code",
   "execution_count": 75,
   "id": "940ff647",
   "metadata": {},
   "outputs": [],
   "source": [
    "A = [1,2,4,4,5,6,67,6]\n",
    "\n",
    "A.remove(67)  # it will remove first occurance of value - means if we have duplicate value then it will remove first value"
   ]
  },
  {
   "cell_type": "code",
   "execution_count": 76,
   "id": "d397929d",
   "metadata": {},
   "outputs": [
    {
     "data": {
      "text/plain": [
       "[1, 2, 4, 4, 5, 6, 6]"
      ]
     },
     "execution_count": 76,
     "metadata": {},
     "output_type": "execute_result"
    }
   ],
   "source": [
    "A"
   ]
  },
  {
   "cell_type": "code",
   "execution_count": 77,
   "id": "762a2c75",
   "metadata": {},
   "outputs": [],
   "source": [
    "A.remove(4)"
   ]
  },
  {
   "cell_type": "code",
   "execution_count": 78,
   "id": "d2659626",
   "metadata": {},
   "outputs": [
    {
     "data": {
      "text/plain": [
       "[1, 2, 4, 5, 6, 6]"
      ]
     },
     "execution_count": 78,
     "metadata": {},
     "output_type": "execute_result"
    }
   ],
   "source": [
    "A  # it will remove first occurance of value - means if we have duplicate value then it will remove first value"
   ]
  },
  {
   "cell_type": "code",
   "execution_count": 79,
   "id": "32d7372b",
   "metadata": {},
   "outputs": [
    {
     "ename": "ValueError",
     "evalue": "list.remove(x): x not in list",
     "output_type": "error",
     "traceback": [
      "\u001b[1;31m---------------------------------------------------------------------------\u001b[0m",
      "\u001b[1;31mValueError\u001b[0m                                Traceback (most recent call last)",
      "Cell \u001b[1;32mIn[79], line 1\u001b[0m\n\u001b[1;32m----> 1\u001b[0m \u001b[43mA\u001b[49m\u001b[38;5;241;43m.\u001b[39;49m\u001b[43mremove\u001b[49m\u001b[43m(\u001b[49m\u001b[38;5;241;43m100\u001b[39;49m\u001b[43m)\u001b[49m\n",
      "\u001b[1;31mValueError\u001b[0m: list.remove(x): x not in list"
     ]
    }
   ],
   "source": [
    "A.remove(100)"
   ]
  },
  {
   "cell_type": "code",
   "execution_count": 80,
   "id": "53cba2b0",
   "metadata": {},
   "outputs": [
    {
     "data": {
      "text/plain": [
       "6"
      ]
     },
     "execution_count": 80,
     "metadata": {},
     "output_type": "execute_result"
    }
   ],
   "source": [
    "A.pop(-1)  #need to give index for removing but in remove method we need to give value"
   ]
  },
  {
   "cell_type": "code",
   "execution_count": 81,
   "id": "dc94c115",
   "metadata": {},
   "outputs": [
    {
     "data": {
      "text/plain": [
       "[1, 2, 4, 5, 6]"
      ]
     },
     "execution_count": 81,
     "metadata": {},
     "output_type": "execute_result"
    }
   ],
   "source": [
    "A"
   ]
  },
  {
   "cell_type": "code",
   "execution_count": null,
   "id": "060a7766",
   "metadata": {},
   "outputs": [],
   "source": []
  }
 ],
 "metadata": {
  "kernelspec": {
   "display_name": "Python 3 (ipykernel)",
   "language": "python",
   "name": "python3"
  },
  "language_info": {
   "codemirror_mode": {
    "name": "ipython",
    "version": 3
   },
   "file_extension": ".py",
   "mimetype": "text/x-python",
   "name": "python",
   "nbconvert_exporter": "python",
   "pygments_lexer": "ipython3",
   "version": "3.10.9"
  }
 },
 "nbformat": 4,
 "nbformat_minor": 5
}
