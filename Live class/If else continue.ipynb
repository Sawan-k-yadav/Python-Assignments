{
 "cells": [
  {
   "cell_type": "markdown",
   "id": "7942061b",
   "metadata": {},
   "source": [
    "# If - elif\n",
    "\n",
    "Online Food orders - Zomato App, Swiggy, Uber Eats\n",
    "\n",
    "if you order more than Rs.499\n",
    "discount = 20%\n",
    "\n",
    "if you order more than Rs.999\n",
    "discount = 30%\n",
    "\n",
    "if you order more than 1499\n",
    "discount = 40%"
   ]
  },
  {
   "cell_type": "code",
   "execution_count": 8,
   "id": "d61373c9",
   "metadata": {},
   "outputs": [
    {
     "name": "stdout",
     "output_type": "stream",
     "text": [
      " Enter your total amount : 1000\n",
      "cart total: 1000\n",
      "Pay amount with 30 % dicount: 700.0\n"
     ]
    }
   ],
   "source": [
    "total_amount = int(input(\" Enter your total amount : \"))\n",
    "                   \n",
    "print(f\"cart total: {total_amount}\")\n",
    "\n",
    "if total_amount > 999:\n",
    "  price_after_discount = total_amount * 70/100\n",
    "  print(f\"Pay amount with 30 % dicount: {price_after_discount}\")\n",
    "elif total_amount <= 999 and total_amount > 499: #  999 <= price < 499\n",
    "  price_after_discount = total_amount * 80/100\n",
    "  print(f\"Pay amount with 20 % Discount: {price_after_discount}\")\n",
    "else:\n",
    "  print(f\"Pay amount without discount: {total_amount}\")"
   ]
  },
  {
   "cell_type": "code",
   "execution_count": 10,
   "id": "b6a4be6f",
   "metadata": {},
   "outputs": [
    {
     "name": "stdout",
     "output_type": "stream",
     "text": [
      " Enter your total amount : 13000\n",
      "cart total: 13000\n",
      "Pay amount: 9100.0\n"
     ]
    }
   ],
   "source": [
    "total_amount = int(input(\" Enter your total amount : \"))\n",
    "\n",
    "print(f\"cart total: {total_amount}\")\n",
    "\n",
    "if total_amount > 999:\n",
    "  price_after_discount = total_amount * 70/100\n",
    "  print(f\"Pay amount: {price_after_discount}\")\n",
    "elif  499 < total_amount <= 999: #  999 <= price < 499\n",
    "  price_after_discount = total_amount * 80/100\n",
    "  print(f\"Pay amount: {price_after_discount}\")\n",
    "elif 1499 < total_amount <= 999:\n",
    "    print(f\"Pay amount with 40 % Discount: {price_after_discount}\" )\n",
    "else:\n",
    "  print(f\"Pay amount: {total_amount}\")"
   ]
  },
  {
   "cell_type": "code",
   "execution_count": 11,
   "id": "a9e1fdc3",
   "metadata": {},
   "outputs": [
    {
     "name": "stdout",
     "output_type": "stream",
     "text": [
      " Enter your total amount : 674\n",
      "cart total: 674\n",
      "Pay amount: 539.2\n"
     ]
    }
   ],
   "source": [
    "# instead of elif if we will use if condition again and again for then it will not skip any if condition. It will check\n",
    "# all the if conditions.\n",
    "\n",
    "total_amount = int(input(\" Enter your total amount : \"))\n",
    "\n",
    "print(f\"cart total: {total_amount}\")\n",
    "\n",
    "if total_amount > 999:\n",
    "  price_after_discount = total_amount * 70/100\n",
    "  print(f\"Pay amount: {price_after_discount}\")\n",
    "if 499 < total_amount <= 999: #  999 <= price < 499   \n",
    "  price_after_discount = total_amount * 80/100\n",
    "  print(f\"Pay amount: {price_after_discount}\")\n",
    "else:\n",
    "  print(f\"Pay amount: {total_amount}\")"
   ]
  },
  {
   "cell_type": "code",
   "execution_count": 12,
   "id": "c62dfaff",
   "metadata": {},
   "outputs": [
    {
     "name": "stdout",
     "output_type": "stream",
     "text": [
      " Enter your total amount : 13000\n",
      "cart total: 13000\n",
      "Pay amount: 7800.0\n"
     ]
    }
   ],
   "source": [
    "total_amount = int(input(\" Enter your total amount : \"))\n",
    "\n",
    "print(f\"cart total: {total_amount}\")\n",
    "\n",
    "if total_amount > 1499:\n",
    "  price_after_discount = total_amount * 60/100\n",
    "  print(f\"Pay amount: {price_after_discount}\")\n",
    "elif 999 < total_amount <= 1499:\n",
    "  price_after_discount = total_amount * 70/100\n",
    "  print(f\"Pay amount: {price_after_discount}\")\n",
    "elif 499 < total_amount <= 999: #  999 <= price < 499\n",
    "  price_after_discount = total_amount * 80/100\n",
    "  print(f\"Pay amount: {price_after_discount}\")\n",
    "else:\n",
    "  print(f\"Pay amount: {total_amount}\")"
   ]
  },
  {
   "cell_type": "markdown",
   "id": "ed593889",
   "metadata": {},
   "source": [
    "# Nested if else\n",
    "\n",
    "print if the no is negative or positive"
   ]
  },
  {
   "cell_type": "code",
   "execution_count": 14,
   "id": "2df33904",
   "metadata": {},
   "outputs": [
    {
     "name": "stdout",
     "output_type": "stream",
     "text": [
      "enter any no.:-12.8\n",
      "Value is negative\n"
     ]
    }
   ],
   "source": [
    "val = float(input(\"enter any no.:\"))\n",
    "\n",
    "if val>=0:\n",
    "    if val == 0:\n",
    "        print(\"No. is positive\")\n",
    "    else:\n",
    "        print(\"Value is negative\")\n",
    "else:\n",
    "    print(\"Value is negative\")"
   ]
  },
  {
   "cell_type": "markdown",
   "id": "f8e660fd",
   "metadata": {},
   "source": [
    "# Single line if else\n",
    "NOTE: NOT RECOMMENDED FOR CODING IN PROJECTS OR PRODUCTION\n",
    "\n",
    "but good for competitive programming\n",
    "\n",
    "print YES of the no is greater than 99"
   ]
  },
  {
   "cell_type": "code",
   "execution_count": 17,
   "id": "735edb25",
   "metadata": {},
   "outputs": [
    {
     "name": "stdout",
     "output_type": "stream",
     "text": [
      "Enter a number100\n",
      "YES\n"
     ]
    }
   ],
   "source": [
    "# OK for competitive program\n",
    "# For production code or in a company its not recommended\n",
    "\n",
    "val = float(input(\"Enter a number\"))\n",
    "\n",
    "if val > 99: print(\"YES\")\n",
    "else: print(\"NO\")"
   ]
  },
  {
   "cell_type": "code",
   "execution_count": 18,
   "id": "905bc054",
   "metadata": {},
   "outputs": [
    {
     "name": "stdout",
     "output_type": "stream",
     "text": [
      "Enter a number1009\n",
      "YES\n"
     ]
    }
   ],
   "source": [
    "# Recommended approach\n",
    "# Its more readable and clean\n",
    "\n",
    "val = float(input(\"Enter a number\"))\n",
    "\n",
    "if val > 99: \n",
    "  print(\"YES\")\n",
    "else: \n",
    "  print(\"NO\")"
   ]
  },
  {
   "cell_type": "code",
   "execution_count": 2,
   "id": "e86137c3",
   "metadata": {},
   "outputs": [
    {
     "name": "stdout",
     "output_type": "stream",
     "text": [
      "Enter a number: 200\n",
      "YES\n",
      "YES\n"
     ]
    }
   ],
   "source": [
    "# only good for competitive programming\n",
    "val = float(input(\"Enter a number: \"))\n",
    "str1 = \"YES\" if val > 99 else \"NO\"\n",
    "print(str1)\n",
    "\n",
    "print(\"YES\" if val > 99 else \"NO\")"
   ]
  },
  {
   "cell_type": "markdown",
   "id": "9362ddf5",
   "metadata": {},
   "source": [
    "# Loops\n",
    "1. While loop\n",
    "2. For loop\n",
    "3. Loop control\n",
    "\n",
    "       - break\n",
    "       \n",
    "       - continue\n",
    "       \n",
    "       - pass\n",
    "4. Nested loop"
   ]
  },
  {
   "cell_type": "markdown",
   "id": "156c1b70",
   "metadata": {},
   "source": [
    "# UPSC, IAS, Goverment exams, Board exams,\n",
    "## Repetive attempts\n",
    "while I do not cross the cutoff I will keep on giving my exams\n",
    "\n",
    "while CONDTION is True: print()"
   ]
  },
  {
   "cell_type": "code",
   "execution_count": 9,
   "id": "8bf33db1",
   "metadata": {},
   "outputs": [
    {
     "name": "stdout",
     "output_type": "stream",
     "text": [
      "Your score is: 100, cutoff: 400\n",
      "I will attempt next year\n",
      "Your score is: 200, cutoff: 400\n",
      "I will attempt next year\n",
      "Your score is: 300, cutoff: 400\n",
      "I will attempt next year\n",
      "Your score is: 399, cutoff: 400\n",
      "I will attempt next year\n"
     ]
    }
   ],
   "source": [
    "total_score = 1000\n",
    "cutoff = 400\n",
    "scores = [100, 200, 300, 399, 500]\n",
    "\n",
    "# I will keep on attempting until I succeed\n",
    "year = 0 # indexing in python starts with 0\n",
    "\n",
    "while scores[year] < cutoff:\n",
    "  print(f\"Your score is: {scores[year]}, cutoff: {cutoff}\")\n",
    "  print(\"I will attempt next year\")\n",
    "  year = year + 1 # I am adding 1 to current year"
   ]
  },
  {
   "cell_type": "code",
   "execution_count": 8,
   "id": "19f62b59",
   "metadata": {},
   "outputs": [
    {
     "name": "stdout",
     "output_type": "stream",
     "text": [
      "Your score for each year100\n"
     ]
    },
    {
     "ename": "IndexError",
     "evalue": "list assignment index out of range",
     "output_type": "error",
     "traceback": [
      "\u001b[1;31m---------------------------------------------------------------------------\u001b[0m",
      "\u001b[1;31mIndexError\u001b[0m                                Traceback (most recent call last)",
      "Cell \u001b[1;32mIn[8], line 8\u001b[0m\n\u001b[0;32m      5\u001b[0m scores \u001b[38;5;241m=\u001b[39m []\n\u001b[0;32m      7\u001b[0m \u001b[38;5;28;01mfor\u001b[39;00m i \u001b[38;5;129;01min\u001b[39;00m \u001b[38;5;28mrange\u001b[39m(\u001b[38;5;241m0\u001b[39m,\u001b[38;5;241m5\u001b[39m):\n\u001b[1;32m----> 8\u001b[0m     scores[i] \u001b[38;5;241m=\u001b[39m \u001b[38;5;28mfloat\u001b[39m(\u001b[38;5;28minput\u001b[39m(\u001b[38;5;124m\"\u001b[39m\u001b[38;5;124mYour score for each year\u001b[39m\u001b[38;5;124m\"\u001b[39m))\n\u001b[0;32m      9\u001b[0m     i \u001b[38;5;241m+\u001b[39m\u001b[38;5;241m=\u001b[39m \u001b[38;5;241m1\u001b[39m\n\u001b[0;32m     11\u001b[0m \u001b[38;5;66;03m# I will keep on attempting until I succeed\u001b[39;00m\n",
      "\u001b[1;31mIndexError\u001b[0m: list assignment index out of range"
     ]
    }
   ],
   "source": [
    "#trail example\n",
    "\n",
    "cutoff = 400\n",
    "# scores = [100, 200, 300, 399, 500]\n",
    "scores = []\n",
    "\n",
    "for i in range(0,5):\n",
    "    scores[i] = float(input(\"Your score for each year\"))\n",
    "    i += 1\n",
    "\n",
    "# I will keep on attempting until I succeed\n",
    "year = 0 # indexing in python starts with 0\n",
    "\n",
    "while scores[year] < cutoff:\n",
    "  print(f\"Your score is: {scores[year]}, cutoff: {cutoff}\")\n",
    "  print(\"I will attempt next year\")\n",
    "  year = year + 1 # I am adding 1 to current year\n",
    "\n",
    "# I will try again"
   ]
  },
  {
   "cell_type": "markdown",
   "id": "096fbac9",
   "metadata": {},
   "source": [
    "# Infinite loop\n",
    "if the CONDITION is always TRUE then you loop will keep on running..."
   ]
  },
  {
   "cell_type": "code",
   "execution_count": 13,
   "id": "62068683",
   "metadata": {},
   "outputs": [
    {
     "name": "stdout",
     "output_type": "stream",
     "text": [
      "current sum: 10\n",
      "current sum: 20\n",
      "current sum: 30\n",
      "current sum: 40\n",
      "current sum: 50\n"
     ]
    }
   ],
   "source": [
    "\"\"\"\n",
    "Child is learning to counting 10 ruppes of note\n",
    "\"\"\"\n",
    "\n",
    "notes = 5\n",
    "i = 1 # 1st note\n",
    "\n",
    "while i <= notes:\n",
    "  print(f\"current sum: {i*10}\")\n",
    "  i = i + 1"
   ]
  },
  {
   "cell_type": "code",
   "execution_count": 16,
   "id": "70830bbf",
   "metadata": {},
   "outputs": [
    {
     "name": "stdout",
     "output_type": "stream",
     "text": [
      "current station is: Station 01\n",
      "my destination is: Station 03\n",
      "Continue the journey I haven't reached the destination\n",
      "current station is: Station 02\n",
      "my destination is: Station 03\n",
      "Continue the journey I haven't reached the destination\n",
      "-----\n"
     ]
    }
   ],
   "source": [
    "# Train journey \n",
    "stations = [\"Station 01\", \"Station 02\", \"Station 03\", \"Station 04\"]\n",
    "\n",
    "current_station = 0\n",
    "destination_station = \"Station 03\"\n",
    "\n",
    "while stations[current_station] != destination_station:\n",
    "    print(f\"current station is: {stations[current_station]}\")\n",
    "    print(f\"my destination is: {destination_station}\")\n",
    "    if stations[current_station] != destination_station:\n",
    "        print(\"Continue the journey I haven't reached the destination\")\n",
    "        current_station = current_station + 1\n",
    "    else:\n",
    "        print(f\"You reached: {stations[current_station]}, Next station is: {stations[current_station]}\")\n",
    "print(\"-----\")\n",
    "\n",
    "# it is not working as it is while else condition which is given below"
   ]
  },
  {
   "cell_type": "code",
   "execution_count": 18,
   "id": "05528c4c",
   "metadata": {},
   "outputs": [
    {
     "name": "stdout",
     "output_type": "stream",
     "text": [
      "current station is: Station 01\n",
      "my destination is: Station 03\n",
      "Continue the journey I haven't reached the destination\n",
      "You reached Next station is: Station 02\n",
      "-----\n",
      "current station is: Station 02\n",
      "my destination is: Station 03\n",
      "Continue the journey I haven't reached the destination\n",
      "You reached Next station is: Station 03\n",
      "-----\n"
     ]
    }
   ],
   "source": [
    "# Train journey \n",
    "stations = [\"Station 01\", \"Station 02\", \"Station 03\", \"Station 04\"]\n",
    "\n",
    "current_station = 0\n",
    "destination_station = \"Station 03\"\n",
    "\n",
    "while stations[current_station] != destination_station:\n",
    "  print(f\"current station is: {stations[current_station]}\")\n",
    "  print(f\"my destination is: {destination_station}\")\n",
    "  print(\"Continue the journey I haven't reached the destination\")\n",
    "  current_station = current_station + 1\n",
    "  print(f\"You reached Next station is: {stations[current_station]}\")\n",
    "  print(\"-----\")"
   ]
  },
  {
   "cell_type": "markdown",
   "id": "fd5b3d9f",
   "metadata": {},
   "source": [
    "# While else:"
   ]
  },
  {
   "cell_type": "code",
   "execution_count": 19,
   "id": "1cf57697",
   "metadata": {},
   "outputs": [
    {
     "name": "stdout",
     "output_type": "stream",
     "text": [
      "current station is: Station 01\n",
      "my destination is: Station 03\n",
      "Continue the journey I haven't reached the destination\n",
      "Next station is: Station 02\n",
      "-----\n",
      "current station is: Station 02\n",
      "my destination is: Station 03\n",
      "Continue the journey I haven't reached the destination\n",
      "Next station is: Station 03\n",
      "-----\n",
      "I have arrived at: Station 03\n"
     ]
    }
   ],
   "source": [
    "# Train journey \n",
    "stations = [\"Station 01\", \"Station 02\", \"Station 03\", \"Station 04\"]\n",
    "\n",
    "current_station = 0\n",
    "destination_station = \"Station 03\"\n",
    "\n",
    "while stations[current_station] != destination_station:\n",
    "  print(f\"current station is: {stations[current_station]}\")\n",
    "  print(f\"my destination is: {destination_station}\")\n",
    "  print(\"Continue the journey I haven't reached the destination\")\n",
    "  current_station = current_station + 1\n",
    "  print(f\"Next station is: {stations[current_station]}\")\n",
    "  print(\"-----\")\n",
    "else:\n",
    "  print(f\"I have arrived at: {stations[current_station]}\") "
   ]
  },
  {
   "cell_type": "markdown",
   "id": "2c251622",
   "metadata": {},
   "source": [
    "while CONDITION is True:\n",
    "    statement \n",
    "  \n",
    "else:\n",
    "  statement"
   ]
  },
  {
   "cell_type": "code",
   "execution_count": 20,
   "id": "ceeb84c1",
   "metadata": {},
   "outputs": [
    {
     "name": "stdout",
     "output_type": "stream",
     "text": [
      "CONDITION: True\n",
      "current sum: 10\n",
      "------\n",
      "CONDITION: True\n",
      "current sum: 20\n",
      "------\n",
      "CONDITION: True\n",
      "current sum: 30\n",
      "------\n",
      "CONDITION: True\n",
      "current sum: 40\n",
      "------\n",
      "CONDITION: True\n",
      "current sum: 50\n",
      "------\n",
      "CONDITION: False\n",
      "No more 10 rupees notes left\n"
     ]
    }
   ],
   "source": [
    "\"\"\"\n",
    "Child is learning to counting 10 ruppes of note\n",
    "\"\"\"\n",
    "\n",
    "notes = 5\n",
    "i = 1 # 1st note\n",
    "\n",
    "while i <= notes:\n",
    "  print(f\"CONDITION: {i <= notes}\")\n",
    "  print(f\"current sum: {i*10}\")\n",
    "  i = i + 1\n",
    "  print(\"------\")\n",
    "else:\n",
    "  print(f\"CONDITION: {i <= notes}\")\n",
    "  print(\"No more 10 rupees notes left\")"
   ]
  },
  {
   "cell_type": "markdown",
   "id": "71aca52e",
   "metadata": {},
   "source": [
    "for loop"
   ]
  },
  {
   "cell_type": "code",
   "execution_count": 21,
   "id": "8c7462d2",
   "metadata": {},
   "outputs": [
    {
     "name": "stdout",
     "output_type": "stream",
     "text": [
      "0\n",
      "1\n",
      "2\n",
      "3\n",
      "4\n",
      "5\n",
      "6\n",
      "7\n",
      "8\n",
      "9\n"
     ]
    }
   ],
   "source": [
    "for i in range(0, 10):\n",
    "  print(i)   # Dont need to increament"
   ]
  },
  {
   "cell_type": "code",
   "execution_count": 24,
   "id": "370ce6c8",
   "metadata": {},
   "outputs": [
    {
     "name": "stdout",
     "output_type": "stream",
     "text": [
      "10 x 1 = 10\n",
      "10 x 2 = 20\n",
      "10 x 3 = 30\n",
      "10 x 4 = 40\n",
      "10 x 5 = 50\n",
      "10 x 6 = 60\n",
      "10 x 7 = 70\n",
      "10 x 8 = 80\n",
      "10 x 9 = 90\n",
      "10 x 10 = 100\n"
     ]
    }
   ],
   "source": [
    "# Table of 10\n",
    "\n",
    "for i in range(0, 10):  # here 10 is out of bound in range\n",
    "  print(f\"10 x {i+1} = {(i+1)*10}\")"
   ]
  },
  {
   "cell_type": "code",
   "execution_count": 25,
   "id": "7bc756ab",
   "metadata": {},
   "outputs": [
    {
     "name": "stdout",
     "output_type": "stream",
     "text": [
      "10 x 1 = 10\n",
      "10 x 2 = 20\n",
      "10 x 3 = 30\n",
      "10 x 4 = 40\n",
      "10 x 5 = 50\n",
      "10 x 6 = 60\n",
      "10 x 7 = 70\n",
      "10 x 8 = 80\n",
      "10 x 9 = 90\n",
      "10 x 10 = 100\n"
     ]
    }
   ],
   "source": [
    "for i in range(1, 11):\n",
    "    print(f\"10 x {i} = {i*10}\")"
   ]
  },
  {
   "cell_type": "code",
   "execution_count": 1,
   "id": "a225e901",
   "metadata": {},
   "outputs": [
    {
     "name": "stdout",
     "output_type": "stream",
     "text": [
      "*********\n",
      "********\n",
      "*******\n",
      "******\n",
      "*****\n",
      "****\n",
      "***\n",
      "**\n",
      "*\n",
      "\n"
     ]
    }
   ],
   "source": [
    "for i in range(1, 11):\n",
    "  print(\"*\"*(10-i))"
   ]
  },
  {
   "cell_type": "code",
   "execution_count": 2,
   "id": "3a3cce14",
   "metadata": {},
   "outputs": [
    {
     "name": "stdout",
     "output_type": "stream",
     "text": [
      "*\n",
      "**\n",
      "***\n",
      "****\n",
      "*****\n",
      "******\n",
      "*******\n",
      "********\n",
      "*********\n",
      "**********\n"
     ]
    }
   ],
   "source": [
    "for i in range(1, 11):\n",
    "  print(\"*\"*i)"
   ]
  },
  {
   "cell_type": "code",
   "execution_count": 6,
   "id": "50a95767",
   "metadata": {},
   "outputs": [
    {
     "name": "stdout",
     "output_type": "stream",
     "text": [
      "*********\n",
      "********\n",
      "*******\n",
      "******\n",
      "*****\n",
      "****\n",
      "***\n",
      "**\n",
      "*\n",
      "\n"
     ]
    }
   ],
   "source": [
    "for i in range(1, 11):\n",
    "    if i!=0:\n",
    "      print(\"*\"*(10-i))\n",
    "    else:\n",
    "        print(\" \"*(10-i))\n",
    "        print(\"*\"*(10-i))"
   ]
  },
  {
   "cell_type": "code",
   "execution_count": 15,
   "id": "71f46449",
   "metadata": {},
   "outputs": [
    {
     "name": "stdout",
     "output_type": "stream",
     "text": [
      "0 = 0 + 100\n",
      "after adding 1 item total_sum=100\n",
      "---\n",
      "100 = 100 + 200\n",
      "after adding 2 item total_sum=300\n",
      "---\n",
      "300 = 300 + 129\n",
      "after adding 3 item total_sum=429\n",
      "---\n",
      "429 = 429 + 456\n",
      "after adding 4 item total_sum=885\n",
      "---\n",
      "Total amount to be paid: 885\n",
      "----\n",
      "0 = 0 + 100\n",
      "after adding 1 item total_sum=100\n",
      "---\n",
      "100 = 100 + 200\n",
      "after adding 2 item total_sum=300\n",
      "---\n",
      "300 = 300 + 129\n",
      "after adding 3 item total_sum=429\n",
      "---\n",
      "429 = 429 + 456\n",
      "after adding 4 item total_sum=885\n",
      "---\n",
      "Total amount to be paid: 885\n"
     ]
    }
   ],
   "source": [
    "Cost_of_items = [100, 200, 129, 456]\n",
    "#                 0    1    2    3\n",
    "\n",
    "total_sum = 0\n",
    "\n",
    "for i in range(0, len(Cost_of_items)): # 0,1,2,3 \n",
    "  print(f\"{total_sum} = {total_sum} + {Cost_of_items[i]}\")\n",
    "  total_sum = total_sum + Cost_of_items[i]\n",
    "  print(f\"after adding {i+1} item total_sum={total_sum}\")\n",
    "  print(\"---\")\n",
    "print(f\"Total amount to be paid: {total_sum}\")\n",
    "\n",
    "print(\"----\")\n",
    "\n",
    "Cost_of_items = [100, 200, 129, 456]\n",
    "#                 0    1    2    3\n",
    "\n",
    "total_sum = 0\n",
    "N = len(Cost_of_items)\n",
    "\n",
    "for i in range(0, N): # 0,1,2,3 \n",
    "  print(f\"{total_sum} = {total_sum} + {Cost_of_items[i]}\")\n",
    "  total_sum = total_sum + Cost_of_items[i]\n",
    "  print(f\"after adding {i+1} item total_sum={total_sum}\")\n",
    "  print(\"---\")\n",
    "print(f\"Total amount to be paid: {total_sum}\")"
   ]
  },
  {
   "cell_type": "code",
   "execution_count": 13,
   "id": "f48e3ccf",
   "metadata": {},
   "outputs": [
    {
     "data": {
      "text/plain": [
       "4"
      ]
     },
     "execution_count": 13,
     "metadata": {},
     "output_type": "execute_result"
    }
   ],
   "source": [
    "len(Cost_of_items)"
   ]
  },
  {
   "cell_type": "code",
   "execution_count": 16,
   "id": "fa9b91b9",
   "metadata": {},
   "outputs": [
    {
     "name": "stdout",
     "output_type": "stream",
     "text": [
      "0 = 0 + 100\n",
      "after adding total_sum=100\n",
      "---\n",
      "100 = 100 + 200\n",
      "after adding total_sum=300\n",
      "---\n",
      "300 = 300 + 129\n",
      "after adding total_sum=429\n",
      "---\n",
      "429 = 429 + 456\n",
      "after adding total_sum=885\n",
      "---\n",
      "885 = 885 + 1000\n",
      "after adding total_sum=1885\n",
      "---\n",
      "Total amount to be paid: 1885\n"
     ]
    }
   ],
   "source": [
    "Cost_of_items = [100, 200, 129, 456, 1000]\n",
    "#                 0    1    2    3\n",
    "\n",
    "total_sum = 0\n",
    "\n",
    "for cost in Cost_of_items:\n",
    "  print(f\"{total_sum} = {total_sum} + {cost}\")\n",
    "  total_sum = total_sum + cost\n",
    "  print(f\"after adding total_sum={total_sum}\")\n",
    "  print(\"---\")\n",
    "print(f\"Total amount to be paid: {total_sum}\")"
   ]
  },
  {
   "cell_type": "code",
   "execution_count": 17,
   "id": "245cd320",
   "metadata": {},
   "outputs": [
    {
     "name": "stdout",
     "output_type": "stream",
     "text": [
      "100\n",
      "200\n",
      "129\n",
      "456\n",
      "1000\n"
     ]
    }
   ],
   "source": [
    "Cost_of_items = [100, 200, 129, 456, 1000]\n",
    "#                 0    1    2    3\n",
    "total_sum = 0\n",
    "for cost in Cost_of_items: # cost starts taking from index 0 till last index of Cost_of_items\n",
    "  print(cost)\n"
   ]
  },
  {
   "cell_type": "code",
   "execution_count": 18,
   "id": "c67c030a",
   "metadata": {},
   "outputs": [
    {
     "name": "stdout",
     "output_type": "stream",
     "text": [
      "100\n",
      "200\n",
      "129\n",
      "456\n",
      "1000\n"
     ]
    }
   ],
   "source": [
    "# same result\n",
    "\n",
    "Cost_of_items = [100, 200, 129, 456, 1000]\n",
    "#                 0    1    2    3\n",
    "total_sum = 0\n",
    "N = len(Cost_of_items)\n",
    "for i in range(0, N): # 0,1,2,3 \n",
    "  print(Cost_of_items[i])"
   ]
  },
  {
   "cell_type": "code",
   "execution_count": 19,
   "id": "59fc8bb7",
   "metadata": {},
   "outputs": [
    {
     "name": "stdout",
     "output_type": "stream",
     "text": [
      "Current station is: Station 01\n",
      "Current station is: Station 02\n",
      "Current station is: Station 03\n",
      "Current station is: Station 04\n"
     ]
    }
   ],
   "source": [
    "# Train journey \n",
    "stations = [\"Station 01\", \"Station 02\", \"Station 03\", \"Station 04\"]\n",
    "\n",
    "for current_station in stations:\n",
    "  print(f\"Current station is: {current_station}\")"
   ]
  },
  {
   "cell_type": "code",
   "execution_count": 22,
   "id": "e2ab7cba",
   "metadata": {},
   "outputs": [
    {
     "name": "stdout",
     "output_type": "stream",
     "text": [
      "1\n",
      "2\n",
      "3\n",
      "4\n"
     ]
    }
   ],
   "source": [
    "n = [1,2,3,4,]\n",
    "for i in n:\n",
    "    print(i) # so it is for array variables specially"
   ]
  },
  {
   "cell_type": "markdown",
   "id": "653ae53b",
   "metadata": {},
   "source": [
    "break and continue"
   ]
  },
  {
   "cell_type": "code",
   "execution_count": 23,
   "id": "d992645f",
   "metadata": {},
   "outputs": [
    {
     "name": "stdout",
     "output_type": "stream",
     "text": [
      "current total: 100\n",
      "current total: 300\n",
      "current total: 429\n",
      "current total: 885\n",
      "current total: 1885\n",
      "current total: 2084\n",
      "since current total is more than my budget: 2000\n",
      "please remove the last item\n",
      "total amount to be paid: 1885\n"
     ]
    }
   ],
   "source": [
    "cost_of_items = [100, 200, 129, 456, 1000, 199, 299]\n",
    "#                 0    1    2    3\n",
    "\n",
    "total_sum = 0\n",
    "budget = 2000\n",
    "\n",
    "for cost in cost_of_items:\n",
    "  total_sum = total_sum + cost\n",
    "  print(f\"current total: {total_sum}\")\n",
    "  if total_sum > budget:\n",
    "    print(f\"since current total is more than my budget: {budget}\")\n",
    "    print(\"please remove the last item\")\n",
    "    total_sum = total_sum - cost\n",
    "    break\n",
    "\n",
    "print(f'total amount to be paid: {total_sum}')"
   ]
  },
  {
   "cell_type": "code",
   "execution_count": 24,
   "id": "b7e5681f",
   "metadata": {},
   "outputs": [
    {
     "name": "stdout",
     "output_type": "stream",
     "text": [
      "1\n",
      "2\n",
      "3\n",
      "4\n",
      "5\n",
      "6\n",
      "7\n",
      "8\n",
      "9\n",
      "10\n",
      "11\n"
     ]
    }
   ],
   "source": [
    "for i in range(1, 100):\n",
    "  print(i)\n",
    "  if i > 10:\n",
    "    break"
   ]
  },
  {
   "cell_type": "code",
   "execution_count": 35,
   "id": "ab103bae",
   "metadata": {},
   "outputs": [
    {
     "name": "stdout",
     "output_type": "stream",
     "text": [
      "11\n",
      "1\n",
      "2\n",
      "3\n",
      "4\n",
      "5\n",
      "6\n",
      "7\n",
      "8\n",
      "9\n"
     ]
    }
   ],
   "source": [
    "for i in range(1, 100):\n",
    "     if i > 10:\n",
    "        break\n",
    "print(i)  # only checking if i is 50 then break and print next no.\n",
    "\n",
    "for i in range(1, 100):\n",
    "  if i >= 10:\n",
    "    break\n",
    "  print(i)\n",
    "  "
   ]
  },
  {
   "cell_type": "code",
   "execution_count": 36,
   "id": "45300f63",
   "metadata": {},
   "outputs": [
    {
     "name": "stdout",
     "output_type": "stream",
     "text": [
      "1\n",
      "2\n",
      "3\n",
      "4\n",
      "5\n",
      "6\n",
      "7\n",
      "8\n",
      "9\n",
      "10\n"
     ]
    }
   ],
   "source": [
    "for i in range(1, 100):\n",
    "  print(i)\n",
    "  if i >= 10:\n",
    "    break"
   ]
  },
  {
   "cell_type": "code",
   "execution_count": 37,
   "id": "9d62fcd8",
   "metadata": {},
   "outputs": [
    {
     "name": "stdout",
     "output_type": "stream",
     "text": [
      "1\n",
      "3\n",
      "5\n",
      "7\n",
      "9\n",
      "11\n",
      "13\n",
      "15\n",
      "17\n",
      "19\n"
     ]
    }
   ],
   "source": [
    "for i in range(1, 20):\n",
    "  if i%2==0: # if no is even then start the loop again\n",
    "    continue\n",
    "  print(i)"
   ]
  },
  {
   "cell_type": "code",
   "execution_count": 38,
   "id": "1485cf21",
   "metadata": {},
   "outputs": [
    {
     "name": "stdout",
     "output_type": "stream",
     "text": [
      "1\n"
     ]
    }
   ],
   "source": [
    "for i in range(1, 20):\n",
    "  if i%2==0: # stop the loop then and their\n",
    "    break\n",
    "  print(i)"
   ]
  },
  {
   "cell_type": "code",
   "execution_count": 39,
   "id": "a6cb30f9",
   "metadata": {},
   "outputs": [
    {
     "name": "stdout",
     "output_type": "stream",
     "text": [
      "2\n",
      "4\n",
      "6\n",
      "8\n",
      "10\n",
      "12\n",
      "14\n",
      "16\n",
      "18\n"
     ]
    }
   ],
   "source": [
    "for i in range(1, 20):\n",
    "  if i%2!=0: # if no is odd then start the loop again\n",
    "    continue\n",
    "  print(i)"
   ]
  },
  {
   "cell_type": "code",
   "execution_count": 40,
   "id": "c709b3c8",
   "metadata": {},
   "outputs": [
    {
     "name": "stdout",
     "output_type": "stream",
     "text": [
      "Current station is: Station 01\n",
      "Current station is: Station 02\n",
      "Current station is: Station 03\n"
     ]
    }
   ],
   "source": [
    "# Train journey \n",
    "stations = [\"Station 01\", \"Station 02\", \"Station 03\", \"Station 04\"]\n",
    "\n",
    "for current_station in stations:\n",
    "  print(f\"Current station is: {current_station}\")\n",
    "  if current_station == \"Station 03\":\n",
    "    break"
   ]
  },
  {
   "cell_type": "code",
   "execution_count": 41,
   "id": "3999765b",
   "metadata": {},
   "outputs": [
    {
     "name": "stdout",
     "output_type": "stream",
     "text": [
      "Current station is: Station 01\n",
      "Current station is: Station 02\n"
     ]
    }
   ],
   "source": [
    "# Train journey \n",
    "stations = [\"Station 01\", \"Station 02\", \"Station 03\", \"Station 04\"]\n",
    "\n",
    "for current_station in stations:\n",
    "  print(f\"Current station is: {current_station}\")\n",
    "  if current_station == \"Station 02\":\n",
    "    break"
   ]
  },
  {
   "cell_type": "code",
   "execution_count": 42,
   "id": "18cb3516",
   "metadata": {},
   "outputs": [
    {
     "name": "stdout",
     "output_type": "stream",
     "text": [
      "Current station is: Station 01\n",
      "Current station is: Station 02\n",
      "Current station is: Station 03\n",
      "Current station is: Station 04\n"
     ]
    }
   ],
   "source": [
    "# Train journey \n",
    "stations = [\"Station 01\", \"Station 02\", \"Station 03\", \"Station 04\"]\n",
    "\n",
    "for current_station in stations:\n",
    "  print(f\"Current station is: {current_station}\")\n",
    "  if current_station == \"Station 02\":\n",
    "    continue"
   ]
  },
  {
   "cell_type": "code",
   "execution_count": 43,
   "id": "722c1fe7",
   "metadata": {},
   "outputs": [
    {
     "name": "stdout",
     "output_type": "stream",
     "text": [
      "Current station is: Station 01\n",
      "Current station is: Station 03\n",
      "Current station is: Station 04\n"
     ]
    }
   ],
   "source": [
    "# Train journey \n",
    "stations = [\"Station 01\", \"Station 02\", \"Station 03\", \"Station 04\"]\n",
    "\n",
    "for current_station in stations:\n",
    "  if current_station == \"Station 02\":\n",
    "    continue\n",
    "  print(f\"Current station is: {current_station}\")"
   ]
  },
  {
   "cell_type": "markdown",
   "id": "c660a5b3",
   "metadata": {},
   "source": [
    "break: it completely stops the loop\n",
    "\n",
    "continue: it skips the current loop or it skips all the statement after continue keyword"
   ]
  },
  {
   "cell_type": "markdown",
   "id": "b2f65509",
   "metadata": {},
   "source": [
    "# pass"
   ]
  },
  {
   "cell_type": "code",
   "execution_count": 45,
   "id": "886cbd10",
   "metadata": {},
   "outputs": [],
   "source": [
    "for i in range(1, 10):\n",
    "  pass # I want to write code later. it is just like I am not sure what to write then use pass"
   ]
  },
  {
   "cell_type": "code",
   "execution_count": 46,
   "id": "571720d3",
   "metadata": {},
   "outputs": [
    {
     "name": "stdout",
     "output_type": "stream",
     "text": [
      "Current station is: Station 01\n",
      "Current station is: Station 02\n",
      "Current station is: Station 03\n",
      "Current station is: Station 04\n"
     ]
    }
   ],
   "source": [
    "# Train journey \n",
    "stations = [\"Station 01\", \"Station 02\", \"Station 03\", \"Station 04\"]\n",
    "\n",
    "for current_station in stations:\n",
    "  if current_station == \"Station 02\":\n",
    "    pass\n",
    "  print(f\"Current station is: {current_station}\")"
   ]
  },
  {
   "cell_type": "code",
   "execution_count": null,
   "id": "2bf78c6e",
   "metadata": {},
   "outputs": [],
   "source": []
  }
 ],
 "metadata": {
  "kernelspec": {
   "display_name": "Python 3 (ipykernel)",
   "language": "python",
   "name": "python3"
  },
  "language_info": {
   "codemirror_mode": {
    "name": "ipython",
    "version": 3
   },
   "file_extension": ".py",
   "mimetype": "text/x-python",
   "name": "python",
   "nbconvert_exporter": "python",
   "pygments_lexer": "ipython3",
   "version": "3.10.9"
  }
 },
 "nbformat": 4,
 "nbformat_minor": 5
}
