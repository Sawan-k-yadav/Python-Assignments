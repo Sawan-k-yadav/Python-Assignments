{
 "cells": [
  {
   "cell_type": "code",
   "execution_count": 1,
   "id": "d8a19d73",
   "metadata": {},
   "outputs": [],
   "source": [
    "import os\n",
    "os.chdir('E:\\Sawan folder e drive\\FSDS\\Python')"
   ]
  },
  {
   "cell_type": "code",
   "execution_count": 1,
   "id": "647fb09e",
   "metadata": {},
   "outputs": [
    {
     "ename": "NameError",
     "evalue": "name 'raining' is not defined",
     "output_type": "error",
     "traceback": [
      "\u001b[1;31m---------------------------------------------------------------------------\u001b[0m",
      "\u001b[1;31mNameError\u001b[0m                                 Traceback (most recent call last)",
      "Cell \u001b[1;32mIn[1], line 1\u001b[0m\n\u001b[1;32m----> 1\u001b[0m \u001b[38;5;28;01mif\u001b[39;00m \u001b[43mraining\u001b[49m: \u001b[38;5;66;03m# TRUE CONDITION \u001b[39;00m\n\u001b[0;32m      2\u001b[0m     \u001b[38;5;28mprint\u001b[39m(\u001b[38;5;124m\"\u001b[39m\u001b[38;5;124mLets do work from home\u001b[39m\u001b[38;5;124m\"\u001b[39m) \u001b[38;5;66;03m# This statemen exectuted\u001b[39;00m\n\u001b[0;32m      3\u001b[0m \u001b[38;5;28;01melse\u001b[39;00m:\n",
      "\u001b[1;31mNameError\u001b[0m: name 'raining' is not defined"
     ]
    }
   ],
   "source": [
    "if raining: # TRUE CONDITION \n",
    "    print(\"Lets do work from home\") # This statemen exectuted\n",
    "else:\n",
    "    print(\"Lets go to office\")"
   ]
  },
  {
   "cell_type": "code",
   "execution_count": 2,
   "id": "51c0bbdc",
   "metadata": {},
   "outputs": [
    {
     "name": "stdout",
     "output_type": "stream",
     "text": [
      "Since class is not started...\n",
      "let's revise\n"
     ]
    }
   ],
   "source": [
    "#if your code has indentation error then select all the code which is not indendate correctly. type shift tab and tab they all \n",
    "#will be allign correctly\n",
    "class_started = False\n",
    "\n",
    "if not class_started:\n",
    "    print(\"Since class is not started...\")\n",
    "    print(\"let's revise\")\n",
    "else:\n",
    "    print(\"Since class started...\")\n",
    "    print(\"Lets concentrate\")"
   ]
  },
  {
   "cell_type": "code",
   "execution_count": 3,
   "id": "dd3a0e04",
   "metadata": {},
   "outputs": [
    {
     "name": "stdout",
     "output_type": "stream",
     "text": [
      "I am stuck as I don't have car or bike!\n"
     ]
    }
   ],
   "source": [
    "i_own_car = False\n",
    "i_own_bike = False\n",
    "\n",
    "if i_own_car or i_own_bike:\n",
    "    print(\"I can travel 100 kms in a day!\")\n",
    "else:\n",
    "    print(\"I am stuck as I don't have car or bike!\")"
   ]
  },
  {
   "cell_type": "markdown",
   "id": "a7a6a14d",
   "metadata": {},
   "source": [
    "# attendance\tassignment\teligible_for_exam\n",
    "## >=75%\t>=70%\tTrue\n"
   ]
  },
  {
   "cell_type": "code",
   "execution_count": 4,
   "id": "ea344bdb",
   "metadata": {},
   "outputs": [
    {
     "name": "stdout",
     "output_type": "stream",
     "text": [
      "attendence criteria met? : False\n",
      "assignment criteria met? : False\n",
      "The student is not eligible\n"
     ]
    }
   ],
   "source": [
    "attendance = 70\n",
    "assignment_submitted = 40\n",
    "\n",
    "print(f\"attendence criteria met? : {attendance >= 75}\")\n",
    "print(f\"assignment criteria met? : {assignment_submitted >= 70}\")\n",
    "\n",
    "if attendance >= 75 and assignment_submitted >= 70:\n",
    "    print(\"The student is eligible to appear in final exam\")\n",
    "else:\n",
    "    print(\"The student is not eligible\")"
   ]
  },
  {
   "cell_type": "code",
   "execution_count": 5,
   "id": "1b852eb5",
   "metadata": {},
   "outputs": [
    {
     "name": "stdout",
     "output_type": "stream",
     "text": [
      "attendence criteria met ? : True \n",
      "assignment_submitted criteria met ? : False\n",
      "You are not eligible for exam\n"
     ]
    }
   ],
   "source": [
    "attendance = 90\n",
    "assignment_submitted = 40\n",
    "\n",
    "print(f\"attendence criteria met ? : {attendance > 75} \")\n",
    "print(f\"assignment_submitted criteria met ? : {assignment_submitted >= 70}\")\n",
    "\n",
    "if attendance > 75 and assignment_submitted >= 70:\n",
    "    print(\"You are eligible for exam\")\n",
    "else:\n",
    "    print(\"You are not eligible for exam\")"
   ]
  },
  {
   "cell_type": "code",
   "execution_count": 7,
   "id": "2ca334c9",
   "metadata": {},
   "outputs": [
    {
     "name": "stdout",
     "output_type": "stream",
     "text": [
      "Enter your attendance percentage: 50\n",
      "Enter your assignment_submitted: 30\n",
      "attendence criteria met ? : False \n",
      "assignment_submitted criteria met ? : False\n",
      "You are not eligible for exam\n"
     ]
    }
   ],
   "source": [
    "attendance = int(input(\"Enter your attendance percentage: \"))\n",
    "assignment_submitted = int(input(\"Enter your assignment_submitted: \"))\n",
    "\n",
    "print(f\"attendence criteria met ? : {attendance > 75} \")\n",
    "print(f\"assignment_submitted criteria met ? : {assignment_submitted >= 70}\")\n",
    "\n",
    "if attendance > 75 and assignment_submitted >= 70:\n",
    "    print(\"You are eligible for exam\")\n",
    "else:\n",
    "    print(\"You are not eligible for exam\")"
   ]
  },
  {
   "cell_type": "code",
   "execution_count": 12,
   "id": "3b60c415",
   "metadata": {},
   "outputs": [
    {
     "name": "stdout",
     "output_type": "stream",
     "text": [
      "Enter your current marks: 400\n",
      "Enter your attendance percentage: 80\n",
      "Enter your assignment_submitted: 70\n",
      "Are you sports player ?: [1 for true and 0 for false] :1\n",
      "attendence criteria met? : True\n",
      "assignment criteria met? : True\n",
      "sports criteria met? : 1\n",
      "The student can get grace marks = +10 and updated marks is 410\n"
     ]
    }
   ],
   "source": [
    "\"\"\"attendance = 90 # mendatory\n",
    "assignment_submitted = 40 # mendatory\n",
    "sports_player = True # not mendatory\"\"\"\n",
    "\n",
    "Current_marks = int(input(\"Enter your current marks: \"))\n",
    "attendance = int(input(\"Enter your attendance percentage: \"))\n",
    "assignment_submitted = int(input(\"Enter your assignment_submitted: \"))\n",
    "sports_player = int(input(\"Are you sports player ?: [1 for true and 0 for false] :\"))\n",
    "\n",
    "print(f\"attendence criteria met? : {attendance >= 75}\")\n",
    "print(f\"assignment criteria met? : {assignment_submitted >= 70}\")\n",
    "print(f\"sports criteria met? : {sports_player}\")\n",
    "\n",
    "if attendance >= 75 and assignment_submitted >= 70:\n",
    "    if sports_player:\n",
    "        print(f\"The student can get grace marks = +10 and updated marks is {Current_marks + 10}\")\n",
    "    else:\n",
    "        print(\"The student is eligible to appear in final exam but not extra grace marks\")\n",
    "else:\n",
    "    print(\"The student is not eligible\")"
   ]
  },
  {
   "cell_type": "markdown",
   "id": "17a3b419",
   "metadata": {},
   "source": [
    "# Operator |\tuses |\tMeaning\n",
    "## is\t     |     A is B=> |\treturn True if A and B points to the same object\n",
    "## is not |\tA is not B |\treturns True if A and B do not points to the same object\n",
    "## ==\t| A == B |\tA is equal to B\n",
    "## != |\tA != B |\tA is not equal to B"
   ]
  },
  {
   "cell_type": "code",
   "execution_count": 13,
   "id": "807a0809",
   "metadata": {},
   "outputs": [
    {
     "name": "stdout",
     "output_type": "stream",
     "text": [
      "A and B are same\n"
     ]
    }
   ],
   "source": [
    "A = 1\n",
    "B = 1\n",
    "\n",
    "if A is B:\n",
    "    print(\"A and B are same\")\n",
    "else:\n",
    "    print(\"A and B are not same\")"
   ]
  },
  {
   "cell_type": "code",
   "execution_count": 14,
   "id": "3b41f065",
   "metadata": {},
   "outputs": [
    {
     "data": {
      "text/plain": [
       "2211638018288"
      ]
     },
     "execution_count": 14,
     "metadata": {},
     "output_type": "execute_result"
    }
   ],
   "source": [
    "id(A)"
   ]
  },
  {
   "cell_type": "code",
   "execution_count": 15,
   "id": "0d155069",
   "metadata": {},
   "outputs": [
    {
     "data": {
      "text/plain": [
       "2211638018288"
      ]
     },
     "execution_count": 15,
     "metadata": {},
     "output_type": "execute_result"
    }
   ],
   "source": [
    "id(B)"
   ]
  },
  {
   "cell_type": "code",
   "execution_count": 16,
   "id": "97ee6674",
   "metadata": {},
   "outputs": [],
   "source": [
    "#here both A and B are pointing to same memory location hence this is operatore checking if both memory locations are same"
   ]
  },
  {
   "cell_type": "code",
   "execution_count": 22,
   "id": "88e4ed66",
   "metadata": {},
   "outputs": [
    {
     "name": "stdout",
     "output_type": "stream",
     "text": [
      "A and B are not same\n",
      "new line\n",
      "A and B are same\n"
     ]
    }
   ],
   "source": [
    "A = 1\n",
    "B = 2\n",
    "\n",
    "if A is B:\n",
    "    print(\"A and B are same\")\n",
    "else:\n",
    "    print(\"A and B are not same\")\n",
    "    \n",
    "print(\"new line\")    \n",
    "A = 1\n",
    "B = 2\n",
    "\n",
    "if A is not B:\n",
    "    print(\"A and B are same\")\n",
    "else:\n",
    "    print(\"A and B are not same\")"
   ]
  },
  {
   "cell_type": "code",
   "execution_count": 18,
   "id": "4a323fe2",
   "metadata": {},
   "outputs": [
    {
     "data": {
      "text/plain": [
       "2211638018288"
      ]
     },
     "execution_count": 18,
     "metadata": {},
     "output_type": "execute_result"
    }
   ],
   "source": [
    "id(A)"
   ]
  },
  {
   "cell_type": "code",
   "execution_count": 19,
   "id": "01d6f483",
   "metadata": {},
   "outputs": [
    {
     "data": {
      "text/plain": [
       "2211638018320"
      ]
     },
     "execution_count": 19,
     "metadata": {},
     "output_type": "execute_result"
    }
   ],
   "source": [
    "id(B)"
   ]
  },
  {
   "cell_type": "code",
   "execution_count": 20,
   "id": "6eb4f810",
   "metadata": {},
   "outputs": [],
   "source": [
    "#here both A and B are not pointing to same memory location hence this is operatore checking that both memory locations are \n",
    "#not same"
   ]
  },
  {
   "cell_type": "code",
   "execution_count": 23,
   "id": "ab5d094c",
   "metadata": {},
   "outputs": [
    {
     "name": "stdout",
     "output_type": "stream",
     "text": [
      "A and B are same\n"
     ]
    }
   ],
   "source": [
    "A = 1\n",
    "B = 1\n",
    "\n",
    "if A == B: # A and B are having same value\n",
    "    print(\"A and B are same\")\n",
    "else:\n",
    "    print(\"A and B are not same\")"
   ]
  },
  {
   "cell_type": "code",
   "execution_count": 24,
   "id": "15979ef0",
   "metadata": {},
   "outputs": [],
   "source": [
    "#here this ==  operator check if both the A and B has same value "
   ]
  },
  {
   "cell_type": "code",
   "execution_count": 25,
   "id": "32a88117",
   "metadata": {},
   "outputs": [
    {
     "name": "stdout",
     "output_type": "stream",
     "text": [
      "A and B are not same\n"
     ]
    }
   ],
   "source": [
    "A = 1\n",
    "B = 2\n",
    "\n",
    "if A != B:\n",
    "    print(\"A and B are not same\")\n",
    "else:\n",
    "    print(\"A and B are same\")"
   ]
  },
  {
   "cell_type": "code",
   "execution_count": 26,
   "id": "542e410b",
   "metadata": {},
   "outputs": [
    {
     "data": {
      "text/plain": [
       "False"
      ]
     },
     "execution_count": 26,
     "metadata": {},
     "output_type": "execute_result"
    }
   ],
   "source": [
    "A = [\"Sunny\", \"Rishav\"]  # list data structure # array in other language\n",
    "B = [\"Sunny\", \"Rishav\"]\n",
    "\n",
    "A is B"
   ]
  },
  {
   "cell_type": "code",
   "execution_count": 27,
   "id": "1d553bac",
   "metadata": {},
   "outputs": [
    {
     "data": {
      "text/plain": [
       "True"
      ]
     },
     "execution_count": 27,
     "metadata": {},
     "output_type": "execute_result"
    }
   ],
   "source": [
    "A is not B"
   ]
  },
  {
   "cell_type": "code",
   "execution_count": 28,
   "id": "495d2850",
   "metadata": {},
   "outputs": [
    {
     "data": {
      "text/plain": [
       "2211738468672"
      ]
     },
     "execution_count": 28,
     "metadata": {},
     "output_type": "execute_result"
    }
   ],
   "source": [
    "id(A)"
   ]
  },
  {
   "cell_type": "code",
   "execution_count": 29,
   "id": "cfd5b0a9",
   "metadata": {},
   "outputs": [
    {
     "data": {
      "text/plain": [
       "2211746108032"
      ]
     },
     "execution_count": 29,
     "metadata": {},
     "output_type": "execute_result"
    }
   ],
   "source": [
    "id(B)"
   ]
  },
  {
   "cell_type": "code",
   "execution_count": 31,
   "id": "01d6c227",
   "metadata": {},
   "outputs": [],
   "source": [
    "# here both A and B are list with the same value in but they are not same when checking with is operator for its memory location\n",
    "#because python does not treat two list variable with same memory location even if they have same value in it\n",
    "#As this may conflict other. mean if even we want to change B by adding extra value it will add same value in A as well (which \n",
    "#we dont want) if both will point to same value.that is why python doenot treat two list variable with same memory location even\n",
    "#if they have same value in it"
   ]
  },
  {
   "cell_type": "code",
   "execution_count": 32,
   "id": "c481f63d",
   "metadata": {},
   "outputs": [
    {
     "data": {
      "text/plain": [
       "True"
      ]
     },
     "execution_count": 32,
     "metadata": {},
     "output_type": "execute_result"
    }
   ],
   "source": [
    "A == B"
   ]
  },
  {
   "cell_type": "code",
   "execution_count": 33,
   "id": "3cf53662",
   "metadata": {},
   "outputs": [],
   "source": [
    "# == operator give true value because it check value which A and B has not memory location"
   ]
  },
  {
   "cell_type": "code",
   "execution_count": 36,
   "id": "3ce9e118",
   "metadata": {},
   "outputs": [
    {
     "name": "stdout",
     "output_type": "stream",
     "text": [
      "False\n",
      "True\n"
     ]
    }
   ],
   "source": [
    "A = [\"Sunny\", \"Rishav\"]  # list data structure # array in other language\n",
    "B = [\"Sunny\", \"Rishav\", 3]\n",
    "\n",
    "print(A == B)\n",
    "print(A != B)"
   ]
  },
  {
   "cell_type": "code",
   "execution_count": null,
   "id": "43e9da5e",
   "metadata": {},
   "outputs": [],
   "source": []
  }
 ],
 "metadata": {
  "kernelspec": {
   "display_name": "Python 3 (ipykernel)",
   "language": "python",
   "name": "python3"
  },
  "language_info": {
   "codemirror_mode": {
    "name": "ipython",
    "version": 3
   },
   "file_extension": ".py",
   "mimetype": "text/x-python",
   "name": "python",
   "nbconvert_exporter": "python",
   "pygments_lexer": "ipython3",
   "version": "3.10.9"
  }
 },
 "nbformat": 4,
 "nbformat_minor": 5
}
