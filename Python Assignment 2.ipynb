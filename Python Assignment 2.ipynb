{
 "cells": [
  {
   "cell_type": "markdown",
   "id": "9b6a19e1",
   "metadata": {},
   "source": [
    "# #1.What are the two values of the Boolean data type? How do you write them?"
   ]
  },
  {
   "cell_type": "markdown",
   "id": "ac17bbaa",
   "metadata": {},
   "source": [
    "## Ans: Two Values of Boolean data type are:\n",
    "## True and False\n",
    "### There are different type of way to write this data type:\n",
    "### small letter - true , false\n",
    "### Capital letter - TRUE, FALSE\n",
    "### Binary form - 1 (For True), 0(False)"
   ]
  },
  {
   "cell_type": "markdown",
   "id": "0709f768",
   "metadata": {},
   "source": [
    "# 2 What are the three different types of Boolean operators?"
   ]
  },
  {
   "cell_type": "markdown",
   "id": "d429a796",
   "metadata": {},
   "source": [
    "## Ans: Three different types of Boolean operators are:\n",
    "### AND, OR, NOT"
   ]
  },
  {
   "cell_type": "markdown",
   "id": "d3b83682",
   "metadata": {},
   "source": [
    "# 3. Make a list of each Boolean operator's truth tables (i.e. every possible combination of Boolean values for the operator and what it evaluate ).\n",
    "\n",
    "## Ans: Truth tables for the three Boolean operators are:\n",
    "\n",
    "### AND operator\n",
    "\n",
    "  A  \tB\t    A and B\n",
    "\n",
    "True\tTrue\tTrue\n",
    "\n",
    "True\tFalse\tFalse\n",
    "\n",
    "False\tTrue\tFalse\n",
    "\n",
    "False\tFalse\tFalse\n",
    "\n",
    "\n",
    "### OR operator\n",
    "\n",
    "A\t    B\t    A or B\n",
    "\n",
    "True\tTrue\tTrue\n",
    "\n",
    "True\tFalse\tTrue\n",
    "\n",
    "False\tTrue\tTrue\n",
    "\n",
    "False\tFalse\tFalse\n",
    "\n",
    "\n",
    "\n",
    "### NOT operator\n",
    "\n",
    "A\t    not A\n",
    "\n",
    "True\tFalse\n",
    "\n",
    "False\tTrue"
   ]
  },
  {
   "cell_type": "markdown",
   "id": "84161534",
   "metadata": {},
   "source": [
    "# 4. What are the values of the following expressions?\n",
    "### (5 > 4) and (3 == 5) -- False\n",
    "### not (5 > 4)  -- False\n",
    "### (5 > 4) or (3 == 5) -- True\n",
    "### not ((5 > 4) or (3 == 5)) -- False\n",
    "### (True and True) and (True == False)  -- False\n",
    "### (not False) or (not True)  --  True"
   ]
  },
  {
   "cell_type": "markdown",
   "id": "2c6a31cd",
   "metadata": {},
   "source": [
    "# 5. What are the six comparison operators?\n",
    "\n",
    "## Less than (<)\n",
    "## Less than or equal to (<=)\n",
    "## Greater than (>)\n",
    "## Greater than or equal to (>=)\n",
    "## Equal to (==)\n",
    "## Not equal to (!=)"
   ]
  },
  {
   "cell_type": "markdown",
   "id": "826da45b",
   "metadata": {},
   "source": [
    "# 6. How do you tell the difference between the equal to and assignment operators?Describe a condition and when you would use one.\n",
    "\n",
    "## The equal to operator (==) is used to compare two values while assignment operator (=) is used to assign a value to a variable.\n",
    "\n",
    "### Example: if a = 10 and b = 20 we will compare if a == b then it will return as both are not equal.\n",
    "### Example: a = 2 then 2 is assigned to variable to 'a'"
   ]
  },
  {
   "cell_type": "markdown",
   "id": "6d799ab4",
   "metadata": {},
   "source": [
    "# 7. Identify the three blocks in this code:\n"
   ]
  },
  {
   "cell_type": "code",
   "execution_count": 2,
   "id": "8ad006fa",
   "metadata": {},
   "outputs": [
    {
     "name": "stdout",
     "output_type": "stream",
     "text": [
      "ham\n",
      "spam\n",
      "spam\n"
     ]
    }
   ],
   "source": [
    "spam = 0\n",
    "\n",
    "#First Block\n",
    "if spam == 10:\n",
    "    print('eggs')\n",
    "\n",
    "#Second Block\n",
    "if spam > 5:\n",
    "    print('bacon')\n",
    "else:\n",
    "    print('ham')\n",
    "\n",
    "#Thrird Block\n",
    "print('spam')\n",
    "print('spam')"
   ]
  },
  {
   "cell_type": "markdown",
   "id": "d2621cd5",
   "metadata": {},
   "source": [
    "# 8. Write code that prints Hello if 1 is stored in spam, prints Howdy if 2 is stored in spam, and prints Greetings! if anything else is stored in spam."
   ]
  },
  {
   "cell_type": "code",
   "execution_count": 7,
   "id": "3ae4ba2b",
   "metadata": {},
   "outputs": [
    {
     "name": "stdout",
     "output_type": "stream",
     "text": [
      "Enter your choice 1, 2 or any no.  ::2\n",
      "Howdy\n"
     ]
    }
   ],
   "source": [
    "spam = int(input(\"Enter your choice 1, 2 or any no.  ::\"))\n",
    "\n",
    "if spam == 1:\n",
    "    print(\"Hello\")\n",
    "elif spam == 2:\n",
    "    print(\"Howdy\")\n",
    "else:\n",
    "    print(\"Greeings\")"
   ]
  },
  {
   "cell_type": "markdown",
   "id": "36940167",
   "metadata": {},
   "source": [
    "# 9.If your programme is stuck in an endless loop, what keys you’ll press?\n",
    "## Ctrl+C"
   ]
  },
  {
   "cell_type": "markdown",
   "id": "68ac30bb",
   "metadata": {},
   "source": [
    "# 10. How can you tell the difference between break and continue?\n",
    "### The break statement terminates the loop completely, while the continue statement simply skips the rest of the current iteration of the loop and continues with the next iteration."
   ]
  },
  {
   "cell_type": "markdown",
   "id": "ea144c75",
   "metadata": {},
   "source": [
    "# 11. In a for loop, what is the difference between range(10), range(0, 10), and range(0, 10, 1)?\n",
    "\n",
    "## range(10): This will return a sequence of numbers from 0 to 9, inclusive.\n",
    "## range(0, 10): This will also return a sequence of numbers from 0 to 9, inclusive. However, the start argument is explicitly set to 0, so there is no need to specify it in the function call.\n",
    "## range(0, 10, 1): This will return a sequence of numbers from 0 to 9, inclusive, with a step size of 1. The step argument specifies the increment between each number in the sequence."
   ]
  },
  {
   "cell_type": "markdown",
   "id": "a0cfcae4",
   "metadata": {},
   "source": [
    "# 12. Write a short program that prints the numbers 1 to 10 using a for loop. Then write an equivalent program that prints the numbers 1 to 10 using a while loop."
   ]
  },
  {
   "cell_type": "code",
   "execution_count": 16,
   "id": "07720250",
   "metadata": {},
   "outputs": [
    {
     "name": "stdout",
     "output_type": "stream",
     "text": [
      "1\n",
      "2\n",
      "3\n",
      "4\n",
      "5\n",
      "6\n",
      "7\n",
      "8\n",
      "9\n",
      "10\n",
      "1\n",
      "2\n",
      "3\n",
      "4\n",
      "5\n",
      "6\n",
      "7\n",
      "8\n",
      "9\n",
      "10\n"
     ]
    }
   ],
   "source": [
    "#For loop\n",
    "for i in range(10):\n",
    "    print(i+1)\n",
    "    \n",
    "#while loop\n",
    "i = 1\n",
    "while i <= 10:\n",
    "    print(i)\n",
    "    i+=1"
   ]
  },
  {
   "cell_type": "markdown",
   "id": "5db9d633",
   "metadata": {},
   "source": [
    "# 13. If you had a function named bacon() inside a module named spam, how would you call it after importing spam?\n",
    "\n",
    "### import spam\n",
    "\n",
    "### spam.bacon()"
   ]
  },
  {
   "cell_type": "code",
   "execution_count": null,
   "id": "4f4cee58",
   "metadata": {},
   "outputs": [],
   "source": []
  }
 ],
 "metadata": {
  "kernelspec": {
   "display_name": "Python 3 (ipykernel)",
   "language": "python",
   "name": "python3"
  },
  "language_info": {
   "codemirror_mode": {
    "name": "ipython",
    "version": 3
   },
   "file_extension": ".py",
   "mimetype": "text/x-python",
   "name": "python",
   "nbconvert_exporter": "python",
   "pygments_lexer": "ipython3",
   "version": "3.10.9"
  }
 },
 "nbformat": 4,
 "nbformat_minor": 5
}
