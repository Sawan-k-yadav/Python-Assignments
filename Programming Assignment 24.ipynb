{
 "cells": [
  {
   "cell_type": "markdown",
   "id": "d0635eb5",
   "metadata": {},
   "source": [
    "# Question1\n",
    "## Create a function that takes an integer and returns a list from 1 to the given number, where:\n",
    "\n",
    "1. If the number can be divided evenly by 4, amplify it by 10 (i.e. return 10 times thenumber).\n",
    "\n",
    "2. If the number cannot be divided evenly by 4, simply return the number.\n",
    "\n",
    "Examples\n",
    "amplify(4) ➞ [1, 2, 3, 40]\n",
    "amplify(3) ➞ [1, 2, 3]\n",
    "amplify(25) ➞ [1, 2, 3, 40, 5, 6, 7, 80, 9, 10, 11, 120, 13, 14, 15, 160,\n",
    "17, 18, 19, 200, 21, 22, 23, 240, 25]\n",
    "\n",
    "Notes\n",
    " The given integer will always be equal to or greater than 1.\n",
    " Include the number (see example above).\n",
    " To perform this problem with its intended purpose, try doing it with list\n",
    "comprehensions. If that&#39;s too difficult, just solve the challenge any way you can."
   ]
  },
  {
   "cell_type": "code",
   "execution_count": 6,
   "id": "9d824de3",
   "metadata": {},
   "outputs": [
    {
     "name": "stdout",
     "output_type": "stream",
     "text": [
      "[1, 2, 3, 40, 5, 6]\n",
      "[1, 2, 3, 40, 5, 6, 7, 80]\n"
     ]
    }
   ],
   "source": [
    "# def amplify(n):\n",
    "#     L1 = list()\n",
    "#     for i in range(n):\n",
    "#         if n % 4 != 0:\n",
    "#             L1.append(i+1)\n",
    "#         else:\n",
    "#             if (i+1) % 4 != 0:\n",
    "#                 L1.append(i+1)\n",
    "#             else:\n",
    "#                 L1.append((i+1)*10)\n",
    "                \n",
    "#     return L1\n",
    "\n",
    "\n",
    "# print(amplify(6)) \n",
    "\n",
    "\n",
    "def amplify(n):\n",
    "    L1 = list()\n",
    "    for i in range(1, n+1):\n",
    "        if i%4 == 0:\n",
    "            L1.append(i*10)\n",
    "        else:\n",
    "            L1.append(i)\n",
    "            \n",
    "    return L1\n",
    "            \n",
    "\n",
    "            \n",
    "print(amplify(6))\n",
    "print(amplify(8))"
   ]
  },
  {
   "cell_type": "markdown",
   "id": "6bf0f64b",
   "metadata": {},
   "source": [
    "# Question2\n",
    "## Create a function that takes a list of numbers and return the number that&#39;s unique.\n",
    "\n",
    "# Examples\n",
    "unique([3, 3, 3, 7, 3, 3]) ➞ 7\n",
    "\n",
    "unique([0, 0, 0.77, 0, 0]) ➞ 0.77\n",
    "\n",
    "unique([0, 1, 1, 1, 1, 1, 1, 1]) ➞ 0\n",
    "\n",
    "### Notes\n",
    "Test cases will always have exactly one unique number while all others are the same."
   ]
  },
  {
   "cell_type": "code",
   "execution_count": 9,
   "id": "76f82dc4",
   "metadata": {},
   "outputs": [
    {
     "name": "stdout",
     "output_type": "stream",
     "text": [
      "7\n",
      "0\n"
     ]
    }
   ],
   "source": [
    "def unique(List1):\n",
    "    for i in List1:\n",
    "        if List1.count(i) == 1:\n",
    "            return i\n",
    "        \n",
    "        \n",
    "print(unique([3, 3, 3, 7, 3, 3]))\n",
    "\n",
    "print(unique([0, 1, 1, 1, 1, 1, 1, 1]))\n",
    "            "
   ]
  },
  {
   "cell_type": "markdown",
   "id": "bb18127a",
   "metadata": {},
   "source": [
    "# Question3\n",
    "## Your task is to create a Circle constructor that creates a circle with a radius provided by an argument. The circles constructed must have two getters getArea() (PIr^2) and getPerimeter() (2PI*r) which give both respective areas and perimeter (circumference).\n",
    "\n",
    "For help with this class, I have provided you with a Rectangle constructor which you can use\n",
    "as a base example.\n",
    "\n",
    "Examples\n",
    "\n",
    "circy = Circle(11)\n",
    "\n",
    "circy.getArea()\n",
    "\n",
    " Should return 380.132711084365\n",
    " \n",
    "circy = Circle(4.44)\n",
    "\n",
    "circy.getPerimeter()\n",
    "\n",
    " Should return 27.897342763877365\n",
    "\n",
    "### Notes\n",
    "Round results up to the nearest integer."
   ]
  },
  {
   "cell_type": "code",
   "execution_count": 16,
   "id": "98d228d8",
   "metadata": {},
   "outputs": [
    {
     "name": "stdout",
     "output_type": "stream",
     "text": [
      "380.132711084365\n",
      "27.897342763877365\n"
     ]
    }
   ],
   "source": [
    "import math\n",
    "\n",
    "class Circle:\n",
    "    def __init__(self, radius):\n",
    "        self.r = radius\n",
    "        \n",
    "    def getArea(self):\n",
    "        area = math.pi*self.r**2\n",
    "        return area\n",
    "        \n",
    "    def getPerimeter(self):\n",
    "        perimeter = 2*math.pi*self.r\n",
    "        return perimeter\n",
    "    \n",
    "    \n",
    "circy = Circle(11)\n",
    "\n",
    "print(circy.getArea())\n",
    "\n",
    "circy = Circle(4.44)\n",
    "\n",
    "print(circy.getPerimeter())\n",
    "        "
   ]
  },
  {
   "cell_type": "markdown",
   "id": "c02718f3",
   "metadata": {},
   "source": [
    "# Question4\n",
    "## Create a function that takes a list of strings and return a list, sorted from shortest to longest.\n",
    "\n",
    "Examples\n",
    "\n",
    "sort_by_length([&quot;Google&quot;, &quot;Apple&quot;, &quot;Microsoft&quot;])\n",
    "\n",
    "➞ [&quot;Apple&quot;, &quot;Google&quot;, &quot;Microsoft&quot;]\n",
    "\n",
    "sort_by_length([&quot;Leonardo&quot;, &quot;Michelangelo&quot;, &quot;Raphael&quot;, &quot;Donatello&quot;])\n",
    "\n",
    "➞ [&quot;Raphael&quot;, &quot;Leonardo&quot;, &quot;Donatello&quot;, &quot;Michelangelo&quot;]\n",
    "\n",
    "sort_by_length([&quot;Turing&quot;, &quot;Einstein&quot;, &quot;Jung&quot;])\n",
    "\n",
    "➞ [&quot;Jung&quot;, &quot;Turing&quot;, &quot;Einstein&quot;]\n",
    "\n",
    "### Notes\n",
    "\n",
    "All test cases contain lists with strings of different lengths, so you won&#39;t have to deal with multiple strings of the same length."
   ]
  },
  {
   "cell_type": "code",
   "execution_count": 19,
   "id": "7d311a26",
   "metadata": {},
   "outputs": [
    {
     "name": "stdout",
     "output_type": "stream",
     "text": [
      "['Apple', 'Google', 'Microsoft']\n",
      "['Donatello', 'Leonardo', 'Michelangelo', 'Raphael']\n"
     ]
    }
   ],
   "source": [
    "def sort_by_length(string):\n",
    "    output = []\n",
    "    output = sorted(string)\n",
    "    return output\n",
    "\n",
    "print(sort_by_length([\"Google\", \"Apple\", \"Microsoft\"]))\n",
    "print(sort_by_length([\"Leonardo\", \"Michelangelo\", \"Raphael\", \"Donatello\"]))"
   ]
  },
  {
   "cell_type": "markdown",
   "id": "e4951fa2",
   "metadata": {},
   "source": [
    "# Question5\n",
    "## Create a function that validates whether three given integers form a Pythagorean triplet. The sum of the squares of the two smallest integers must equal the square of the largest number to be validated.\n",
    "\n",
    "Examples\n",
    "\n",
    "is_triplet(3, 4, 5) ➞ True\n",
    "\n",
    "# 3² + 4² = 25\n",
    "# 5² = 25\n",
    "\n",
    "is_triplet(13, 5, 12) ➞ True\n",
    "\n",
    "# 5² + 12² = 169\n",
    "# 13² = 169\n",
    "\n",
    "is_triplet(1, 2, 3) ➞ False\n",
    "\n",
    "# 1² + 2² = 5\n",
    "# 3² = 9\n",
    "\n",
    "## Notes\n",
    "Numbers may not be given in a sorted order."
   ]
  },
  {
   "cell_type": "code",
   "execution_count": 37,
   "id": "324bcd9d",
   "metadata": {},
   "outputs": [
    {
     "name": "stdout",
     "output_type": "stream",
     "text": [
      "False\n",
      "True\n"
     ]
    }
   ],
   "source": [
    "def is_triplet(a,b,c):\n",
    "    L1 = []\n",
    "    for i in (a,b,c):\n",
    "        L1.append(i)\n",
    "    \n",
    "    L1 = sorted(L1)\n",
    "    \n",
    "    if L1[0]**2+L1[1]**2 == L1[2]**2:\n",
    "        return True\n",
    "    else:\n",
    "        return False\n",
    "    \n",
    "    \n",
    "print(is_triplet(1,2,3))\n",
    "print(is_triplet(13, 5, 12))"
   ]
  },
  {
   "cell_type": "code",
   "execution_count": 38,
   "id": "cc59089b",
   "metadata": {},
   "outputs": [
    {
     "name": "stdout",
     "output_type": "stream",
     "text": [
      "False\n",
      "True\n"
     ]
    }
   ],
   "source": [
    "# or 2nd method\n",
    "\n",
    "def is_triplet(a,b,c):\n",
    "    L1 = []\n",
    "    L1.extend((a,b,c))\n",
    "    L1 = sorted(L1)\n",
    "    \n",
    "    if L1[0]**2+L1[1]**2 == L1[2]**2:\n",
    "        return True\n",
    "    else:\n",
    "        return False\n",
    "    \n",
    "print(is_triplet(1,2,3))\n",
    "print(is_triplet(13, 5, 12))"
   ]
  },
  {
   "cell_type": "code",
   "execution_count": null,
   "id": "7f9881ca",
   "metadata": {},
   "outputs": [],
   "source": []
  }
 ],
 "metadata": {
  "kernelspec": {
   "display_name": "Python 3 (ipykernel)",
   "language": "python",
   "name": "python3"
  },
  "language_info": {
   "codemirror_mode": {
    "name": "ipython",
    "version": 3
   },
   "file_extension": ".py",
   "mimetype": "text/x-python",
   "name": "python",
   "nbconvert_exporter": "python",
   "pygments_lexer": "ipython3",
   "version": "3.10.9"
  }
 },
 "nbformat": 4,
 "nbformat_minor": 5
}
