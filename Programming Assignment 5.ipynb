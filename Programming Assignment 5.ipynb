{
 "cells": [
  {
   "cell_type": "markdown",
   "id": "ade17abb",
   "metadata": {},
   "source": [
    "1. Write a Python Program to Find LCM?"
   ]
  },
  {
   "cell_type": "code",
   "execution_count": 2,
   "id": "b42892b4",
   "metadata": {},
   "outputs": [
    {
     "name": "stdout",
     "output_type": "stream",
     "text": [
      "Enter first no. 3\n",
      "Enter second no. 4\n",
      "LCM of 3 and 4 is 12\n"
     ]
    }
   ],
   "source": [
    "def getHCF(num1, num2):\n",
    "    while num1!=num2:\n",
    "        if num1>num2:\n",
    "            num1-=num2\n",
    "        else:\n",
    "            num2-=num1\n",
    "    return num1\n",
    "\n",
    "num1 = int(input(\"Enter first no. \"))\n",
    "num2 = int(input(\"Enter second no. \"))\n",
    "\n",
    "\n",
    "# Calculating HCF here\n",
    "hcf = getHCF(num1, num2)\n",
    "\n",
    "# LCM formula\n",
    "lcm = (num1*num2)//hcf\n",
    "\n",
    "print(\"LCM of\", num1, \"and\", num2, \"is\", lcm)"
   ]
  },
  {
   "cell_type": "markdown",
   "id": "ec434b13",
   "metadata": {},
   "source": [
    "2. Write a Python Program to Find HCF?"
   ]
  },
  {
   "cell_type": "code",
   "execution_count": 3,
   "id": "ef3165e0",
   "metadata": {},
   "outputs": [
    {
     "name": "stdout",
     "output_type": "stream",
     "text": [
      "Enter first no. 2\n",
      "Enter second no. 5\n",
      "HCF of 2 and 5 is 1\n"
     ]
    }
   ],
   "source": [
    "def getHCF(num1, num2):\n",
    "    while num1!=num2:\n",
    "        if num1>num2:\n",
    "            num1-=num2\n",
    "        else:\n",
    "            num2-=num1\n",
    "    return num1\n",
    "\n",
    "\n",
    "num1 = int(input(\"Enter first no. \"))\n",
    "num2 = int(input(\"Enter second no. \"))\n",
    "\n",
    "# Calculating HCF here\n",
    "hcf = getHCF(num1, num2)\n",
    "\n",
    "# # LCM formula\n",
    "# lcm = (num1*num2)//hcf\n",
    "\n",
    "print(\"HCF of\", num1, \"and\", num2, \"is\", hcf)"
   ]
  },
  {
   "cell_type": "markdown",
   "id": "c5cfb65c",
   "metadata": {},
   "source": [
    "3. Write a Python Program to Convert Decimal to Binary, Octal and Hexadecimal?"
   ]
  },
  {
   "cell_type": "code",
   "execution_count": 10,
   "id": "078c6284",
   "metadata": {},
   "outputs": [
    {
     "name": "stdout",
     "output_type": "stream",
     "text": [
      "Enter any decimal number greater than Zero ::20\n",
      "Decimal to binary of 20, 10100  \n",
      "Decimal to binary of 20, 24\n",
      "Decimal to binary of 20, 14\n"
     ]
    }
   ],
   "source": [
    "  \"\"\"Converts a decimal number to binary.\"\"\"\n",
    "def decimal_to_binary(n):\n",
    "    binary = \"\"\n",
    "    while n > 0:\n",
    "        binary += str(n % 2)\n",
    "        n //= 2\n",
    "    return binary[::-1]\n",
    "\n",
    "\n",
    "\"\"\"Converts a decimal number to octal.\"\"\"\n",
    "def decimal_to_octal(n):\n",
    "    octal = \"\"\n",
    "    while n > 0:\n",
    "        octal += str(n % 8)\n",
    "        n //= 8\n",
    "    return octal[::-1]\n",
    "\n",
    "\n",
    "\"\"\"Converts a decimal number to hexadecimal.\"\"\"\n",
    "def decimal_to_hexadecimal(n):\n",
    "    hexadecimal = \"\"\n",
    "    while n > 0:\n",
    "        hexadecimal += str(n % 16)\n",
    "        n //= 16\n",
    "    return hexadecimal[::-1]\n",
    "\n",
    "Num  = int(input(\"Enter any decimal number greater than Zero ::\"))\n",
    "print(f\"Decimal to binary of {Num}, {decimal_to_binary(Num)}  \")\n",
    "print(f\"Decimal to binary of {Num}, {decimal_to_octal(Num)}\")\n",
    "print(f\"Decimal to binary of {Num}, {decimal_to_hexadecimal(Num)}\")"
   ]
  },
  {
   "cell_type": "markdown",
   "id": "d4173d4e",
   "metadata": {},
   "source": [
    "4. Write a Python Program To Find ASCII value of a character?"
   ]
  },
  {
   "cell_type": "code",
   "execution_count": 14,
   "id": "321967ae",
   "metadata": {},
   "outputs": [
    {
     "name": "stdout",
     "output_type": "stream",
     "text": [
      "Enter any character between A to Z, a to z or 0 to 9  :: A\n",
      "ASCII code of A  is 65\n"
     ]
    }
   ],
   "source": [
    "n = input(\"Enter any character between A to Z, a to z or 0 to 9  :: \")\n",
    "\n",
    "print(f\"ASCII code of {n}  is {ord(n)}\")"
   ]
  },
  {
   "cell_type": "markdown",
   "id": "b9e17ff9",
   "metadata": {},
   "source": [
    "5. Write a Python Program to Make a Simple Calculator with 4 basic mathematical operations?"
   ]
  },
  {
   "cell_type": "code",
   "execution_count": null,
   "id": "f719f5a7",
   "metadata": {},
   "outputs": [],
   "source": [
    "def sum(a, b):\n",
    "    return a+b\n",
    "\n",
    "def substract(a, b):\n",
    "    return a-b\n",
    "\n",
    "def multiply(a, b):\n",
    "    return a*b\n",
    "\n",
    "def devide(a, b):\n",
    "    return a/b\n",
    "\n",
    "n = int(input(\"Enter first no.  \"))\n",
    "m = int(input(\"Enter second no.  \"))\n",
    "\n",
    "print(f\"SUm of {n} and {m}  is {sum(n,m)}\")\n",
    "print(f\"substraction of {n} and {m}  is {substract(n,m)}\")\n",
    "print(f\"multiple of  of {n} and {m}  is {multiply(n,m)}\")\n",
    "print(f\"Division of {n} and {m}  is {sum(n,m)}\")"
   ]
  }
 ],
 "metadata": {
  "kernelspec": {
   "display_name": "Python 3 (ipykernel)",
   "language": "python",
   "name": "python3"
  },
  "language_info": {
   "codemirror_mode": {
    "name": "ipython",
    "version": 3
   },
   "file_extension": ".py",
   "mimetype": "text/x-python",
   "name": "python",
   "nbconvert_exporter": "python",
   "pygments_lexer": "ipython3",
   "version": "3.10.9"
  }
 },
 "nbformat": 4,
 "nbformat_minor": 5
}
