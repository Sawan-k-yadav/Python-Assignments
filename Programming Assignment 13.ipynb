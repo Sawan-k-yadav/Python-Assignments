{
 "cells": [
  {
   "cell_type": "markdown",
   "id": "8c8f3464",
   "metadata": {},
   "source": [
    "Question 1:\n",
    "Write a program that calculates and prints the value according to the given formula:\n",
    "Q = Square root of [(2 * C * D)/H]\n",
    "Following are the fixed values of C and H:\n",
    "C is 50. H is 30.\n",
    "D is the variable whose values should be input to your program in a comma-separated\n",
    "sequence.\n",
    "Example\n",
    "Let us assume the following comma separated input sequence is given to the program:\n",
    "100,150,180\n",
    "The output of the program should be:\n",
    "18,22,24"
   ]
  },
  {
   "cell_type": "code",
   "execution_count": 4,
   "id": "459e4482",
   "metadata": {},
   "outputs": [
    {
     "name": "stdout",
     "output_type": "stream",
     "text": [
      "No. of terms:  3\n",
      "Enter your value: 100\n",
      "Enter your value: 150\n",
      "Enter your value: 180\n",
      "[18, 22, 24]\n"
     ]
    }
   ],
   "source": [
    "import math\n",
    "\n",
    "def Q_value(D):\n",
    "    C = 50\n",
    "    H = 30\n",
    "    Q = math.sqrt((2*C*D)/H)\n",
    "    return Q\n",
    "\n",
    "D = list()\n",
    "\n",
    "n = int(input(\"No. of terms:  \"))\n",
    "\n",
    "for i in range(n):\n",
    "    x = int(input(\"Enter your value: \"))\n",
    "    D.append(x)\n",
    "    i+=1\n",
    "    \n",
    "Q = list()\n",
    "\n",
    "for d in D:\n",
    "    Q1 = Q_value(d)\n",
    "    Q.append(int(Q1))\n",
    "    d+=1\n",
    "    \n",
    "print(Q)\n",
    "\n"
   ]
  },
  {
   "cell_type": "markdown",
   "id": "563b5165",
   "metadata": {},
   "source": [
    "Question 2:\n",
    "Write a program which takes 2 digits, X,Y as input and generates a 2-dimensional array. The\n",
    "element value in the i-th row and j-th column of the array should be i*j.\n",
    "Note: i=0,1.., X-1; j=0,1,¡Y-1.\n",
    "Example\n",
    "Suppose the following inputs are given to the program:\n",
    "3,5\n",
    "Then, the output of the program should be:\n",
    "[[0, 0, 0, 0, 0], [0, 1, 2, 3, 4], [0, 2, 4, 6, 8]]"
   ]
  },
  {
   "cell_type": "code",
   "execution_count": 21,
   "id": "eeb6ba3b",
   "metadata": {},
   "outputs": [
    {
     "name": "stdout",
     "output_type": "stream",
     "text": [
      "Enter First no. of the 2D array dimention: 3\n",
      "Enter Second no. of the 2D array dimention: 5\n",
      "2D array of order 3 X 5 is :  [[0, 0, 0, 0, 0], [0, 1, 2, 3, 4], [0, 2, 4, 6, 8]]\n"
     ]
    }
   ],
   "source": [
    "X = int(input(\"Enter First no. of the 2D array dimention: \"))\n",
    " \n",
    "Y = int(input(\"Enter Second no. of the 2D array dimention: \"))\n",
    "\n",
    "A = list()\n",
    "\n",
    "for i in range(X):\n",
    "    n = list()\n",
    "    for j in range(Y):\n",
    "        n.append(i*j)\n",
    "    A.append(n)\n",
    "        \n",
    "        \n",
    "print(f\"2D array of order {X} X {Y} is :  {A}\")\n",
    "\n",
    "\n"
   ]
  },
  {
   "cell_type": "markdown",
   "id": "e323afa3",
   "metadata": {},
   "source": [
    "Question 3:\n",
    "Write a program that accepts a comma separated sequence of words as input and prints the\n",
    "words in a comma-separated sequence after sorting them alphabetically.\n",
    "Suppose the following input is supplied to the program:\n",
    "without,hello,bag,world\n",
    "Then, the output should be:\n",
    "bag,hello,without,world"
   ]
  },
  {
   "cell_type": "code",
   "execution_count": 23,
   "id": "ce773c53",
   "metadata": {},
   "outputs": [
    {
     "name": "stdout",
     "output_type": "stream",
     "text": [
      "Enter no. of term of words4\n",
      "Enter any word : without\n",
      "Enter any word : hello\n",
      "Enter any word : bag\n",
      "Enter any word : world\n",
      "All words without sorted form  :  ['without', 'hello', 'bag', 'world']\n",
      "All wrods with sorted form : ['bag', 'hello', 'without', 'world']\n"
     ]
    }
   ],
   "source": [
    "W = list()\n",
    "\n",
    "term = int(input(\"Enter no. of term of words\"))\n",
    "\n",
    "for i in range(term):\n",
    "    word = input(\"Enter any word : \")\n",
    "    W.append(word)\n",
    "    \n",
    "print(f\"All words without sorted form  :  {W}\")\n",
    "\n",
    "print(f\"All wrods with sorted form : {sorted(W)}\")\n",
    "    "
   ]
  },
  {
   "cell_type": "markdown",
   "id": "eac2323a",
   "metadata": {},
   "source": [
    "Question 4:\n",
    "Write a program that accepts a sequence of whitespace separated words as input and prints\n",
    "the words after removing all duplicate words and sorting them alphanumerically.\n",
    "Suppose the following input is supplied to the program:\n",
    "hello world and practice makes perfect and hello world again\n",
    "Then, the output should be:\n",
    "again and hello makes perfect practice world"
   ]
  },
  {
   "cell_type": "code",
   "execution_count": 5,
   "id": "b45c4f0b",
   "metadata": {},
   "outputs": [
    {
     "name": "stdout",
     "output_type": "stream",
     "text": [
      "Before sorting :: hello world and practice makes perfect and hello world again\n",
      "Sorted word is = again and hello makes perfect practice world\n"
     ]
    }
   ],
   "source": [
    "def aphanumaric_sorting(x):\n",
    "    x = x.split(' ')\n",
    "    output = []\n",
    "    for i in x:\n",
    "        if i not in output:\n",
    "            output.append(i)\n",
    "        \n",
    "    output.sort()\n",
    "    x = ' '.join(output)\n",
    "    return x\n",
    "    \n",
    "\n",
    "Word = \"hello world and practice makes perfect and hello world again\"\n",
    "print(f\"Before sorting :: {Word}\")\n",
    "print(f\"Sorted word is = {aphanumaric_sorting(Word)}\")\n",
    "                \n",
    "        "
   ]
  },
  {
   "cell_type": "markdown",
   "id": "547d1306",
   "metadata": {},
   "source": [
    "## Question 5:\n",
    "### Write a program that accepts a sentence and calculate the number of letters and digits.\n",
    "Suppose the following input is supplied to the program:\n",
    "hello world! 123\n",
    "Then, the output should be:\n",
    "LETTERS 10\n",
    "DIGITS 3"
   ]
  },
  {
   "cell_type": "code",
   "execution_count": 9,
   "id": "95d4cc3f",
   "metadata": {},
   "outputs": [
    {
     "name": "stdout",
     "output_type": "stream",
     "text": [
      "Enter your words:hello world! 123\n",
      "No. of alphabets are :: 10 \n",
      "No. of digits are :: 3 \n"
     ]
    }
   ],
   "source": [
    "\n",
    "\n",
    "def number_and_digit_count(w):\n",
    "    w = w.split(' ')\n",
    "    AL = 0\n",
    "    Dg = 0\n",
    "    for i in range(len(str(w))):\n",
    "        if str.isalpha(str(w)[i]) == True:\n",
    "            AL += 1\n",
    "        elif str.isdigit(str(w)[i]) == True:\n",
    "            Dg += 1\n",
    "        else:\n",
    "            pass\n",
    "    \n",
    "    print(f\"No. of alphabets are :: {AL} \")\n",
    "    print(f\"No. of digits are :: {Dg} \")\n",
    "            \n",
    "\n",
    "\n",
    "word = input(\"Enter your words:\")\n",
    "\n",
    "number_and_digit_count(word)\n",
    "\n"
   ]
  },
  {
   "cell_type": "code",
   "execution_count": 2,
   "id": "aa420f2d",
   "metadata": {},
   "outputs": [
    {
     "name": "stdout",
     "output_type": "stream",
     "text": [
      "Enter passwords: ABd1234@1,a F1#,2w3E*,2We3345\n",
      "ABd1234@1\n"
     ]
    }
   ],
   "source": [
    "'''Question 6:\n",
    "A website requires the users to input username and password to register. Write a program to\n",
    "check the validity of password input by users.\n",
    "Following are the criteria for checking the password:\n",
    "1. At least 1 letter between [a-z]\n",
    "2. At least 1 number between [0-9]\n",
    "1. At least 1 letter between [A-Z]\n",
    "3. At least 1 character from [$#@]\n",
    "4. Minimum length of transaction password: 6\n",
    "5. Maximum length of transaction password: 12\n",
    "Your program should accept a sequence of comma separated passwords and will check them\n",
    "according to the above criteria. Passwords that match the criteria are to be printed, each\n",
    "separated by a comma.\n",
    "Example\n",
    "If the following passwords are given as input to the program:\n",
    "ABd1234@1,a F1#,2w3E*,2We3345\n",
    "Then, the output of the program should be:\n",
    "ABd1234@1'''\n",
    "\n",
    "\n",
    "# def accepted_password(passwords):\n",
    "#     passwords = passwords.split(\",\")\n",
    "#     accepted = []\n",
    "#     Wrong = \"Wrong password\"\n",
    "#     for i in passwords:\n",
    "#         if not (len(i) >= 6 and len(i) <= 12 and any(c.islower() for c in i) and any(c.isupper() for c in i) and any(c.isdigit() for c in i) and any(c in \"@#$\" for c in i)):\n",
    "#             return Wrong\n",
    "#         else:\n",
    "#             accepted.append(i)\n",
    "\n",
    "#     return accepted\n",
    "\n",
    "# Passwords = input(\"Enter passwords :: \")\n",
    "\n",
    "# print(f\"Correct password is :: {accepted_password(Passwords)}\")\n",
    "\n",
    "import re\n",
    "\n",
    "passwords = input(\"Enter passwords: \")\n",
    "passwords = passwords.split(\",\")\n",
    "\n",
    "accepted_pass = []\n",
    "for i in passwords:\n",
    "    \n",
    "    if len(i) < 6 or len(i) > 12:\n",
    "        continue\n",
    "\n",
    "    elif not re.search(\"([a-z])+\", i):\n",
    "        continue\n",
    "\n",
    "    elif not re.search(\"([0-9])+\", i):\n",
    "        continue\n",
    "\n",
    "    elif not re.search(\"([A-Z])+\", i):\n",
    "        continue\n",
    "\n",
    "    elif not re.search(\"([$#@])+\", i):\n",
    "        continue\n",
    "\n",
    "    else:\n",
    "        accepted_pass.append(i)\n",
    "\n",
    "print((\"Accepted password: \").join(accepted_pass))\n",
    "\n"
   ]
  },
  {
   "cell_type": "code",
   "execution_count": 19,
   "id": "120c4ceb",
   "metadata": {},
   "outputs": [
    {
     "name": "stdout",
     "output_type": "stream",
     "text": [
      "Enter passwords :: ABd1234@1,a F1#,2w3E*,2We3345\n",
      "['ABd1234@1', 'a F1#', '2w3E*', '2We3345']\n"
     ]
    },
    {
     "ename": "AttributeError",
     "evalue": "type object 'str' has no attribute 'i'",
     "output_type": "error",
     "traceback": [
      "\u001b[1;31m---------------------------------------------------------------------------\u001b[0m",
      "\u001b[1;31mAttributeError\u001b[0m                            Traceback (most recent call last)",
      "Cell \u001b[1;32mIn[19], line 7\u001b[0m\n\u001b[0;32m      4\u001b[0m \u001b[38;5;28mprint\u001b[39m(Passwords)\n\u001b[0;32m      6\u001b[0m \u001b[38;5;28;01mfor\u001b[39;00m i \u001b[38;5;129;01min\u001b[39;00m Passwords:\n\u001b[1;32m----> 7\u001b[0m         \u001b[38;5;28;01mif\u001b[39;00m \u001b[38;5;28mlen\u001b[39m(\u001b[38;5;28;43mstr\u001b[39;49m\u001b[38;5;241;43m.\u001b[39;49m\u001b[43mi\u001b[49m) \u001b[38;5;241m>\u001b[39m \u001b[38;5;241m6\u001b[39m \u001b[38;5;129;01mor\u001b[39;00m \u001b[38;5;28mlen\u001b[39m(\u001b[38;5;28mstr\u001b[39m\u001b[38;5;241m.\u001b[39mi) \u001b[38;5;241m<\u001b[39m \u001b[38;5;241m12\u001b[39m:\n\u001b[0;32m      8\u001b[0m             \u001b[38;5;28mprint\u001b[39m(\u001b[38;5;28;01mTrue\u001b[39;00m)\n",
      "\u001b[1;31mAttributeError\u001b[0m: type object 'str' has no attribute 'i'"
     ]
    }
   ],
   "source": [
    "Passwords = input(\"Enter passwords :: \")\n",
    "Passwords = Passwords.split(\",\")\n",
    "\n",
    "print(Passwords)\n",
    "\n",
    "for i in Passwords:\n",
    "        if len(str.i) > 6 or len(str.i) < 12:\n",
    "            print(True)\n"
   ]
  },
  {
   "cell_type": "code",
   "execution_count": null,
   "id": "679ebbfd",
   "metadata": {},
   "outputs": [],
   "source": []
  }
 ],
 "metadata": {
  "kernelspec": {
   "display_name": "Python 3 (ipykernel)",
   "language": "python",
   "name": "python3"
  },
  "language_info": {
   "codemirror_mode": {
    "name": "ipython",
    "version": 3
   },
   "file_extension": ".py",
   "mimetype": "text/x-python",
   "name": "python",
   "nbconvert_exporter": "python",
   "pygments_lexer": "ipython3",
   "version": "3.10.9"
  }
 },
 "nbformat": 4,
 "nbformat_minor": 5
}
