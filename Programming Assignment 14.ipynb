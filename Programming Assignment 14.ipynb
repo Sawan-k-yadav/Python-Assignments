{
 "cells": [
  {
   "cell_type": "markdown",
   "id": "40e63d55",
   "metadata": {},
   "source": [
    "Question 1:\n",
    "Define a class with a generator which can iterate the numbers, which are divisible by\n",
    "7, between a given range 0 and n."
   ]
  },
  {
   "cell_type": "code",
   "execution_count": 15,
   "id": "aa0b881d",
   "metadata": {},
   "outputs": [
    {
     "name": "stdout",
     "output_type": "stream",
     "text": [
      "0\n",
      "7\n",
      "14\n",
      "21\n",
      "28\n",
      "35\n",
      "42\n",
      "49\n",
      "56\n",
      "63\n",
      "70\n",
      "77\n",
      "84\n",
      "91\n",
      "98\n"
     ]
    }
   ],
   "source": [
    "def generator(num):\n",
    "    for i in range(num):\n",
    "        if i%7 == 0:\n",
    "            yield i\n",
    "        \n",
    "        \n",
    "for i in generator(100):\n",
    "    print(i)"
   ]
  },
  {
   "cell_type": "markdown",
   "id": "c228cd00",
   "metadata": {},
   "source": [
    "Question 2:\n",
    "Write a program to compute the frequency of the words from the input. The output\n",
    "should output after sorting the key alphanumerically.\n",
    "\n",
    "Suppose the following input is supplied to the program:\n",
    "New to Python or choosing between Python 2 and Python 3? Read Python 2 or\n",
    "Python 3.\n",
    "\n",
    "Then, the output should be:\n",
    "2:2\n",
    "3.:1\n",
    "3?:1\n",
    "New:1\n",
    "Python:5\n",
    "Read:1\n",
    "and:1\n",
    "between:1\n",
    "choosing:1\n",
    "or:2\n",
    "to:1"
   ]
  },
  {
   "cell_type": "code",
   "execution_count": 26,
   "id": "0767a55c",
   "metadata": {},
   "outputs": [
    {
     "name": "stdout",
     "output_type": "stream",
     "text": [
      "{'New': 1, 'to': 1, 'Python': 5, 'or': 2, 'choosing': 1, 'between': 1, '2': 2, 'and': 1, '3?': 1, 'Read': 1, '3.': 1}\n"
     ]
    }
   ],
   "source": [
    "def frequency_of_word(string):\n",
    "#     output = string.split()\n",
    "#     print(output)\n",
    "    word_counts = {}\n",
    "\n",
    "    for word in string.split():\n",
    "        if word not in word_counts:\n",
    "            word_counts[word] = 0\n",
    "\n",
    "        word_counts[word] += 1\n",
    "\n",
    "    return word_counts\n",
    "        \n",
    "\n",
    "sentence = \"New to Python or choosing between Python 2 and Python 3? Read Python 2 or Python 3.\"\n",
    "\n",
    "word_count = frequency_of_word(sentence)\n",
    "    \n",
    "print(word_count)"
   ]
  },
  {
   "cell_type": "markdown",
   "id": "19b8c682",
   "metadata": {},
   "source": [
    "Question 3:\n",
    "\n",
    "Define a class Person and its two child classes: Male and Female. All classes have a\n",
    "method &quot;getGender&quot; which can print &quot;Male&quot; for Male class and &quot;Female&quot; for Female\n",
    "class."
   ]
  },
  {
   "cell_type": "code",
   "execution_count": 1,
   "id": "e09c2f9f",
   "metadata": {},
   "outputs": [
    {
     "name": "stdout",
     "output_type": "stream",
     "text": [
      "Male\n",
      "Female\n"
     ]
    }
   ],
   "source": [
    "class Person:\n",
    "    def getGender(self):\n",
    "        pass\n",
    "    \n",
    "class Male(Person):\n",
    "    def getGender(self):\n",
    "        print(\"Male\")\n",
    "        \n",
    "class Female(Person):\n",
    "    def getGender(self):\n",
    "        print(\"Female\")\n",
    "        \n",
    "        \n",
    "male = Male()\n",
    "\n",
    "male.getGender()\n",
    "\n",
    "female = Female()\n",
    "\n",
    "female.getGender()"
   ]
  },
  {
   "cell_type": "markdown",
   "id": "dc0da9f4",
   "metadata": {},
   "source": [
    "'''Question 4:\n",
    "Please write a program to generate all sentences where subject is in [&quot;I&quot;, &quot;You&quot;] and\n",
    "verb is in [&quot;Play&quot;, &quot;Love&quot;] and the object is in [&quot;Hockey&quot;,&quot;Football&quot;].\n",
    "'''\n",
    "\n"
   ]
  },
  {
   "cell_type": "code",
   "execution_count": 2,
   "id": "f80fccea",
   "metadata": {},
   "outputs": [
    {
     "name": "stdout",
     "output_type": "stream",
     "text": [
      "I Play Hockey\n",
      "I Play Football\n",
      "I Love Hockey\n",
      "I Love Football\n",
      "You Play Hockey\n",
      "You Play Football\n",
      "You Love Hockey\n",
      "You Love Football\n"
     ]
    }
   ],
   "source": [
    "def sents(lst1, lst2,lst3):\n",
    "    output = \"\"\n",
    "    for i in lst1:\n",
    "        for j in lst2:\n",
    "            for k in lst3:\n",
    "                print(f\"{i} {j} {k}\")\n",
    "                \n",
    "                \n",
    "sents([\"I\", \"You\"],  [\"Play\", \"Love\"], [\"Hockey\",\"Football\"])"
   ]
  },
  {
   "cell_type": "markdown",
   "id": "1e88c584",
   "metadata": {},
   "source": [
    "Question 5:\n",
    "Please write a program to compress and decompress the string &quot;hello world!hello\n",
    "world!hello world!hello world!&quot;."
   ]
  },
  {
   "cell_type": "code",
   "execution_count": 11,
   "id": "ecf2fabf",
   "metadata": {},
   "outputs": [
    {
     "name": "stdout",
     "output_type": "stream",
     "text": [
      "b'x\\x9c\\xcbH\\xcd\\xc9\\xc9W(\\xcf/\\xcaIQ\\xcc \\x82\\r\\x00\\xbd[\\x11\\xf5'\n",
      "b'hello world!hello world!hello world!hello world!'\n"
     ]
    }
   ],
   "source": [
    "# string = \"hello world!hello world!hello world!hello world!\"\n",
    "\n",
    "# output = \"! \".join(string.split(\"!\"))\n",
    "\n",
    "# print(output)\n",
    "\n",
    "\n",
    "import zlib\n",
    "\n",
    "def compress_string(string):\n",
    "    \"\"\"Compresses the given string using zlib.\n",
    "\n",
    "    Args:\n",
    "        string: The string to compress.\n",
    "\n",
    "    Returns:\n",
    "        A compressed byte array.\n",
    "    \"\"\"\n",
    "\n",
    "    compressed_string = zlib.compress(string.encode('utf-8'))\n",
    "    return compressed_string\n",
    "\n",
    "def decompress_string(compressed_string):\n",
    "    \"\"\"Decompresses the given compressed byte array using zlib.\n",
    "\n",
    "    Args:\n",
    "        compressed_string: The compressed byte array to decompress.\n",
    "\n",
    "    Returns:\n",
    "        A decompressed string.\n",
    "    \"\"\"\n",
    "\n",
    "    decompressed_string = zlib.decompress(compressed_string)\n",
    "    return decompressed_string\n",
    "\n",
    "# Example usage:\n",
    "\n",
    "string = \"hello world!hello world!hello world!hello world!\"\n",
    "\n",
    "compressed_string = compress_string(string)\n",
    "decompressed_string = decompress_string(compressed_string)\n",
    "\n",
    "print(compressed_string)\n",
    "print(decompressed_string)"
   ]
  },
  {
   "cell_type": "code",
   "execution_count": 36,
   "id": "06b56cde",
   "metadata": {},
   "outputs": [
    {
     "name": "stdout",
     "output_type": "stream",
     "text": [
      "['hello world']\n",
      "['hello world', 'hello world']\n",
      "['hello world', 'hello world', 'hello world']\n",
      "['hello world', 'hello world', 'hello world', 'hello world']\n",
      "[4, '[', 'hello world', ']']\n"
     ]
    }
   ],
   "source": [
    "# # just for test\n",
    "\n",
    "# string = \"hello world!hello world!hello world!hello world!\"\n",
    "\n",
    "# output = \"! \".join(string.split(\"!\"))\n",
    "\n",
    "# decompress = set()\n",
    "\n",
    "# count = 0\n",
    "\n",
    "# for i in output:\n",
    "#     for j in range(i)\n",
    "#     if i == \"!\":\n",
    "#         count +=1\n",
    "#         decompress.add(i)\n",
    "        \n",
    "        \n",
    "def abc(string):\n",
    "    output = list()\n",
    "    count = 0\n",
    "    \n",
    "    for i in string.split(\"!\"):\n",
    "        if i == '':\n",
    "            pass\n",
    "        else:\n",
    "            count += 1\n",
    "            output.append(i)\n",
    "            print(output)\n",
    "            \n",
    "    result = list()\n",
    "    result.append(count)\n",
    "    result.append(\"[\")\n",
    "    result.append(output[0])\n",
    "    result.append(\"]\")\n",
    "    \n",
    "\n",
    "        \n",
    "    return result\n",
    "\n",
    "\n",
    "string = \"hello world!hello world!hello world!hello world!\"        \n",
    "        \n",
    "        \n",
    "\n",
    "print(abc(string))"
   ]
  },
  {
   "cell_type": "markdown",
   "id": "086facaf",
   "metadata": {},
   "source": [
    "Question 6:\n",
    "Please write a binary search function which searches an item in a sorted list. The\n",
    "function should return the index of element to be searched in the list."
   ]
  },
  {
   "cell_type": "code",
   "execution_count": 13,
   "id": "9ae0864f",
   "metadata": {},
   "outputs": [
    {
     "name": "stdout",
     "output_type": "stream",
     "text": [
      "[2, 3, 20, 21, 32, 43]\n",
      "43 present at 5\n"
     ]
    }
   ],
   "source": [
    "# def binary_search(lst, n):\n",
    "#     lst = sorted(lst)\n",
    "#     for i in lst.sort():\n",
    "#         if i == n:\n",
    "#             return lst.index(i)\n",
    "        \n",
    "        \n",
    "        \n",
    "def binary_search(lst, n):\n",
    "    low = 0\n",
    "    high = len(lst)-1\n",
    "    lst.sort()\n",
    "    print(lst)\n",
    "    while low <= high:\n",
    "        mid = (low+high)//2\n",
    "        \n",
    "        if lst[mid] == n:\n",
    "            return mid\n",
    "        elif n < lst[mid]:\n",
    "            high = mid -1\n",
    "        else:\n",
    "           low = mid+ 1\n",
    "            \n",
    "    else:\n",
    "        return -1\n",
    "        \n",
    "list1 = [21,43,32,20, 2,3]\n",
    "\n",
    "print(f\"43 present at {binary_search(list1,43)}\")"
   ]
  },
  {
   "cell_type": "code",
   "execution_count": null,
   "id": "b2b15de5",
   "metadata": {},
   "outputs": [],
   "source": []
  }
 ],
 "metadata": {
  "kernelspec": {
   "display_name": "Python 3 (ipykernel)",
   "language": "python",
   "name": "python3"
  },
  "language_info": {
   "codemirror_mode": {
    "name": "ipython",
    "version": 3
   },
   "file_extension": ".py",
   "mimetype": "text/x-python",
   "name": "python",
   "nbconvert_exporter": "python",
   "pygments_lexer": "ipython3",
   "version": "3.11.5"
  }
 },
 "nbformat": 4,
 "nbformat_minor": 5
}
