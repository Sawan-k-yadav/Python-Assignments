{
 "cells": [
  {
   "cell_type": "code",
   "execution_count": 11,
   "id": "ce262a34",
   "metadata": {},
   "outputs": [
    {
     "name": "stdout",
     "output_type": "stream",
     "text": [
      "Sum of matrix is [[ 7 11  4]\n",
      " [16 61 64]] \n"
     ]
    }
   ],
   "source": [
    "# 1. Write a Python Program to Add Two Matrices?\n",
    "\n",
    "import numpy as np\n",
    "\n",
    "A = np.array([[1,2,3],[4,7,3]])\n",
    "B = np.array([[6,9,1],[12,54,61]])\n",
    "\n",
    "print(f\"Sum of matrix is {A + B} \")\n",
    "        \n"
   ]
  },
  {
   "cell_type": "code",
   "execution_count": 16,
   "id": "809f27f5",
   "metadata": {},
   "outputs": [
    {
     "name": "stdout",
     "output_type": "stream",
     "text": [
      "2\n",
      "2\n",
      "Multiply of Matrics:\n",
      "[[286 931 428]\n",
      " [128 316  96]\n",
      " [ 25  82  38]]\n"
     ]
    }
   ],
   "source": [
    "# 2. Write a Python Program to Multiply Two Matrices?\n",
    "\n",
    "# FOr same order matrix\n",
    "\n",
    "# C = np.array([[23,56],[12,8]])\n",
    "# D = np.array([[10,21],[1,8]])\n",
    "\n",
    "# print(C.shape[1])  #it gives m value of shape (or n x m) of the array\n",
    "# print(D.shape[0])\n",
    "\n",
    "# if C.shape[1] == D.shape[0]:\n",
    "#     print(\"Multiply of Matrics:\")\n",
    "#     print(np.dot(C, D))\n",
    "    \n",
    " \n",
    "C = np.array([[23,56],[12,8],[2,5]])\n",
    "D = np.array([[10,21,4],[1,8,6]])\n",
    "\n",
    "\n",
    "print(C.shape[1])  #it gives m value of shape (or n x m) of the array\n",
    "print(D.shape[0])  \n",
    "\n",
    "if C.shape[1] == D.shape[0]:\n",
    "    print(\"Multiply of Matrics:\")\n",
    "    print(np.dot(C, D))\n",
    "    \n",
    "else:\n",
    "    print(\"Matrix dimention is not correct\")"
   ]
  },
  {
   "cell_type": "code",
   "execution_count": 17,
   "id": "c220ecc9",
   "metadata": {},
   "outputs": [
    {
     "name": "stdout",
     "output_type": "stream",
     "text": [
      "[[25 11 22]\n",
      " [50  8  5]]\n"
     ]
    }
   ],
   "source": [
    "# 3. Write a Python Program to Transpose a Matrix?\n",
    "\n",
    "M = np.array([[25,50],[11,8],[22,5]])\n",
    "\n",
    "print(np.transpose(M))"
   ]
  },
  {
   "cell_type": "code",
   "execution_count": 2,
   "id": "31693855",
   "metadata": {},
   "outputs": [
    {
     "name": "stdout",
     "output_type": "stream",
     "text": [
      "words before sorting ['my', 'name', 'is', 'sawan', 'yadav']\n",
      "Words after sorting ['is', 'my', 'name', 'sawan', 'yadav']\n"
     ]
    }
   ],
   "source": [
    "# 4. Write a Python Program to Sort Words in Alphabetic Order?\n",
    "\n",
    "words = [\"my\", \"name\", \"is\", \"sawan\",\"yadav\"]\n",
    "\n",
    "print(f\"words before sorting {words}\")\n",
    "\n",
    "# when we write words in conbination of capital and small latters then sorted will check ASCII code of alphabet then sort\n",
    "\n",
    "print(f\"Words after sorting {sorted(words)}\")"
   ]
  },
  {
   "cell_type": "code",
   "execution_count": 23,
   "id": "0d4cbfb5",
   "metadata": {},
   "outputs": [
    {
     "name": "stdout",
     "output_type": "stream",
     "text": [
      "String without punchuation is   Hellothisispunctuationstring\n"
     ]
    }
   ],
   "source": [
    "# 5. Write a Python Program to Remove Punctuation From a String?\n",
    "\n",
    "punchu = '''!, @, #, $, %, ^, &, *, (, ), -, _, +, =, {, }, [, ], |, \\, :, ;, ',\",,,.,/,?'''\n",
    "\n",
    "string = \"Hello!! this is punctuation {string} .!!!\"\n",
    "\n",
    "\n",
    "nonpunchustring = \"\"\n",
    "\n",
    "for ch in string:\n",
    "    if ch not in punchu:\n",
    "        nonpunchustring += ch\n",
    "    \n",
    "print(f\"String without punchuation is   {nonpunchustring}\")   # this code retuning results without space\n",
    "\n",
    "\n",
    "# import string\n",
    "\n",
    "# def remove_punctuation(string):\n",
    "#   \"\"\"Removes punctuation from a string.\n",
    "\n",
    "#   Args:\n",
    "#     string: A string.\n",
    "\n",
    "#   Returns:\n",
    "#     A string with the punctuation removed.\n",
    "#   \"\"\"\n",
    "\n",
    "# punctuation = string.punctuation\n",
    "# string_without_punctuation = \"\"\n",
    "# for character in string:\n",
    "#     if character not in punctuation:\n",
    "#         string_without_punctuation += character\n",
    "# return string_without_punctuation\n",
    "\n",
    "# # Example usage:\n",
    "\n",
    "# string = \"This is a test string with punctuation!\"\n",
    "\n",
    "# string_without_punctuation = remove_punctuation(string)\n",
    "\n",
    "# print(string_without_punctuation)"
   ]
  },
  {
   "cell_type": "code",
   "execution_count": null,
   "id": "fe3a252c",
   "metadata": {},
   "outputs": [],
   "source": []
  }
 ],
 "metadata": {
  "kernelspec": {
   "display_name": "Python 3 (ipykernel)",
   "language": "python",
   "name": "python3"
  },
  "language_info": {
   "codemirror_mode": {
    "name": "ipython",
    "version": 3
   },
   "file_extension": ".py",
   "mimetype": "text/x-python",
   "name": "python",
   "nbconvert_exporter": "python",
   "pygments_lexer": "ipython3",
   "version": "3.10.9"
  }
 },
 "nbformat": 4,
 "nbformat_minor": 5
}
