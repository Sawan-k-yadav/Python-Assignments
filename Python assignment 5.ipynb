{
 "cells": [
  {
   "cell_type": "markdown",
   "id": "bf725a41",
   "metadata": {},
   "source": [
    "1. What does an empty dictionary&#39;s code look like?\n",
    "\n",
    "ANs: {}\n",
    "\n",
    "2. What is the value of a dictionary value with the key &#39;foo&#39; and the value 42?\n",
    "\n",
    "Ans: if dictionary is like this dict = {'foo': 42} then value of dictionary is 42.\n",
    "\n",
    "3. What is the most significant distinction between a dictionary and a list?\n",
    "\n",
    "Ans: The most significant distinction between a dictionary and a list is that a dictionary maps keys to values, while a list is a sequence of items. This means that dictionaries can be used to store data in a more efficient way than lists, especially when the data is organized by key.\n",
    "\n",
    "4. What happens if you try to access spam[&#39;foo&#39;] if spam is {&#39;bar&#39;: 100}?\n",
    "\n",
    "Ans: \n",
    "KeyError                                  \n",
    "Cell In[3], line 3\n",
    "      1 spam = {'bar': 100}\n",
    "----> 3 spam[\"foo\"]\n",
    "\n",
    "KeyError: 'foo'\n",
    "\n",
    "\n",
    "5. If a dictionary is stored in spam, what is the difference between the expressions &#39;cat&#39; in spam and\n",
    "&#39;cat&#39; in spam.keys()?\n",
    "\n",
    "Ans:The expressions 'cat' in spam and 'cat' in spam.keys() are equivalent. They both check if the key 'cat' exists in the dictionary spam.\n",
    "print('cat' in spam)\n",
    "\n",
    "print('cat' in spam.keys())\n",
    "\n",
    "False\n",
    "False\n",
    "\n",
    "6. If a dictionary is stored in spam, what is the difference between the expressions &#39;cat&#39; in spam and\n",
    "&#39;cat&#39; in spam.values()?\n",
    "\n",
    "ANs:The expressions 'cat' in spam and 'cat' in spam.values() are not equivalent. The expression 'cat' in spam checks if the value 'cat' exists in the dictionary spam, while the expression 'cat' in spam.values() checks if the value 'cat' is a value in the dictionary spam.\n",
    "\n",
    "spam = {'dog': 100, 'cat': 200}\n",
    "\n",
    "### The expression 'cat' in spam checks if the key 'cat' exists in the dictionary spam.\n",
    "print('cat' in spam)  \n",
    "\n",
    "### True\n",
    "\n",
    "### The expression 'cat' in spam.values() checks if the value 'cat' is a value in the dictionary spam.\n",
    "print('cat' in spam.values())  \n",
    "\n",
    "### False\n",
    "\n",
    "\n",
    "7. What is a shortcut for the following code?\n",
    "if &#39;color&#39; not in spam:\n",
    "spam[&#39;color&#39;] = &#39;black&#39;\n",
    "\n",
    "ANs:\n",
    "spam.setdefault('color', 'black')\n",
    "\n",
    "The setdefault() method sets the value of the key 'color' to 'black' if the key does not already exist in the dictionary.\n",
    "\n",
    "8. How do you &quot;pretty print&quot; dictionary values using which module and function?\n",
    "\n",
    "\n",
    "Ans:\n",
    "import pprint\n",
    "\n",
    "pprint.pprint(spam)"
   ]
  },
  {
   "cell_type": "code",
   "execution_count": 3,
   "id": "6900cd0e",
   "metadata": {},
   "outputs": [
    {
     "ename": "KeyError",
     "evalue": "'foo'",
     "output_type": "error",
     "traceback": [
      "\u001b[1;31m---------------------------------------------------------------------------\u001b[0m",
      "\u001b[1;31mKeyError\u001b[0m                                  Traceback (most recent call last)",
      "Cell \u001b[1;32mIn[3], line 3\u001b[0m\n\u001b[0;32m      1\u001b[0m spam \u001b[38;5;241m=\u001b[39m {\u001b[38;5;124m'\u001b[39m\u001b[38;5;124mbar\u001b[39m\u001b[38;5;124m'\u001b[39m: \u001b[38;5;241m100\u001b[39m}\n\u001b[1;32m----> 3\u001b[0m \u001b[43mspam\u001b[49m\u001b[43m[\u001b[49m\u001b[38;5;124;43m\"\u001b[39;49m\u001b[38;5;124;43mfoo\u001b[39;49m\u001b[38;5;124;43m\"\u001b[39;49m\u001b[43m]\u001b[49m\n",
      "\u001b[1;31mKeyError\u001b[0m: 'foo'"
     ]
    }
   ],
   "source": [
    "spam = {'bar': 100}\n",
    "\n",
    "spam[\"foo\"]"
   ]
  },
  {
   "cell_type": "code",
   "execution_count": null,
   "id": "34f2ba2a",
   "metadata": {},
   "outputs": [],
   "source": []
  },
  {
   "cell_type": "code",
   "execution_count": 10,
   "id": "6135115e",
   "metadata": {},
   "outputs": [
    {
     "name": "stdout",
     "output_type": "stream",
     "text": [
      "False\n",
      "True\n",
      "False\n",
      "False\n",
      "True\n"
     ]
    }
   ],
   "source": [
    "print('cat' in spam)\n",
    "\n",
    "print('bar' in spam)\n",
    "\n",
    "print('cat' in spam.keys())\n",
    "\n",
    "print('bar' in spam.values())\n",
    "\n",
    "print(100 in spam.values())"
   ]
  },
  {
   "cell_type": "code",
   "execution_count": 11,
   "id": "6b8c9877",
   "metadata": {},
   "outputs": [
    {
     "name": "stdout",
     "output_type": "stream",
     "text": [
      "True\n",
      "False\n"
     ]
    }
   ],
   "source": [
    "spam = {'dog': 100, 'cat': 200}\n",
    "\n",
    "# The expression 'cat' in spam checks if the key 'cat' exists in the dictionary spam.\n",
    "print('cat' in spam)  \n",
    "\n",
    "# True\n",
    "\n",
    "# The expression 'cat' in spam.values() checks if the value 'cat' is a value in the dictionary spam.\n",
    "print('cat' in spam.values())  \n",
    "\n",
    "# False"
   ]
  },
  {
   "cell_type": "code",
   "execution_count": 13,
   "id": "612fe5c1",
   "metadata": {},
   "outputs": [
    {
     "data": {
      "text/plain": [
       "{'dog': 100, 'cat': 200, 'color': 'black'}"
      ]
     },
     "execution_count": 13,
     "metadata": {},
     "output_type": "execute_result"
    }
   ],
   "source": [
    "if 'color' not in spam:\n",
    "    spam['color'] = 'black'\n",
    "\n",
    "spam"
   ]
  },
  {
   "cell_type": "code",
   "execution_count": 17,
   "id": "797329af",
   "metadata": {},
   "outputs": [
    {
     "data": {
      "text/plain": [
       "'fair'"
      ]
     },
     "execution_count": 17,
     "metadata": {},
     "output_type": "execute_result"
    }
   ],
   "source": [
    "spam.setdefault('face','fair')"
   ]
  },
  {
   "cell_type": "code",
   "execution_count": 18,
   "id": "afa091a1",
   "metadata": {},
   "outputs": [
    {
     "data": {
      "text/plain": [
       "{'dog': 100, 'cat': 200, 'color': 'black', 'face': 'fair'}"
      ]
     },
     "execution_count": 18,
     "metadata": {},
     "output_type": "execute_result"
    }
   ],
   "source": [
    "spam"
   ]
  },
  {
   "cell_type": "code",
   "execution_count": 21,
   "id": "aa610379",
   "metadata": {},
   "outputs": [
    {
     "name": "stdout",
     "output_type": "stream",
     "text": [
      "{'cat': 200, 'color': 'black', 'dog': 100, 'face': 'fair'}\n"
     ]
    }
   ],
   "source": [
    "import pprint\n",
    "\n",
    "pprint.pprint(spam)"
   ]
  },
  {
   "cell_type": "code",
   "execution_count": null,
   "id": "25e25b43",
   "metadata": {},
   "outputs": [],
   "source": []
  }
 ],
 "metadata": {
  "kernelspec": {
   "display_name": "Python 3 (ipykernel)",
   "language": "python",
   "name": "python3"
  },
  "language_info": {
   "codemirror_mode": {
    "name": "ipython",
    "version": 3
   },
   "file_extension": ".py",
   "mimetype": "text/x-python",
   "name": "python",
   "nbconvert_exporter": "python",
   "pygments_lexer": "ipython3",
   "version": "3.10.9"
  }
 },
 "nbformat": 4,
 "nbformat_minor": 5
}
