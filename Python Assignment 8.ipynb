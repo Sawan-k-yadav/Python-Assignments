{
 "cells": [
  {
   "cell_type": "markdown",
   "id": "b3a2824f",
   "metadata": {},
   "source": [
    "1. Is the Python Standard Library included with PyInputPlus?\n",
    "\n",
    "No, PyInputPlus is a third-party library that is not included with the Python Standard Library.\n",
    "\n",
    "2. Why is PyInputPlus commonly imported with import pyinputplus as pypi?\n",
    "\n",
    "This is a common way to import PyInputPlus because it makes the function names shorter and easier to type. For example, instead of typing pyinputplus.inputInt(), we can simply type pypi.inputInt().\n",
    "\n",
    "3. How do we distinguish between inputInt() and inputFloat()?\n",
    "\n",
    "The inputInt() function returns an integer value, while the inputFloat() function returns a floating-point value.\n",
    "\n",
    "4. Using PyInputPlus, how do we ensure that the user enters a whole number between 0 and 99?\n",
    "\n",
    "we can use the inputInt(min=0, max=99) function. This function will ensure that the user enters a whole number between the specified minimum and maximum values.\n",
    "\n",
    "5. What is transferred to the keyword arguments allowRegexes and blockRegexes?\n",
    "\n",
    "The allowRegexes keyword argument is used to specify a list of regular expressions that are allowed in the user input. The blockRegexes keyword argument is used to specify a list of regular expressions that are blocked in the user input.\n",
    "\n",
    "6. If a blank input is entered three times, what does inputStr(limit=3) do?\n",
    "\n",
    "If the user enters a blank input three times, the inputStr(limit=3) function will raise a RetryLimitException exception.\n",
    "\n",
    "7. If blank input is entered three times, what does inputStr(limit=3, default=&#39;hello&#39;) do?\n",
    "\n",
    "If the user enters a blank input three times, the inputStr(limit=3, default=&#39;hello&#39;) function will return the default value of &#39;hello&#39;.\n",
    "\n",
    "Here is an example of how to use the inputInt(min=0, max=99) function to ensure that the user enters a whole number between 0 and 99:\n",
    "\n",
    "Python\n",
    "import pyinputplus as pypi\n",
    "\n",
    "# Get a whole number between 0 and 99\n",
    "number = pypi.inputInt(min=0, max=99)\n",
    "\n",
    "# Print the number\n",
    "print(number)\n",
    "Use code with caution. Learn more\n",
    "Here is an example of how to use the inputStr(limit=3, default=&#39;hello&#39;) function to handle blank inputs:\n",
    "\n",
    "Python\n",
    "import pyinputplus as pypi\n",
    "\n",
    "# Get a string from the user\n",
    "name = pypi.inputStr(limit=3, default=&#39;hello&#39;)\n",
    "\n",
    "# Print the name\n",
    "print(name)"
   ]
  }
 ],
 "metadata": {
  "kernelspec": {
   "display_name": "Python 3 (ipykernel)",
   "language": "python",
   "name": "python3"
  },
  "language_info": {
   "codemirror_mode": {
    "name": "ipython",
    "version": 3
   },
   "file_extension": ".py",
   "mimetype": "text/x-python",
   "name": "python",
   "nbconvert_exporter": "python",
   "pygments_lexer": "ipython3",
   "version": "3.10.9"
  }
 },
 "nbformat": 4,
 "nbformat_minor": 5
}
