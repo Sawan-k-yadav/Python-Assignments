{
 "cells": [
  {
   "cell_type": "code",
   "execution_count": 1,
   "id": "6b999b66",
   "metadata": {},
   "outputs": [],
   "source": [
    "\"\"\" write a function which will be able to print an ip address of your system\"\"\"\n",
    "\n",
    "import socket \n",
    "def test2():\n",
    "    ip= socket.gethostbyname(socket.gethostname())\n",
    "    return ip\n"
   ]
  },
  {
   "cell_type": "code",
   "execution_count": 2,
   "id": "d018a613",
   "metadata": {},
   "outputs": [
    {
     "data": {
      "text/plain": [
       "'192.168.1.17'"
      ]
     },
     "execution_count": 2,
     "metadata": {},
     "output_type": "execute_result"
    }
   ],
   "source": [
    "test2()  It is giving random result everytime"
   ]
  },
  {
   "cell_type": "markdown",
   "id": "8c86aa4b",
   "metadata": {},
   "source": [
    " When we have repeated element in the list then index function give index to the first occurance of that no."
   ]
  },
  {
   "cell_type": "code",
   "execution_count": 3,
   "id": "eac41a65",
   "metadata": {},
   "outputs": [
    {
     "data": {
      "text/plain": [
       "1"
      ]
     },
     "execution_count": 3,
     "metadata": {},
     "output_type": "execute_result"
    }
   ],
   "source": [
    "\"\"\"Ex:  lets check problem of using index function \"\"\"\n",
    "\n",
    "l1=[1,2,2,\"sawan\",23, -1]\n",
    "\n",
    "l1.index(2)"
   ]
  },
  {
   "cell_type": "code",
   "execution_count": 4,
   "id": "dc685e50",
   "metadata": {},
   "outputs": [
    {
     "data": {
      "text/plain": [
       "3"
      ]
     },
     "execution_count": 4,
     "metadata": {},
     "output_type": "execute_result"
    }
   ],
   "source": [
    "l1.index(\"sawan\")"
   ]
  },
  {
   "cell_type": "code",
   "execution_count": 7,
   "id": "70d1c76a",
   "metadata": {},
   "outputs": [
    {
     "name": "stdout",
     "output_type": "stream",
     "text": [
      "2\n",
      "2\n"
     ]
    }
   ],
   "source": [
    "print(l1[1])\n",
    "print(l1[2])  # this way I can get the data stored at particular index but when using l1.index(2) it will give one time element"
   ]
  },
  {
   "cell_type": "code",
   "execution_count": null,
   "id": "40b4e8fb",
   "metadata": {},
   "outputs": [],
   "source": [
    "# 4. write a function which will shutdown your system\n",
    "\n",
    "import os\n",
    "#os.system(\"shutdown /r /t 4\")   # it means restart the system after 4 sec.  AFter /t we need to use no. in seconds\n",
    "\n",
    "# /s - shutdown\n",
    "# /r - restart \n",
    "# /t 1 - timer "
   ]
  },
  {
   "cell_type": "code",
   "execution_count": null,
   "id": "3f9c9afa",
   "metadata": {},
   "outputs": [],
   "source": [
    "import smtplib\n",
    "import time\n",
    "import imaplib\n",
    "import email\n",
    "import traceback \n",
    "ORG_EMAIL = \"@gmail.com\" \n",
    "FROM_EMAIL = 'sskumar9876@gmail.com'\n",
    "FROM_PWD = 'rlplfdcsoiqruagn'    # it is the app password which we need to generate from our gmail app password\n",
    "SMTP_SERVER = \"imap.gmail.com\" \n",
    "SMTP_PORT = 993\n",
    "imaplib._MAXLINE = 400000000\n",
    "\n",
    "def read_email_from_gmail():\n",
    "    try:\n",
    "        mail = imaplib.IMAP4_SSL(SMTP_SERVER)\n",
    "        mail.login(FROM_EMAIL,FROM_PWD)\n",
    "        mail.select('inbox')\n",
    "\n",
    "        data = mail.search(None, 'ALL')\n",
    "        mail_ids = data[1]\n",
    "        id_list = mail_ids[0].split()   \n",
    "        first_email_id = int(id_list[0])\n",
    "        latest_email_id = int(id_list[-1])\n",
    "\n",
    "        for i in range(latest_email_id,first_email_id, -1):\n",
    "            data = mail.fetch(str(i), '(RFC822)' )\n",
    "            for response_part in data:\n",
    "                arr = response_part[0]\n",
    "                if isinstance(arr, tuple):\n",
    "                    msg = email.message_from_string(str(arr[1],'utf-8'))\n",
    "                    email_subject = msg['subject']\n",
    "                    email_from = msg['from']\n",
    "                    print('From : ' + email_from + '\\n')\n",
    "                    print('Subject : ' + email_subject + '\\n')\n",
    "\n",
    "    except Exception as e:\n",
    "        traceback.print_exc() \n",
    "        print(str(e))\n",
    "\n",
    "read_email_from_gmail()"
   ]
  },
  {
   "cell_type": "code",
   "execution_count": null,
   "id": "7e320d19",
   "metadata": {},
   "outputs": [],
   "source": [
    "# . write a function which will be able to send a mail to anyone \n",
    "\n",
    "import smtplib , ssl\n",
    "port = 465  # For SSL\n",
    "smtp_server = \"smtp.gmail.com\"\n",
    "sender_email = \"sskumar9876@gmail.com\"  # Enter your address\n",
    "receiver_email = \"sudhanshu@ineuron.ai\"  # Enter receiver address\n",
    "password = 'rlplfdcsoiqruagn'\n",
    "message = \"\"\"this is my message from python code in my live class\"\"\"\n",
    "\n",
    "context = ssl.create_default_context()\n",
    "with smtplib.SMTP_SSL(smtp_server, port, context=context) as server:\n",
    "    server.login(sender_email, password)\n",
    "    server.sendmail(sender_email, receiver_email, message)"
   ]
  },
  {
   "cell_type": "code",
   "execution_count": 5,
   "id": "a77fb18b",
   "metadata": {},
   "outputs": [
    {
     "ename": "ModuleNotFoundError",
     "evalue": "No module named 'docx2txt'",
     "output_type": "error",
     "traceback": [
      "\u001b[1;31m---------------------------------------------------------------------------\u001b[0m",
      "\u001b[1;31mModuleNotFoundError\u001b[0m                       Traceback (most recent call last)",
      "Cell \u001b[1;32mIn[5], line 3\u001b[0m\n\u001b[0;32m      1\u001b[0m \u001b[38;5;66;03m# 8. write a function which will be able to read a doc/word file from your system\u001b[39;00m\n\u001b[1;32m----> 3\u001b[0m \u001b[38;5;28;01mimport\u001b[39;00m \u001b[38;5;21;01mdocx2txt\u001b[39;00m\n",
      "\u001b[1;31mModuleNotFoundError\u001b[0m: No module named 'docx2txt'"
     ]
    }
   ],
   "source": [
    "# 8. write a function which will be able to read a doc/word file from your system\n",
    "\n",
    "import docx2txt"
   ]
  },
  {
   "cell_type": "code",
   "execution_count": null,
   "id": "e205cbb6",
   "metadata": {},
   "outputs": [],
   "source": [
    "!pip install docx2txt"
   ]
  },
  {
   "cell_type": "code",
   "execution_count": null,
   "id": "704ef015",
   "metadata": {},
   "outputs": [],
   "source": [
    "pip install docx2txt"
   ]
  },
  {
   "cell_type": "code",
   "execution_count": null,
   "id": "332d7745",
   "metadata": {},
   "outputs": [],
   "source": [
    "a = docx2txt.process('testword.docx')  # for reading any docs file\n",
    "print(a)"
   ]
  },
  {
   "cell_type": "code",
   "execution_count": null,
   "id": "98f6b82d",
   "metadata": {},
   "outputs": [],
   "source": [
    "ls"
   ]
  },
  {
   "cell_type": "code",
   "execution_count": 9,
   "id": "53bbca79",
   "metadata": {},
   "outputs": [
    {
     "data": {
      "text/plain": [
       "\"Here's the corrected breakdown of the output:\\n\\n1. First Iteration:\\n\\nThe loop begins:\\nThe first element, 1, is assigned to a[-1] (the last element), effectively replacing the original 6 with 1.\\nprint(a[-1]) outputs 1, as it now holds the value 1.\\nThe list becomes [1, 2, 3, 4, 5, 1].\\n2. Second Iteration:\\n\\nThe loop continues:\\nThe next element, 2, is assigned to a[-1].\\nprint(a[-1]) outputs 2.\\nThe list becomes [1, 2, 3, 4, 5, 2].\\n3. Third to Fifth Iterations:\\n\\nThe same process repeats, printing 3, 4, and 5, and modifying the list accordingly:\\nThird iteration: List becomes [1, 2, 3, 4, 5, 3], output is 3.\\nFourth iteration: List becomes [1, 2, 3, 4, 5, 4], output is 4.\\nFifth iteration: List becomes [1, 2, 3, 4, 5, 5], output is 5.\\n4. Sixth Iteration:\\n\\nThe loop reaches the last element (5) and attempts to assign it to a[-1], but it's already 5.\\nprint(a[-1]) outputs 5 again.\\nThe list remains [1, 2, 3, 4, 5, 5].\\n5. Loop Ends:\\n\\nThe loop has completed its iterations and ends.\\nFinal Output:\\n\\nThe complete output, as you correctly observed, is: 1 2 3 4 5 5\\n\""
      ]
     },
     "execution_count": 9,
     "metadata": {},
     "output_type": "execute_result"
    }
   ],
   "source": [
    "\"\"\"Here's the corrected breakdown of the output for :\n",
    "\n",
    "1. First Iteration:\n",
    "\n",
    "The loop begins:\n",
    "The first element, 1, is assigned to a[-1] (the last element), effectively replacing the original 6 with 1.\n",
    "print(a[-1]) outputs 1, as it now holds the value 1.\n",
    "The list becomes [1, 2, 3, 4, 5, 1].\n",
    "2. Second Iteration:\n",
    "\n",
    "The loop continues:\n",
    "The next element, 2, is assigned to a[-1].\n",
    "print(a[-1]) outputs 2.\n",
    "The list becomes [1, 2, 3, 4, 5, 2].\n",
    "3. Third to Fifth Iterations:\n",
    "\n",
    "The same process repeats, printing 3, 4, and 5, and modifying the list accordingly:\n",
    "Third iteration: List becomes [1, 2, 3, 4, 5, 3], output is 3.\n",
    "Fourth iteration: List becomes [1, 2, 3, 4, 5, 4], output is 4.\n",
    "Fifth iteration: List becomes [1, 2, 3, 4, 5, 5], output is 5.\n",
    "4. Sixth Iteration:\n",
    "\n",
    "The loop reaches the last element (5) and attempts to assign it to a[-1], but it's already 5.\n",
    "print(a[-1]) outputs 5 again.\n",
    "The list remains [1, 2, 3, 4, 5, 5].\n",
    "5. Loop Ends:\n",
    "\n",
    "The loop has completed its iterations and ends.\n",
    "Final Output:\n",
    "\n",
    "The complete output, as you correctly observed, is: 1 2 3 4 5 5\n",
    "\"\"\""
   ]
  },
  {
   "cell_type": "code",
   "execution_count": 1,
   "id": "72c1806c",
   "metadata": {},
   "outputs": [
    {
     "name": "stdout",
     "output_type": "stream",
     "text": [
      "1\n",
      "2\n",
      "3\n",
      "4\n",
      "5\n",
      "5\n"
     ]
    }
   ],
   "source": [
    "a=[1,2,3,4,5,6]\n",
    "for a[-1] in a:\n",
    "    print(a[-1])"
   ]
  },
  {
   "cell_type": "code",
   "execution_count": null,
   "id": "900af44e",
   "metadata": {},
   "outputs": [],
   "source": []
  }
 ],
 "metadata": {
  "kernelspec": {
   "display_name": "Python 3 (ipykernel)",
   "language": "python",
   "name": "python3"
  },
  "language_info": {
   "codemirror_mode": {
    "name": "ipython",
    "version": 3
   },
   "file_extension": ".py",
   "mimetype": "text/x-python",
   "name": "python",
   "nbconvert_exporter": "python",
   "pygments_lexer": "ipython3",
   "version": "3.11.5"
  }
 },
 "nbformat": 4,
 "nbformat_minor": 5
}
