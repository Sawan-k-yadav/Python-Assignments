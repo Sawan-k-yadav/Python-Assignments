{
 "cells": [
  {
   "cell_type": "code",
   "execution_count": 30,
   "id": "cfa7ac58",
   "metadata": {},
   "outputs": [
    {
     "name": "stdout",
     "output_type": "stream",
     "text": [
      "Sum of the Array = 368\n"
     ]
    }
   ],
   "source": [
    "# 1. Write a Python Program to find sum of array?\n",
    "\n",
    "Array = [23,56,98,98,93]\n",
    "s = 0\n",
    "for i in range(len(Array)):\n",
    "    s+=Array[i]\n",
    "    i+=1\n",
    "    \n",
    "print(f\"Sum of the Array = {s}\")"
   ]
  },
  {
   "cell_type": "code",
   "execution_count": 31,
   "id": "55d5cffe",
   "metadata": {},
   "outputs": [
    {
     "name": "stdout",
     "output_type": "stream",
     "text": [
      "Maximum value of Array2 = 98\n"
     ]
    }
   ],
   "source": [
    "#  2. Write a Python Program to find largest element in an array?\n",
    "\n",
    "Array2 = [23,56,98,90,93]\n",
    "\n",
    "print(f\"Maximum value of Array2 = {max(Array2)}\")"
   ]
  },
  {
   "cell_type": "code",
   "execution_count": null,
   "id": "d64485f9",
   "metadata": {},
   "outputs": [],
   "source": [
    "# 3. Write a Python Program for array rotation?\n",
    "\n"
   ]
  },
  {
   "cell_type": "code",
   "execution_count": 26,
   "id": "36d1a34e",
   "metadata": {},
   "outputs": [
    {
     "name": "stdout",
     "output_type": "stream",
     "text": [
      "Updated list is: \n"
     ]
    },
    {
     "data": {
      "text/plain": [
       "[1, 2, 3, 4, 5, 1, 2]"
      ]
     },
     "execution_count": 26,
     "metadata": {},
     "output_type": "execute_result"
    }
   ],
   "source": [
    "# 4. Write a Python Program to Split the array and add the first part to the end?\n",
    "\n",
    "my_list = [1, 2, 3, 4, 5]\n",
    "\n",
    "l = int(len(my_list)//2)\n",
    "\n",
    "first_part = my_list[:len(my_list)//2]\n",
    "\n",
    "# print(first_part)\n",
    "\n",
    "my_list.extend(first_part)\n",
    "\n",
    "print(\"Updated list is: \")\n",
    "my_list"
   ]
  },
  {
   "cell_type": "code",
   "execution_count": 12,
   "id": "99e728b4",
   "metadata": {},
   "outputs": [
    {
     "name": "stdout",
     "output_type": "stream",
     "text": [
      "Array3 is not Monotanic\n",
      "Array4 is Monotanic\n"
     ]
    }
   ],
   "source": [
    "#  5. Write a Python Program to check if given array is Monotonic?\n",
    "\n",
    "Array3 = [23,56,98,90,93,56, 9]\n",
    "\n",
    "Sort_array3 = Array3.copy()\n",
    "\n",
    "Sort_array3.sort()\n",
    "\n",
    "if Array3 == Sort_array3:\n",
    "    print(f\"Array3 is Monotanic\")\n",
    "else:\n",
    "    print(f\"Array3 is not Monotanic\")\n",
    "    \n",
    "Array4 = [1,4,6,7,12,45]\n",
    "    \n",
    "Sort_array4 = Array4.copy()\n",
    "\n",
    "Sort_array4.sort()\n",
    "\n",
    "if Array4 == Sort_array4:\n",
    "    print(f\"Array4 is Monotanic\")\n",
    "else:\n",
    "    print(f\"Array4 is not Monotanic\")"
   ]
  },
  {
   "cell_type": "code",
   "execution_count": null,
   "id": "c80fbf3f",
   "metadata": {},
   "outputs": [],
   "source": []
  }
 ],
 "metadata": {
  "kernelspec": {
   "display_name": "Python 3 (ipykernel)",
   "language": "python",
   "name": "python3"
  },
  "language_info": {
   "codemirror_mode": {
    "name": "ipython",
    "version": 3
   },
   "file_extension": ".py",
   "mimetype": "text/x-python",
   "name": "python",
   "nbconvert_exporter": "python",
   "pygments_lexer": "ipython3",
   "version": "3.10.9"
  }
 },
 "nbformat": 4,
 "nbformat_minor": 5
}
