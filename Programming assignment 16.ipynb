{
 "cells": [
  {
   "cell_type": "markdown",
   "id": "e09e24cd",
   "metadata": {},
   "source": [
    "# Question1. Write a function that stutters a word as if someone is struggling to read it. The first two letters are repeated twice with an ellipsis ... and space after each, and then the word is pronounced with a question mark ?.\n",
    "\n",
    "Examples\n",
    "\n",
    "stutter(&quot;incredible&quot;) ➞ &quot;in... in... incredible?&quot;\n",
    "\n",
    "stutter(&quot;enthusiastic&quot;) ➞ &quot;en... en... enthusiastic?&quot;\n",
    "\n",
    "stutter(&quot;outstanding&quot;) ➞ &quot;ou... ou... outstanding?&quot;\n",
    "\n",
    "Hint :- Assume all input is in lower case and at least two characters long."
   ]
  },
  {
   "cell_type": "code",
   "execution_count": 17,
   "id": "81b9c8c4",
   "metadata": {},
   "outputs": [
    {
     "name": "stdout",
     "output_type": "stream",
     "text": [
      "in... in... incredible?\n",
      "en... en... enthusiastic?\n",
      "ou... ou... outstanding?\n"
     ]
    }
   ],
   "source": [
    "def stutter(word):\n",
    "#     output = List()\n",
    "    return (2*(word[:2]+\"... \"))+word+\"?\"\n",
    "\n",
    "# print(f\"Stutter word of incredible is {stutter(\"incredible\")} \")\n",
    "print(stutter(\"incredible\"))\n",
    "print(stutter(\"enthusiastic\"))\n",
    "print(stutter(\"outstanding\"))"
   ]
  },
  {
   "cell_type": "markdown",
   "id": "b77f2679",
   "metadata": {},
   "source": [
    "# Question 2.Create a function that takes an angle in radians and returns the corresponding angle in degrees rounded to one decimal place.\n",
    "\n",
    "Examples\n",
    "\n",
    "radians_to_degrees(1) ➞ 57.3\n",
    "\n",
    "radians_to_degrees(20) ➞ 1145.9\n",
    "\n",
    "radians_to_degrees(50) ➞ 2864.8"
   ]
  },
  {
   "cell_type": "code",
   "execution_count": 20,
   "id": "a187b32a",
   "metadata": {},
   "outputs": [
    {
     "name": "stdout",
     "output_type": "stream",
     "text": [
      "57.3\n",
      "1145.9\n",
      "2864.8\n"
     ]
    }
   ],
   "source": [
    "# Degree = radians * 180/pi\n",
    "\n",
    "import math\n",
    "\n",
    "def radians_to_degrees(n):\n",
    "    return round((n*180)/math.pi,1)\n",
    "\n",
    "print(radians_to_degrees(1))\n",
    "print(radians_to_degrees(20))\n",
    "print(radians_to_degrees(50))"
   ]
  },
  {
   "cell_type": "markdown",
   "id": "c0b241bd",
   "metadata": {},
   "source": [
    "# Question 3. In this challenge, establish if a given integer num is a Curzon number. If 1 plus 2 elevated to num is exactly divisible by 1 plus 2 multiplied by num, then num is a Curzon number.\n",
    "\n",
    "# Given a non-negative integer num, implement a function that returns True if num is a Curzon number, or False otherwise.\n",
    "\n",
    "Examples\n",
    "\n",
    "is_curzon(5) ➞ True\n",
    "### 2 ** 5 + 1 = 33\n",
    "### 2 * 5 + 1 = 11\n",
    "### 33 is a multiple of 11\n",
    "\n",
    "is_curzon(10) ➞ False\n",
    "### 2 ** 10 + 1 = 1025\n",
    "### 2 * 10 + 1 = 21\n",
    "### 1025 is not a multiple of 21\n",
    "\n",
    "is_curzon(14) ➞ True\n",
    "### 2 ** 14 + 1 = 16385\n",
    "### 2 * 14 + 1 = 29\n",
    "### 16385 is a multiple of 29"
   ]
  },
  {
   "cell_type": "code",
   "execution_count": 27,
   "id": "c2feb203",
   "metadata": {},
   "outputs": [
    {
     "name": "stdout",
     "output_type": "stream",
     "text": [
      "True\n",
      "False\n",
      "True\n"
     ]
    }
   ],
   "source": [
    "def is_curzon(n):\n",
    "    A = 2**n+1\n",
    "    B = 2*n+1\n",
    "    if A%B == 0:\n",
    "        return True\n",
    "    else:\n",
    "        return False\n",
    "    \n",
    "print(is_curzon(5))\n",
    "print(is_curzon(10))\n",
    "print(is_curzon(14))"
   ]
  },
  {
   "cell_type": "markdown",
   "id": "c7775204",
   "metadata": {},
   "source": [
    "# Question 4.Given the side length x find the area of a hexagon.\n",
    "\n",
    "Examples\n",
    "\n",
    "area_of_hexagon(1) ➞ 2.6\n",
    "\n",
    "area_of_hexagon(2) ➞ 10.4\n",
    "\n",
    "area_of_hexagon(3) ➞ 23.4"
   ]
  },
  {
   "cell_type": "code",
   "execution_count": 32,
   "id": "e34b9b5a",
   "metadata": {},
   "outputs": [
    {
     "name": "stdout",
     "output_type": "stream",
     "text": [
      "2.6\n",
      "10.4\n",
      "23.4\n"
     ]
    }
   ],
   "source": [
    "# Area of hexagon is A = (3*sqrt3*side)/2\n",
    "\n",
    "import math\n",
    "\n",
    "def area_of_hexagon(n):\n",
    "    A = (3*math.sqrt(3)*n**2)/2\n",
    "    \n",
    "    return round(A,1)\n",
    "\n",
    "print(area_of_hexagon(1))\n",
    "print(area_of_hexagon(2))\n",
    "print(area_of_hexagon(3))"
   ]
  },
  {
   "cell_type": "markdown",
   "id": "c9323e42",
   "metadata": {},
   "source": [
    "# Question 5. Create a function that returns a base-2 (binary) representation of a base-10 (decimal) string number. To convert is simple: ((2) means base-2 and (10) means base-10) 010101001(2) = 1 + 8 + 32 + 128.\n",
    "\n",
    "# Going from right to left, the value of the most right bit is 1, now from that every bit to the left will be x2 the value, value of an 8 bit binary numbers are (256, 128, 64, 32, 16, 8, 4, 2, 1).\n",
    "\n",
    "Examples\n",
    "\n",
    "binary(1) ➞ &quot;1&quot;\n",
    "\n",
    "# 1* 1 = 1\n",
    "\n",
    "binary(5) ➞ &quot;101&quot;\n",
    "\n",
    "# 1* 1 + 1* 4 = 5\n",
    "\n",
    "binary(10) ➞ &quot;1010&quot;\n",
    "\n",
    "# 1* 2 + 1* 8 = 10"
   ]
  },
  {
   "cell_type": "code",
   "execution_count": 35,
   "id": "9185940b",
   "metadata": {},
   "outputs": [
    {
     "name": "stdout",
     "output_type": "stream",
     "text": [
      "0b101\n"
     ]
    }
   ],
   "source": [
    "def binary(x):\n",
    "    output = str(bin(x))#.replace('0b', '')\n",
    "    return output\n",
    "\n",
    "print(binary(5))   # this one just add 0b at every binary no. of decimal value so we need o remove it"
   ]
  },
  {
   "cell_type": "code",
   "execution_count": 37,
   "id": "6cb02c2f",
   "metadata": {},
   "outputs": [
    {
     "name": "stdout",
     "output_type": "stream",
     "text": [
      "101\n",
      "1010\n"
     ]
    }
   ],
   "source": [
    "def binary(x):\n",
    "    output = str(bin(x)).replace('0b', '')\n",
    "    return output\n",
    "\n",
    "print(binary(5))\n",
    "print(binary(10))\n",
    "print(bi)"
   ]
  },
  {
   "cell_type": "code",
   "execution_count": null,
   "id": "8c0f5dca",
   "metadata": {},
   "outputs": [],
   "source": []
  }
 ],
 "metadata": {
  "kernelspec": {
   "display_name": "Python 3 (ipykernel)",
   "language": "python",
   "name": "python3"
  },
  "language_info": {
   "codemirror_mode": {
    "name": "ipython",
    "version": 3
   },
   "file_extension": ".py",
   "mimetype": "text/x-python",
   "name": "python",
   "nbconvert_exporter": "python",
   "pygments_lexer": "ipython3",
   "version": "3.11.5"
  }
 },
 "nbformat": 4,
 "nbformat_minor": 5
}
