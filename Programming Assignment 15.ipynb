{
 "cells": [
  {
   "cell_type": "code",
   "execution_count": 13,
   "id": "1f88d99a",
   "metadata": {},
   "outputs": [
    {
     "name": "stdout",
     "output_type": "stream",
     "text": [
      "enter no.100\n",
      "0,35,70,"
     ]
    }
   ],
   "source": [
    "\"\"\"Question 1:\n",
    "Please write a program using generator to print the numbers which can be divisible by 5 and\n",
    "7 between 0 and n in comma separated form while n is input by console.\n",
    "Example:\n",
    "If the following n is given as input to the program:\n",
    "100\n",
    "Then, the output of the program should be:\n",
    "0,35,70\"\"\"\n",
    "\n",
    "\n",
    "def divide_gen(n):\n",
    "    num = list()\n",
    "    for i in range(0,n+1):\n",
    "        if i%5==0 and i%7==0:\n",
    "            yield i\n",
    "\n",
    "            \n",
    "n = int(input(\"enter no.\"))\n",
    "\n",
    "for i in divide_gen(n):\n",
    "    print(i, end=\",\")\n",
    "\n",
    "\n",
    "\n",
    "# def divisible_by_5_and_7(n):\n",
    "#   \"\"\"\n",
    "#   This function is a generator that prints the numbers which can be divisible by 5 and\n",
    "#   7 between 0 and n in comma separated form.\n",
    "#   \"\"\"\n",
    "#   for num in range(n + 1):\n",
    "#     if num % 5 == 0 and num % 7 == 0:\n",
    "#         yield num\n",
    "\n",
    "# n = int(input(\"Enter the value of n: \"))\n",
    "\n",
    "# for num in divisible_by_5_and_7(n):\n",
    "#     print(num, end=\",\")\n",
    "\n",
    "# print()\n",
    "\n",
    "            "
   ]
  },
  {
   "cell_type": "code",
   "execution_count": 14,
   "id": "e9ba89e1",
   "metadata": {},
   "outputs": [
    {
     "name": "stdout",
     "output_type": "stream",
     "text": [
      "enter no.10\n",
      "[0, 2, 4, 6, 8, 10],"
     ]
    }
   ],
   "source": [
    "\"\"\"\n",
    "Question 2:\n",
    "Please write a program using generator to print the even numbers between 0 and n in comma\n",
    "separated form while n is input by console.\n",
    "Example:\n",
    "If the following n is given as input to the program:\n",
    "10\n",
    "Then, the output of the program should be:\n",
    "0,2,4,6,8,10\n",
    "\"\"\"\n",
    "\n",
    "def even_no_gen(n):\n",
    "    num = [i for i in range(n+1) if i%2==0]\n",
    "    yield num\n",
    "    \n",
    "n = int(input(\"enter no.\"))\n",
    "\n",
    "for i in even_no_gen(n):\n",
    "    print(i, end=\",\")"
   ]
  },
  {
   "cell_type": "code",
   "execution_count": 16,
   "id": "e2698619",
   "metadata": {},
   "outputs": [
    {
     "name": "stdout",
     "output_type": "stream",
     "text": [
      "enter no.10\n",
      "0,1,1,2,3,5,8,13,21,34,55\n"
     ]
    }
   ],
   "source": [
    "\"\"\"\n",
    "\n",
    "Question 3:\n",
    "The Fibonacci Sequence is computed based on the following formula:\n",
    "f(n)=0 if n=0\n",
    "f(n)=1 if n=1\n",
    "f(n)=f(n-1)+f(n-2) if n>1\n",
    "\n",
    "Please write a program using list comprehension to print the Fibonacci Sequence in comma\n",
    "separated form with a given n input by console.\n",
    "Example:\n",
    "If the following n is given as input to the program:\n",
    "7\n",
    "\n",
    "Then, the output of the program should be:\n",
    "0,1,1,2,3,5,8,13\n",
    "\"\"\"\n",
    "\n",
    "def gen_fib(x):\n",
    "    f = lambda x: 0 if x == 0 else 1 if x == 1 else f(x-1)+f(x-2)\n",
    "    print(','.join([str(f(x)) for x in range(0, n+1)]))\n",
    "\n",
    "    \n",
    "n = int(input(\"enter no.\"))\n",
    "gen_fib(n)"
   ]
  },
  {
   "cell_type": "code",
   "execution_count": 28,
   "id": "b776dbae",
   "metadata": {},
   "outputs": [
    {
     "name": "stdout",
     "output_type": "stream",
     "text": [
      "enter email: john@google.com\n",
      "john\n"
     ]
    }
   ],
   "source": [
    "\"\"\"\n",
    "Question 4:\n",
    "\n",
    "Assuming that we have some email addresses in the \"username@companyname.com\" format,\n",
    "please write program to print the user name of a given email address. Both user names and\n",
    "company names are composed of letters only.\n",
    "Example:\n",
    "If the following email address is given as input to the program:\n",
    "john@google.com\n",
    "Then, the output of the program should be:\n",
    "john\n",
    "\n",
    "\"\"\"\n",
    "\n",
    "email_id = input(\"enter email: \")\n",
    "\n",
    "print(list(email_id.split(\"@\"))[0])\n",
    "    \n",
    "    "
   ]
  },
  {
   "cell_type": "code",
   "execution_count": 29,
   "id": "bb36459e",
   "metadata": {},
   "outputs": [
    {
     "name": "stdout",
     "output_type": "stream",
     "text": [
      "Area of the square is 25\n",
      "Area of the shape is 0\n"
     ]
    }
   ],
   "source": [
    "\"\"\"\n",
    "Question 5:\n",
    "Define a class named Shape and its subclass Square. The Square class has an init function\n",
    "which takes a length as argument. Both classes have a area function which can print the area\n",
    "of the shape where Shape's area is 0 by default.\n",
    "\"\"\"\n",
    "\n",
    "class Shape:\n",
    "    def __init__(self):\n",
    "        pass\n",
    "\n",
    "    def area(self):\n",
    "        print(\"Area of the shape is 0\")\n",
    "\n",
    "class Square(Shape):\n",
    "    def __init__(self, length):\n",
    "        super().__init__()\n",
    "        self.length = length\n",
    "\n",
    "    def area(self):\n",
    "        print(f\"Area of the square is {self.length * self.length}\")\n",
    "\n",
    "# Example usage\n",
    "square = Square(5)\n",
    "square.area()\n",
    "\n",
    "shape = Shape()\n",
    "shape.area()\n"
   ]
  },
  {
   "cell_type": "code",
   "execution_count": null,
   "id": "b7e091f6",
   "metadata": {},
   "outputs": [],
   "source": []
  }
 ],
 "metadata": {
  "kernelspec": {
   "display_name": "Python 3 (ipykernel)",
   "language": "python",
   "name": "python3"
  },
  "language_info": {
   "codemirror_mode": {
    "name": "ipython",
    "version": 3
   },
   "file_extension": ".py",
   "mimetype": "text/x-python",
   "name": "python",
   "nbconvert_exporter": "python",
   "pygments_lexer": "ipython3",
   "version": "3.11.5"
  }
 },
 "nbformat": 4,
 "nbformat_minor": 5
}
