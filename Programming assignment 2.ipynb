{
 "cells": [
  {
   "cell_type": "code",
   "execution_count": 4,
   "id": "9ddb3ae3",
   "metadata": {},
   "outputs": [
    {
     "name": "stdout",
     "output_type": "stream",
     "text": [
      "Enter distance in kilometer: 1.6\n",
      "1.6 Kilometers is equal to 1.0 Miles\n"
     ]
    }
   ],
   "source": [
    "#1. Write a Python program to convert kilometers to miles?\n",
    "\n",
    "KL = float(input(\"Enter distance in kilometer: \"))\n",
    "\n",
    "print(f\"{KL} Kilometers is equal to\",KL/1.6,\"Miles\")"
   ]
  },
  {
   "cell_type": "code",
   "execution_count": 7,
   "id": "640ad3c0",
   "metadata": {},
   "outputs": [
    {
     "name": "stdout",
     "output_type": "stream",
     "text": [
      "Enter tempreture in degree celsius : 25\n",
      "25.0 celsium is 77.0 farenheight\n"
     ]
    }
   ],
   "source": [
    "# 2. Write a Python program to convert Celsius to Fahrenheit?\n",
    "\n",
    "C = float(input(\"Enter tempreture in degree celsius : \"))\n",
    "f = (C * 9/5) + 32\n",
    "print(f\"{C} celsium is {f} farenheight\")"
   ]
  },
  {
   "cell_type": "code",
   "execution_count": 14,
   "id": "ce45a070",
   "metadata": {},
   "outputs": [
    {
     "name": "stdout",
     "output_type": "stream",
     "text": [
      "Enter which year calendar you want to see :2023\n",
      "                                  2023\n",
      "\n",
      "      January                   February                   March\n",
      "Mo Tu We Th Fr Sa Su      Mo Tu We Th Fr Sa Su      Mo Tu We Th Fr Sa Su\n",
      "                   1             1  2  3  4  5             1  2  3  4  5\n",
      " 2  3  4  5  6  7  8       6  7  8  9 10 11 12       6  7  8  9 10 11 12\n",
      " 9 10 11 12 13 14 15      13 14 15 16 17 18 19      13 14 15 16 17 18 19\n",
      "16 17 18 19 20 21 22      20 21 22 23 24 25 26      20 21 22 23 24 25 26\n",
      "23 24 25 26 27 28 29      27 28                     27 28 29 30 31\n",
      "30 31\n",
      "\n",
      "       April                      May                       June\n",
      "Mo Tu We Th Fr Sa Su      Mo Tu We Th Fr Sa Su      Mo Tu We Th Fr Sa Su\n",
      "                1  2       1  2  3  4  5  6  7                1  2  3  4\n",
      " 3  4  5  6  7  8  9       8  9 10 11 12 13 14       5  6  7  8  9 10 11\n",
      "10 11 12 13 14 15 16      15 16 17 18 19 20 21      12 13 14 15 16 17 18\n",
      "17 18 19 20 21 22 23      22 23 24 25 26 27 28      19 20 21 22 23 24 25\n",
      "24 25 26 27 28 29 30      29 30 31                  26 27 28 29 30\n",
      "\n",
      "        July                     August                  September\n",
      "Mo Tu We Th Fr Sa Su      Mo Tu We Th Fr Sa Su      Mo Tu We Th Fr Sa Su\n",
      "                1  2          1  2  3  4  5  6                   1  2  3\n",
      " 3  4  5  6  7  8  9       7  8  9 10 11 12 13       4  5  6  7  8  9 10\n",
      "10 11 12 13 14 15 16      14 15 16 17 18 19 20      11 12 13 14 15 16 17\n",
      "17 18 19 20 21 22 23      21 22 23 24 25 26 27      18 19 20 21 22 23 24\n",
      "24 25 26 27 28 29 30      28 29 30 31               25 26 27 28 29 30\n",
      "31\n",
      "\n",
      "      October                   November                  December\n",
      "Mo Tu We Th Fr Sa Su      Mo Tu We Th Fr Sa Su      Mo Tu We Th Fr Sa Su\n",
      "                   1             1  2  3  4  5                   1  2  3\n",
      " 2  3  4  5  6  7  8       6  7  8  9 10 11 12       4  5  6  7  8  9 10\n",
      " 9 10 11 12 13 14 15      13 14 15 16 17 18 19      11 12 13 14 15 16 17\n",
      "16 17 18 19 20 21 22      20 21 22 23 24 25 26      18 19 20 21 22 23 24\n",
      "23 24 25 26 27 28 29      27 28 29 30               25 26 27 28 29 30 31\n",
      "30 31\n",
      "\n"
     ]
    }
   ],
   "source": [
    "# 3. Write a Python program to display calendar?\n",
    "\n",
    "import calendar\n",
    "y = int(input(\"Enter which year calendar you want to see :\"))\n",
    "print(calendar.calendar(y))"
   ]
  },
  {
   "cell_type": "code",
   "execution_count": 18,
   "id": "83a5d036",
   "metadata": {},
   "outputs": [
    {
     "name": "stdout",
     "output_type": "stream",
     "text": [
      "Enter value of a :23\n",
      "Enter value of b :45\n",
      "Enter value of c :1\n"
     ]
    },
    {
     "ename": "NameError",
     "evalue": "name 'sqrt' is not defined",
     "output_type": "error",
     "traceback": [
      "\u001b[1;31m---------------------------------------------------------------------------\u001b[0m",
      "\u001b[1;31mNameError\u001b[0m                                 Traceback (most recent call last)",
      "Cell \u001b[1;32mIn[18], line 22\u001b[0m\n\u001b[0;32m     20\u001b[0m     \u001b[38;5;28mprint\u001b[39m(\u001b[38;5;124m\"\u001b[39m\u001b[38;5;124mRoots are \u001b[39m\u001b[38;5;124m\"\u001b[39m, \u001b[38;5;241m-\u001b[39mb\u001b[38;5;241m/\u001b[39m\u001b[38;5;241m2\u001b[39m\u001b[38;5;241m*\u001b[39ma)\n\u001b[0;32m     21\u001b[0m \u001b[38;5;28;01melse\u001b[39;00m:\n\u001b[1;32m---> 22\u001b[0m     \u001b[38;5;28mprint\u001b[39m(\u001b[38;5;124m\"\u001b[39m\u001b[38;5;124mRoots are\u001b[39m\u001b[38;5;124m\"\u001b[39m, (\u001b[38;5;241m-\u001b[39mb \u001b[38;5;241m+\u001b[39m \u001b[43msqrt\u001b[49m(Delta))\u001b[38;5;241m/\u001b[39m\u001b[38;5;241m2\u001b[39m\u001b[38;5;241m*\u001b[39ma, \u001b[38;5;124m\"\u001b[39m\u001b[38;5;124m and \u001b[39m\u001b[38;5;124m\"\u001b[39m, (\u001b[38;5;241m-\u001b[39mb \u001b[38;5;241m-\u001b[39m sqrt(Delta))\u001b[38;5;241m/\u001b[39m\u001b[38;5;241m2\u001b[39m\u001b[38;5;241m*\u001b[39ma)\n",
      "\u001b[1;31mNameError\u001b[0m: name 'sqrt' is not defined"
     ]
    }
   ],
   "source": [
    "# 4. Write a Python program to solve quadratic equation?\n",
    "\n",
    "#Solves the quadratic equation ax^2 + bx + c = 0\n",
    "import math\n",
    "\n",
    "a = float(input(\"Enter value of a :\"))\n",
    "b = float(input(\"Enter value of b :\"))\n",
    "c = float(input(\"Enter value of c :\"))\n",
    "\n",
    "if a == 0:\n",
    "    if b == 0:\n",
    "        print(\"roots are \", 0)\n",
    "    else:\n",
    "        print(\"roots are =\", -c/b)\n",
    "else:\n",
    "    Delta = b**2 - 4*a*c\n",
    "    if Delta < 0:\n",
    "        print(\"Roots are imaginary\")\n",
    "    elif Delta == 0:\n",
    "        print(\"Roots are \", -b/2*a)\n",
    "    else:\n",
    "        print(\"Roots are\", (-b + sqrt(Delta))/2*a, \" and \", (-b - sqrt(Delta))/2*a)"
   ]
  },
  {
   "cell_type": "code",
   "execution_count": 16,
   "id": "2cab803d",
   "metadata": {},
   "outputs": [
    {
     "name": "stdout",
     "output_type": "stream",
     "text": [
      "Before swap value of A = 34 and B = 20\n",
      "After swap value of A = 20 and B = 34\n"
     ]
    }
   ],
   "source": [
    "#5. Write a Python program to swap two variables without temp variable?\n",
    "\n",
    "A = 34\n",
    "B = 20\n",
    "print(f\"Before swap value of A = {A} and B = {B}\")\n",
    "\n",
    "A,B = B,A\n",
    "\n",
    "print(f\"After swap value of A = {A} and B = {B}\")"
   ]
  },
  {
   "cell_type": "code",
   "execution_count": null,
   "id": "a8ea3d74",
   "metadata": {},
   "outputs": [],
   "source": []
  }
 ],
 "metadata": {
  "kernelspec": {
   "display_name": "Python 3 (ipykernel)",
   "language": "python",
   "name": "python3"
  },
  "language_info": {
   "codemirror_mode": {
    "name": "ipython",
    "version": 3
   },
   "file_extension": ".py",
   "mimetype": "text/x-python",
   "name": "python",
   "nbconvert_exporter": "python",
   "pygments_lexer": "ipython3",
   "version": "3.10.9"
  }
 },
 "nbformat": 4,
 "nbformat_minor": 5
}
