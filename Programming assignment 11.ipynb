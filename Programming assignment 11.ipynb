{
 "cells": [
  {
   "cell_type": "code",
   "execution_count": 4,
   "id": "c7b87f6e",
   "metadata": {},
   "outputs": [
    {
     "name": "stdout",
     "output_type": "stream",
     "text": [
      "Word greater than 3 is ['Sawan', 'Yadav']\n"
     ]
    }
   ],
   "source": [
    "'''1. Write a Python program to find words which are greater than given length k?\n",
    "\n",
    "'''\n",
    "\n",
    "def word_greater_k(l, n):\n",
    "    l = l.split(' ')\n",
    "    \n",
    "    word = []\n",
    "    for i in l:\n",
    "        if len(i) > n:\n",
    "            word.append(i)\n",
    "            \n",
    "    return word\n",
    "\n",
    "\n",
    "\n",
    "Words = \"Sawan Kr Yadav\"\n",
    "\n",
    "k = 3\n",
    "\n",
    "print(f\"Word greater than {k} is {word_greater_k(Words, k)}\")"
   ]
  },
  {
   "cell_type": "code",
   "execution_count": null,
   "id": "9ea04655",
   "metadata": {},
   "outputs": [],
   "source": [
    "'''2. Write a Python program for removing i-th character from a string?'''\n",
    "\n"
   ]
  },
  {
   "cell_type": "code",
   "execution_count": 6,
   "id": "bddf6fac",
   "metadata": {},
   "outputs": [
    {
     "name": "stdout",
     "output_type": "stream",
     "text": [
      "Word after split : ['hello', 'world']\n",
      "Word after join  : hello-world\n"
     ]
    }
   ],
   "source": [
    "'''3. Write a Python program to split and join a string?'''\n",
    "\n",
    "word = \"hello world\"\n",
    "\n",
    "text = word.split(' ')\n",
    "\n",
    "print(f\"Word after split : {text}\")\n",
    "\n",
    "text2 = ('-').join(text)\n",
    "\n",
    "print(f\"Word after join  : {text2}\")"
   ]
  },
  {
   "cell_type": "code",
   "execution_count": 7,
   "id": "d9bea337",
   "metadata": {},
   "outputs": [
    {
     "name": "stdout",
     "output_type": "stream",
     "text": [
      "100011 is binary\n"
     ]
    }
   ],
   "source": [
    "'''4. Write a Python to check if a given string is binary string or not?'''\n",
    "\n",
    "def check_binary(word):\n",
    "    for i in word:\n",
    "        for char in i:\n",
    "            if char not in [\"0\", \"1\"]:\n",
    "                return False\n",
    "            else:\n",
    "                return True\n",
    "            \n",
    "            \n",
    "string = \"100011\"\n",
    "\n",
    "if check_binary(string):\n",
    "    print(f\"{string} is binary\")\n",
    "else:\n",
    "    print(f\"{string} is not binary\")"
   ]
  },
  {
   "cell_type": "code",
   "execution_count": 2,
   "id": "d4401e70",
   "metadata": {},
   "outputs": [
    {
     "data": {
      "text/plain": [
       "['kr', 'Yadav', 'Kumar', 'yadav']"
      ]
     },
     "execution_count": 2,
     "metadata": {},
     "output_type": "execute_result"
    }
   ],
   "source": [
    "'''5. Write a Python program to find uncommon words from two Strings?'''\n",
    "\n",
    "# def check_uncommon(word1, word2):\n",
    "#     new_word = []\n",
    "#     for i in word1.split():\n",
    "#         new_word.append(i)\n",
    "        \n",
    "#     for j in word2.split():\n",
    "#         new_word.append(j)\n",
    "        \n",
    "#     print(new_word)\n",
    "#     c = 0\n",
    "#     for k in new_word:\n",
    "#         m = k\n",
    "#         print(m)\n",
    "#         print(len(new_word))\n",
    "#         for m in new_word:\n",
    "#             c += 1\n",
    "        \n",
    "#         if c == 1:\n",
    "#             return k\n",
    "            \n",
    "\n",
    "# text1 = \"Sawan kr Yadav\"\n",
    "# text2 = \"Sawan Kumar Yadav\"\n",
    "\n",
    "# print(check_uncommon(text1, text2))\n",
    "\n",
    "# def uncommon_words(word1, word2):\n",
    "#     # Create two dictionaries to store the words from each string.\n",
    "#     word1 = {}\n",
    "#     word2 = {}\n",
    "\n",
    "#     for word in word1.split():\n",
    "#         word1[word] = 1\n",
    "\n",
    "#     for word in word2.split():\n",
    "#         word2[word] = 1\n",
    "\n",
    "#     # Create a set to store the uncommon words.\n",
    "#     uncommon_words = set()\n",
    "\n",
    "#     for word in word1:\n",
    "#         if word not in word2:\n",
    "#             uncommon_words.add(word)\n",
    "\n",
    "#     for word in word2:\n",
    "#         if word not in word1:\n",
    "#             uncommon_words.add(word)\n",
    "\n",
    "#     return uncommon_words\n",
    "\n",
    "\n",
    "# # Get the two strings from the user.\n",
    "# string1 = input(\"Enter string1: \")\n",
    "# string2 = input(\"Enter string2: \")\n",
    "\n",
    "# # Find the uncommon words from the two strings.\n",
    "# uncommon_words = uncommon_words(string1, string2)\n",
    "\n",
    "# # Print the uncommon words.\n",
    "# print(\"The uncommon words are:\")\n",
    "# for word in uncommon_words:\n",
    "#     print(word)\n",
    "    \n",
    "\n",
    "def uncommon_words(x, y):\n",
    "    \"\"\"\n",
    "    This function returns the unique words present in two strings\n",
    "    \"\"\"\n",
    "    count = {}\n",
    "    for word in x.split():\n",
    "        count[word]= count.get(word, 0)+1\n",
    "        \n",
    "    for word in y.split():\n",
    "        count[word]= count.get(word, 0)+1\n",
    "        \n",
    "    return [word for word in count if count[word]==1]\n",
    "\n",
    "\n",
    "x= 'Sawan kr Yadav'\n",
    "y= 'Sawan Kumar yadav'\n",
    "uncommon_words(x,y)\n",
    "        "
   ]
  },
  {
   "cell_type": "code",
   "execution_count": 6,
   "id": "7a486479",
   "metadata": {},
   "outputs": [
    {
     "name": "stdout",
     "output_type": "stream",
     "text": [
      "Enter a string: sawan\n",
      "sawan has duplicate character :: ['a']\n"
     ]
    }
   ],
   "source": [
    "'''6. Write a Python to find all duplicate characters in string?'''\n",
    "\n",
    "def duplicate_characters(string):\n",
    "    # Create a set to store the unique characters.\n",
    "    unique_characters = set()\n",
    "\n",
    "    # Create a list to store the duplicate characters.\n",
    "    duplicate_characters = []\n",
    "\n",
    "    for character in string:\n",
    "        if character in unique_characters:\n",
    "            duplicate_characters.append(character)\n",
    "        else:\n",
    "            unique_characters.add(character)\n",
    "\n",
    "    return duplicate_characters\n",
    "\n",
    "\n",
    "# Get the string from the user.\n",
    "string = input(\"Enter a string: \")\n",
    "\n",
    "# Find the duplicate characters in the string.\n",
    "print(f\"{string} has duplicate character :: {duplicate_characters(string)}\")"
   ]
  },
  {
   "cell_type": "code",
   "execution_count": 7,
   "id": "9543e492",
   "metadata": {},
   "outputs": [
    {
     "name": "stdout",
     "output_type": "stream",
     "text": [
      "%%$&Sawan*^%Yadav has special character ? False\n"
     ]
    }
   ],
   "source": [
    "'''\n",
    "7. Write a Python Program to check if a string contains any special character?'''\n",
    "\n",
    "def special_string(string):\n",
    "    sp_char = [\"!\", \"@\", \"#\", \"$\", \"%\", \"^\", \"&\", \"*\", \"(\", \")\", \"-\", \"+\", \"=\", \"[\", \"]\", \"{\", \"}\", \"|\", \"\\\\\", \"/\"]\n",
    "    \n",
    "    for i in string:\n",
    "        if i not in sp_char:\n",
    "            return True\n",
    "        else: \n",
    "            return False\n",
    "        \n",
    "\n",
    "        \n",
    "text = \"%%$&Sawan*^%Yadav\"\n",
    "\n",
    "print(f\"{text} has special character ? {special_string(text)}\")"
   ]
  },
  {
   "cell_type": "code",
   "execution_count": null,
   "id": "82f4361d",
   "metadata": {},
   "outputs": [],
   "source": []
  }
 ],
 "metadata": {
  "kernelspec": {
   "display_name": "Python 3 (ipykernel)",
   "language": "python",
   "name": "python3"
  },
  "language_info": {
   "codemirror_mode": {
    "name": "ipython",
    "version": 3
   },
   "file_extension": ".py",
   "mimetype": "text/x-python",
   "name": "python",
   "nbconvert_exporter": "python",
   "pygments_lexer": "ipython3",
   "version": "3.10.9"
  }
 },
 "nbformat": 4,
 "nbformat_minor": 5
}
