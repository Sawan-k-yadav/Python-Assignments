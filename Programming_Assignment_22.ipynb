{
  "nbformat": 4,
  "nbformat_minor": 0,
  "metadata": {
    "colab": {
      "provenance": []
    },
    "kernelspec": {
      "name": "python3",
      "display_name": "Python 3"
    },
    "language_info": {
      "name": "python"
    }
  },
  "cells": [
    {
      "cell_type": "code",
      "execution_count": null,
      "metadata": {
        "id": "19c3u2dhCPMw"
      },
      "outputs": [],
      "source": [
        "'''Question1\n",
        "Create a function that takes three parameters where:\n",
        " x is the start of the range (inclusive).\n",
        " y is the end of the range (inclusive).\n",
        " n is the divisor to be checked against.\n",
        "Return an ordered list with numbers in the range that are divisible by the third parameter n.\n",
        "Return an empty list if there are no numbers that are divisible by n.\n",
        "Examples\n",
        "list_operation(1, 10, 3) ➞ [3, 6, 9]\n",
        "list_operation(7, 9, 2) ➞ [8]\n",
        "list_operation(15, 20, 7) ➞ []'''"
      ]
    },
    {
      "cell_type": "code",
      "source": [
        "def list_operation(x, y, n):\n",
        "  output = list()\n",
        "  for i in range(x+1,y+1):\n",
        "    if i%n == 0:\n",
        "      output.append(i)\n",
        "\n",
        "    output\n",
        "\n",
        "  return output\n",
        "\n",
        "\n",
        "print(list_operation(1, 10, 3))\n",
        "print(list_operation(15, 20, 7))\n",
        "print(list_operation(7, 9, 2))"
      ],
      "metadata": {
        "colab": {
          "base_uri": "https://localhost:8080/"
        },
        "id": "1cyJQDrgQfW5",
        "outputId": "1e58092a-02e0-489c-a4e1-c44c111f2ccb"
      },
      "execution_count": null,
      "outputs": [
        {
          "output_type": "stream",
          "name": "stdout",
          "text": [
            "[3, 6, 9]\n",
            "[]\n",
            "[8]\n"
          ]
        }
      ]
    },
    {
      "cell_type": "code",
      "source": [
        "# Just for refrence\n",
        "\n",
        "# def sum():\n",
        "#   c=0\n",
        "#   for i in range(0+1,2+1):\n",
        "#     print(i)\n",
        "#     c +=i\n",
        "\n",
        "#   print(c)\n",
        "#   return c\n",
        "# print(sum())"
      ],
      "metadata": {
        "colab": {
          "base_uri": "https://localhost:8080/"
        },
        "id": "1SllZ853Q965",
        "outputId": "ead0864d-8c24-4c14-8ee0-db77f245f153"
      },
      "execution_count": null,
      "outputs": [
        {
          "output_type": "stream",
          "name": "stdout",
          "text": [
            "1\n",
            "2\n",
            "3\n",
            "3\n"
          ]
        }
      ]
    },
    {
      "cell_type": "code",
      "source": [
        "'''Question2\n",
        "Create a function that takes in two lists and returns True if the second list follows the first list\n",
        "by one element, and False otherwise. In other words, determine if the second list is the first\n",
        "list shifted to the right by 1.\n",
        "Examples\n",
        "simon_says([1, 2], [5, 1]) ➞ True\n",
        "simon_says([1, 2], [5, 5]) ➞ False\n",
        "simon_says([1, 2, 3, 4, 5], [0, 1, 2, 3, 4]) ➞ True\n",
        "simon_says([1, 2, 3, 4, 5], [5, 5, 1, 2, 3]) ➞ False\n",
        "Notes\n",
        " Both input lists will be of the same length, and will have a minimum length of 2.\n",
        " The values of the 0-indexed element in the second list and the n-1th indexed element\n",
        "in the first list do not matter.\n",
        "'''"
      ],
      "metadata": {
        "id": "9_-82PSTRP7P"
      },
      "execution_count": null,
      "outputs": []
    },
    {
      "cell_type": "code",
      "source": [
        "def simon_says(list1, list2):\n",
        "  if list1[0:len(list1)-1] == list2[1:len(list2)]:\n",
        "    return True\n",
        "  return False\n",
        "\n",
        "\n",
        "print(simon_says([1, 2], [5, 1]))\n",
        "print(f\"{simon_says([1, 2], [5, 5])}\")\n",
        "print(simon_says([1, 2, 3, 4, 5], [0, 1, 2, 3, 4]))\n",
        "print(f\"{simon_says([1, 2, 3, 4, 5], [5, 5, 1, 2, 3])}\")"
      ],
      "metadata": {
        "colab": {
          "base_uri": "https://localhost:8080/"
        },
        "id": "-K0H8Um-ULIW",
        "outputId": "08d7c401-44da-459e-d177-4ded81793cfa"
      },
      "execution_count": 9,
      "outputs": [
        {
          "output_type": "stream",
          "name": "stdout",
          "text": [
            "True\n",
            "False\n",
            "True\n",
            "False\n"
          ]
        }
      ]
    },
    {
      "cell_type": "markdown",
      "source": [
        "Question3\n",
        "A group of friends have decided to start a secret society. The name will be the first letter of\n",
        "each of their names, sorted in alphabetical order.\n",
        "Create a function that takes in a list of names and returns the name of the secret society.\n",
        "\n",
        "Examples\n",
        "\n",
        "society_name([&quot;Adam&quot;, &quot;Sarah&quot;, &quot;Malcolm&quot;]) ➞ &quot;AMS&quot;\n",
        "\n",
        "society_name([&quot;Harry&quot;, &quot;Newt&quot;, &quot;Luna&quot;, &quot;Cho&quot;]) ➞ &quot;CHLN&quot;\n",
        "\n",
        "society_name([&quot;Phoebe&quot;, &quot;Chandler&quot;, &quot;Rachel&quot;, &quot;Ross&quot;, &quot;Monica&quot;, &quot;Joey&quot;])"
      ],
      "metadata": {
        "id": "XIByUmesdBoM"
      }
    },
    {
      "cell_type": "code",
      "source": [
        "def society_name(list_string):\n",
        "  output = \"\"\n",
        "  list_string.sort()\n",
        "  for i in list_string:\n",
        "    output += i[0]\n",
        "\n",
        "  output = ''.join(output)\n",
        "\n",
        "  return output\n",
        "\n",
        "\n",
        "print(society_name([\"Adam\", \"Sarah\", \"Malcolm\"]))\n",
        "\n",
        "print(society_name([\"Harry\", \"Newt\", \"Luna\", \"Cho\"]))\n",
        "\n",
        "print(society_name([\"Phoebe\", \"Chandler\", \"Rachel\", \"Ross\", \"Monica\", \"Joey\"]))"
      ],
      "metadata": {
        "colab": {
          "base_uri": "https://localhost:8080/"
        },
        "id": "M5_JwTuDdSOY",
        "outputId": "12436bae-4ed8-444f-e011-3aae5f1c7b20"
      },
      "execution_count": 26,
      "outputs": [
        {
          "output_type": "stream",
          "name": "stdout",
          "text": [
            "AMS\n",
            "CHLN\n",
            "CJMPRR\n"
          ]
        }
      ]
    },
    {
      "cell_type": "markdown",
      "source": [
        "Question4\n",
        "\n",
        "An isogram is a word that has no duplicate letters. Create a function that takes a string and\n",
        "returns either True or False depending on whether or not it&#39;s an &quot;isogram&quot;.\n",
        "Examples\n",
        "### is_isogram(&quot;Algorism&quot;) ➞ True\n",
        "### is_isogram(&quot;PasSword&quot;) ➞ False\n",
        " Not case sensitive.\n",
        "## is_isogram(&quot;Consecutive&quot;) ➞ False\n",
        "Notes\n",
        " Ignore letter case (should not be case sensitive).\n",
        "\n",
        " All test cases contain valid one word strings."
      ],
      "metadata": {
        "id": "wMH5ZHGIj_qT"
      }
    },
    {
      "cell_type": "code",
      "source": [
        "def is_isogram(string1):\n",
        "  lower_string1 = string1.lower()\n",
        "\n",
        "  s = []\n",
        "  for char in lower_string1:\n",
        "    if char.isalpha():\n",
        "      if char in s:\n",
        "        return False\n",
        "      s.append(char)\n",
        "  return True\n",
        "\n",
        "\n",
        "# def is_isogram(word):\n",
        "\n",
        "#     # Convert the word or sentence in lower case letters.\n",
        "#     clean_word = word.lower()\n",
        "\n",
        "#     # Make an empty list to append unique letters\n",
        "#     letter_list = []\n",
        "\n",
        "#     for letter in clean_word:\n",
        "\n",
        "#         # If letter is an alphabet then only check\n",
        "#         if letter.isalpha():\n",
        "#             if letter in letter_list:\n",
        "#                 return False\n",
        "#             letter_list.append(letter)\n",
        "\n",
        "#     return True\n",
        "\n",
        "print(is_isogram(\"Algorism\"))\n",
        "\n",
        "print(is_isogram(\"PasSword\"))"
      ],
      "metadata": {
        "colab": {
          "base_uri": "https://localhost:8080/"
        },
        "id": "5qOVhFkpkXoF",
        "outputId": "aafe960d-d8c4-474d-ad86-96de8128b914"
      },
      "execution_count": 51,
      "outputs": [
        {
          "output_type": "stream",
          "name": "stdout",
          "text": [
            "True\n",
            "False\n"
          ]
        }
      ]
    },
    {
      "cell_type": "markdown",
      "source": [
        "Question5\n",
        "Create a function that takes a string and returns True or False, depending on whether the characters are in order or not.\n",
        "\n",
        "Examples\n",
        "### is_in_order(&quot;abc&quot;) ➞ True\n",
        "### is_in_order(&quot;edabit&quot;) ➞ False\n",
        "### is_in_order(&quot;123&quot;) ➞ True\n",
        "### is_in_order(&quot;xyzz&quot;) ➞ True\n",
        "\n",
        "Notes\n",
        "## You don&#39;t have to handle empty strings."
      ],
      "metadata": {
        "id": "_3KOLhiGnJUh"
      }
    },
    {
      "cell_type": "code",
      "source": [
        "def is_in_order(string1):\n",
        "  string2 = string1\n",
        "  string3 = ''.join(sorted(string2))\n",
        "  if string3.lower() == string1.lower():\n",
        "    return True\n",
        "  return False\n",
        "\n",
        "print(is_in_order(\"abc\"))\n",
        "print(is_in_order(\"edabit\"))\n",
        "print(is_in_order(\"123\"))\n",
        "print(is_in_order(\"xyzz\"))"
      ],
      "metadata": {
        "colab": {
          "base_uri": "https://localhost:8080/"
        },
        "id": "7xdKg0ddnIYe",
        "outputId": "ac171743-b968-4ff2-d909-e6827541bd12"
      },
      "execution_count": 39,
      "outputs": [
        {
          "output_type": "stream",
          "name": "stdout",
          "text": [
            "True\n",
            "False\n",
            "True\n",
            "True\n"
          ]
        }
      ]
    },
    {
      "cell_type": "code",
      "source": [
        "'''def alter_char(string1):\n",
        "  output = \"\"\n",
        "  for i in range(len(string1)):\n",
        "    if string1[i].islower() == True:\n",
        "      output += string1[i].upper()\n",
        "    elif string1[i].isupper() == True:\n",
        "      output += string1[i].lower()\n",
        "\n",
        "  return output\n",
        "\n",
        "print(alter_char(\"AbHay\"))'''"
      ],
      "metadata": {
        "id": "od8jTvx-eygh",
        "colab": {
          "base_uri": "https://localhost:8080/"
        },
        "outputId": "61d310ff-6670-4b85-cb7a-450bdd9d2226"
      },
      "execution_count": 3,
      "outputs": [
        {
          "output_type": "stream",
          "name": "stdout",
          "text": [
            "aBhAY\n"
          ]
        }
      ]
    },
    {
      "cell_type": "code",
      "source": [],
      "metadata": {
        "id": "2UWMDG1bXUcj"
      },
      "execution_count": null,
      "outputs": []
    }
  ]
}