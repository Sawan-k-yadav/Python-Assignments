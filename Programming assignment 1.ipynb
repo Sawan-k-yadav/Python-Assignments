{
 "cells": [
  {
   "cell_type": "code",
   "execution_count": 1,
   "id": "997d4e91",
   "metadata": {},
   "outputs": [
    {
     "name": "stdout",
     "output_type": "stream",
     "text": [
      "Hello Python\n"
     ]
    }
   ],
   "source": [
    "#1. Write a Python program to print &quot;Hello Python&quot;?\n",
    "\n",
    "print(\"Hello Python\")"
   ]
  },
  {
   "cell_type": "code",
   "execution_count": 3,
   "id": "ab7b12a3",
   "metadata": {},
   "outputs": [
    {
     "name": "stdout",
     "output_type": "stream",
     "text": [
      "Sum of 1 and 3 = 4\n",
      "Division of 1 and 3 =  0.3333333333333333\n"
     ]
    }
   ],
   "source": [
    "#2. Write a Python program to do arithmetical operations addition and division.?\n",
    "\n",
    "a = 1\n",
    "b = 3\n",
    "\n",
    "print(f\"Sum of {a} and {b} =\", a+b)\n",
    "print(f\"Division of {a} and {b} = \", a/b)"
   ]
  },
  {
   "cell_type": "code",
   "execution_count": 5,
   "id": "20a86f0e",
   "metadata": {},
   "outputs": [
    {
     "name": "stdout",
     "output_type": "stream",
     "text": [
      "Area of traingle =  3.0\n"
     ]
    }
   ],
   "source": [
    "# 3. Write a Python program to find the area of a triangle?\n",
    "\n",
    "base = 2\n",
    "height = 3\n",
    "\n",
    "print(\"Area of traingle = \", 1/2*base*height)"
   ]
  },
  {
   "cell_type": "code",
   "execution_count": 7,
   "id": "bc181c5d",
   "metadata": {},
   "outputs": [
    {
     "name": "stdout",
     "output_type": "stream",
     "text": [
      "Before swap value of A = 34 and B = 20\n",
      "After swap value of A = 20 and B = 34\n"
     ]
    }
   ],
   "source": [
    "#4. Write a Python program to swap two variables?\n",
    "\n",
    "A = 34\n",
    "B = 20\n",
    "print(f\"Before swap value of A = {A} and B = {B}\")\n",
    "\n",
    "A,B = B,A\n",
    "\n",
    "print(f\"After swap value of A = {A} and B = {B}\")"
   ]
  },
  {
   "cell_type": "code",
   "execution_count": 18,
   "id": "86df6516",
   "metadata": {},
   "outputs": [
    {
     "name": "stdout",
     "output_type": "stream",
     "text": [
      "12\n"
     ]
    }
   ],
   "source": [
    "# 5. Write a Python program to generate a random number?\n",
    "import random\n",
    "\n",
    "P = random.randint(1, 20)\n",
    "print(P)"
   ]
  },
  {
   "cell_type": "code",
   "execution_count": null,
   "id": "e654b9d4",
   "metadata": {},
   "outputs": [],
   "source": []
  }
 ],
 "metadata": {
  "kernelspec": {
   "display_name": "Python 3 (ipykernel)",
   "language": "python",
   "name": "python3"
  },
  "language_info": {
   "codemirror_mode": {
    "name": "ipython",
    "version": 3
   },
   "file_extension": ".py",
   "mimetype": "text/x-python",
   "name": "python",
   "nbconvert_exporter": "python",
   "pygments_lexer": "ipython3",
   "version": "3.10.9"
  }
 },
 "nbformat": 4,
 "nbformat_minor": 5
}
