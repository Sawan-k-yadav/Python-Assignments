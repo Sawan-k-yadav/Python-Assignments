{
 "cells": [
  {
   "cell_type": "markdown",
   "id": "0437363b",
   "metadata": {},
   "source": [
    "1. \"\"\"In the below elements which of them are values or an expression? eg:- values can be\n",
    "integer or string and expressions will be mathematical operators.\"\"\"\n",
    "\n",
    "*,\n",
    "hello\n",
    "-87.8\n",
    "-\n",
    "/\n",
    "+\n",
    "6\n",
    "\n",
    "\n",
    "\n",
    "Ans: * -- expression,\n",
    "'hello'  -- value,\n",
    "-87.8  -- Value,\n",
    "-   -- espression,\n",
    "/  -- expression,\n",
    "+  -- expression,\n",
    "6  -- Value"
   ]
  },
  {
   "cell_type": "markdown",
   "id": "6015accc",
   "metadata": {},
   "source": [
    "2. What is the difference between string and variable?\n",
    "\n",
    "Ans: Variables -- It is a name of location in our computer where we store different types of value like interger, float, string, boolean etc.\n",
    "\n",
    "String -- String is sequence of character which is used to represent text value inside any variables"
   ]
  },
  {
   "cell_type": "code",
   "execution_count": 10,
   "id": "18cdfd85",
   "metadata": {},
   "outputs": [],
   "source": [
    "#example\n",
    "\n",
    "#Variables are\n",
    "A = 2\n",
    "B = 1.4\n",
    "\n",
    "#String\n",
    "\n",
    "a = \"Hello\""
   ]
  },
  {
   "cell_type": "markdown",
   "id": "a56741cd",
   "metadata": {},
   "source": [
    "3. Describe three different data types.\n",
    "\n",
    "Ans: int - It is use for integer value\n",
    "float - It is use for decimal value\n",
    "str - It is use for character type of value"
   ]
  },
  {
   "cell_type": "markdown",
   "id": "338d4060",
   "metadata": {},
   "source": [
    "4. What is an expression made up of? What do all expressions do?\n",
    "\n",
    "And: Expression are combination of values, variables and operaters. Expression together is used for getting some result ( single or many) "
   ]
  },
  {
   "cell_type": "markdown",
   "id": "3840770b",
   "metadata": {},
   "source": [
    "5. This assignment statements, like spam = 10. What is the difference between an\n",
    "expression and a statement?\n",
    "\n",
    "Ans: Expression are combination of values, variables and operaters. \n",
    "\n",
    "Example: 2 + 4 is expression\n",
    "\n",
    "Statements are the complete instruction which python can use to execute the result.\n",
    "\n",
    "Example: print(\"Hello world\")  is Statement"
   ]
  },
  {
   "cell_type": "markdown",
   "id": "26d6a954",
   "metadata": {},
   "source": [
    "6. After running the following code, what does the variable bacon contain?\n",
    "bacon = 22\n",
    "\n",
    "bacon + 1"
   ]
  },
  {
   "cell_type": "code",
   "execution_count": 11,
   "id": "c0748f3a",
   "metadata": {},
   "outputs": [
    {
     "name": "stdout",
     "output_type": "stream",
     "text": [
      "22\n"
     ]
    },
    {
     "data": {
      "text/plain": [
       "23"
      ]
     },
     "execution_count": 11,
     "metadata": {},
     "output_type": "execute_result"
    }
   ],
   "source": [
    "#Ans of 6th question\n",
    "\n",
    "bacon = 22\n",
    "print(bacon)\n",
    "bacon + 1"
   ]
  },
  {
   "cell_type": "code",
   "execution_count": 12,
   "id": "636550e2",
   "metadata": {},
   "outputs": [
    {
     "name": "stdout",
     "output_type": "stream",
     "text": [
      "22\n"
     ]
    }
   ],
   "source": [
    "print(bacon)"
   ]
  },
  {
   "cell_type": "markdown",
   "id": "461b293b",
   "metadata": {},
   "source": [
    "Ans:  Value of bacon will be 22 only because we are just adding 1 in the bacon but not storing that updated value in bacon."
   ]
  },
  {
   "cell_type": "markdown",
   "id": "3e08c2f4",
   "metadata": {},
   "source": [
    "7. What should the values of the following two terms be?\n",
    "'spam' + 'spamspam'\n",
    "\n",
    "'spam'*3"
   ]
  },
  {
   "cell_type": "code",
   "execution_count": 13,
   "id": "17986497",
   "metadata": {},
   "outputs": [
    {
     "name": "stdout",
     "output_type": "stream",
     "text": [
      "spamspamspam\n",
      "spamspamspam\n"
     ]
    }
   ],
   "source": [
    "#Ans for question 7th\n",
    "print('spam' + 'spamspam')\n",
    "print('spam'*3)  # Both has same answer"
   ]
  },
  {
   "cell_type": "markdown",
   "id": "0b8da0f6",
   "metadata": {},
   "source": [
    "8. Why is eggs a valid variable name while 100 is invalid?\n",
    "\n",
    "Ans: eggs is valid variable name as is alphabte and it qualifies all the rules of variable declration.\n",
    "\n",
    "100 is invalid variable as integer value can't be the variable name."
   ]
  },
  {
   "cell_type": "markdown",
   "id": "4b95d082",
   "metadata": {},
   "source": [
    "9. What three functions can be used to get the integer, floating-point number, or string\n",
    "version of a value?"
   ]
  },
  {
   "cell_type": "code",
   "execution_count": 16,
   "id": "75b77e79",
   "metadata": {},
   "outputs": [
    {
     "name": "stdout",
     "output_type": "stream",
     "text": [
      "Enter any no: 33\n",
      "Its string value is 33\n",
      "Its interger value is 33\n",
      "Its float value is 33.0\n"
     ]
    }
   ],
   "source": [
    "#Ans for 9th questions\n",
    "\n",
    "a = input(\"Enter any no: \")\n",
    "print(f\"Its string value is {a}\")\n",
    "a = int(a)\n",
    "print(f\"Its interger value is {a}\")\n",
    "a = float(a)\n",
    "print(f\"Its float value is {a}\")\n",
    "      "
   ]
  },
  {
   "cell_type": "markdown",
   "id": "af043a47",
   "metadata": {},
   "source": [
    "10. Why does this expression cause an error? How can you fix it?\n",
    "\n",
    "'I have eaten'+99+'burritos.'"
   ]
  },
  {
   "cell_type": "code",
   "execution_count": 17,
   "id": "e645a425",
   "metadata": {},
   "outputs": [
    {
     "ename": "TypeError",
     "evalue": "can only concatenate str (not \"int\") to str",
     "output_type": "error",
     "traceback": [
      "\u001b[1;31m---------------------------------------------------------------------------\u001b[0m",
      "\u001b[1;31mTypeError\u001b[0m                                 Traceback (most recent call last)",
      "Cell \u001b[1;32mIn[17], line 1\u001b[0m\n\u001b[1;32m----> 1\u001b[0m \u001b[38;5;28mprint\u001b[39m(\u001b[38;5;124;43m'\u001b[39;49m\u001b[38;5;124;43mI have eaten\u001b[39;49m\u001b[38;5;124;43m'\u001b[39;49m\u001b[38;5;241;43m+\u001b[39;49m\u001b[38;5;241;43m99\u001b[39;49m\u001b[38;5;241m+\u001b[39m\u001b[38;5;124m'\u001b[39m\u001b[38;5;124mburritos.\u001b[39m\u001b[38;5;124m'\u001b[39m)\n",
      "\u001b[1;31mTypeError\u001b[0m: can only concatenate str (not \"int\") to str"
     ]
    }
   ],
   "source": [
    "print('I have eaten'+99+'burritos.') # Error coming because string and integer cannot be cancatenated"
   ]
  },
  {
   "cell_type": "code",
   "execution_count": 19,
   "id": "491df585",
   "metadata": {},
   "outputs": [
    {
     "name": "stdout",
     "output_type": "stream",
     "text": [
      "I have eaten99burritos.\n"
     ]
    }
   ],
   "source": [
    "#Here is the fix of question 10th\n",
    "\n",
    "print('I have eaten'+str(99)+'burritos.') #Use type casting to make interger a string then it will work"
   ]
  },
  {
   "cell_type": "code",
   "execution_count": null,
   "id": "4ae767b2",
   "metadata": {},
   "outputs": [],
   "source": []
  }
 ],
 "metadata": {
  "kernelspec": {
   "display_name": "Python 3 (ipykernel)",
   "language": "python",
   "name": "python3"
  },
  "language_info": {
   "codemirror_mode": {
    "name": "ipython",
    "version": 3
   },
   "file_extension": ".py",
   "mimetype": "text/x-python",
   "name": "python",
   "nbconvert_exporter": "python",
   "pygments_lexer": "ipython3",
   "version": "3.10.9"
  }
 },
 "nbformat": 4,
 "nbformat_minor": 5
}
