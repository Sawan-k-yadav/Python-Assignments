{
 "cells": [
  {
   "cell_type": "markdown",
   "id": "2d533387",
   "metadata": {},
   "source": [
    "1. Write a Python Program to Find the Factorial of a Number?"
   ]
  },
  {
   "cell_type": "code",
   "execution_count": 2,
   "id": "e228a33c",
   "metadata": {},
   "outputs": [
    {
     "name": "stdout",
     "output_type": "stream",
     "text": [
      "Enter any no.: 5\n",
      "Factorial of 5 = 120\n"
     ]
    }
   ],
   "source": [
    "def fact(n):\n",
    "    c = 1\n",
    "    for i in range(1, n+1):\n",
    "        c = c * i\n",
    "        i +=1\n",
    "    return int(c)\n",
    "    \n",
    "    \n",
    "n = int(input(\"Enter any no.: \"))\n",
    "\n",
    "print(f\"Factorial of {n} = {fact(n)}\")"
   ]
  },
  {
   "cell_type": "markdown",
   "id": "1ed12edf",
   "metadata": {},
   "source": [
    "2. Write a Python Program to Display the multiplication Table?"
   ]
  },
  {
   "cell_type": "code",
   "execution_count": 4,
   "id": "2e0c7460",
   "metadata": {},
   "outputs": [
    {
     "name": "stdout",
     "output_type": "stream",
     "text": [
      "Enter any no.: 4\n",
      "4 X 1 = 4\n",
      "4 X 2 = 8\n",
      "4 X 3 = 12\n",
      "4 X 4 = 16\n",
      "4 X 5 = 20\n",
      "4 X 6 = 24\n",
      "4 X 7 = 28\n",
      "4 X 8 = 32\n",
      "4 X 9 = 36\n",
      "4 X 10 = 40\n"
     ]
    }
   ],
   "source": [
    "n = int(input(\"Enter any no.: \"))\n",
    "\n",
    "for i in range (1, 11):\n",
    "    print(f\"{n} X {i} = {n*i}\")"
   ]
  },
  {
   "cell_type": "markdown",
   "id": "8effb104",
   "metadata": {},
   "source": [
    "3. Write a Python Program to Print the Fibonacci sequence?"
   ]
  },
  {
   "cell_type": "code",
   "execution_count": 8,
   "id": "e8162b4a",
   "metadata": {},
   "outputs": [
    {
     "name": "stdout",
     "output_type": "stream",
     "text": [
      "Enter no. upto which you want to print fabanicci series5\n",
      "0\n",
      "1\n",
      "1\n",
      "2\n",
      "3\n"
     ]
    }
   ],
   "source": [
    "n = int(input(\"Enter no. upto which you want to print fabanicci series\"))\n",
    "\n",
    "a=0\n",
    "b=1\n",
    "print(a)\n",
    "print(b)\n",
    "for i in range(n-2):\n",
    "    if i != 0 or i != 1:\n",
    "        c=a+b\n",
    "        print(c)\n",
    "        a=b\n",
    "        b=c\n",
    "\n"
   ]
  },
  {
   "cell_type": "markdown",
   "id": "53f5c9b8",
   "metadata": {},
   "source": [
    "4. Write a Python Program to Check Armstrong Number?"
   ]
  },
  {
   "cell_type": "code",
   "execution_count": 7,
   "id": "b8263224",
   "metadata": {},
   "outputs": [
    {
     "name": "stdout",
     "output_type": "stream",
     "text": [
      "Enter any no.153\n",
      "153  is Armstrong\n"
     ]
    }
   ],
   "source": [
    "# n = int(input(\"Enter any no.\"))\n",
    "\n",
    "# Sum = 0\n",
    "# temp = n\n",
    "\n",
    "# while temp > 0:\n",
    "#     i = temp % 10\n",
    "#     Sum += temp ** 3\n",
    "#     temp //= 10\n",
    "\n",
    "# for i in range(1, n):\n",
    "#     if n > 0:\n",
    "#         temp = n%10\n",
    "#         Sum+=temp**3\n",
    "#         print(Sum)\n",
    "#         temp = n//10\n",
    "#         print(temp)# // is used to take integer part of division from the result\n",
    "\n",
    "# if Sum == n:\n",
    "#     print(\"No. is Armstrong\")\n",
    "# else:\n",
    "#     print(\"No. is not Armstrong\")\n",
    "    \n",
    "number = int(input(\"Enter any no.\"))\n",
    "number_of_digits = len(str(number))\n",
    "\n",
    "sum_of_cubes = 0\n",
    "Arm = 0\n",
    "\n",
    "for digit in str(number):\n",
    "    sum_of_cubes += int(digit) ** number_of_digits\n",
    "    if sum_of_cubes == number:\n",
    "        Arm = 1\n",
    "    else:\n",
    "        Arm = 0\n",
    "        \n",
    "if Arm == 1:\n",
    "    print(f\"{number}  is Armstrong\")\n",
    "else:\n",
    "    print(f\"{number}  is not Armstrong\")\n"
   ]
  },
  {
   "cell_type": "markdown",
   "id": "ecc82917",
   "metadata": {},
   "source": [
    "5. Write a Python Program to Find Armstrong Number in an Interval?"
   ]
  },
  {
   "cell_type": "code",
   "execution_count": 3,
   "id": "c7aedb54",
   "metadata": {},
   "outputs": [
    {
     "name": "stdout",
     "output_type": "stream",
     "text": [
      "Enter lower limit0\n",
      "Enter upper limit1000\n",
      "0 is Armstrong\n",
      "1 is Armstrong\n",
      "153 is Armstrong\n",
      "370 is Armstrong\n",
      "371 is Armstrong\n",
      "407 is Armstrong\n"
     ]
    }
   ],
   "source": [
    "Lower_limit = int(input(\"Enter lower limit\"))\n",
    "Upper_limit = int(input(\"Enter upper limit\"))\n",
    "\n",
    "\n",
    "# number = int(input(\"Enter any no.\"))\n",
    "# number_of_digits = len(str(number))\n",
    "\n",
    "sum_of_cubes = 0\n",
    "Arm = 0\n",
    "\n",
    "for i in range(Lower_limit, Upper_limit):\n",
    "    sum = 0\n",
    "    temp = i\n",
    "    while temp > 0:\n",
    "        digit = temp%10\n",
    "        sum = sum + digit**3\n",
    "        temp = temp//10\n",
    "        \n",
    "    if sum == i:\n",
    "        print(f\"{i} is Armstrong\")\n",
    "\n",
    "#     else:\n",
    "#         print(f\"{i}  is not Armstrong\")\n",
    "\n",
    "    "
   ]
  },
  {
   "cell_type": "markdown",
   "id": "6925e25e",
   "metadata": {},
   "source": [
    "6. Write a Python Program to Find the Sum of Natural Numbers?"
   ]
  },
  {
   "cell_type": "code",
   "execution_count": 3,
   "id": "decbe7e0",
   "metadata": {},
   "outputs": [
    {
     "name": "stdout",
     "output_type": "stream",
     "text": [
      "Enter terms4\n",
      "Sum of 4 natural no. are : 6\n"
     ]
    }
   ],
   "source": [
    "N  = int(input(\"Enter terms\"))\n",
    "\n",
    "s = 0\n",
    "\n",
    "for i in range (N):\n",
    "    s = s + i\n",
    "    \n",
    "print(f\"Sum of {N} natural no. are : {s}\")"
   ]
  },
  {
   "cell_type": "code",
   "execution_count": null,
   "id": "09b19927",
   "metadata": {},
   "outputs": [],
   "source": []
  }
 ],
 "metadata": {
  "kernelspec": {
   "display_name": "Python 3 (ipykernel)",
   "language": "python",
   "name": "python3"
  },
  "language_info": {
   "codemirror_mode": {
    "name": "ipython",
    "version": 3
   },
   "file_extension": ".py",
   "mimetype": "text/x-python",
   "name": "python",
   "nbconvert_exporter": "python",
   "pygments_lexer": "ipython3",
   "version": "3.10.9"
  }
 },
 "nbformat": 4,
 "nbformat_minor": 5
}
